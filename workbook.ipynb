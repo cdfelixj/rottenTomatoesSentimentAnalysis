{
 "cells": [
  {
   "cell_type": "code",
   "execution_count": 1,
   "metadata": {
    "colab": {
     "base_uri": "https://localhost:8080/"
    },
    "collapsed": true,
    "id": "IbYSeAZeaiNb",
    "jupyter": {
     "outputs_hidden": true
    },
    "outputId": "095b0bf1-3e69-4e96-cf64-b0bcd727dbd1"
   },
   "outputs": [
    {
     "name": "stdout",
     "output_type": "stream",
     "text": [
      "Note: you may need to restart the kernel to use updated packages.\n"
     ]
    },
    {
     "name": "stderr",
     "output_type": "stream",
     "text": [
      "ERROR: Could not open requirements file: [Errno 2] No such file or directory: 'requirements.txt'\n"
     ]
    },
    {
     "name": "stdout",
     "output_type": "stream",
     "text": [
      "Requirement already satisfied: nltk in c:\\users\\j_fel\\onedrive\\desktop\\nlp\\.venv\\lib\\site-packages (3.9.1)\n",
      "Requirement already satisfied: click in c:\\users\\j_fel\\onedrive\\desktop\\nlp\\.venv\\lib\\site-packages (from nltk) (8.2.0)\n",
      "Requirement already satisfied: joblib in c:\\users\\j_fel\\onedrive\\desktop\\nlp\\.venv\\lib\\site-packages (from nltk) (1.5.0)\n",
      "Requirement already satisfied: regex>=2021.8.3 in c:\\users\\j_fel\\onedrive\\desktop\\nlp\\.venv\\lib\\site-packages (from nltk) (2024.11.6)\n",
      "Requirement already satisfied: tqdm in c:\\users\\j_fel\\onedrive\\desktop\\nlp\\.venv\\lib\\site-packages (from nltk) (4.67.1)\n",
      "Requirement already satisfied: colorama in c:\\users\\j_fel\\onedrive\\desktop\\nlp\\.venv\\lib\\site-packages (from click->nltk) (0.4.6)\n",
      "Note: you may need to restart the kernel to use updated packages.\n",
      "Requirement already satisfied: numpy in c:\\users\\j_fel\\onedrive\\desktop\\nlp\\.venv\\lib\\site-packages (1.26.4)\n",
      "Note: you may need to restart the kernel to use updated packages.\n",
      "Note: you may need to restart the kernel to use updated packages.\n"
     ]
    },
    {
     "name": "stderr",
     "output_type": "stream",
     "text": [
      "ERROR: Could not find a version that satisfies the requirement gensim.downloader (from versions: none)\n",
      "ERROR: No matching distribution found for gensim.downloader\n"
     ]
    },
    {
     "name": "stdout",
     "output_type": "stream",
     "text": [
      "Note: you may need to restart the kernel to use updated packages.\n"
     ]
    },
    {
     "name": "stderr",
     "output_type": "stream",
     "text": [
      "ERROR: Could not find a version that satisfies the requirement nltk.tokenize (from versions: none)\n",
      "ERROR: No matching distribution found for nltk.tokenize\n"
     ]
    },
    {
     "name": "stdout",
     "output_type": "stream",
     "text": [
      "Requirement already satisfied: gensim in c:\\users\\j_fel\\onedrive\\desktop\\nlp\\.venv\\lib\\site-packages (4.3.3)\n",
      "Requirement already satisfied: numpy<2.0,>=1.18.5 in c:\\users\\j_fel\\onedrive\\desktop\\nlp\\.venv\\lib\\site-packages (from gensim) (1.26.4)\n",
      "Requirement already satisfied: scipy<1.14.0,>=1.7.0 in c:\\users\\j_fel\\onedrive\\desktop\\nlp\\.venv\\lib\\site-packages (from gensim) (1.13.1)\n",
      "Requirement already satisfied: smart-open>=1.8.1 in c:\\users\\j_fel\\onedrive\\desktop\\nlp\\.venv\\lib\\site-packages (from gensim) (7.1.0)\n",
      "Requirement already satisfied: wrapt in c:\\users\\j_fel\\onedrive\\desktop\\nlp\\.venv\\lib\\site-packages (from smart-open>=1.8.1->gensim) (1.17.2)\n",
      "Note: you may need to restart the kernel to use updated packages.\n",
      "Requirement already satisfied: datasets in c:\\users\\j_fel\\onedrive\\desktop\\nlp\\.venv\\lib\\site-packages (3.6.0)\n",
      "Requirement already satisfied: filelock in c:\\users\\j_fel\\onedrive\\desktop\\nlp\\.venv\\lib\\site-packages (from datasets) (3.18.0)\n",
      "Requirement already satisfied: numpy>=1.17 in c:\\users\\j_fel\\onedrive\\desktop\\nlp\\.venv\\lib\\site-packages (from datasets) (1.26.4)\n",
      "Requirement already satisfied: pyarrow>=15.0.0 in c:\\users\\j_fel\\onedrive\\desktop\\nlp\\.venv\\lib\\site-packages (from datasets) (20.0.0)\n",
      "Requirement already satisfied: dill<0.3.9,>=0.3.0 in c:\\users\\j_fel\\onedrive\\desktop\\nlp\\.venv\\lib\\site-packages (from datasets) (0.3.8)\n",
      "Requirement already satisfied: pandas in c:\\users\\j_fel\\onedrive\\desktop\\nlp\\.venv\\lib\\site-packages (from datasets) (2.2.3)\n",
      "Requirement already satisfied: requests>=2.32.2 in c:\\users\\j_fel\\onedrive\\desktop\\nlp\\.venv\\lib\\site-packages (from datasets) (2.32.3)\n",
      "Requirement already satisfied: tqdm>=4.66.3 in c:\\users\\j_fel\\onedrive\\desktop\\nlp\\.venv\\lib\\site-packages (from datasets) (4.67.1)\n",
      "Requirement already satisfied: xxhash in c:\\users\\j_fel\\onedrive\\desktop\\nlp\\.venv\\lib\\site-packages (from datasets) (3.5.0)\n",
      "Requirement already satisfied: multiprocess<0.70.17 in c:\\users\\j_fel\\onedrive\\desktop\\nlp\\.venv\\lib\\site-packages (from datasets) (0.70.16)\n",
      "Requirement already satisfied: fsspec<=2025.3.0,>=2023.1.0 in c:\\users\\j_fel\\onedrive\\desktop\\nlp\\.venv\\lib\\site-packages (from fsspec[http]<=2025.3.0,>=2023.1.0->datasets) (2025.3.0)\n",
      "Requirement already satisfied: huggingface-hub>=0.24.0 in c:\\users\\j_fel\\onedrive\\desktop\\nlp\\.venv\\lib\\site-packages (from datasets) (0.31.1)\n",
      "Requirement already satisfied: packaging in c:\\users\\j_fel\\onedrive\\desktop\\nlp\\.venv\\lib\\site-packages (from datasets) (25.0)\n",
      "Requirement already satisfied: pyyaml>=5.1 in c:\\users\\j_fel\\onedrive\\desktop\\nlp\\.venv\\lib\\site-packages (from datasets) (6.0.2)\n",
      "Requirement already satisfied: aiohttp!=4.0.0a0,!=4.0.0a1 in c:\\users\\j_fel\\onedrive\\desktop\\nlp\\.venv\\lib\\site-packages (from fsspec[http]<=2025.3.0,>=2023.1.0->datasets) (3.11.18)\n",
      "Requirement already satisfied: aiohappyeyeballs>=2.3.0 in c:\\users\\j_fel\\onedrive\\desktop\\nlp\\.venv\\lib\\site-packages (from aiohttp!=4.0.0a0,!=4.0.0a1->fsspec[http]<=2025.3.0,>=2023.1.0->datasets) (2.6.1)\n",
      "Requirement already satisfied: aiosignal>=1.1.2 in c:\\users\\j_fel\\onedrive\\desktop\\nlp\\.venv\\lib\\site-packages (from aiohttp!=4.0.0a0,!=4.0.0a1->fsspec[http]<=2025.3.0,>=2023.1.0->datasets) (1.3.2)\n",
      "Requirement already satisfied: attrs>=17.3.0 in c:\\users\\j_fel\\onedrive\\desktop\\nlp\\.venv\\lib\\site-packages (from aiohttp!=4.0.0a0,!=4.0.0a1->fsspec[http]<=2025.3.0,>=2023.1.0->datasets) (25.3.0)\n",
      "Requirement already satisfied: frozenlist>=1.1.1 in c:\\users\\j_fel\\onedrive\\desktop\\nlp\\.venv\\lib\\site-packages (from aiohttp!=4.0.0a0,!=4.0.0a1->fsspec[http]<=2025.3.0,>=2023.1.0->datasets) (1.6.0)\n",
      "Requirement already satisfied: multidict<7.0,>=4.5 in c:\\users\\j_fel\\onedrive\\desktop\\nlp\\.venv\\lib\\site-packages (from aiohttp!=4.0.0a0,!=4.0.0a1->fsspec[http]<=2025.3.0,>=2023.1.0->datasets) (6.4.3)\n",
      "Requirement already satisfied: propcache>=0.2.0 in c:\\users\\j_fel\\onedrive\\desktop\\nlp\\.venv\\lib\\site-packages (from aiohttp!=4.0.0a0,!=4.0.0a1->fsspec[http]<=2025.3.0,>=2023.1.0->datasets) (0.3.1)\n",
      "Requirement already satisfied: yarl<2.0,>=1.17.0 in c:\\users\\j_fel\\onedrive\\desktop\\nlp\\.venv\\lib\\site-packages (from aiohttp!=4.0.0a0,!=4.0.0a1->fsspec[http]<=2025.3.0,>=2023.1.0->datasets) (1.20.0)\n",
      "Requirement already satisfied: idna>=2.0 in c:\\users\\j_fel\\onedrive\\desktop\\nlp\\.venv\\lib\\site-packages (from yarl<2.0,>=1.17.0->aiohttp!=4.0.0a0,!=4.0.0a1->fsspec[http]<=2025.3.0,>=2023.1.0->datasets) (3.10)\n",
      "Requirement already satisfied: typing-extensions>=3.7.4.3 in c:\\users\\j_fel\\onedrive\\desktop\\nlp\\.venv\\lib\\site-packages (from huggingface-hub>=0.24.0->datasets) (4.13.2)\n",
      "Requirement already satisfied: charset-normalizer<4,>=2 in c:\\users\\j_fel\\onedrive\\desktop\\nlp\\.venv\\lib\\site-packages (from requests>=2.32.2->datasets) (3.4.2)\n",
      "Requirement already satisfied: urllib3<3,>=1.21.1 in c:\\users\\j_fel\\onedrive\\desktop\\nlp\\.venv\\lib\\site-packages (from requests>=2.32.2->datasets) (2.4.0)\n",
      "Requirement already satisfied: certifi>=2017.4.17 in c:\\users\\j_fel\\onedrive\\desktop\\nlp\\.venv\\lib\\site-packages (from requests>=2.32.2->datasets) (2025.4.26)\n",
      "Requirement already satisfied: colorama in c:\\users\\j_fel\\onedrive\\desktop\\nlp\\.venv\\lib\\site-packages (from tqdm>=4.66.3->datasets) (0.4.6)\n",
      "Requirement already satisfied: python-dateutil>=2.8.2 in c:\\users\\j_fel\\onedrive\\desktop\\nlp\\.venv\\lib\\site-packages (from pandas->datasets) (2.9.0.post0)\n",
      "Requirement already satisfied: pytz>=2020.1 in c:\\users\\j_fel\\onedrive\\desktop\\nlp\\.venv\\lib\\site-packages (from pandas->datasets) (2025.2)\n",
      "Requirement already satisfied: tzdata>=2022.7 in c:\\users\\j_fel\\onedrive\\desktop\\nlp\\.venv\\lib\\site-packages (from pandas->datasets) (2025.2)\n",
      "Requirement already satisfied: six>=1.5 in c:\\users\\j_fel\\onedrive\\desktop\\nlp\\.venv\\lib\\site-packages (from python-dateutil>=2.8.2->pandas->datasets) (1.17.0)\n",
      "Note: you may need to restart the kernel to use updated packages.\n",
      "Requirement already satisfied: torch in c:\\users\\j_fel\\onedrive\\desktop\\nlp\\.venv\\lib\\site-packages (2.7.0)\n",
      "Requirement already satisfied: filelock in c:\\users\\j_fel\\onedrive\\desktop\\nlp\\.venv\\lib\\site-packages (from torch) (3.18.0)\n",
      "Requirement already satisfied: typing-extensions>=4.10.0 in c:\\users\\j_fel\\onedrive\\desktop\\nlp\\.venv\\lib\\site-packages (from torch) (4.13.2)\n",
      "Requirement already satisfied: sympy>=1.13.3 in c:\\users\\j_fel\\onedrive\\desktop\\nlp\\.venv\\lib\\site-packages (from torch) (1.14.0)\n",
      "Requirement already satisfied: networkx in c:\\users\\j_fel\\onedrive\\desktop\\nlp\\.venv\\lib\\site-packages (from torch) (3.4.2)\n",
      "Requirement already satisfied: jinja2 in c:\\users\\j_fel\\onedrive\\desktop\\nlp\\.venv\\lib\\site-packages (from torch) (3.1.6)\n",
      "Requirement already satisfied: fsspec in c:\\users\\j_fel\\onedrive\\desktop\\nlp\\.venv\\lib\\site-packages (from torch) (2025.3.0)\n",
      "Requirement already satisfied: setuptools in c:\\users\\j_fel\\onedrive\\desktop\\nlp\\.venv\\lib\\site-packages (from torch) (80.4.0)\n",
      "Requirement already satisfied: mpmath<1.4,>=1.1.0 in c:\\users\\j_fel\\onedrive\\desktop\\nlp\\.venv\\lib\\site-packages (from sympy>=1.13.3->torch) (1.3.0)\n",
      "Requirement already satisfied: MarkupSafe>=2.0 in c:\\users\\j_fel\\onedrive\\desktop\\nlp\\.venv\\lib\\site-packages (from jinja2->torch) (3.0.2)\n",
      "Note: you may need to restart the kernel to use updated packages.\n",
      "Note: you may need to restart the kernel to use updated packages.\n"
     ]
    },
    {
     "name": "stderr",
     "output_type": "stream",
     "text": [
      "ERROR: Could not find a version that satisfies the requirement torch.utils.data (from versions: none)\n",
      "ERROR: No matching distribution found for torch.utils.data\n"
     ]
    },
    {
     "name": "stdout",
     "output_type": "stream",
     "text": [
      "Note: you may need to restart the kernel to use updated packages.\n"
     ]
    },
    {
     "name": "stderr",
     "output_type": "stream",
     "text": [
      "ERROR: Could not find a version that satisfies the requirement torch.nn (from versions: none)\n",
      "ERROR: No matching distribution found for torch.nn\n"
     ]
    },
    {
     "name": "stdout",
     "output_type": "stream",
     "text": [
      "Note: you may need to restart the kernel to use updated packages.\n"
     ]
    },
    {
     "name": "stderr",
     "output_type": "stream",
     "text": [
      "ERROR: Could not find a version that satisfies the requirement torch.nn.functional (from versions: none)\n",
      "ERROR: No matching distribution found for torch.nn.functional\n"
     ]
    },
    {
     "name": "stdout",
     "output_type": "stream",
     "text": [
      "Collecting torch.optim\n",
      "  Downloading torch_optim-0.0.4-py3-none-any.whl.metadata (5.9 kB)\n",
      "Collecting deap>=1.3.1 (from torch.optim)\n",
      "  Downloading deap-1.4.3-cp312-cp312-win_amd64.whl.metadata (13 kB)\n",
      "Collecting pytorch-ignite>=0.4.8 (from torch.optim)\n",
      "  Downloading pytorch_ignite-0.5.2-py3-none-any.whl.metadata (27 kB)\n",
      "Collecting thop>=0.0.31 (from torch.optim)\n",
      "  Downloading thop-0.1.1.post2209072238-py3-none-any.whl.metadata (2.7 kB)\n",
      "Requirement already satisfied: torch>=1.10.0 in c:\\users\\j_fel\\onedrive\\desktop\\nlp\\.venv\\lib\\site-packages (from torch.optim) (2.7.0)\n",
      "Collecting torch-pruning>=0.2.7 (from torch.optim)\n",
      "  Downloading torch_pruning-1.5.2-py3-none-any.whl.metadata (31 kB)\n",
      "Collecting torchvision>=0.11.1 (from torch.optim)\n",
      "  Downloading torchvision-0.22.0-cp312-cp312-win_amd64.whl.metadata (6.3 kB)\n",
      "Requirement already satisfied: numpy in c:\\users\\j_fel\\onedrive\\desktop\\nlp\\.venv\\lib\\site-packages (from deap>=1.3.1->torch.optim) (1.26.4)\n",
      "Requirement already satisfied: packaging in c:\\users\\j_fel\\onedrive\\desktop\\nlp\\.venv\\lib\\site-packages (from pytorch-ignite>=0.4.8->torch.optim) (25.0)\n",
      "Requirement already satisfied: filelock in c:\\users\\j_fel\\onedrive\\desktop\\nlp\\.venv\\lib\\site-packages (from torch>=1.10.0->torch.optim) (3.18.0)\n",
      "Requirement already satisfied: typing-extensions>=4.10.0 in c:\\users\\j_fel\\onedrive\\desktop\\nlp\\.venv\\lib\\site-packages (from torch>=1.10.0->torch.optim) (4.13.2)\n",
      "Requirement already satisfied: sympy>=1.13.3 in c:\\users\\j_fel\\onedrive\\desktop\\nlp\\.venv\\lib\\site-packages (from torch>=1.10.0->torch.optim) (1.14.0)\n",
      "Requirement already satisfied: networkx in c:\\users\\j_fel\\onedrive\\desktop\\nlp\\.venv\\lib\\site-packages (from torch>=1.10.0->torch.optim) (3.4.2)\n",
      "Requirement already satisfied: jinja2 in c:\\users\\j_fel\\onedrive\\desktop\\nlp\\.venv\\lib\\site-packages (from torch>=1.10.0->torch.optim) (3.1.6)\n",
      "Requirement already satisfied: fsspec in c:\\users\\j_fel\\onedrive\\desktop\\nlp\\.venv\\lib\\site-packages (from torch>=1.10.0->torch.optim) (2025.3.0)\n",
      "Requirement already satisfied: setuptools in c:\\users\\j_fel\\onedrive\\desktop\\nlp\\.venv\\lib\\site-packages (from torch>=1.10.0->torch.optim) (80.4.0)\n",
      "Requirement already satisfied: mpmath<1.4,>=1.1.0 in c:\\users\\j_fel\\onedrive\\desktop\\nlp\\.venv\\lib\\site-packages (from sympy>=1.13.3->torch>=1.10.0->torch.optim) (1.3.0)\n",
      "Collecting pillow!=8.3.*,>=5.3.0 (from torchvision>=0.11.1->torch.optim)\n",
      "  Downloading pillow-11.2.1-cp312-cp312-win_amd64.whl.metadata (9.1 kB)\n",
      "Requirement already satisfied: MarkupSafe>=2.0 in c:\\users\\j_fel\\onedrive\\desktop\\nlp\\.venv\\lib\\site-packages (from jinja2->torch>=1.10.0->torch.optim) (3.0.2)\n",
      "Downloading torch_optim-0.0.4-py3-none-any.whl (59.1 MB)\n",
      "   ---------------------------------------- 0.0/59.1 MB ? eta -:--:--\n",
      "   -------- ------------------------------- 12.8/59.1 MB 67.3 MB/s eta 0:00:01\n",
      "   -------------------- ------------------- 29.6/59.1 MB 72.3 MB/s eta 0:00:01\n",
      "   ------------------------------- -------- 46.9/59.1 MB 76.6 MB/s eta 0:00:01\n",
      "   ---------------------------------------  59.0/59.1 MB 75.2 MB/s eta 0:00:01\n",
      "   ---------------------------------------- 59.1/59.1 MB 58.8 MB/s eta 0:00:00\n",
      "Downloading deap-1.4.3-cp312-cp312-win_amd64.whl (109 kB)\n",
      "Downloading pytorch_ignite-0.5.2-py3-none-any.whl (343 kB)\n",
      "Downloading thop-0.1.1.post2209072238-py3-none-any.whl (15 kB)\n",
      "Downloading torch_pruning-1.5.2-py3-none-any.whl (64 kB)\n",
      "Downloading torchvision-0.22.0-cp312-cp312-win_amd64.whl (1.7 MB)\n",
      "   ---------------------------------------- 0.0/1.7 MB ? eta -:--:--\n",
      "   ---------------------------------------- 1.7/1.7 MB 30.9 MB/s eta 0:00:00\n",
      "Downloading pillow-11.2.1-cp312-cp312-win_amd64.whl (2.7 MB)\n",
      "   ---------------------------------------- 0.0/2.7 MB ? eta -:--:--\n",
      "   ---------------------------------------- 2.7/2.7 MB 51.4 MB/s eta 0:00:00\n",
      "Installing collected packages: pillow, deap, torchvision, torch-pruning, thop, pytorch-ignite, torch.optim\n",
      "\n",
      "   ---------------------------------------- 0/7 [pillow]\n",
      "   ---------------------------------------- 0/7 [pillow]\n",
      "   ---------------------------------------- 0/7 [pillow]\n",
      "   ---------------------------------------- 0/7 [pillow]\n",
      "   ---------------------------------------- 0/7 [pillow]\n",
      "   ---------------------------------------- 0/7 [pillow]\n",
      "   ---------------------------------------- 0/7 [pillow]\n",
      "   ---------------------------------------- 0/7 [pillow]\n",
      "   ---------------------------------------- 0/7 [pillow]\n",
      "   ---------------------------------------- 0/7 [pillow]\n",
      "   ---------------------------------------- 0/7 [pillow]\n",
      "   ---------------------------------------- 0/7 [pillow]\n",
      "   ---------------------------------------- 0/7 [pillow]\n",
      "   ---------------------------------------- 0/7 [pillow]\n",
      "   ---------------------------------------- 0/7 [pillow]\n",
      "   ---------------------------------------- 0/7 [pillow]\n",
      "   ----- ---------------------------------- 1/7 [deap]\n",
      "   ----- ---------------------------------- 1/7 [deap]\n",
      "   ----- ---------------------------------- 1/7 [deap]\n",
      "   ----- ---------------------------------- 1/7 [deap]\n",
      "   ----------- ---------------------------- 2/7 [torchvision]\n",
      "   ----------- ---------------------------- 2/7 [torchvision]\n",
      "   ----------- ---------------------------- 2/7 [torchvision]\n",
      "   ----------- ---------------------------- 2/7 [torchvision]\n",
      "   ----------- ---------------------------- 2/7 [torchvision]\n",
      "   ----------- ---------------------------- 2/7 [torchvision]\n",
      "   ----------- ---------------------------- 2/7 [torchvision]\n",
      "   ----------- ---------------------------- 2/7 [torchvision]\n",
      "   ----------- ---------------------------- 2/7 [torchvision]\n",
      "   ----------- ---------------------------- 2/7 [torchvision]\n",
      "   ----------- ---------------------------- 2/7 [torchvision]\n",
      "   ----------- ---------------------------- 2/7 [torchvision]\n",
      "   ----------- ---------------------------- 2/7 [torchvision]\n",
      "   ----------- ---------------------------- 2/7 [torchvision]\n",
      "   ----------- ---------------------------- 2/7 [torchvision]\n",
      "   ----------- ---------------------------- 2/7 [torchvision]\n",
      "   ----------- ---------------------------- 2/7 [torchvision]\n",
      "   ----------- ---------------------------- 2/7 [torchvision]\n",
      "   ----------- ---------------------------- 2/7 [torchvision]\n",
      "   ----------- ---------------------------- 2/7 [torchvision]\n",
      "   ----------- ---------------------------- 2/7 [torchvision]\n",
      "   ----------- ---------------------------- 2/7 [torchvision]\n",
      "   ----------- ---------------------------- 2/7 [torchvision]\n",
      "   ----------- ---------------------------- 2/7 [torchvision]\n",
      "   ----------- ---------------------------- 2/7 [torchvision]\n",
      "   ----------- ---------------------------- 2/7 [torchvision]\n",
      "   ----------- ---------------------------- 2/7 [torchvision]\n",
      "   ----------- ---------------------------- 2/7 [torchvision]\n",
      "   ----------- ---------------------------- 2/7 [torchvision]\n",
      "   ----------- ---------------------------- 2/7 [torchvision]\n",
      "   ----------- ---------------------------- 2/7 [torchvision]\n",
      "   ----------- ---------------------------- 2/7 [torchvision]\n",
      "   ----------- ---------------------------- 2/7 [torchvision]\n",
      "   ----------- ---------------------------- 2/7 [torchvision]\n",
      "   ----------- ---------------------------- 2/7 [torchvision]\n",
      "   ----------- ---------------------------- 2/7 [torchvision]\n",
      "   ----------- ---------------------------- 2/7 [torchvision]\n",
      "   ----------- ---------------------------- 2/7 [torchvision]\n",
      "   ----------- ---------------------------- 2/7 [torchvision]\n",
      "   ----------- ---------------------------- 2/7 [torchvision]\n",
      "   ----------- ---------------------------- 2/7 [torchvision]\n",
      "   ----------------- ---------------------- 3/7 [torch-pruning]\n",
      "   ----------------- ---------------------- 3/7 [torch-pruning]\n",
      "   ----------------- ---------------------- 3/7 [torch-pruning]\n",
      "   ----------------- ---------------------- 3/7 [torch-pruning]\n",
      "   ---------------------- ----------------- 4/7 [thop]\n",
      "   ---------------------- ----------------- 4/7 [thop]\n",
      "   ---------------------------- ----------- 5/7 [pytorch-ignite]\n",
      "   ---------------------------- ----------- 5/7 [pytorch-ignite]\n",
      "   ---------------------------- ----------- 5/7 [pytorch-ignite]\n",
      "   ---------------------------- ----------- 5/7 [pytorch-ignite]\n",
      "   ---------------------------- ----------- 5/7 [pytorch-ignite]\n",
      "   ---------------------------- ----------- 5/7 [pytorch-ignite]\n",
      "   ---------------------------- ----------- 5/7 [pytorch-ignite]\n",
      "   ---------------------------- ----------- 5/7 [pytorch-ignite]\n",
      "   ---------------------------- ----------- 5/7 [pytorch-ignite]\n",
      "   ---------------------------- ----------- 5/7 [pytorch-ignite]\n",
      "   ---------------------------- ----------- 5/7 [pytorch-ignite]\n",
      "   ---------------------------- ----------- 5/7 [pytorch-ignite]\n",
      "   ---------------------------- ----------- 5/7 [pytorch-ignite]\n",
      "   ---------------------------- ----------- 5/7 [pytorch-ignite]\n",
      "   ---------------------------- ----------- 5/7 [pytorch-ignite]\n",
      "   ---------------------------- ----------- 5/7 [pytorch-ignite]\n",
      "   ---------------------------- ----------- 5/7 [pytorch-ignite]\n",
      "   ---------------------------- ----------- 5/7 [pytorch-ignite]\n",
      "   ---------------------------- ----------- 5/7 [pytorch-ignite]\n",
      "   ---------------------------- ----------- 5/7 [pytorch-ignite]\n",
      "   ---------------------------- ----------- 5/7 [pytorch-ignite]\n",
      "   ---------------------------- ----------- 5/7 [pytorch-ignite]\n",
      "   ---------------------------- ----------- 5/7 [pytorch-ignite]\n",
      "   ---------------------------- ----------- 5/7 [pytorch-ignite]\n",
      "   ---------------------------- ----------- 5/7 [pytorch-ignite]\n",
      "   ---------------------------- ----------- 5/7 [pytorch-ignite]\n",
      "   ---------------------------------- ----- 6/7 [torch.optim]\n",
      "   ---------------------------------- ----- 6/7 [torch.optim]\n",
      "   ---------------------------------- ----- 6/7 [torch.optim]\n",
      "   ---------------------------------- ----- 6/7 [torch.optim]\n",
      "   ---------------------------------- ----- 6/7 [torch.optim]\n",
      "   ---------------------------------------- 7/7 [torch.optim]\n",
      "\n",
      "Successfully installed deap-1.4.3 pillow-11.2.1 pytorch-ignite-0.5.2 thop-0.1.1.post2209072238 torch-pruning-1.5.2 torch.optim-0.0.4 torchvision-0.22.0\n",
      "Note: you may need to restart the kernel to use updated packages.\n",
      "Collecting torchtext\n",
      "  Downloading torchtext-0.18.0-cp312-cp312-win_amd64.whl.metadata (7.9 kB)\n",
      "Requirement already satisfied: tqdm in c:\\users\\j_fel\\onedrive\\desktop\\nlp\\.venv\\lib\\site-packages (from torchtext) (4.67.1)\n",
      "Requirement already satisfied: requests in c:\\users\\j_fel\\onedrive\\desktop\\nlp\\.venv\\lib\\site-packages (from torchtext) (2.32.3)\n",
      "Requirement already satisfied: torch>=2.3.0 in c:\\users\\j_fel\\onedrive\\desktop\\nlp\\.venv\\lib\\site-packages (from torchtext) (2.7.0)\n",
      "Requirement already satisfied: numpy in c:\\users\\j_fel\\onedrive\\desktop\\nlp\\.venv\\lib\\site-packages (from torchtext) (1.26.4)\n",
      "Requirement already satisfied: filelock in c:\\users\\j_fel\\onedrive\\desktop\\nlp\\.venv\\lib\\site-packages (from torch>=2.3.0->torchtext) (3.18.0)\n",
      "Requirement already satisfied: typing-extensions>=4.10.0 in c:\\users\\j_fel\\onedrive\\desktop\\nlp\\.venv\\lib\\site-packages (from torch>=2.3.0->torchtext) (4.13.2)\n",
      "Requirement already satisfied: sympy>=1.13.3 in c:\\users\\j_fel\\onedrive\\desktop\\nlp\\.venv\\lib\\site-packages (from torch>=2.3.0->torchtext) (1.14.0)\n",
      "Requirement already satisfied: networkx in c:\\users\\j_fel\\onedrive\\desktop\\nlp\\.venv\\lib\\site-packages (from torch>=2.3.0->torchtext) (3.4.2)\n",
      "Requirement already satisfied: jinja2 in c:\\users\\j_fel\\onedrive\\desktop\\nlp\\.venv\\lib\\site-packages (from torch>=2.3.0->torchtext) (3.1.6)\n",
      "Requirement already satisfied: fsspec in c:\\users\\j_fel\\onedrive\\desktop\\nlp\\.venv\\lib\\site-packages (from torch>=2.3.0->torchtext) (2025.3.0)\n",
      "Requirement already satisfied: setuptools in c:\\users\\j_fel\\onedrive\\desktop\\nlp\\.venv\\lib\\site-packages (from torch>=2.3.0->torchtext) (80.4.0)\n",
      "Requirement already satisfied: mpmath<1.4,>=1.1.0 in c:\\users\\j_fel\\onedrive\\desktop\\nlp\\.venv\\lib\\site-packages (from sympy>=1.13.3->torch>=2.3.0->torchtext) (1.3.0)\n",
      "Requirement already satisfied: MarkupSafe>=2.0 in c:\\users\\j_fel\\onedrive\\desktop\\nlp\\.venv\\lib\\site-packages (from jinja2->torch>=2.3.0->torchtext) (3.0.2)\n",
      "Requirement already satisfied: charset-normalizer<4,>=2 in c:\\users\\j_fel\\onedrive\\desktop\\nlp\\.venv\\lib\\site-packages (from requests->torchtext) (3.4.2)\n",
      "Requirement already satisfied: idna<4,>=2.5 in c:\\users\\j_fel\\onedrive\\desktop\\nlp\\.venv\\lib\\site-packages (from requests->torchtext) (3.10)\n",
      "Requirement already satisfied: urllib3<3,>=1.21.1 in c:\\users\\j_fel\\onedrive\\desktop\\nlp\\.venv\\lib\\site-packages (from requests->torchtext) (2.4.0)\n",
      "Requirement already satisfied: certifi>=2017.4.17 in c:\\users\\j_fel\\onedrive\\desktop\\nlp\\.venv\\lib\\site-packages (from requests->torchtext) (2025.4.26)\n",
      "Requirement already satisfied: colorama in c:\\users\\j_fel\\onedrive\\desktop\\nlp\\.venv\\lib\\site-packages (from tqdm->torchtext) (0.4.6)\n",
      "Downloading torchtext-0.18.0-cp312-cp312-win_amd64.whl (2.0 MB)\n",
      "   ---------------------------------------- 0.0/2.0 MB ? eta -:--:--\n",
      "   ---------------------------------------- 2.0/2.0 MB 35.9 MB/s eta 0:00:00\n",
      "Installing collected packages: torchtext\n",
      "Successfully installed torchtext-0.18.0\n",
      "Note: you may need to restart the kernel to use updated packages.\n"
     ]
    }
   ],
   "source": [
    "%pip install -r requirements.txt\n",
    "%pip install nltk\n",
    "%pip install numpy\n",
    "%pip install gensim.downloader\n",
    "%pip install nltk.tokenize\n",
    "%pip install gensim\n",
    "%pip install datasets\n",
    "%pip install torch\n",
    "%pip install torch.utils.data\n",
    "%pip install torch.nn\n",
    "%pip install torch.nn.functional\n",
    "%pip install torch.optim\n",
    "%pip install torchtext"
   ]
  },
  {
   "cell_type": "markdown",
   "metadata": {
    "id": "10sk6RzxaBip"
   },
   "source": [
    "# A Clear Structure of the Workflow\n",
    "\n",
    "Objective: build a clean preprocessing pipeline for vocabulary, tokenization, pre-trained vector embedding, dataset and dataloader, and model architecture.\n",
    "\n",
    "Note: we don't remove punctuation. It might be a feature for prediction.\n",
    "\n",
    "1. Build vocabulary by first using NLTK tokenizer. Identify which words are in our training dataset is in our word2vec model, and which aren't. Those in the word2vec model will have its embedding readily available. Those outside will be mapped to OOV token, initialized by zero vector. The vocabulary will have 0-th token reserved for padding token and the OOV token will be the 1-th token. The rest of the words will fill the rest. The result should be a dictionaries word2idx and idx2word.\n",
    "2. Now we need to handle preprocessing by custom dataset and dataloader. It should accept train_dataset['text'], convert it into tensor of indices from word2idx (it should map oov words correctly), and pad it using the pad token with a defined MAX_LENGTH and pair it with train_dataset['label']. The dataloader should be constructed with collate_fn to construct the appropriate batch.\n",
    "3. The RNN should be defined. It first takes the indices from the batch given by the dataloader, embed it using pre-trained word2vec model (but we keep the embedding matrix frozen), and pass it to the RNN. However, we want to make sure that we don't use pad token as a feature. The final output should be sigmoid activated neuron so that it can be used for training with BCELoss."
   ]
  },
  {
   "cell_type": "code",
   "execution_count": 2,
   "metadata": {
    "colab": {
     "base_uri": "https://localhost:8080/"
    },
    "id": "gu05zaCxaBip",
    "outputId": "63157284-8809-4c21-dfa7-7b29450818d8"
   },
   "outputs": [
    {
     "name": "stderr",
     "output_type": "stream",
     "text": [
      "[nltk_data] Downloading package punkt to\n",
      "[nltk_data]     C:\\Users\\j_fel\\AppData\\Roaming\\nltk_data...\n",
      "[nltk_data]   Package punkt is already up-to-date!\n"
     ]
    }
   ],
   "source": [
    "import nltk\n",
    "from nltk.tokenize import word_tokenize\n",
    "nltk.download('punkt')\n",
    "import gensim.downloader as api\n",
    "import numpy as np\n",
    "\n",
    "# Load pre-trained Word2vec or GloVe model (example uses Word2vec)\n",
    "word_vectors = api.load(\"word2vec-google-news-300\")  # or your chosen GloVe model\n",
    "embedding_dim = word_vectors.vector_size"
   ]
  },
  {
   "cell_type": "code",
   "execution_count": 3,
   "metadata": {
    "colab": {
     "base_uri": "https://localhost:8080/",
     "height": 352,
     "referenced_widgets": [
      "a71b03f324674c198d483472d4832c01",
      "95c208e24ea94c51817713b01617cb99",
      "2d6622678505480ba2c9519abd3ee2ca",
      "c39dd99fe66545f197fa6d50340c9cd3",
      "50ac8dc4533b4210b8c645b945324a4e",
      "54efeb726dc8438fb0bd87f6feeeabd8",
      "c665cecaec8f42a3894d7a2736a99f0c",
      "e63c461c5f44457fad282874a4df2f4b",
      "a1910318a63d44e09df0e4302a47ad72",
      "eac1c6e8c1b3451abdd4bd219ac2c3cf",
      "084a461e710745fdbe5c918fe4c7a32e",
      "b07e2c275359483da041075b1d485579",
      "97dd867f2f86446b83722f6da916bb9a",
      "e1d113780f734df98d0174914d10b4ae",
      "4d847b0a9aa042fba4a7d8ad6845e9de",
      "f4c77ede9ef14385bb03e18ac4d3a1f2",
      "6b3979ca230647b193df69a18cbdc528",
      "681f0e5e879b462982144f86fcf217f2",
      "d274fab54c164cc7aef49fcc4aad293f",
      "40ce75831cf5470f90f9e1d08ab8a3e4",
      "50ec262e41ff475db5e6998643b94288",
      "25ed7db0c3c443c986e708df739d8809",
      "2b7b8e8fdbde4446b14e55c37fd5cc18",
      "8403d19bd73d4008bc5352403626ce97",
      "5a4372a4c3f640dab1480da9a228287c",
      "2f3ca5c6adbf4aef86e920dc96a5ac8c",
      "86f63ce3202c46c7969037b1a1ab7c00",
      "db28f96953af479599549dbc44173203",
      "de702fa83846479a893d6dd83f11ffe9",
      "76fee6f08e2945309317c758c6ec0150",
      "0efed2e3420e4d6d9ba3f48ec7406dc9",
      "63095f9356994d1abd7d317f9797094b",
      "1c1ae154fb244281b5483513a55fed56",
      "1c615c2fd4b8467da42782cc240c7510",
      "f32063fd90794d0a8e3ae099379771c4",
      "a6c391c4796e44c7ba9fe064d93f94a8",
      "6c2df2836eae44249c11754e80f39402",
      "580011de1010431fa2902fcc3ba6672c",
      "daf4afbfa23d463ba37b3afd29c183dc",
      "15675fd12e114ce7947b1251d0b53eb3",
      "dc7301471c61437b9d7bf31ee7eea866",
      "c7a146af30924fc6913267fd18999d38",
      "659dab5c1a2648dcafa4c9713dc4cee5",
      "1463fd84cf014a8ab49e1bc430b50f1b",
      "1af3e60ff7154380b89aca156a955361",
      "d1cb811bb68848299c29d50d1c186831",
      "5ddeb0d340804937b1f2af5e6724886d",
      "2d3b865365e441bcadc23cc1a50c0aa3",
      "00af2c2ddf69487086f41cab416a3405",
      "abe4fe3dfc7f41d7977e1f48d77ceea3",
      "e427736391a34b7bb5dc17929e3fd4b0",
      "9bbc77d3a8034031a6d2edd3edfedb36",
      "df60df1c55f44bb48e1b12e2e3681bbd",
      "478d0e1032c14053b3d04299922d0176",
      "99d738cbb3dd4f02a91b59344fd227d8",
      "aec58b377bb540858977d751a395aba6",
      "6a1b7fa2787a4724880f58b50d36d52d",
      "f6cdf11af2d8400899f510aeb63b2358",
      "38e9e3691dd64c2e8503504cdc4d0cb3",
      "742010c0b7834ad8960edc6530b66fb2",
      "1341a2f3c72346b08b953476af0d4520",
      "adfb28df7c4140119561689365f9164b",
      "4e338f4edb1445febc8035bca7d88be6",
      "b4e7d3605ec3409891071c1eb4db8722",
      "1a52257b54df47df915a152846db46f8",
      "135e8f84168e4b7eb5ea35d911742c1c",
      "530e47071b1641669c556157592af617",
      "bba7a4216d9d41e7a291196011fcd731",
      "a5f1742b512142b2beffac715a92a642",
      "7ed59fadf46e4cc3a3b26f1d8f7335b1",
      "7b6211548b80479199f9507bef6aa490",
      "f1855e9c8630444bb96d44b3561fcd7a",
      "838c3c197c114ee9b5666fce47aa59c2",
      "fdbc7f38f5b241c182eefb7616274182",
      "9bf1033a905b4595b19e256c7ac0e866",
      "7136d20b41c340e89e48e6454f26a061",
      "5e88323c779f4b22a4cd0992ab1ee792"
     ]
    },
    "id": "j4aut1jgaBiq",
    "outputId": "dc8a4446-d81c-45c0-b9bf-a199f817d34d"
   },
   "outputs": [
    {
     "name": "stderr",
     "output_type": "stream",
     "text": [
      "c:\\Users\\j_fel\\OneDrive\\Desktop\\NLP\\.venv\\Lib\\site-packages\\tqdm\\auto.py:21: TqdmWarning: IProgress not found. Please update jupyter and ipywidgets. See https://ipywidgets.readthedocs.io/en/stable/user_install.html\n",
      "  from .autonotebook import tqdm as notebook_tqdm\n"
     ]
    }
   ],
   "source": [
    "# Load dataset\n",
    "from datasets import load_dataset\n",
    "dataset = load_dataset(\"rotten_tomatoes\")\n",
    "train_dataset = dataset['train']\n",
    "validation_dataset = dataset['validation']\n",
    "test_dataset = dataset['test']"
   ]
  },
  {
   "cell_type": "markdown",
   "metadata": {},
   "source": [
    "# Part 1"
   ]
  },
  {
   "cell_type": "code",
   "execution_count": 4,
   "metadata": {},
   "outputs": [
    {
     "name": "stdout",
     "output_type": "stream",
     "text": [
      "Training samples: 8530\n",
      "Validation samples: 1066\n",
      "Test samples: 1066\n"
     ]
    }
   ],
   "source": [
    "print(f\"Training samples: {len(train_dataset)}\")\n",
    "print(f\"Validation samples: {len(validation_dataset)}\")\n",
    "print(f\"Test samples: {len(test_dataset)}\")"
   ]
  },
  {
   "cell_type": "code",
   "execution_count": 5,
   "metadata": {},
   "outputs": [
    {
     "name": "stdout",
     "output_type": "stream",
     "text": [
      "Vocabulary size: 18951\n"
     ]
    }
   ],
   "source": [
    "vocabulary = set()\n",
    "for entry in train_dataset:\n",
    "    words = entry['text'].split()\n",
    "    vocabulary.update(words)\n",
    "\n",
    "print(f\"Vocabulary size: {len(vocabulary)}\")"
   ]
  },
  {
   "cell_type": "code",
   "execution_count": 6,
   "metadata": {},
   "outputs": [
    {
     "name": "stdout",
     "output_type": "stream",
     "text": [
      "OOV words count: 4585\n"
     ]
    }
   ],
   "source": [
    "\n",
    "embedding_dimension = word_vectors.vector_size\n",
    "\n",
    "# Initialize the embedding matrix with zeros\n",
    "embedding_matrix = np.zeros((len(vocabulary), embedding_dimension))\n",
    "\n",
    "# Create a dictionary mapping each word in the vocabulary to a unique index\n",
    "word_to_idx = {word: idx for idx, word in enumerate(vocabulary)}\n",
    "\n",
    "\n",
    "oov_words = []\n",
    "\n",
    "# Populate the embedding matrix with embeddings for each word in the vocabulary\n",
    "for word, idx in word_to_idx.items():\n",
    "    if word in word_vectors:\n",
    "        embedding_matrix[idx] = word_vectors[word]\n",
    "    else:\n",
    "        oov_words.append(word)\n",
    "\n",
    "\n",
    "print(f\"OOV words count: {len(oov_words)}\")"
   ]
  },
  {
   "cell_type": "code",
   "execution_count": 7,
   "metadata": {},
   "outputs": [
    {
     "name": "stdout",
     "output_type": "stream",
     "text": [
      "Completed embedding matrix with OOV handling.\n"
     ]
    }
   ],
   "source": [
    "for word in oov_words:\n",
    "    idx = word_to_idx[word]\n",
    "    embedding_matrix[idx] = np.zeros(embedding_dimension)  # Zero vector for OOV words\n",
    "\n",
    "print(\"Completed embedding matrix with OOV handling.\")"
   ]
  },
  {
   "cell_type": "markdown",
   "metadata": {},
   "source": [
    "# Part 2"
   ]
  },
  {
   "cell_type": "code",
   "execution_count": 8,
   "metadata": {
    "colab": {
     "base_uri": "https://localhost:8080/"
    },
    "id": "-eXJ-8LUaBiq",
    "outputId": "841951a6-115e-489f-8c47-917edd9bdfe3"
   },
   "outputs": [
    {
     "name": "stdout",
     "output_type": "stream",
     "text": [
      "Vocabulary: {'<PAD>': 0, '<OOV>': 1, 'the': 2, 'rock': 3, 'is': 4, 'destined': 5, 'be': 6, 'century': 7, 'new': 8, 'conan': 9, 'that': 10, 'he': 11, 'going': 12, 'make': 13, 'splash': 14, 'even': 15, 'greater': 16, 'than': 17, 'arnold': 18, 'schwarzenegger': 19, 'van': 20, 'or': 21, 'steven': 22, 'gorgeously': 23, 'elaborate': 24, 'continuation': 25, 'lord': 26, 'rings': 27, 'trilogy': 28, 'so': 29, 'huge': 30, 'column': 31, 'words': 32, 'can': 33, 'not': 34, 'adequately': 35, 'describe': 36, 'co-writer/director': 37, 'peter': 38, 'jackson': 39, 'expanded': 40, 'vision': 41, 'j': 42, 'r': 43, 'effective': 44, 'but': 45, 'biopic': 46, 'if': 47, 'you': 48, 'sometimes': 49, 'like': 50, 'go': 51, 'movies': 52, 'have': 53, 'fun': 54, 'wasabi': 55, 'good': 56, 'place': 57, 'start': 58, 'emerges': 59, 'as': 60, 'something': 61, 'rare': 62, 'an': 63, 'issue': 64, 'movie': 65, 'honest': 66, 'keenly': 67, 'observed': 68, 'it': 69, 'does': 70, \"n't\": 71, 'feel': 72, 'one': 73, 'film': 74, 'provides': 75, 'some': 76, 'great': 77, 'insight': 78, 'into': 79, 'neurotic': 80, 'mindset': 81, 'all': 82, 'comics': 83, 'those': 84, 'who': 85, 'reached': 86, 'absolute': 87, 'top': 88, 'game': 89, 'offers': 90, 'combination': 91, 'entertainment': 92, 'education': 93, 'perhaps': 94, 'no': 95, 'picture': 96, 'ever': 97, 'made': 98, 'has': 99, 'more': 100, 'literally': 101, 'showed': 102, 'road': 103, 'hell': 104, 'paved': 105, 'with': 106, 'intentions': 107, 'steers': 108, 'turns': 109, 'in': 110, 'snappy': 111, 'screenplay': 112, 'curls': 113, 'at': 114, 'edges': 115, 'clever': 116, 'want': 117, 'hate': 118, 'somehow': 119, 'pulls': 120, 'off': 121, 'take': 122, 'care': 123, 'my': 124, 'cat': 125, 'refreshingly': 126, 'different': 127, 'slice': 128, 'asian': 129, 'cinema': 130, 'this': 131, 'well': 132, 'worth': 133, 'seeing': 134, 'talking': 135, 'singing': 136, 'heads': 137, 'what': 138, 'really': 139, 'surprises': 140, 'about': 141, 'its': 142, 'quality': 143, 'genuine': 144, 'tenderness': 145, 'why': 146, 'we': 147, 'fed': 148, 'through': 149, 'eye': 150, 'heart': 151, 'mind': 152, 'greatest': 153, 'ultimately': 154, 'ponders': 155, 'reasons': 156, 'need': 157, 'stories': 158, 'much': 159, 'utterly': 160, 'compelling': 161, 'wrote': 162, 'which': 163, 'reputation': 164, 'most': 165, 'famous': 166, 'author': 167, 'lived': 168, 'comes': 169, 'question': 170, 'illuminating': 171, 'overly': 172, 'talky': 173, 'documentary': 174, 'masterpiece': 175, 'four': 176, 'years': 177, 'making': 178, 'ripe': 179, 'enrapturing': 180, 'beauty': 181, 'will': 182, 'tempt': 183, 'willing': 184, 'probe': 185, 'inscrutable': 186, 'mysteries': 187, 'breath': 188, 'fresh': 189, 'air': 190, 'true': 191, 'sophistication': 192, 'thoughtful': 193, 'provocative': 194, 'insistently': 195, 'humanizing': 196, 'cast': 197, 'includes': 198, 'actors': 199, 'working': 200, 'independent': 201, 'lovely': 202, '&': 203, 'amazing': 204, 'involves': 205, 'us': 206, 'because': 207, 'incisive': 208, 'bleakly': 209, 'amusing': 210, 'how': 211, 'our': 212, 'lives': 213, 'disturbing': 214, 'frighteningly': 215, 'evocative': 216, 'assembly': 217, 'imagery': 218, 'hypnotic': 219, 'music': 220, 'composed': 221, 'by': 222, 'philip': 223, 'glass': 224, 'for': 225, 'everyone': 226, 'whom': 227, 'connect': 228, 'nice': 229, 'departure': 230, 'from': 231, 'standard': 232, 'moviegoing': 233, 'fare': 234, 'scores': 235, 'few': 236, 'points': 237, 'doing': 238, 'dedicated': 239, 'professionalism': 240, 'occasionally': 241, 'melodramatic': 242, 'also': 243, 'extremely': 244, 'spiderman': 245, 'rocks': 246, 'idealistic': 247, 'love': 248, 'story': 249, 'brings': 250, 'out': 251, 'latent': 252, 'romantic': 253, 'minutes': 254, 'treasure': 255, 'planet': 256, 'maintains': 257, 'brisk': 258, 'pace': 259, 'races': 260, 'familiar': 261, 'however': 262, 'lacks': 263, 'grandeur': 264, 'epic': 265, 'often': 266, 'associated': 267, 'stevenson': 268, 'tale': 269, 'earlier': 270, 'disney': 271, 'efforts': 272, 'helps': 273, 'lil': 274, 'bow': 275, 'wow': 276, 'tones': 277, 'down': 278, 'his': 279, 'gangsta': 280, 'act': 281, 'play': 282, 'someone': 283, 'resembles': 284, 'real': 285, 'kid': 286, 'guaranteed': 287, 'move': 288, 'anyone': 289, 'shook': 290, 'rattled': 291, 'rolled': 292, 'masterful': 293, 'master': 294, 'filmmaker': 295, 'unique': 296, 'deceptive': 297, 'grimness': 298, 'fatalist': 299, 'worldview': 300, 'light': 301, 'cute': 302, 'forgettable': 303, 'there': 304, 'way': 305, 'effectively': 306, 'teach': 307, 'kids': 308, 'dangers': 309, 'drugs': 310, 'i': 311, 'think': 312, 'projects': 313, 'unfortunately': 314, 'paid': 315, 'while': 316, 'would': 317, 'easy': 318, 'give': 319, 'crush': 320, 'title': 321, 'two': 322, 'weddings': 323, 'funeral': 324, 'far': 325, 'any': 326, 'hugh': 327, 'grant': 328, 'whimsy': 329, 'though': 330, 'everything': 331, 'might': 332, 'literate': 333, 'smart': 334, 'never': 335, 'took': 336, 'always': 337, 'seemed': 338, 'static': 339, 'perfectly': 340, 'captures': 341, 'hotel': 342, 'lobbies': 343, 'highways': 344, 'roadside': 345, 'cafes': 346, 'permeate': 347, 'vincent': 348, 'days': 349, 'ms': 350, 'almost': 351, 'spooky': 352, 'her': 353, 'sulky': 354, 'calculating': 355, 'lolita': 356, 'turn': 357, 'means': 358, 'best': 359, 'work': 360, 'distinguished': 361, 'distinctive': 362, 'effort': 363, 'fascinating': 364, 'replete': 365, 'rewards': 366, 'had': 367, 'reap': 368, 'them': 369, 'bond': 370, 'outings': 371, 'recent': 372, 'stunts': 373, 'are': 374, 'outlandish': 375, 'they': 376, 'border': 377, 'on': 378, 'being': 379, 'cartoonlike': 380, 'heavy': 381, 'reliance': 382, 'cgi': 383, 'technology': 384, 'beginning': 385, 'creep': 386, 'series': 387, 'newton': 388, 'draws': 389, 'attention': 390, 'magnet': 391, 'acts': 392, 'circles': 393, 'around': 394, 'better': 395, 'known': 396, 'mark': 397, 'loses': 398, 'bite': 399, 'happy': 400, 'ending': 401, 'less': 402, 'plausible': 403, 'rest': 404, 'novel': 405, 'ride': 406, 'fuller': 407, 'surely': 408, 'called': 409, 'gutsy': 410, 'times': 411, 'exhilarating': 412, 'yarn': 413, 'e': 414, 'el': 415, 'de': 416, 'es': 417, 'uno': 418, 'esos': 419, 'que': 420, 'vale': 421, 'la': 422, 'pena': 423, 'ver': 424, 'por': 425, 'su': 426, 'makes': 427, 'strong': 428, 'case': 429, 'importance': 430, 'musicians': 431, 'creating': 432, 'motown': 433, 'sound': 434, 'moves': 435, 'rhythm': 436, 'itself': 437, 'lips': 438, 'chanting': 439, 'beat': 440, 'long': 441, 'braided': 442, 'hair': 443, 'little': 444, 'wipe': 445, 'away': 446, 'jeweled': 447, 'beads': 448, 'sweat': 449, 'gosling': 450, 'performance': 451, 'dwarfs': 452, 'else': 453, 'people': 454, 'gives': 455, 'glimpse': 456, 'culture': 457, 'do': 458, 'know': 459, 'tender': 460, 'yet': 461, 'lacerating': 462, 'darkly': 463, 'funny': 464, 'fable': 465, 'may': 466, 'spoofing': 467, 'target': 468, 'old': 469, 'giant': 470, 'creature': 471, 'features': 472, 'acknowledges': 473, 'celebrates': 474, 'their': 475, 'cheesiness': 476, 'reason': 477, 'get': 478, 'kick': 479, 'watching': 480, 'today': 481, 'engaging': 482, 'overview': 483, 'johnson': 484, 'eccentric': 485, 'career': 486, 'ragged': 487, 'cheap': 488, 'unassuming': 489, 'works': 490, 'charisma': 491, \"'d\": 492, 'listen': 493, 'reading': 494, 'phone': 495, 'book': 496, 'sandra': 497, 'bullock': 498, 'such': 499, 'likeable': 500, 'beautifully': 501, 'orchestrates': 502, 'transformation': 503, 'chilly': 504, 'martha': 505, 'begins': 506, 'open': 507, 'behind': 508, 'snow': 509, 'games': 510, 'lovable': 511, 'siberian': 512, 'huskies': 513, 'plus': 514, 'sheep': 515, 'dog': 516, 'hosts': 517, 'dose': 518, 'everytime': 519, 'undercover': 520, 'brother': 521, 'run': 522, 'steam': 523, 'finds': 524, 'surprise': 525, 'amuse': 526, 'manages': 527, 'original': 528, 'rips': 529, 'many': 530, 'ideas': 531, 'bryan': 532, 'adams': 533, 'contributes': 534, 'slew': 535, 'songs': 536, '\\x97': 537, 'potential': 538, 'hits': 539, 'simply': 540, 'intrusive': 541, 'whole': 542, 'package': 543, 'certainly': 544, 'intended': 545, 'er': 546, 'spirit': 547, 'piece': 548, 'now': 549, 'america': 550, 'enough': 551, 'plucky': 552, 'british': 553, 'eccentrics': 554, 'hearts': 555, 'gold': 556, 'still': 557, 'charming': 558, 'here': 559, 'whether': 560, \"'re\": 561, 'enlightened': 562, 'lectures': 563, 'other': 564, 'self': 565, 'undeniably': 566, 'playful': 567, 'fellow': 568, 'pleasant': 569, 'held': 570, 'together': 571, 'skilled': 572, 'ensemble': 573, 'american': 574, 'troubled': 575, 'teens': 576, 'since': 577, 'whatever': 578, 'been': 579, 'when': 580, 'bringing': 581, 'beloved': 582, 'books': 583, 'screen': 584, 'tuck': 585, 'everlasting': 586, 'both': 587, 'just': 588, 'involved': 589, 'layered': 590, 'richness': 591, 'chiaroscuro': 592, 'madness': 593, 'astonishing': 594, 'animated': 595, 'subplot': 596, 'depicts': 597, 'inner': 598, 'struggles': 599, 'adolescent': 600, 'heroes': 601, 'insecure': 602, 'uncontrolled': 603, 'intense': 604, 'invincible': 605, 'alive': 606, 'living': 607, 'morton': 608, 'actress': 609, 'portraying': 610, 'complex': 611, 'character': 612, 'grows': 613, 'farther': 614, 'meanders': 615, 'shocking': 616, 'part': 617, 'charm': 618, 'satin': 619, 'rouge': 620, 'avoids': 621, 'obvious': 622, 'lightness': 623, 'son': 624, 'bride': 625, 'too': 626, 'flattering': 627, 'sense': 628, 'mystery': 629, 'quietness': 630, 'simmering': 631, 'psychological': 632, 'drama': 633, 'bursts': 634, 'sudden': 635, 'violence': 636, 'startling': 637, 'slow': 638, 'buildup': 639, 'preceded': 640, 'taut': 641, 'intelligent': 642, 'arduous': 643, 'journey': 644, 'sensitive': 645, 'young': 646, 'girl': 647, 'foster': 648, 'homes': 649, 'fierce': 650, 'struggle': 651, 'pull': 652, 'free': 653, 'dangerous': 654, 'domineering': 655, 'mother': 656, 'hold': 657, 'over': 658, 'truly': 659, 'moving': 660, 'experience': 661, 'perfect': 662, 'example': 663, 'art': 664, 'done': 665, 'right': 666, 'help': 667, 'heal': 668, 'clarify': 669, 'comfort': 670, 'delicately': 671, 'deeply': 672, 'felt': 673, 'masterfully': 674, 'stylized': 675, 'triumph': 676, 'maverick': 677, 'director': 678, 'deftly': 679, 'wrought': 680, 'suspense': 681, 'whose': 682, 'richer': 683, 'shadings': 684, 'coloring': 685, 'rather': 686, 'substance': 687, 'appearance': 688, 'role': 689, 'either': 690, 'loving': 691, 'rolling': 692, 'your': 693, 'eyes': 694, 'loved': 695, 'incredible': 696, 'ingeniously': 697, 'constructed': 698, 'memento': 699, 'were': 700, 'ca': 701, 'wait': 702, 'see': 703, 'happens': 704, 'next': 705, 'challenges': 706, 'confront': 707, 'reality': 708, 'sexual': 709, 'aberration': 710, 'absorbing': 711, 'originally': 712, 'clarity': 713, 'gone': 714, 'year': 715, 'benchmark': 716, 'against': 717, 'contenders': 718, 'should': 719, 'measured': 720, 'painful': 721, 'watch': 722, 'viewers': 723, 'chance': 724, 'rewarded': 725, 'accomplished': 726, 'riveting': 727, 'performances': 728, 'albeit': 729, 'depressing': 730, 'view': 731, 'iranian': 732, 'rural': 733, 'life': 734, 'close': 735, 'iraqi': 736, 'imaginative': 737, 'artsy': 738, 'flourishes': 739, 'aside': 740, 'narc': 741, 'gritty': 742, 'gets': 743, 'these': 744, 'isle': 745, 'preposterous': 746, 'thoroughly': 747, 'misogynistic': 748, 'vistas': 749, 'incredibly': 750, 'beautiful': 751, 'look': 752, 'tok': 753, 'o': 754, 'orchestrate': 755, 'buoyant': 756, 'dance': 757, 'death': 758, 'process': 759, 'demonstrate': 760, 'lot': 761, 'hong': 762, 'kong': 763, 'flair': 764, 'landscapes': 765, 'adventure': 766, 'overpraised': 767, 'elizabeth': 768, 'blast': 769, 'educational': 770, 'energy': 771, 'bouncy': 772, 'animation': 773, 'catchy': 774, 'escort': 775, 'entire': 776, 'sports': 777, 'action': 778, 'exciting': 779, 'field': 780, 'doug': 781, 'bourne': 782, 'directs': 783, 'traffic': 784, 'wintry': 785, 'locations': 786, 'absorbs': 787, 'spycraft': 788, 'uses': 789, 'damon': 790, 'ability': 791, 'focused': 792, 'sincere': 793, 'intact': 794, 'katz': 795, 'archival': 796, 'footage': 797, 'horrifying': 798, 'documents': 799, 'lynchings': 800, 'photographs': 801, 'recordings': 802, 'entertaining': 803, 'children': 804, 'create': 805, 'song': 806, 'history': 807, 'powerful': 808, 'anthropologically': 809, 'detailed': 810, 'realization': 811, 'suburbia': 812, 'significant': 813, 'without': 814, 'overstated': 815, 'lifts': 816, 'firmly': 817, 'above': 818, 'level': 819, 'films': 820, 'jarring': 821, 'hard': 822, 'back': 823, 'boys': 824, 'nothing': 825, 'introduces': 826, 'promising': 827, 'unusual': 828, 'kind': 829, 'horror': 830, 'normal': 831, 'bromides': 832, 'barely': 833, 'sustain': 834, 'interstitial': 835, 'program': 836, 'discovery': 837, 'channel': 838, 'imax': 839, 'clichés': 840, 'disappear': 841, 'vertiginous': 842, 'perspectives': 843, 'opened': 844, 'up': 845, 'photography': 846, 'burger': 847, 'imaginatively': 848, 'fans': 849, 'embers': 850, 'dormant': 851, 'national': 852, 'grief': 853, 'curiosity': 854, 'calcified': 855, 'chronic': 856, 'cynicism': 857, 'fear': 858, 'enjoyed': 859, 'time': 860, 'favor': 861, 'was': 862, 'surprised': 863, 'quickly': 864, 'faded': 865, 'memory': 866, 'chicago': 867, 'sophisticated': 868, 'brash': 869, 'sardonic': 870, 'completely': 871, 'joyful': 872, 'execution': 873, 'steve': 874, 'irwin': 875, 'method': 876, 'ernest': 877, 'accelerated': 878, 'speed': 879, 'volume': 880, 'refreshing': 881, 'korean': 882, 'five': 883, 'female': 884, 'high': 885, 'school': 886, 'friends': 887, 'face': 888, 'uphill': 889, 'battle': 890, 'try': 891, 'relationships': 892, 'deeper': 893, 'waters': 894, 'surface': 895, 'crime': 896, 'flick': 897, 'common': 898, 'double': 899, 'values': 900, 'enterprise': 901, 'crew': 902, 'previous': 903, 'adventures': 904, 'perils': 905, 'patience': 906, 'under': 907, 'pressure': 908, 'possible': 909, 'sequel': 910, 'outshine': 911, 'then': 912, 'comedy': 913, 'operates': 914, 'rules': 915, 'own': 916, 'universe': 917, '4': 918, '2': 919, 'couples': 920, 'miles': 921, 'blue': 922, 'ribbon': 923, 'beer': 924, 'drink': 925, 'ultimate': 926, 'redneck': 927, 'filled': 928, 'pure': 929, 'wonderment': 930, 'excitement': 931, 'seen': 932, 'du': 933, 'sarcasm': 934, 'tempting': 935, 'regard': 936, 'mr': 937, 'andrew': 938, 'collaborators': 939, 'oddballs': 940, 'quizzical': 941, 'allows': 942, 'finally': 943, 'artists': 944, 'term': 945, 'edited': 946, 'shot': 947, 'syncopated': 948, 'style': 949, 'mimicking': 950, 'subjects': 951, 'pray': 952, 'idea': 953, 'head': 954, 'rousing': 955, 'invigorating': 956, 'lacking': 957, 'mtv': 958, 'puffery': 959, 'mostly': 960, 'engrossing': 961, 'psychologically': 962, 'resonant': 963, 'suspenser': 964, 'secret': 965, 'intermittent': 966, 'unease': 967, 'reaffirming': 968, 'illusions': 969, 'indeed': 970, 'erasing': 971, 'recasts': 972, 'metaphor': 973, 'scope': 974, 'ambition': 975, 'accomplishment': 976, 'takes': 977, 'dramatic': 978, 'impact': 979, 'holocaust': 980, 'mainly': 981, 'told': 982, 'between': 983, 'cube': 984, 's': 985, 'personal': 986, 'revelations': 987, 'regarding': 988, 'shop': 989, 'big': 990, 'iconic': 991, 'characters': 992, 'gambol': 993, 'fluidly': 994, 'results': 995, 'gentle': 996, 'compassionate': 997, 'healing': 998, 'somewhere': 999, 'short': 1000, 'tremors': 1001, 'modern': 1002, 'neither': 1003, 'nor': 1004, 'agreeably': 1005, 'unpretentious': 1006, 'spend': 1007, 'ninety': 1008, 'comedians': 1009, 'very': 1010, 'world': 1011, 'unlike': 1012, 'teen': 1013, 'flicks': 1014, 'swimming': 1015, 'tell': 1016, 'casts': 1017, 'performers': 1018, 'key': 1019, 'roles': 1020, 'intriguing': 1021, 'ambiguity': 1022, 'enthralling': 1023, 'constantly': 1024, 'frustrates': 1025, 'desire': 1026, 'man': 1027, 'deconstructing': 1028, 'format': 1029, 'biography': 1030, 'manner': 1031, 'doubtless': 1032, 'blessing': 1033, 'extreme': 1034, 'ops': 1035, 'exceeds': 1036, 'expectations': 1037, 'acting': 1038, 'dialogue': 1039, 'cinematography': 1040, 'pay': 1041, 'nine': 1042, 'bucks': 1043, 'hear': 1044, 'suffering': 1045, 'afghan': 1046, 'refugees': 1047, 'news': 1048, 'unaffected': 1049, 'dramas': 1050, 'human': 1051, 'thunderous': 1052, 'first': 1053, 'quiet': 1054, 'cadences': 1055, 'finesse': 1056, 'shortage': 1057, 'dilutes': 1058, 'potency': 1059, 'otherwise': 1060, 'respectable': 1061, 'host': 1062, 'excellent': 1063, 'sequences': 1064, 'obviously': 1065, 'struck': 1066, 'responsive': 1067, 'chord': 1068, 'south': 1069, 'koreans': 1070, 'magic': 1071, 'parts': 1072, 'walk': 1073, 'barbed': 1074, 'bracing': 1075, 'classy': 1076, 'item': 1077, 'legend': 1078, 'left': 1079, 'prove': 1080, 'chops': 1081, 'drive': 1082, 'show': 1083, 'nature': 1084, 'progress': 1085, 'theme': 1086, 'proved': 1087, 'important': 1088, 'him': 1089, 'especially': 1090, 'finale': 1091, 'exactly': 1092, 'gourmet': 1093, 'meal': 1094, 'fair': 1095, 'coming': 1096, 'strap': 1097, 'pair': 1098, 'goggles': 1099, 'shut': 1100, 'vicarious': 1101, 'voyage': 1102, 'last': 1103, 'frontier': 1104, 'space': 1105, 'merely': 1106, 'technical': 1107, 'logistical': 1108, 'feat': 1109, 'russian': 1110, 'ark': 1111, 'marks': 1112, 'cinematic': 1113, 'milestone': 1114, 'talented': 1115, 'terribly': 1116, 'charismatic': 1117, 'qualities': 1118, 'essential': 1119, 'stars': 1120, 'social': 1121, 'anarchists': 1122, 'deal': 1123, 'sizzle': 1124, 'steak': 1125, 'spectacular': 1126, 'incarnation': 1127, 'fizz': 1128, 'infectious': 1129, 'gem': 1130, 'obsession': 1131, 'delight': 1132, 'newcomers': 1133, 'bygone': 1134, 'gloriously': 1135, 'goofy': 1136, 'gory': 1137, 'midnight': 1138, 'stuff': 1139, 'overcomes': 1140, 'regular': 1141, 'minefield': 1142, 'cliches': 1143, 'potent': 1144, 'doses': 1145, 'honesty': 1146, 'sensitivity': 1147, 'senses': 1148, 'dulled': 1149, 'slasher': 1150, 'gorefests': 1151, 'connoisseur': 1152, 'ticket': 1153, 'minor': 1154, 'tries': 1155, 'balance': 1156, 'sweetness': 1157, 'coarseness': 1158, 'paints': 1159, 'sad': 1160, 'singles': 1161, 'scene': 1162, 'intensely': 1163, 'quills': 1164, 'shows': 1165, 'temper': 1166, 'special': 1167, 'effects': 1168, 'folks': 1169, 'cobbled': 1170, 'nemesis': 1171, 'indulge': 1172, 'force': 1173, 'humanity': 1174, 'hardware': 1175, 'george': 1176, 'lucas': 1177, 'forgotten': 1178, 'mike': 1179, 'win': 1180, 'originality': 1181, 'succeed': 1182, 'following': 1183, 'formula': 1184, 'winning': 1185, 'offering': 1186, 'audience': 1187, 'urban': 1188, 'welcome': 1189, 'models': 1190, 'optimism': 1191, 'hoot': 1192, 'half': 1193, 'candidate': 1194, 'giving': 1195, 'same': 1196, 'stump': 1197, 'speech': 1198, 'innocent': 1199, 'superior': 1200, 'played': 1201, 'roads': 1202, 'boasts': 1203, 'factor': 1204, 'smacks': 1205, 'tim': 1206, 'allen': 1207, 'hogs': 1208, 'scenes': 1209, 'plenty': 1210, 'laughs': 1211, 'lines': 1212, 'load': 1213, 'enjoyable': 1214, 'claptrap': 1215, 'punishing': 1216, 'soul': 1217, 'assaults': 1218, 'mummy': 1219, 'pictures': 1220, 'represent': 1221, 'enormously': 1222, 'likable': 1223, 'partly': 1224, 'aware': 1225, 'grasp': 1226, 'absurd': 1227, 'gleefully': 1228, 'unconcerned': 1229, 'plausibility': 1230, 'determined': 1231, 'entertain': 1232, 'lively': 1233, 'script': 1234, 'sharp': 1235, 'partially': 1236, 'interludes': 1237, 'kiss': 1238, 'seem': 1239, 'minty': 1240, 'must': 1241, 'believed': 1242, 'ray': 1243, 'jason': 1244, 'underwritten': 1245, 'fooled': 1246, 'nobody': 1247, 'deserves': 1248, 'prizes': 1249, 'charlotte': 1250, 'rambunctious': 1251, 'jewish': 1252, 'sister': 1253, 'husband': 1254, 'feels': 1255, 'sweet': 1256, 'home': 1257, 'alabama': 1258, '\\x96': 1259, 'harmless': 1260, 'date': 1261, 'happiest': 1262, 'deals': 1263, 'subject': 1264, 'surprising': 1265, 'irish': 1266, 'general': 1267, 'borstal': 1268, 'boy': 1269, 'transparently': 1270, 'slowly': 1271, 'paced': 1272, 'thriller': 1273, 'recommending': 1274, 'marvelous': 1275, 'michael': 1276, 'caine': 1277, 'brendan': 1278, 'fraser': 1279, 'faithful': 1280, 'presumes': 1281, 'twin': 1282, 'premises': 1283, 'become': 1284, 'backs': 1285, 'parents': 1286, 'age': 1287, 'fleeting': 1288, 'precious': 1289, 'commodity': 1290, 'matter': 1291, 'stephen': 1292, 'homespun': 1293, 'mule': 1294, 'skinner': 1295, 'blues': 1296, 'posse': 1297, 'trailer': 1298, 'park': 1299, 'denizens': 1300, 'solidly': 1301, 'seaworthy': 1302, 'chiller': 1303, 'past': 1304, 'fantastical': 1305, 'aspects': 1306, 'harsh': 1307, 'realities': 1308, \"'ll\": 1309, 'visual': 1310, 'likely': 1311, 'anywhere': 1312, 'misses': 1313, 'humor': 1314, 'foibles': 1315, 'behavior': 1316, 'return': 1317, 'roots': 1318, 'genre': 1319, 'depend': 1320, 'certain': 1321, 'intelligence': 1322, 'morality': 1323, 'science': 1324, 'count': 1325, 'unforgettable': 1326, 'remains': 1327, 'solid': 1328, 'somewhat': 1329, 'account': 1330, 'howard': 1331, 'steady': 1332, 'hand': 1333, 'follows': 1334, 'resolutely': 1335, 'realistic': 1336, 'path': 1337, 'uncompromising': 1338, 'existence': 1339, 'kurdish': 1340, 'iran': 1341, 'borderlands': 1342, 'chunk': 1343, 'running': 1344, 'trapped': 1345, 'claustrophobic': 1346, 'captivating': 1347, 'pinch': 1348, 'tartness': 1349, 'nair': 1350, 'capture': 1351, 'complexity': 1352, 'family': 1353, 'trials': 1354, 'tribulations': 1355, 'seaside': 1356, 'splendor': 1357, 'shallow': 1358, 'attempts': 1359, 'disarming': 1360, 'indie': 1361, 'ranks': 1362, 'among': 1363, 'engagingly': 1364, 'maddening': 1365, 'magnetic': 1366, 'ebb': 1367, 'flow': 1368, 'friendship': 1369, 'buried': 1370, 'environment': 1371, 'traditional': 1372, 'moviemaking': 1373, 'careful': 1374, 'period': 1375, 'wit': 1376, 'maybe': 1377, 'release': 1378, 'worst': 1379, 'comedies': 1380, 'decades': 1381, 'honestly': 1382, 'analyze': 1383, 'bad': 1384, 'droll': 1385, 'unexpected': 1386, 'deposits': 1387, 'feeling': 1388, 'aptly': 1389, 'challenge': 1390, 'punishment': 1391, 'tearing': 1392, 'landmark': 1393, 'cop': 1394, 'understands': 1395, 'medium': 1396, 'amazingly': 1397, 'understated': 1398, 'jack': 1399, 'nicholson': 1400, 'britney': 1401, 'delivered': 1402, 'safe': 1403, 'superstar': 1404, 'girls': 1405, 'travel': 1406, 'fame': 1407, 'freeway': 1408, 'outside': 1409, 'business': 1410, 'enjoy': 1411, 'nervous': 1412, 'mild': 1413, 'headache': 1414, 'exhilarate': 1415, 'beanie': 1416, 'gang': 1417, 'put': 1418, 'video': 1419, 'spare': 1420, 'borrowed': 1421, 'materials': 1422, 'understand': 1423, \"'m\": 1424, 'sure': 1425, 'himself': 1426, 'fascinated': 1427, 'undoubtedly': 1428, 'delighted': 1429, 'tadpole': 1430, 'treat': 1431, 'slight': 1432, 'pleasure': 1433, 'insightful': 1434, 'sides': 1435, 'conflict': 1436, 'say': 1437, 'watchful': 1438, 'parental': 1439, 'peace': 1440, 'another': 1441, 'admired': 1442, 'moved': 1443, 'bored': 1444, 'frustrated': 1445, 'moments': 1446, 'heartbreaking': 1447, 'keep': 1448, 'glued': 1449, 'goodness': 1450, 'queen': 1451, 'offer': 1452, 'she': 1453, 'problem': 1454, 'flaunting': 1455, 'natural': 1456, 'gifts': 1457, 'australian': 1458, 'john': 1459, 'english': 1460, 'cinematographer': 1461, 'terrific': 1462, 'disguising': 1463, 'innovation': 1464, 'dong': 1465, 'perspective': 1466, 'contradictions': 1467, 'derives': 1468, 'power': 1469, 'sticking': 1470, 'facts': 1471, 'keeps': 1472, 'diverted': 1473, 'lightens': 1474, 'wallet': 1475, 'leaving': 1476, 'sting': 1477, 'interesting': 1478, 'chimpanzees': 1479, 'wo': 1480, 'bust': 1481, 'gut': 1482, 'blandly': 1483, 'surgical': 1484, 'examination': 1485, 'joke': 1486, 'crudely': 1487, 'gripping': 1488, 'questing': 1489, 'person': 1490, 'racked': 1491, 'becomes': 1492, 'enemy': 1493, 'race': 1494, 'extends': 1495, 'writings': 1496, 'jean': 1497, 'genet': 1498, 'nocturnal': 1499, 'goya': 1500, 'wears': 1501, 'heritage': 1502, 'badge': 1503, 'honor': 1504, 'striking': 1505, 'realizes': 1506, 'before': 1507, 'fully': 1508, 'permutations': 1509, 'drumline': 1510, 'admirable': 1511, 'early': 1512, 'plays': 1513, 'clashes': 1514, 'brothers': 1515, 'unabashedly': 1516, 'schmaltzy': 1517, 'incident': 1518, 'headlines': 1519, 'mixed': 1520, 'emotions': 1521, 'disapproval': 1522, 'combined': 1523, 'tinge': 1524, 'understanding': 1525, 'actions': 1526, 'tsai': 1527, 'taken': 1528, 'trademark': 1529, 'refined': 1530, 'crystalline': 1531, 'point': 1532, 'purely': 1533, 'propaganda': 1534, 'unabashed': 1535, 'hero': 1536, 'worship': 1537, 'nonetheless': 1538, 'inadvertently': 1539, 'timely': 1540, 'invaluable': 1541, 'implicit': 1542, 'reminder': 1543, 'u': 1544, 'foreign': 1545, 'policy': 1546, 'rise': 1547, 'castro': 1548, 'trimmed': 1549, 'lavish': 1550, 'production': 1551, 'scale': 1552, 'satisfy': 1553, 'escapism': 1554, 'studies': 1555, 'americana': 1556, 'hollywood': 1557, 'could': 1558, 'possibly': 1559, 'fictionalize': 1560, 'clumsy': 1561, 'ambitions': 1562, 'equally': 1563, 'admirably': 1564, 'uncommercial': 1565, 'daring': 1566, 'mesmerizing': 1567, 'exceedingly': 1568, 'forget': 1569, 'altar': 1570, 'adolescence': 1571, 'painfully': 1572, 'moore': 1573, 'impresses': 1574, 'visits': 1575, 'territory': 1576, 'examines': 1577, 'footnote': 1578, 'seldom': 1579, 'brought': 1580, 'guessing': 1581, 'frame': 1582, 'touches': 1583, 'nerves': 1584, 'parker': 1585, 'brilliantly': 1586, 'updated': 1587, 'source': 1588, 'grasped': 1589, 'essence': 1590, 'composing': 1591, 'sorrowful': 1592, 'hilarious': 1593, 'tone': 1594, 'poem': 1595, 'alienated': 1596, 'labor': 1597, 'absurdist': 1598, 'workplace': 1599, 'sitcom': 1600, 'result': 1601, 'quite': 1602, 'delightful': 1603, 'persnickety': 1604, 'preteens': 1605, 'nonthreatening': 1606, 'thrilling': 1607, 'despite': 1608, 'infuriating': 1609, 'flaws': 1610, 'least': 1611, 'amy': 1612, 'personality': 1613, 'day': 1614, 'typical': 1615, 'polished': 1616, 'epics': 1617, 'elling': 1618, 'portrayed': 1619, 'fastidiousness': 1620, 'per': 1621, 'christian': 1622, 'singular': 1623, 'frailties': 1624, 'only': 1625, 'slightly': 1626, 'magnified': 1627, 'versions': 1628, 'ones': 1629, 'vex': 1630, 'nearly': 1631, 'denis': 1632, 'michele': 1633, 'impeccable': 1634, 'penetrates': 1635, 'rawness': 1636, 'unflinching': 1637, 'tantalizing': 1638, 'lead': 1639, 'parmentier': 1640, 'superlative': 1641, 'trip': 1642, 'minds': 1643, 'motivations': 1644, 'stress': 1645, 'keen': 1646, 'unsentimental': 1647, 'variations': 1648, 'motherhood': 1649, 'particularly': 1650, 'downer': 1651, 'passions': 1652, 'aroused': 1653, 'discord': 1654, 'cultures': 1655, 'set': 1656, 'strange': 1657, 'stark': 1658, 'mideast': 1659, 'desert': 1660, 'lovingly': 1661, 'perceptively': 1662, 'filmed': 1663, 'taste': 1664, 'desiccated': 1665, 'remarkably': 1666, 'accessible': 1667, 'affecting': 1668, 'buy': 1669, 'cia': 1670, 'hit': 1671, 'kooky': 1672, 'shadowy': 1673, 'clooney': 1674, 'sustains': 1675, 'throughout': 1676, 'inventive': 1677, 'impressive': 1678, 'direction': 1679, 'narrative': 1680, 'knew': 1681, 'spin': 1682, 'appreciate': 1683, 'attempt': 1684, 'intimate': 1685, 'greatly': 1686, 'large': 1687, 'grow': 1688, 'attached': 1689, 'full': 1690, 'strength': 1691, 'warmth': 1692, 'vitality': 1693, 'believe': 1694, 'immensely': 1695, 'david': 1696, 'goliath': 1697, 'playing': 1698, 'additional': 1699, 'storyline': 1700, 'magical': 1701, 'mama': 1702, 'bit': 1703, 'find': 1704, 'plot': 1705, 'development': 1706, 'ribald': 1707, 'touching': 1708, 'nostalgia': 1709, 'please': 1710, 'search': 1711, 'jules': 1712, 'jim': 1713, 'millennium': 1714, 'definitely': 1715, 'window': 1716, 'imagination': 1717, 'hermetic': 1718, 'analysis': 1719, 'todd': 1720, 'gratifying': 1721, 'invites': 1722, 'pick': 1723, 'apart': 1724, 'faults': 1725, 'admit': 1726, 'where': 1727, 'live': 1728, 'presents': 1729, 'astute': 1730, 'appraisal': 1731, 'middle': 1732, 'musical': 1733, 'torpor': 1734, 'desperate': 1735, 'escape': 1736, 'anyway': 1737, 'faces': 1738, 'difficult': 1739, 'issues': 1740, 'decade': 1741, 'call': 1742, 'horrid': 1743, 'benefits': 1744, 'jie': 1745, 'remember': 1746, 'end': 1747, 'brimming': 1748, 'detail': 1749, 'nuance': 1750, 'speaks': 1751, 'volumes': 1752, 'solace': 1753, 'events': 1754, 'easily': 1755, 'forever': 1756, 'succeeded': 1757, 'focusing': 1758, 'intently': 1759, 'quirky': 1760, 'individuals': 1761, 'figures': 1762, 'stands': 1763, 'forth': 1764, 'chronicle': 1765, 'abuses': 1766, 'latin': 1767, 'oppressive': 1768, 'regimes': 1769, 'soft': 1770, 'percolating': 1771, 'deadpan': 1772, 'depiction': 1773, 'using': 1774, 'figurative': 1775, 'ideological': 1776, 'ship': 1777, 'dock': 1778, 'unloading': 1779, 'continues': 1780, 'longer': 1781, 'ahead': 1782, 'generation': 1783, 'defines': 1784, 'transporter': 1785, 'unapologetically': 1786, 'dumb': 1787, 'witness': 1788, 'several': 1789, 'happily': 1790, 'victim': 1791, 'none': 1792, 'testify': 1793, 'comparative': 1794, 'accuracy': 1795, 'memories': 1796, 'insights': 1797, 'williams': 1798, 'inhabited': 1799, 'presenting': 1800, 'impossible': 1801, 'romance': 1802, 'pumpkin': 1803, 'dares': 1804, 'forces': 1805, 'debut': 1806, 'considering': 1807, 'background': 1808, 'incendiary': 1809, 'peculiar': 1810, 'peculiarly': 1811, 'venomous': 1812, 'bigotries': 1813, 'increasingly': 1814, 'frightening': 1815, 'theocracy': 1816, 'notch': 1817, 'once': 1818, 'accents': 1819, 'emotional': 1820, 'positive': 1821, 'wrench': 1822, 'sit': 1823, 'successes': 1824, 'tempered': 1825, 'elements': 1826, 'direct': 1827, 'antithesis': 1828, 'dazzlingly': 1829, 'directorial': 1830, 'praise': 1831, 'holds': 1832, 'wilde': 1833, 'absolutely': 1834, 'meaning': 1835, 'anything': 1836, 'cleverness': 1837, 'occasional': 1838, 'overindulgence': 1839, 'forgivable': 1840, 'thankfully': 1841, 'skirts': 1842, 'rapidly': 1843, 'deteriorating': 1844, 'line': 1845, 'fantasy': 1846, 'attitude': 1847, 'pushes': 1848, 'croc': 1849, 'hunter': 1850, 'agenda': 1851, 'message': 1852, 'trouble': 1853, 'every': 1854, 'seems': 1855, 'disrupts': 1856, 'stasis': 1857, 'me': 1858, 'sucker': 1859, 'fashion': 1860, 'shamelessly': 1861, 'loves': 1862, 'eat': 1863, 'ingredients': 1864, 'appetite': 1865, 'interviews': 1866, 'sublime': 1867, 'stabs': 1868, 'cloying': 1869, 'specialty': 1870, 'wonderful': 1871, 'side': 1872, 'talk': 1873, 'women': 1874, 'endearingly': 1875, 'offbeat': 1876, 'gimmick': 1877, 'viewer': 1878, 'undeniable': 1879, 'messy': 1880, 'fat': 1881, 'greek': 1882, 'wedding': 1883, 'sacrifice': 1884, 'stirring': 1885, 'epilogue': 1886, 'russia': 1887, 'knows': 1888, 'images': 1889, 'add': 1890, 'mesmerize': 1891, 'balanced': 1892, 'reflective': 1893, 'reasonable': 1894, 'principals': 1895, 'fine': 1896, 'bishop': 1897, 'standouts': 1898, 'change': 1899, 'necessary': 1900, 'discussion': 1901, 'politics': 1902, 'understandable': 1903, 'looking': 1904, 'energetic': 1905, 'largely': 1906, 'celebratory': 1907, 'isolation': 1908, 'permeates': 1909, 'bastions': 1910, 'individuality': 1911, 'ikea': 1912, 'troopers': 1913, 'gross': 1914, 'outs': 1915, 'bawdy': 1916, 'blurred': 1917, 'razor': 1918, 'wisely': 1919, 'rejects': 1920, 'temptation': 1921, 'remembers': 1922, 'interested': 1923, 'response': 1924, 'stroke': 1925, 'ram': 1926, 'dass': 1927, 'grace': 1928, 'seeking': 1929, 'read': 1930, 'disappointed': 1931, 'guy': 1932, 'brain': 1933, 'savvy': 1934, 'exploration': 1935, 'paranoia': 1936, 'insecurity': 1937, 'legendary': 1938, 'writer': 1939, 'memoir': 1940, 'given': 1941, 'transferral': 1942, 'asset': 1943, 'caper': 1944, 'twists': 1945, 'worthy': 1946, 'enormous': 1947, 'thinking': 1948, 'audiences': 1949, 'saddest': 1950, 'uplifting': 1951, 'sentimental': 1952, 'usual': 1953, 'brilliant': 1954, 'rough': 1955, 'safely': 1956, 'sanded': 1957, 'insomnia': 1958, 'pretty': 1959, 'darned': 1960, 'precisely': 1961, 'frontal': 1962, 'did': 1963, 'stop': 1964, 'enjoying': 1965, 'tug': 1966, 'war': 1967, 'ensues': 1968, 'snapshot': 1969, 'china': 1970, 'microcosm': 1971, 'crash': 1972, 'course': 1973, 'mythology': 1974, 'surreal': 1975, 'dabbling': 1976, 'french': 1977, 'simple': 1978, 'taking': 1979, 'risk': 1980, 'choose': 1981, 'bumps': 1982, 'creamy': 1983, 'depth': 1984, 'ways': 1985, 'thing': 1986, 'alias': 1987, 'betty': 1988, 'predictable': 1989, 'asia': 1990, 'authors': 1991, 'herself': 1992, 'anna': 1993, 'italian': 1994, 'aspiring': 1995, 'directress': 1996, 'roman': 1997, 'dad': 1998, 'heck': 1999, 'filmmakers': 2000, 'based': 2001, 'cq': 2002, 'keeping': 2003, 'project': 2004, 'breezily': 2005, 'apolitical': 2006, 'campaign': 2007, 'trail': 2008, 'melodrama': 2009, 'emotionally': 2010, 'thanks': 2011, 'credible': 2012, 'delivers': 2013, 'couple': 2014, 'genres': 2015, 'enlightening': 2016, 'visit': 2017, 'able': 2018, 'theater': 2019, 'invite': 2020, 'gawk': 2021, 'applaud': 2022, 'wants': 2023, 'wallpaper': 2024, 'chosen': 2025, 'post': 2026, 'philosophical': 2027, 'freedom': 2028, 'palatable': 2029, 'hu': 2030, 'liu': 2031, 'glint': 2032, 'sorrow': 2033, 'longing': 2034, 'bold': 2035, 'lyrical': 2036, 'feature': 2037, 'raja': 2038, 'expands': 2039, 'pat': 2040, 'notion': 2041, 'wan': 2042, 'na': 2043, 'treatise': 2044, 'sensual': 2045, 'empowerment': 2046, 'easier': 2047, 'respect': 2048, 'enthuse': 2049, 'rigorous': 2050, 'distanced': 2051, 'distancing': 2052, 'wild': 2053, 'civil': 2054, 'again': 2055, 'allowed': 2056, 'build': 2057, 'uncommonly': 2058, 'complete': 2059, 'hope': 2060, 'satisfying': 2061, 'sort': 2062, 'food': 2063, 'brutal': 2064, 'strangely': 2065, 'soulful': 2066, 'movingly': 2067, 'fiction': 2068, 'learning': 2069, 'cultural': 2070, 'clash': 2071, 'grab': 2072, 'amaze': 2073, 'remarkable': 2074, 'meditation': 2075, 'revolution': 2076, 'follow': 2077, 'creepy': 2078, 'explorations': 2079, 'committed': 2080, 'involving': 2081, 'chinese': 2082, 'actor': 2083, 'winds': 2084, 'institution': 2085, 'acted': 2086, 'actual': 2087, 'hands': 2088, 'pays': 2089, 'price': 2090, 'intricate': 2091, 'intellectual': 2092, 'gamesmanship': 2093, 'dennis': 2094, 'athletic': 2095, 'drumming': 2096, 'marching': 2097, 'cares': 2098, 'weak': 2099, 'revenge': 2100, 'weakened': 2101, 'miscast': 2102, 'leading': 2103, 'lady': 2104, 'perceptive': 2105, 'subtle': 2106, 'supportive': 2107, 'foul': 2108, 'freaky': 2109, 'mixes': 2110, 'serious': 2111, 'ego': 2112, 'jealousy': 2113, 'within': 2114, 'seemingly': 2115, 'serene': 2116, 'marriage': 2117, 'diversity': 2118, 'represented': 2119, 'terms': 2120, 'ethnicity': 2121, 'prevents': 2122, 'proceedings': 2123, 'repetitious': 2124, 'appropriately': 2125, 'brief': 2126, 'pianist': 2127, 'valedictory': 2128, 'experiences': 2129, 'bargain': 2130, 'nails': 2131, 'tight': 2132, 'illuminated': 2133, 'shards': 2134, 'pronounce': 2135, 'gyro': 2136, 'correctly': 2137, 'transcends': 2138, 'ethnic': 2139, 'boundaries': 2140, 'office': 2141, 'alienating': 2142, 'farrell': 2143, 'successfully': 2144, 'foil': 2145, 'willis': 2146, 'colonel': 2147, 'conditioned': 2148, 'getting': 2149, 'weepy': 2150, 'moppets': 2151, 'empathetic': 2152, 'caretakers': 2153, 'probably': 2154, 'cheated': 2155, 'tart': 2156, 'bennett': 2157, 'dramatization': 2158, 'descent': 2159, 'perdition': 2160, 'morbid': 2161, 'appeal': 2162, 'tough': 2163, 'shake': 2164, 'introduction': 2165, 'expected': 2166, 'wordplay': 2167, 'contrivances': 2168, 'overshadowed': 2169, 'model': 2170, 'weber': 2171, 'verve': 2172, 'gender': 2173, 'preference': 2174, 'political': 2175, 'agitprop': 2176, 'indomitable': 2177, 'rebel': 2178, 'yeah': 2179, 'damn': 2180, 'unbelievably': 2181, 'perfection': 2182, 'ostentatious': 2183, 'got': 2184, 'oodles': 2185, 'poignant': 2186, 'reveals': 2187, 'writing': 2188, 'arithmetic': 2189, 'learn': 2190, 'nicely': 2191, 'serves': 2192, 'society': 2193, 'transition': 2194, 'boisterous': 2195, 'heartfelt': 2196, 'quest': 2197, 'come': 2198, 'origins': 2199, 'yearning': 2200, 'acceptance': 2201, 'circle': 2202, 'randy': 2203, 'sexy': 2204, 'gorgeous': 2205, 'places': 2206, 'pushed': 2207, 'pulled': 2208, 'figuratively': 2209, 'sex': 2210, 'arousing': 2211, 'study': 2212, 'celebrated': 2213, 'sundance': 2214, 'manners': 2215, 'glossy': 2216, 'glib': 2217, 'expect': 2218, 'bunch': 2219, 'poetry': 2220, 'check': 2221, 'particular': 2222, 'interest': 2223, 'students': 2224, 'enthusiast': 2225, 'international': 2226, 'designed': 2227, 'ages': 2228, 'backgrounds': 2229, 'rhythmic': 2230, 'boldly': 2231, 'star': 2232, 'wars': 2233, 'major': 2234, 'album': 2235, 'miss': 2236, 'dazzles': 2237, 'satisfies': 2238, 'lust': 2239, 'minority': 2240, 'report': 2241, 'transitions': 2242, 'adulthood': 2243, 'fraught': 2244, 'truth': 2245, 'small': 2246, 'amount': 2247, 'swim': 2248, 'wannabes': 2249, 'written': 2250, 'produced': 2251, 'directed': 2252, 'charles': 2253, 'authentic': 2254, 'affection': 2255, 'monster': 2256, 'liked': 2257, 'hill': 2258, 'bridget': 2259, 'jones': 2260, 'diary': 2261, 'fidelity': 2262, 'melding': 2263, 'buff': 2264, 'reflecting': 2265, 'instability': 2266, 'metaphorical': 2267, 'unnerving': 2268, 'score': 2269, 'recommend': 2270, 'historical': 2271, 'significance': 2272, 'alone': 2273, 'hey': 2274, 'needs': 2275, 'shower': 2276, 'coherent': 2277, 'horrifically': 2278, 'vivid': 2279, 'turbulent': 2280, 'although': 2281, 'bangs': 2282, 'cliched': 2283, 'drum': 2284, 'spunk': 2285, 'sterling': 2286, 'raise': 2287, 'maudlin': 2288, 'disease': 2289, 'stunning': 2290, 'dreamlike': 2291, 'visuals': 2292, 'impress': 2293, 'pretension': 2294, 'proves': 2295, 'sam': 2296, 'confessions': 2297, 'vastness': 2298, 'implied': 2299, 'metropolis': 2300, 'breathtaking': 2301, 'murderous': 2302, 'maids': 2303, 'comprehensive': 2304, 'strike': 2305, 'closest': 2306, 'aggressive': 2307, 'beaut': 2308, 'bundy': 2309, 'reilly': 2310, 'burke': 2311, 'octopus': 2312, 'river': 2313, 'menace': 2314, 'deceivingly': 2315, 'retrospect': 2316, 'ana': 2317, 'vibrant': 2318, 'individual': 2319, 'focus': 2320, 'upon': 2321, 'successful': 2322, 'slick': 2323, 'skillful': 2324, 'witty': 2325, 'growth': 2326, 'anderson': 2327, 'aesthetic': 2328, 'lick': 2329, 'bubba': 2330, 'bravura': 2331, 'bruce': 2332, 'campbell': 2333, 'deserve': 2334, 'leave': 2335, 'building': 2336, 'until': 2337, 'slack': 2338, 'screams': 2339, 'bathroom': 2340, 'break': 2341, 'job': 2342, 'likability': 2343, 'increments': 2344, 'artfully': 2345, 'camouflaged': 2346, 'everyday': 2347, 'activities': 2348, 'tremendous': 2349, 'notes': 2350, 'use': 2351, 'frailty': 2352, 'goddammit': 2353, 'near': 2354, 'hour': 2355, 'photo': 2356, 'delusions': 2357, 'flashes': 2358, 'kaufman': 2359, 'creates': 2360, 'eerie': 2361, 'night': 2362, 'matthew': 2363, 'killed': 2364, 'chalk': 2365, 'adoration': 2366, 'murphy': 2367, 'myriad': 2368, 'sensibility': 2369, 'exudes': 2370, 'nostalgic': 2371, 'nonsense': 2372, 'happening': 2373, 'represents': 2374, 'demand': 2375, 'distracted': 2376, 'irrevocable': 2377, 'ties': 2378, 'bind': 2379, 'enchanting': 2380, 'potter': 2381, 'anxious': 2382, 'express': 2383, 'toward': 2384, 'mischief': 2385, 'talents': 2386, 'moonlight': 2387, 'mile': 2388, 'humble': 2389, 'spiced': 2390, 'wry': 2391, 'pathos': 2392, 'morgan': 2393, 'aquatic': 2394, 'shores': 2395, 'baja': 2396, 'california': 2397, 'peninsula': 2398, 'mexico': 2399, 'virtues': 2400, 'dark': 2401, 'surprisingly': 2402, 'avalanche': 2403, 'starts': 2404, 'bang': 2405, 'fizzles': 2406, 'wet': 2407, 'stick': 2408, 'dynamite': 2409, 'refuses': 2410, 'entirely': 2411, 'wounds': 2412, 'hip': 2413, 'unforced': 2414, 'delivery': 2415, 'toback': 2416, 'relatively': 2417, 'wraps': 2418, 'elegant': 2419, 'symmetry': 2420, 'warned': 2421, 'slog': 2422, 'looks': 2423, 'having': 2424, 'slapstick': 2425, 'antics': 2426, 'silly': 2427, 'street': 2428, 'patois': 2429, 'tossing': 2430, 'obscure': 2431, 'expressions': 2432, 'bellini': 2433, 'compact': 2434, 'breezes': 2435, 'wonder': 2436, 'ghosts': 2437, 'imagining': 2438, 'themselves': 2439, 'sly': 2440, 'wink': 2441, 'others': 2442, 'becoming': 2443, 'postmodern': 2444, 'men': 2445, 'sardine': 2446, 'warped': 2447, 'logic': 2448, 'after': 2449, 'wondering': 2450, 'happen': 2451, 'wishing': 2452, 'mean': 2453, 'pretentious': 2454, 'subtext': 2455, 'value': 2456, 'wimp': 2457, 'cried': 2458, 'three': 2459, 'notorious': 2460, 'c': 2461, 'h': 2462, 'vulgar': 2463, 'highlights': 2464, 'inspiring': 2465, 'vietnamese': 2466, 'relocation': 2467, 'camps': 2468, 'hopes': 2469, 'maturity': 2470, 'displayed': 2471, 'inexperience': 2472, 'splendid': 2473, 'fullness': 2474, 'ease': 2475, 'division': 2476, 'releasing': 2477, 'flotsam': 2478, 'occasion': 2479, 'unearthed': 2480, 'facile': 2481, 'terrible': 2482, 'future': 2483, 'cult': 2484, 'classic': 2485, 'crowd': 2486, 'form': 2487, 'opinion': 2488, 'artist': 2489, 'finest': 2490, 'sandwiched': 2491, 'impossibly': 2492, 'dry': 2493, 'imaginable': 2494, 'stay': 2495, 'clear': 2496, 'reminding': 2497, 'yourself': 2498, 'helluva': 2499, 'festival': 2500, 'producers': 2501, 'descend': 2502, 'utah': 2503, 'each': 2504, 'january': 2505, 'ferret': 2506, 'declared': 2507, 'elliott': 2508, 'fashions': 2509, 'delicate': 2510, 'articulate': 2511, 'relationship': 2512, 'favored': 2513, 'enticing': 2514, 'counts': 2515, 'bloody': 2516, 'sunday': 2517, 'connects': 2518, 'visceral': 2519, 'language': 2520, 'matters': 2521, 'supply': 2522, 'complications': 2523, 'calls': 2524, 'fantastic': 2525, 'ranging': 2526, 'shattering': 2527, 'featuring': 2528, 'velocity': 2529, 'gathers': 2530, 'momentum': 2531, 'complain': 2532, 'repeated': 2533, 'identity': 2534, 'recalls': 2535, 'repulsion': 2536, 'spike': 2537, 'lee': 2538, 'brown': 2539, 'congeals': 2540, 'pieces': 2541, 'saga': 2542, 'falling': 2543, 'spine': 2544, 'tingle': 2545, 'revelation': 2546, 'laugh': 2547, 'examples': 2548, 'artful': 2549, 'filmmaking': 2550, 'anytime': 2551, 'soon': 2552, 'lends': 2553, 'bland': 2554, 'sinister': 2555, 'biennial': 2556, 'machinations': 2557, 'scored': 2558, 'levels': 2559, 'openly': 2560, 'questioning': 2561, 'mores': 2562, 'ensnaring': 2563, 'x': 2564, 'cheesy': 2565, 'hoary': 2566, 'macabre': 2567, 'utilizes': 2568, 'breathing': 2569, 'catapulting': 2570, 'vividly': 2571, 'passion': 2572, 'flawed': 2573, 'indicates': 2574, 'talent': 2575, 'generations': 2576, 'test': 2577, 'restrained': 2578, 'sounds': 2579, 'sick': 2580, 'twisted': 2581, 'miracle': 2582, 'tour': 2583, 'beijing': 2584, 'rebellion': 2585, 'retreat': 2586, 'oblivion': 2587, 'examined': 2588, 'below': 2589, 'gloss': 2590, 'beating': 2591, 'fondness': 2592, 'kathryn': 2593, 'unrelentingly': 2594, 'unpleasant': 2595, 'realize': 2596, 'intuitively': 2597, 'reduced': 2598, 'option': 2599, 'squalor': 2600, 'fisher': 2601, 'bared': 2602, 'confronted': 2603, 'shortcomings': 2604, 'fly': 2605, 'super': 2606, 'agent': 2607, 'spy': 2608, 'cuddly': 2609, 'visually': 2610, 'funnier': 2611, 'madcap': 2612, 'pleasures': 2613, 'register': 2614, 'strongly': 2615, 'anybody': 2616, 'retains': 2617, 'spot': 2618, 'precollegiate': 2619, 'liberated': 2620, 'constraints': 2621, 'depths': 2622, 'distant': 2623, 'sterile': 2624, 'compulsively': 2625, 'watchable': 2626, 'sordid': 2627, 'hogan': 2628, 'bob': 2629, 'crane': 2630, 'assault': 2631, 'reno': 2632, 'immense': 2633, 'during': 2634, 'unforgettably': 2635, 'uncertain': 2636, 'predictably': 2637, 'heartwarming': 2638, 'suffused': 2639, 'trumpets': 2640, 'desperately': 2641, 'susan': 2642, 'madonna': 2643, 'suck': 2644, 'k': 2645, 'phenomenal': 2646, 'sellers': 2647, 'second': 2648, 'possesses': 2649, 'pleasing': 2650, 'headlong': 2651, 'thrust': 2652, 'likably': 2653, 'delinquent': 2654, 'adult': 2655, 'korea': 2656, 'inexorably': 2657, 'seven': 2658, 'timeframe': 2659, 'cozy': 2660, 'ingratiating': 2661, 'challenging': 2662, 'runs': 2663, 'equal': 2664, 'innocence': 2665, 'wisdom': 2666, 'grown': 2667, 'myths': 2668, 'tales': 2669, 'spun': 2670, 'afresh': 2671, 'rarely': 2672, 'along': 2673, 'exuberant': 2674, 'monsoon': 2675, 'scarcely': 2676, 'subtitles': 2677, 'colorful': 2678, 'farce': 2679, 'type': 2680, 'infuriatingly': 2681, 'posturing': 2682, 'evident': 2683, 'deliver': 2684, 'arouse': 2685, 'further': 2686, 'unknowing': 2687, 'inspired': 2688, 'cruel': 2689, 'fate': 2690, 'hundreds': 2691, 'thousands': 2692, 'qualify': 2693, 'tragedy': 2694, 'crazy': 2695, 'guys': 2696, 'therapeutic': 2697, 'sinks': 2698, 'exploitation': 2699, 'irresistible': 2700, 'grand': 2701, 'denying': 2702, 'physically': 2703, 'integrity': 2704, 'resolute': 2705, 'nakedness': 2706, 'exquisitely': 2707, 'preciously': 2708, 'interwoven': 2709, 'addresses': 2710, 'intermingling': 2711, 'local': 2712, 'commerce': 2713, 'clueless': 2714, 'fiercely': 2715, 'volatile': 2716, 'shaky': 2717, 'memorable': 2718, 'secretary': 2719, 'stays': 2720, 'positions': 2721, 'delights': 2722, 'hindsight': 2723, 'mull': 2724, 'average': 2725, 'higher': 2726, 'mary': 2727, 'byzantine': 2728, 'stimulates': 2729, 'functions': 2730, 'libido': 2731, 'expertly': 2732, 'broad': 2733, 'tears': 2734, 'mischievous': 2735, 'catch': 2736, 'guard': 2737, 'warm': 2738, 'invitation': 2739, 'unfamiliar': 2740, 'illuminates': 2741, 'larger': 2742, 'implications': 2743, 'sink': 2744, 'unobtrusively': 2745, 'stand': 2746, 'realized': 2747, 'observation': 2748, 'mood': 2749, 'intent': 2750, 'rich': 2751, 'suspenseful': 2752, 'moral': 2753, 'stellar': 2754, 'al': 2755, 'audacity': 2756, 'casting': 2757, 'sheer': 2758, 'insanity': 2759, 'version': 2760, 'predecessor': 2761, 'plentiful': 2762, 'summer': 2763, 'used': 2764, 'geared': 2765, 'grownups': 2766, 'provide': 2767, 'relying': 2768, 'technique': 2769, 'tried': 2770, 'fail': 2771, 'explode': 2772, 'manic': 2773, 'exploit': 2774, 'manipulate': 2775, 'saturation': 2776, 'bombing': 2777, 'leaves': 2778, 'task': 2779, 'divining': 2780, 'purpose': 2781, 'lay': 2782, 'bare': 2783, 'tragedies': 2784, 'setting': 2785, 'confirmation': 2786, 'object': 2787, 'description': 2788, 'unelected': 2789, 'suspected': 2790, 'w': 2791, 'bush': 2792, 'incurious': 2793, 'uncharismatic': 2794, 'overgrown': 2795, 'frat': 2796, 'streak': 2797, 'wide': 2798, 'whiplash': 2799, 'glad': 2800, 'went': 2801, 'lighthearted': 2802, 'embraces': 2803, 'recipe': 2804, 'terror': 2805, 'daughter': 2806, 'unmentioned': 2807, 'victims': 2808, 'zhang': 2809, 'lie': 2810, 'dishonesty': 2811, 'genuinely': 2812, 'bring': 2813, 'happiness': 2814, 'breathes': 2815, 'amalgamating': 2816, 'adding': 2817, 'hokey': 2818, 'hurry': 2819, 'relax': 2820, 'fuzzy': 2821, 'undoubted': 2822, 'stylistic': 2823, 'managed': 2824, 'skill': 2825, 'smith': 2826, 'extensions': 2827, 'spaces': 2828, 'charmers': 2829, 'yes': 2830, 'goals': 2831, 'decisions': 2832, 'conveys': 2833, 'pitfalls': 2834, 'manipulative': 2835, 'miraculously': 2836, 'excessive': 2837, 'baggage': 2838, 'appealing': 2839, 'sparklingly': 2840, 'fast': 2841, 'furious': 2842, 'poetic': 2843, 'ravishing': 2844, 'draggy': 2845, 'smartest': 2846, 'bonehead': 2847, 'feeds': 2848, 'chilling': 2849, 'sights': 2850, 'camp': 2851, 'numbing': 2852, 'chances': 2853, 'asks': 2854, 'leaps': 2855, 'faith': 2856, 'washington': 2857, 'lean': 2858, 'deciding': 2859, 'anthony': 2860, 'hopkins': 2861, 'affirmation': 2862, 'neighborhood': 2863, 'glow': 2864, 'teasing': 2865, 'relentless': 2866, 'reversals': 2867, 'sinner': 2868, 'symmetrical': 2869, 'creation': 2870, 'acidic': 2871, 'brit': 2872, 'serviceable': 2873, 'delicious': 2874, 'guilty': 2875, 'ironic': 2876, 'speculation': 2877, 'democracy': 2878, 'unaccustomed': 2879, 'degrees': 2880, 'shy': 2881, 'contests': 2882, 'expects': 2883, 'current': 2884, 'inherent': 2885, 'material': 2886, 'restraint': 2887, 'led': 2888, 'griffin': 2889, 'smartly': 2890, 'nuanced': 2891, 'enthusiasm': 2892, 'achieves': 2893, 'blend': 2894, 'present': 2895, 'testimonials': 2896, 'surviving': 2897, 'performing': 2898, 'archives': 2899, 'telling': 2900, 'stills': 2901, 'artifact': 2902, 'capturing': 2903, 'era': 2904, 'arena': 2905, 'possession': 2906, 'barrett': 2907, 'browning': 2908, 'meets': 2909, 'nancy': 2910, 'drew': 2911, 'neil': 2912, 'hmm': 2913, 'uneven': 2914, 'homage': 2915, 'remake': 2916, 'packs': 2917, 'wallop': 2918, 'fan': 2919, 'dickens': 2920, 'creative': 2921, 'failed': 2922, 'connections': 2923, 'divine': 2924, 'secrets': 2925, 'sisterhood': 2926, 'nurturing': 2927, 'gauzy': 2928, 'dithering': 2929, 'dicey': 2930, 'zigs': 2931, 'zags': 2932, 'compellingly': 2933, 'skillfully': 2934, 'evoke': 2935, 'dwellers': 2936, 'paintings': 2937, 'russell': 2938, 'pairing': 2939, 'exposed': 2940, 'corners': 2941, 'grader': 2942, 'charitable': 2943, 'emperor': 2944, 'club': 2945, 'steeped': 2946, 'atmosphere': 2947, 'wartime': 2948, 'england': 2949, 'ably': 2950, 'patterns': 2951, 'codes': 2952, 'ideals': 2953, 'defiantly': 2954, 'ya': 2955, 'spirited': 2956, 'viewed': 2957, 'prefer': 2958, 'swashbuckling': 2959, 'celebration': 2960, 'sobering': 2961, 'rumination': 2962, 'fatality': 2963, 'classism': 2964, 'ignorance': 2965, 'resourceful': 2966, 'ingenious': 2967, 'earnest': 2968, 'boats': 2969, 'courage': 2970, 'convictions': 2971, 'noisy': 2972, 'cocky': 2973, 'class': 2974, 'consciousness': 2975, 'shticks': 2976, 'stones': 2977, 'editing': 2978, 'tighter': 2979, 'hush': 2980, 'sympathetically': 2981, 'futile': 2982, 'lifestyle': 2983, 'japan': 2984, 'gai': 2985, 'closer': 2986, 'personifying': 2987, 'independence': 2988, 'purest': 2989, 'intimidating': 2990, 'paths': 2991, 'lifetime': 2992, 'moody': 2993, 'elevated': 2994, 'deft': 2995, 'staging': 2996, 'sweetest': 2997, 'graceful': 2998, 'contemplative': 2999, 'gradually': 3000, 'fatally': 3001, 'intertwined': 3002, 'aggressively': 3003, 'counterpart': 3004, 'bedroom': 3005, 'quieter': 3006, 'observations': 3007, 'blobby': 3008, 'diverting': 3009, 'changer': 3010, 'session': 3011, 'profound': 3012, 'fragile': 3013, 'absence': 3014, 'spiritual': 3015, 'guidance': 3016, 'invade': 3017, 'abundance': 3018, 'mindsets': 3019, 'clothes': 3020, 'plan': 3021, 'fanatically': 3022, 'fetishized': 3023, 'bizarre': 3024, 'idiosyncrasy': 3025, 'monastic': 3026, 'devotion': 3027, 'majesty': 3028, 'produces': 3029, 'joys': 3030, 'slipper': 3031, 'fit': 3032, 'fairytale': 3033, 'aching': 3034, 'doc': 3035, 'inside': 3036, 'tumultuous': 3037, 'holidays': 3038, 'incarnates': 3039, 'prophetic': 3040, 'exacting': 3041, 'admire': 3042, 'tackles': 3043, 'themes': 3044, 'explores': 3045, 'crises': 3046, 'seriousness': 3047, 'compassion': 3048, 'root': 3049, 'patronized': 3050, 'lad': 3051, 'passages': 3052, 'crafts': 3053, 'variation': 3054, 'disreputable': 3055, 'terrifying': 3056, 'coupled': 3057, 'arresting': 3058, 'incandescent': 3059, 'stupendous': 3060, 'carefully': 3061, 'structured': 3062, 'scream': 3063, 'tortured': 3064, 'unsettling': 3065, 'unquestionably': 3066, 'quietly': 3067, 'melancholy': 3068, 'zealand': 3069, 'eventful': 3070, 'digitally': 3071, 'lots': 3072, 'adults': 3073, 'sheridan': 3074, 'budget': 3075, 'affair': 3076, 'exposes': 3077, 'generally': 3078, 'bedouins': 3079, 'providing': 3080, 'twinkle': 3081, 'suggests': 3082, 'media': 3083, 'manipulation': 3084, 'reporting': 3085, 'supposedly': 3086, 'liberal': 3087, 'tragic': 3088, 'heartache': 3089, 'hicks': 3090, 'workmanlike': 3091, 'scary': 3092, 'found': 3093, 'forceful': 3094, 'grounds': 3095, 'softest': 3096, 'angry': 3097, 'revolt': 3098, 'sadistic': 3099, 'exotic': 3100, 'runner': 3101, 'rivals': 3102, 'shakespeare': 3103, 'intrigue': 3104, 'treachery': 3105, 'murder': 3106, 'stylishness': 3107, 'presence': 3108, 'lying': 3109, 'reasonably': 3110, 'evidence': 3111, 'resonate': 3112, 'beyond': 3113, 'museum': 3114, 'walls': 3115, 'marginal': 3116, 'rob': 3117, 'marshall': 3118, 'gunning': 3119, 'skip': 3120, 'opportunity': 3121, 'busy': 3122, 'basketball': 3123, 'court': 3124, 'preschool': 3125, 'embracing': 3126, 'wholesome': 3127, 'wanted': 3128, 'actually': 3129, 'numerous': 3130, 'cuts': 3131, 'ice': 3132, 'weird': 3133, 'charmingly': 3134, 'dear': 3135, 'blunt': 3136, 'depicting': 3137, 'child': 3138, 'abuse': 3139, 'bola': 3140, 'conflicts': 3141, 'symbolic': 3142, 'resonance': 3143, 'peeved': 3144, 'danish': 3145, 'group': 3146, 'convenient': 3147, 'equivalent': 3148, 'claws': 3149, 'dig': 3150, 'deep': 3151, 'pan': 3152, 'weigh': 3153, 'arguments': 3154, 'ayurveda': 3155, 'empire': 3156, 'claude': 3157, 'miller': 3158, 'airs': 3159, 'thematic': 3160, 'coherence': 3161, 'experimental': 3162, 'les': 3163, 'sheen': 3164, 'bedevils': 3165, 'moist': 3166, 'shine': 3167, 'bogus': 3168, 'veneer': 3169, 'woman': 3170, 'ford': 3171, 'remembered': 3172, 'oscar': 3173, 'crafting': 3174, 'portrait': 3175, 'conflicted': 3176, 'soldier': 3177, 'stops': 3178, 'overkill': 3179, 'exhausted': 3180, 'athletes': 3181, 'onscreen': 3182, 'checklist': 3183, 'teamwork': 3184, 'adapted': 3185, 'kevin': 3186, 'simon': 3187, 'leys': 3188, 'napoleon': 3189, 'alan': 3190, 'taylor': 3191, 'parisian': 3192, 'rebirth': 3193, 'stillborn': 3194, 'hungry': 3195, 'fill': 3196, 'ample': 3197, 'charms': 3198, 'cynics': 3199, 'respects': 3200, 'marvel': 3201, 'ensnared': 3202, 'throwback': 3203, 'cartoons': 3204, 'idiosyncratic': 3205, 'instead': 3206, 'uniquely': 3207, 'evokes': 3208, 'deepest': 3209, 'notions': 3210, 'wrong': 3211, 'ol': 3212, 'favorite': 3213, 'walking': 3214, 'halfway': 3215, 'encourage': 3216, 'engaged': 3217, 'ferocious': 3218, 'debate': 3219, 'showcases': 3220, 'novelist': 3221, 'photographed': 3222, 'turntablism': 3223, 'troubling': 3224, 'gosh': 3225, 'shocked': 3226, 'questions': 3227, 'sincerity': 3228, 'risks': 3229, 'seeming': 3230, 'thinks': 3231, 'gamble': 3232, 'promise': 3233, 'youthful': 3234, 'spirits': 3235, 'religious': 3236, 'quests': 3237, 'backed': 3238, 'noticeable': 3239, 'lack': 3240, 'heft': 3241, 'contrast': 3242, 'indulgent': 3243, 'experimentation': 3244, 'handles': 3245, 'courting': 3246, 'preposterousness': 3247, 'overcome': 3248, 'weaknesses': 3249, 'interference': 3250, 'lies': 3251, 'utter': 3252, 'cuteness': 3253, 'stuart': 3254, 'expressive': 3255, 'closely': 3256, 'established': 3257, 'warner': 3258, 'bros': 3259, 'chuck': 3260, 'died': 3261, 'weeks': 3262, 'anchored': 3263, 'continental': 3264, 'divides': 3265, 'awkward': 3266, 'wins': 3267, 'profiles': 3268, 'extraordinary': 3269, 'owners': 3270, 'eccentricities': 3271, 'formulaic': 3272, 'nuances': 3273, 'became': 3274, 'lucky': 3275, 'dropped': 3276, 'record': 3277, 'label': 3278, 'proving': 3279, 'ruin': 3280, 'fortune': 3281, 'drawn': 3282, 'ladies': 3283, 'dominatrixes': 3284, 'goldie': 3285, 'hawn': 3286, 'raunchy': 3287, 'hokum': 3288, 'goes': 3289, 'masses': 3290, 'satire': 3291, 'skin': 3292, 'lost': 3293, 'wife': 3294, 'tango': 3295, 'paris': 3296, 'literary': 3297, 'aspirations': 3298, 'applauded': 3299, 'dazzling': 3300, 'dancing': 3301, 'inspirational': 3302, 'characterizing': 3303, 'diverse': 3304, 'share': 3305, 'fairly': 3306, 'dumbness': 3307, 'downbeat': 3308, 'darkness': 3309, 'tailored': 3310, 'knots': 3311, 'nonstop': 3312, 'parade': 3313, 'types': 3314, 'veers': 3315, 'delicacy': 3316, 'cho': 3317, 'appears': 3318, 'settled': 3319, 'comfortably': 3320, 'surpassed': 3321, 'empress': 3322, 'ellie': 3323, 'woo': 3324, 'recapturing': 3325, 'brilliance': 3326, 'hinges': 3327, 'leads': 3328, 'drops': 3329, 'ball': 3330, 'pauses': 3331, 'exposition': 3332, 'metaphysical': 3333, 'modest': 3334, 'accomplishes': 3335, 'confidence': 3336, 'breezy': 3337, 'conventional': 3338, 'locked': 3339, 'ongoing': 3340, 'orange': 3341, 'county': 3342, 'm': 3343, 'maggie': 3344, 'deliciously': 3345, 'mordant': 3346, 'bitter': 3347, 'black': 3348, 'mold': 3349, 'pour': 3350, 'delightfully': 3351, 'piquant': 3352, 'wine': 3353, 'aged': 3354, 'bottles': 3355, 'risky': 3356, 'rapturous': 3357, 'finish': 3358, 'sticks': 3359, 'confessional': 3360, 'ramble': 3361, 'terrain': 3362, 'morris': 3363, 'dealt': 3364, 'possess': 3365, 'loose': 3366, 'lackadaisical': 3367, 'speak': 3368, 'fluent': 3369, 'advises': 3370, 'bubbly': 3371, 'exchange': 3372, 'alien': 3373, 'deckhand': 3374, 'silver': 3375, 'parrot': 3376, 'replaced': 3377, 'morph': 3378, 'mimics': 3379, 'raw': 3380, 'trio': 3381, 'showcase': 3382, 'haunting': 3383, 'ourselves': 3384, 'mundane': 3385, 'horrors': 3386, 'funniest': 3387, 'simone': 3388, 'wickedly': 3389, 'enchantment': 3390, 'handily': 3391, 'edits': 3392, 'sappier': 3393, 'hook': 3394, 'assuredness': 3395, 'afloat': 3396, 'y': 3397, 'tu': 3398, 'mamá': 3399, 'también': 3400, 'brave': 3401, 'uninhibited': 3402, 'romp': 3403, 'reinforces': 3404, 'fact': 3405, 'varying': 3406, 'population': 3407, 'capacity': 3408, 'ancient': 3409, 'antidotes': 3410, 'heat': 3411, 'ignites': 3412, 'seduced': 3413, 'vehicle': 3414, 'max': 3415, 'dreams': 3416, 'preteen': 3417, 'pokemon': 3418, 'franchise': 3419, 'fourth': 3420, 'convert': 3421, 'meeting': 3422, 'titles': 3423, 'opening': 3424, 'credits': 3425, 'bernstein': 3426, 'melodic': 3427, 'television': 3428, 'multiplex': 3429, 'priceless': 3430, 'shambling': 3431, 'cheerfully': 3432, 'inconsequential': 3433, 'diversion': 3434, 'detachment': 3435, 'christmas': 3436, 'card': 3437, 'fabulous': 3438, 'repetitive': 3439, 'spice': 3440, 'superbly': 3441, 'scams': 3442, 'adaptation': 3443, 'nick': 3444, 'effortless': 3445, 'pleasurable': 3446, 'featherweight': 3447, 'belated': 3448, 'nod': 3449, 'neglected': 3450, 'standing': 3451, 'shadows': 3452, 'informative': 3453, 'revealing': 3454, 'richly': 3455, 'bumpy': 3456, 'final': 3457, 'lap': 3458, 'suspiciously': 3459, 'smooth': 3460, 'ta': 3461, 'roger': 3462, 'superfluous': 3463, 'credit': 3464, 'trying': 3465, 'humorous': 3466, 'clearly': 3467, 'hums': 3468, 'careers': 3469, 'reach': 3470, 'ofrece': 3471, 'una': 3472, 'buena': 3473, 'oportunidad': 3474, 'cultura': 3475, 'aunque': 3476, 'sea': 3477, 'bien': 3478, 'thrillers': 3479, \"'ve\": 3480, 'wonderfully': 3481, 'dyspeptic': 3482, 'muy': 3483, 'te': 3484, 'theirs': 3485, 'mirth': 3486, 'cynical': 3487, 'aimed': 3488, 'youngster': 3489, 'horses': 3490, 'frisky': 3491, 'friendships': 3492, 'odd': 3493, 'flavorful': 3494, 'groove': 3495, 'assuming': 3496, 'begin': 3497, 'chin': 3498, 'unhappily': 3499, 'invisible': 3500, 'marketplace': 3501, 'screenwriter': 3502, 'hoped': 3503, 'match': 3504, 'lewis': 3505, 'amusingly': 3506, 'contrived': 3507, 'coincidences': 3508, 'mistake': 3509, 'resembling': 3510, 'anymore': 3511, 'department': 3512, 'shading': 3513, 'worthwhile': 3514, 'thrills': 3515, 'comic': 3516, 'ross': 3517, 'ken': 3518, 'friend': 3519, 'specials': 3520, 'hours': 3521, 'conduct': 3522, 'sum': 3523, 'examine': 3524, 'supposed': 3525, 'subversive': 3526, 'across': 3527, 'grain': 3528, 'popular': 3529, 'speaking': 3530, 'truths': 3531, 'spellbinding': 3532, 'entrancing': 3533, 'darn': 3534, 'aura': 3535, 'wise': 3536, '*': 3537, 'fights': 3538, 'distinct': 3539, 'warriors': 3540, 'collide': 3541, 'balletic': 3542, 'explosion': 3543, 'implies': 3544, 'underlying': 3545, 'order': 3546, 'chaos': 3547, 'barney': 3548, 'created': 3549, 'wacky': 3550, 'unfulfilled': 3551, 'agreeable': 3552, 'device': 3553, 'pal': 3554, 'epochs': 3555, 'tap': 3556, 'heartbeat': 3557, 'salute': 3558, 'universal': 3559, 'zippy': 3560, 'sampling': 3561, 'observe': 3562, 'inequities': 3563, 'penalty': 3564, 'immorality': 3565, 'haphazard': 3566, 'administration': 3567, 'public': 3568, 'misperception': 3569, 'entranced': 3570, 'appalled': 3571, 'iron': 3572, 'robin': 3573, 'string': 3574, 'insultingly': 3575, 'innocuous': 3576, 'sappy': 3577, 'fiascoes': 3578, 'translation': 3579, 'heaving': 3580, 'fandango': 3581, 'strict': 3582, 'siren': 3583, 'superficially': 3584, 'abbas': 3585, 'infuses': 3586, 'unimpeachable': 3587, 'core': 3588, 'artistic': 3589, 'breathtakingly': 3590, 'snide': 3591, 'divide': 3592, 'separate': 3593, 'groups': 3594, 'reaching': 3595, 'tissues': 3596, 'begging': 3597, 'mercy': 3598, 'nervy': 3599, 'taps': 3600, 'befuddlement': 3601, 'scathing': 3602, 'indictment': 3603, 'drives': 3604, 'childhood': 3605, 'idealism': 3606, 'mess': 3607, 'scenario': 3608, 'earthshaking': 3609, 'fluctuating': 3610, 'sexuality': 3611, 'tribute': 3612, 'humanitarian': 3613, 'inspire': 3614, 'unlucky': 3615, 'owned': 3616, 'cassette': 3617, 'def': 3618, 'pyromania': 3619, 'recording': 3620, 'appreciative': 3621, 'depends': 3622, 'fandom': 3623, 'consistently': 3624, 'bright': 3625, 'alternately': 3626, 'amused': 3627, 'disgusted': 3628, 'throwing': 3629, '3d': 3630, 'enhance': 3631, 'otherworldly': 3632, 'combo': 3633, 'closeness': 3634, 'disorienting': 3635, 'unreality': 3636, 'wall': 3637, 'disturbingly': 3638, 'tremendously': 3639, 'jumps': 3640, 'hoops': 3641, 'importantly': 3642, 'house': 3643, 'document': 3644, 'event': 3645, 'poetically': 3646, 'plump': 3647, 'fulsome': 3648, 'showy': 3649, 'bittersweet': 3650, 'reinforced': 3651, 'personified': 3652, 'michel': 3653, 'inviting': 3654, 'buffs': 3655, 'moviegoers': 3656, 'answers': 3657, 'rookie': 3658, 'besides': 3659, 'akin': 3660, 'portrays': 3661, 'deviant': 3662, 'topical': 3663, 'bike': 3664, 'ambiguous': 3665, 'icon': 3666, 'highly': 3667, 'devices': 3668, 'lavishly': 3669, 'built': 3670, 'settings': 3671, 'tutorial': 3672, 'quantum': 3673, 'physics': 3674, 'says': 3675, 'repeatedly': 3676, 'fearless': 3677, 'picking': 3678, 'afraid': 3679, 'front': 3680, 'timing': 3681, 'flawless': 3682, 'stupid': 3683, 'potholes': 3684, 'befall': 3685, 'brethren': 3686, 'adultery': 3687, 'dives': 3688, 'straight': 3689, 'contradiction': 3690, 'nowhere': 3691, 'appropriated': 3692, 'turfs': 3693, 'celebrity': 3694, 'dream': 3695, 'reviewing': 3696, 'obscurities': 3697, 'jaded': 3698, 'critic': 3699, 'miniscule': 3700, 'bleep': 3701, 'radar': 3702, 'vez': 3703, 'columbus': 3704, 'pomo': 3705, 'conversations': 3706, 'goodwill': 3707, 'machine': 3708, 'upholstered': 3709, 'critics': 3710, 'escaped': 3711, 'town': 3712, 'hallucinatory': 3713, 'design': 3714, 'central': 3715, 'experienced': 3716, 'loss': 3717, 'anger': 3718, 'greed': 3719, 'sickness': 3720, 'rara': 3721, 'avis': 3722, 'daft': 3723, 'articulated': 3724, 'portrayals': 3725, 'flights': 3726, 'utmost': 3727, 'subtlety': 3728, 'perception': 3729, 'outstanding': 3730, 'eric': 3731, 'simplicity': 3732, 'economy': 3733, 'antidote': 3734, 'commercial': 3735, 'nominated': 3736, 'cut': 3737, 'norm': 3738, 'sprightly': 3739, 'hang': 3740, 'samantha': 3741, 'unfinished': 3742, 'elegance': 3743, 'lyricism': 3744, 'photographer': 3745, 'viewfinder': 3746, 'tells': 3747, 'captivated': 3748, 'ponder': 3749, 'roll': 3750, 'later': 3751, 'map': 3752, 'rhythms': 3753, 'más': 3754, 'un': 3755, 'buen': 3756, 'ejemplo': 3757, 'lo': 3758, 'cine': 3759, 'puro': 3760, 'sin': 3761, 'display': 3762, 'range': 3763, 'thought': 3764, 'forte': 3765, 'candidly': 3766, 'exude': 3767, 'chemistry': 3768, 'saucy': 3769, 'endearing': 3770, 'palestinian': 3771, 'territories': 3772, 'lit': 3773, 'crit': 3774, 'earns': 3775, 'stock': 3776, 'recognize': 3777, 'prose': 3778, 'concerned': 3779, 'elderly': 3780, 'mentally': 3781, 'handicapped': 3782, 'member': 3783, 'channels': 3784, 'casey': 3785, 'voice': 3786, 'seamless': 3787, 'careless': 3788, 'amongst': 3789, 'false': 3790, 'steps': 3791, 'shape': 3792, 'representations': 3793, 'discomfort': 3794, 'contacts': 3795, 'controversial': 3796, 'latest': 3797, 'tastes': 3798, 'foreboding': 3799, 'diggs': 3800, 'considerable': 3801, 'rapport': 3802, 'jazzes': 3803, 'adroitly': 3804, 'madame': 3805, 'd': 3806, 'refer': 3807, 'company': 3808, 'performer': 3809, 'mawkish': 3810, 'posing': 3811, 'spates': 3812, 'chew': 3813, 'unfolds': 3814, 'enjoyably': 3815, 'overblown': 3816, 'merchant': 3817, 'translates': 3818, 'mix': 3819, 'page': 3820, 'tasty': 3821, 'feast': 3822, 'cautionary': 3823, 'pleasantly': 3824, 'davis': 3825, 'filmic': 3826, 'epiphany': 3827, 'revels': 3828, 'heady': 3829, 'auto': 3830, 'male': 3831, 'swingers': 3832, 'playboy': 3833, 'degree': 3834, 'quintessentially': 3835, 'approach': 3836, 'storytelling': 3837, 'japanese': 3838, 'sour': 3839, 'emptiness': 3840, 'underlay': 3841, 'gaiety': 3842, 'entry': 3843, 'uncovers': 3844, 'sizzling': 3845, 'eight': 3846, 'nights': 3847, 'reconsideration': 3848, 'san': 3849, 'francisco': 3850, 'vital': 3851, 'widely': 3852, 'recognized': 3853, 'fountainheads': 3854, 'thematically': 3855, 'spite': 3856, 'everywhere': 3857, 'camera': 3858, 'imagined': 3859, 'mature': 3860, 'gifted': 3861, 'pawns': 3862, 'bishops': 3863, 'kings': 3864, 'wagers': 3865, 'dingy': 3866, 'backrooms': 3867, 'pristine': 3868, 'forests': 3869, 'leisurely': 3870, 'scottish': 3871, 'except': 3872, 'outrageous': 3873, 'reject': 3874, 'monty': 3875, 'python': 3876, 'fails': 3877, 'engage': 3878, 'weaver': 3879, 'vaguely': 3880, 'discontented': 3881, 'mildly': 3882, 'lightest': 3883, 'saturday': 3884, 'matinee': 3885, 'spark': 3886, 'anime': 3887, 'unmistakable': 3888, 'resist': 3889, 'predecessors': 3890, 'collage': 3891, 'transporting': 3892, 'companion': 3893, 'emerging': 3894, 'nations': 3895, 'inventively': 3896, 'packed': 3897, 'fleet': 3898, 'amazement': 3899, 'extols': 3900, 'comradeship': 3901, 'community': 3902, 'spunky': 3903, 'racism': 3904, 'retribution': 3905, 'mournfully': 3906, 'adrian': 3907, 'profundity': 3908, 'futures': 3909, 'choices': 3910, 'mothers': 3911, 'fathers': 3912, 'interests': 3913, 'los': 3914, 'últimos': 3915, 'tiempos': 3916, 'rain': 3917, 'enveloping': 3918, 'literal': 3919, 'cathartic': 3920, 'modulated': 3921, 'concoction': 3922, 'despondent': 3923, 'vulnerable': 3924, 'renown': 3925, 'chelsea': 3926, 'total': 3927, 'success': 3928, 'addict': 3929, 'bet': 3930, 'zany': 3931, 'exuberantly': 3932, 'irreverent': 3933, 'franco': 3934, 'eagerly': 3935, 'assimilated': 3936, 'brand': 3937, 'name': 3938, 'southern': 3939, 'tennessee': 3940, 'cornball': 3941, 'infecting': 3942, 'rolls': 3943, 'usually': 3944, 'ignored': 3945, 'contemporary': 3946, 'mouse': 3947, 'stretches': 3948, 'believability': 3949, 'limits': 3950, 'relies': 3951, 'city': 3952, 'expense': 3953, 'monsters': 3954, 'unless': 3955, 'hooters': 3956, 'eventual': 3957, 'credited': 3958, 'fighting': 3959, 'trim': 3960, 'athlete': 3961, 'sits': 3962, 'uneasily': 3963, 'binds': 3964, 'blows': 3965, 'mistaking': 3966, 'tall': 3967, 'grass': 3968, 'rarity': 3969, 'market': 3970, 'eventually': 3971, 'lesson': 3972, 'melrose': 3973, 'sorts': 3974, 'wildly': 3975, 'prison': 3976, 'erika': 3977, 'persona': 3978, 'staring': 3979, 'hypnotically': 3980, 'crack': 3981, 'believes': 3982, 'goal': 3983, 'makers': 3984, 'sensation': 3985, 'witnessed': 3986, 'urge': 3987, 'feet': 3988, 'conveying': 3989, 'angst': 3990, 'myers': 3991, 'kickass': 3992, 'dense': 3993, 'hybrid': 3994, 'adobo': 3995, 'concerns': 3996, 'ridiculous': 3997, 'outright': 3998, 'ridiculousness': 3999, 'blade': 4000, 'ii': 4001, 'exists': 4002, 'soccer': 4003, 'saved': 4004, 'unbearable': 4005, 'authenticity': 4006, 'competent': 4007, 'unremarkable': 4008, 'beau': 4009, 'et': 4010, 'boni': 4011, 'prepare': 4012, 'perverted': 4013, 'riff': 4014, 'cannibal': 4015, 'charlie': 4016, 'creator': 4017, 'greene': 4018, 'typically': 4019, 'noble': 4020, 'matched': 4021, 'carries': 4022, 'handsome': 4023, 'shoulders': 4024, 'simplest': 4025, 'hopefully': 4026, 'australia': 4027, 'paying': 4028, 'flaky': 4029, 'lightweight': 4030, 'bizarrely': 4031, 'legally': 4032, 'blonde': 4033, 'drop': 4034, 'dead': 4035, 'starring': 4036, 'piper': 4037, 'breakthrough': 4038, 'magnificence': 4039, 'scandal': 4040, 'chorus': 4041, 'damsels': 4042, 'amateurishly': 4043, 'winsome': 4044, 'premier': 4045, 'stylist': 4046, 'blood': 4047, 'demented': 4048, 'virtually': 4049, 'shines': 4050, 'sarcastic': 4051, 'shield': 4052, 'b': 4053, 'outta': 4054, 'soundtrack': 4055, 'inimitable': 4056, 'choking': 4057, 'conceit': 4058, 'engulfing': 4059, 'allying': 4060, 'ill': 4061, 'afterthought': 4062, 'merry': 4063, 'bruising': 4064, 'defeat': 4065, 'odyssey': 4066, 'resonates': 4067, 'comparable': 4068, 'novak': 4069, 'cruelly': 4070, 'vein': 4071, 'situation': 4072, 'round': 4073, 'subtleties': 4074, 'wheels': 4075, 'turning': 4076, 'resent': 4077, 'friendly': 4078, 'souls': 4079, 'cheer': 4080, 'professes': 4081, 'pop': 4082, 'junk': 4083, 'classics': 4084, 'unequivocally': 4085, 'giddily': 4086, 'snicker': 4087, 'knowingly': 4088, 'slap': 4089, 'rendered': 4090, 'recreated': 4091, 'boogaloo': 4092, 'beats': 4093, 'caution': 4094, 'wind': 4095, 'hedonist': 4096, 'motion': 4097, 'curmudgeon': 4098, 'smiling': 4099, 'arguable': 4100, 'greatness': 4101, 'endlessly': 4102, 'hallucinations': 4103, 'cars': 4104, 'throw': 4105, 'windows': 4106, 'electrocute': 4107, 'dismember': 4108, 'avert': 4109, 'moment': 4110, 'explicit': 4111, 'context': 4112, 'personalities': 4113, 'cutting': 4114, 'paint': 4115, 'subculture': 4116, 'perverse': 4117, 'hopeful': 4118, 'transcend': 4119, 'awards': 4120, 'bags': 4121, 'controlled': 4122, 'passionate': 4123, 'graham': 4124, 'audacious': 4125, 'embrace': 4126, 'bounties': 4127, 'artifacts': 4128, 'st': 4129, 'petersburg': 4130, 'hermitage': 4131, 'bluntly': 4132, 'trace': 4133, 'sentimentality': 4134, 'blisteringly': 4135, 'defined': 4136, 'overlooked': 4137, 'heightened': 4138, 'haunted': 4139, 'exigencies': 4140, 'powers': 4141, 'team': 4142, 'fashioned': 4143, 'adorned': 4144, 'awesome': 4145, 'surfing': 4146, 'raises': 4147, 'stewart': 4148, 'hardy': 4149, 'decent': 4150, 'imperfect': 4151, 'pleasurably': 4152, 'observes': 4153, 'schoolhouse': 4154, 'northern': 4155, 'france': 4156, 'truffle': 4157, 'dainty': 4158, 'filling': 4159, 'familial': 4160, 'unrepentant': 4161, 'domestic': 4162, 'psychopathy': 4163, 'ecologically': 4164, 'minded': 4165, 'wildlife': 4166, 'teaches': 4167, 'ethics': 4168, 'unconventionally': 4169, 'venerable': 4170, 'confusion': 4171, 'hatred': 4172, 'puts': 4173, 'shame': 4174, 'party': 4175, 'promotes': 4176, 'reign': 4177, 'fire': 4178, 'platter': 4179, 'reheated': 4180, 'aliens': 4181, 'rumor': 4182, 'angels': 4183, 'extended': 4184, 'episode': 4185, 'touched': 4186, 'angel': 4187, 'weeping': 4188, 'married': 4189, 'underdog': 4190, 'shares': 4191, 'pity': 4192, 'cheery': 4193, 'relaxing': 4194, 'demands': 4195, 'viewings': 4196, 'popcorn': 4197, 'pushing': 4198, 'stages': 4199, 'kinds': 4200, 'lauren': 4201, 'ambrose': 4202, 'strangers': 4203, 'interaction': 4204, 'twist': 4205, 'puzzlement': 4206, 'election': 4207, 'symbolizes': 4208, 'messenger': 4209, 'prophecies': 4210, 'conscience': 4211, 'falls': 4212, 'chapter': 4213, 'harry': 4214, 'alzheimer': 4215, 'iris': 4216, 'admission': 4217, 'interacting': 4218, 'norton': 4219, 'steals': 4220, 'dragon': 4221, 'noses': 4222, 'september': 4223, 'dared': 4224, 'oh': 4225, 'electric': 4226, 'chomp': 4227, 'considerably': 4228, 'scenery': 4229, 'barbecue': 4230, 'cedar': 4231, 'showing': 4232, 'control': 4233, 'biggie': 4234, 'tupac': 4235, 'documentaries': 4236, 'presuppose': 4237, 'bigotry': 4238, 'zealous': 4239, 'nuttiness': 4240, 'antagonists': 4241, 'fundamentals': 4242, 'displays': 4243, 'gift': 4244, 'impartiality': 4245, 'uniformly': 4246, 'relaxed': 4247, 'adaptations': 4248, 'writers': 4249, 'atom': 4250, 'broached': 4251, 'treatment': 4252, 'players': 4253, 'convincing': 4254, 'septuagenarian': 4255, 'nonagenarian': 4256, 'boldness': 4257, 'irony': 4258, 'urgent': 4259, 'candid': 4260, 'pentecostal': 4261, 'church': 4262, 'dallas': 4263, 'assembles': 4264, 'scare': 4265, 'teenagers': 4266, 'attending': 4267, 'services': 4268, 'warthog': 4269, 'heaven': 4270, 'necessarily': 4271, 'apply': 4272, 'resorting': 4273, 'hyperbole': 4274, 'state': 4275, 'kissing': 4276, 'jessica': 4277, 'stein': 4278, 'nolan': 4279, 'bravely': 4280, 'treads': 4281, 'dare': 4282, 'delve': 4283, 'ambivalence': 4284, 'nauseating': 4285, 'fictions': 4286, 'peddled': 4287, 'liar': 4288, 'zone': 4289, 'deny': 4290, 'possibility': 4291, 'allegorical': 4292, 'dismiss': 4293, 'cool': 4294, 'ready': 4295, 'quench': 4296, 'thirst': 4297, 'blockbusters': 4298, 'monica': 4299, 'andy': 4300, 'garcia': 4301, 'enjoys': 4302, 'richest': 4303, 'mick': 4304, 'duty': 4305, 'reflect': 4306, 'leigh': 4307, 'artistry': 4308, 'sincerely': 4309, 'thwart': 4310, 'misery': 4311, 'blind': 4312, 'christopher': 4313, 'plummer': 4314, 'prime': 4315, 'villain': 4316, 'nathan': 4317, 'lane': 4318, 'manager': 4319, 'leon': 4320, 'hardly': 4321, 'crossing': 4322, 'nuclear': 4323, 'tonight': 4324, 'poignancy': 4325, 'crushingly': 4326, 'meditative': 4327, 'clinical': 4328, 'piano': 4329, 'teacher': 4330, 'genius': 4331, 'weakest': 4332, 'transformed': 4333, 'stronger': 4334, 'thinnest': 4335, 'margins': 4336, 'gags': 4337, 'stultifyingly': 4338, 'sleepy': 4339, 'afternoon': 4340, 'rental': 4341, 'declares': 4342, 'yang': 4343, 'tease': 4344, 'gently': 4345, 'consider': 4346, 'expressed': 4347, 'relate': 4348, 'touch': 4349, 'edge': 4350, 'seats': 4351, 'bend': 4352, 'service': 4353, 'architectural': 4354, 'glories': 4355, 'commanding': 4356, 'centuries': 4357, 'ago': 4358, 'connecting': 4359, 'dots': 4360, 'swedish': 4361, 'august': 4362, 'blessed': 4363, 'geeks': 4364, 'historians': 4365, 'stinging': 4366, 'viciously': 4367, 'plotted': 4368, 'appear': 4369, 'griping': 4370, 'biz': 4371, 'buddies': 4372, 'chris': 4373, 'colin': 4374, 'quinn': 4375, 'unsettlingly': 4376, 'figure': 4377, 'loyal': 4378, 'deceitful': 4379, 'responsible': 4380, 'reckless': 4381, 'idealistically': 4382, 'selfless': 4383, 'coldly': 4384, 'resources': 4385, 'straightforward': 4386, 'unselfconscious': 4387, 'munch': 4388, 'versus': 4389, 'sentiment': 4390, 'achievement': 4391, 'weaves': 4392, 'weirdly': 4393, 'sympathetic': 4394, 'directors': 4395, 'borrow': 4396, 'invariably': 4397, 'cockamamie': 4398, 'pitched': 4399, 'precipitously': 4400, 'swoony': 4401, 'violent': 4402, 'catastrophe': 4403, 'screamingly': 4404, 'sturdy': 4405, 'judges': 4406, 'overcook': 4407, 'hysteria': 4408, 'glorious': 4409, 'wanting': 4410, 'amateur': 4411, 'savor': 4412, 'minute': 4413, 'cox': 4414, 'everybody': 4415, 'attentive': 4416, 'concern': 4417, 'hoffman': 4418, 'private': 4419, 'lessons': 4420, 'recital': 4421, 'sparkles': 4422, 'personas': 4423, 'quaint': 4424, 'concocts': 4425, '3': 4426, 'warning': 4427, 'strikes': 4428, 'rewarding': 4429, 'emotion': 4430, 'smug': 4431, 'engages': 4432, 'unindicted': 4433, 'water': 4434, 'veins': 4435, 'submarine': 4436, 'ghost': 4437, 'criminally': 4438, 'entertains': 4439, 'relates': 4440, 'johnny': 4441, 'instructive': 4442, 'hint': 4443, 'stake': 4444, 'twisty': 4445, 'smell': 4446, 'derivative': 4447, 'queens': 4448, 'speedy': 4449, 'effect': 4450, 'offerings': 4451, 'empathy': 4452, 'beginners': 4453, 'gasp': 4454, 'outraged': 4455, 'spectacle': 4456, 'treading': 4457, 'nasty': 4458, 'shed': 4459, 'errant': 4460, 'tear': 4461, 'band': 4462, 'official': 4463, 'repression': 4464, 'aging': 4465, 'hippies': 4466, 'included': 4467, 'german': 4468, 'cooking': 4469, 'readily': 4470, 'cuisine': 4471, 'destination': 4472, 'tourists': 4473, 'beguiling': 4474, 'pastel': 4475, 'colors': 4476, 'prankish': 4477, 'photograph': 4478, 'dexterous': 4479, 'overwhelming': 4480, 'lawrence': 4481, 'bounces': 4482, 'stage': 4483, 'sweating': 4484, 'mopping': 4485, 'displaying': 4486, 'valuable': 4487, 'capsule': 4488, 'remind': 4489, 'devastating': 4490, 'suffered': 4491, 'overt': 4492, 'manage': 4493, 'artifice': 4494, 'rap': 4495, 'loathe': 4496, 'hurt': 4497, 'resume': 4498, 'amid': 4499, 'playfulness': 4500, 'appropriate': 4501, 'fuss': 4502, 'inanity': 4503, 'cold': 4504, 'datedness': 4505, 'premise': 4506, 'meaningful': 4507, 'breeziness': 4508, 'idiocy': 4509, 'industry': 4510, 'subtly': 4511, 'satirical': 4512, 'crafted': 4513, 'mortality': 4514, 'chides': 4515, 'absurdity': 4516, 'protagonist': 4517, 'plight': 4518, 'austin': 4519, 'smarter': 4520, 'savvier': 4521, 'spoofs': 4522, 'allow': 4523, 'woody': 4524, 'ambling': 4525, 'land': 4526, 'emphasizes': 4527, 'precision': 4528, 'narratives': 4529, 'atavistic': 4530, 'handed': 4531, 'originated': 4532, 'unintentionally': 4533, 'staggered': 4534, 'blacked': 4535, 'lobby': 4536, 'coda': 4537, 'splits': 4538, 'extradition': 4539, 'chess': 4540, 'regime': 4541, 'survivors': 4542, 'winner': 4543, 'doubt': 4544, 'list': 4545, 'things': 4546, 't': 4547, 'belgian': 4548, 'studio': 4549, 'mucking': 4550, 'glitches': 4551, 'casual': 4552, 'correct': 4553, 'sleep': 4554, 'stylish': 4555, 'damned': 4556, 'said': 4557, 'stoically': 4558, 'hart': 4559, 'addition': 4560, 'growing': 4561, 'canon': 4562, 'ryan': 4563, 'tributes': 4564, 'sober': 4565, 'leveling': 4566, 'quirkiness': 4567, 'eccentricity': 4568, 'tendency': 4569, 'let': 4570, 'consequences': 4571, 'joe': 4572, 'grimy': 4573, 'manual': 4574, 'precinct': 4575, 'cover': 4576, 'clunky': 4577, 'lapses': 4578, 'presented': 4579, 'frenetic': 4580, 'mixture': 4581, 'striving': 4582, 'anchor': 4583, 'hat': 4584, 'sporting': 4585, 'spontaneity': 4586, 'realistically': 4587, 'characterizations': 4588, 'develops': 4589, 'empty': 4590, 'unsatisfying': 4591, 'swallowing': 4592, 'communion': 4593, 'wafer': 4594, 'finely': 4595, 'betrayal': 4596, 'didactic': 4597, 'carlos': 4598, 'carrera': 4599, 'novelistic': 4600, 'entangled': 4601, 'interrelationships': 4602, 'bits': 4603, 'specificity': 4604, 'presentation': 4605, 'rage': 4606, 'quarters': 4607, 'respectful': 4608, 'lovers': 4609, 'obstacles': 4610, 'faced': 4611, 'beneath': 4612, 'reconfigured': 4613, 'military': 4614, 'stevens': 4615, 'glides': 4616, 'odds': 4617, 'creeped': 4618, 'basis': 4619, 'rigorously': 4620, 'father': 4621, 'connection': 4622, 'shooting': 4623, 'interpretation': 4624, 'patient': 4625, 'savored': 4626, 'assured': 4627, 'abundantly': 4628, 'phenomenon': 4629, 'reinvented': 4630, 'spanish': 4631, 'withering': 4632, 'monarch': 4633, 'hollow': 4634, 'despair': 4635, 'generated': 4636, 'sparks': 4637, 'delirious': 4638, 'orgasm': 4639, 'tics': 4640, 'chamber': 4641, 'veteran': 4642, 'bouquet': 4643, 'mounted': 4644, 'managing': 4645, 'joan': 4646, 'bottom': 4647, 'jose': 4648, 'loosely': 4649, 'autobiographical': 4650, 'brushed': 4651, 'lyric': 4652, 'linger': 4653, 'snapshots': 4654, 'fulfill': 4655, 'wildest': 4656, 'fantasies': 4657, 'traveler': 4658, 'killing': 4659, 'behold': 4660, 'outer': 4661, 'hastier': 4662, 'productions': 4663, 'ao': 4664, 'sair': 4665, 'eu': 4666, 'feliz': 4667, 'com': 4668, 'um': 4669, 'tempo': 4670, 'em': 4671, 'para': 4672, 'mim': 4673, 'noel': 4674, 'donovan': 4675, 'gibson': 4676, 'stepping': 4677, 'improved': 4678, 'daniel': 4679, 'assertive': 4680, 'conjures': 4681, 'privileged': 4682, 'position': 4683, 'eavesdropping': 4684, 'appreciates': 4685, 'crackerjack': 4686, 'costumes': 4687, 'astounding': 4688, 'austere': 4689, 'locales': 4690, 'ambitious': 4691, 'trivial': 4692, 'nickelodeon': 4693, 'tv': 4694, 'definition': 4695, 'stone': 4696, 'searing': 4697, 'suffers': 4698, 'comprehensible': 4699, 'unsurpassed': 4700, 'warmly': 4701, 'extend': 4702, 'arms': 4703, 'yell': 4704, 'omnibus': 4705, 'concept': 4706, 'girlfriends': 4707, 'drag': 4708, 'cartoon': 4709, 'mysterious': 4710, 'spring': 4711, 'notches': 4712, 'pain': 4713, 'edgy': 4714, 'waddling': 4715, 'profile': 4716, 'emphasized': 4717, 'accent': 4718, 'wilson': 4719, 'saves': 4720, 'thyself': 4721, 'size': 4722, 'receive': 4723, 'crushes': 4724, 'selling': 4725, 'mandates': 4726, 'avoid': 4727, 'godzilla': 4728, 'sized': 4729, 'soda': 4730, 'supercharged': 4731, 'warfare': 4732, 'baseball': 4733, 'melds': 4734, 'regardless': 4735, 'familiarity': 4736, 'sport': 4737, 'barbara': 4738, 'precise': 4739, 'turned': 4740, 'upside': 4741, 'illness': 4742, 'intrigues': 4743, 'fascinates': 4744, 'reduces': 4745, 'potentially': 4746, 'tantalizes': 4747, 'peep': 4748, 'creme': 4749, 'celluloid': 4750, 'triumphs': 4751, 'surrounds': 4752, 'sends': 4753, 'shared': 4754, 'spoof': 4755, 'chuckle': 4756, 'guffaw': 4757, 'belly': 4758, 'contains': 4759, 'convey': 4760, 'reactions': 4761, 'watched': 4762, 'altogether': 4763, 'clara': 4764, 'paul': 4765, 'theaters': 4766, 'hyperbolic': 4767, 'western': 4768, 'sociologically': 4769, 'pointed': 4770, 'tunes': 4771, 'monte': 4772, 'transform': 4773, 'rigged': 4774, 'oes': 4775, 'bother': 4776, 'preachy': 4777, 'evangelical': 4778, 'already': 4779, 'tolerable': 4780, 'suffices': 4781, 'dowse': 4782, 'contempt': 4783, 'reminds': 4784, 'robert': 4785, 'lucratively': 4786, 'shameless': 4787, 'promised': 4788, 'threatened': 4789, 'americans': 4790, 'beings': 4791, 'frustrating': 4792, 'oddly': 4793, 'okay': 4794, 'stomach': 4795, 'content': 4796, 'checking': 4797, 'aristocratic': 4798, 'luminous': 4799, 'careworn': 4800, 'jane': 4801, 'hamilton': 4802, 'exemplary': 4803, 'mafia': 4804, 'hood': 4805, 'rats': 4806, 'butt': 4807, 'ugly': 4808, 'regurgitation': 4809, 'birth': 4810, 'unlikely': 4811, 'tricky': 4812, 'topic': 4813, 'step': 4814, 'frankness': 4815, 'civility': 4816, 'flip': 4817, 'pumps': 4818, 'stereotyped': 4819, 'neatly': 4820, 'category': 4821, 'tedious': 4822, 'continued': 4823, 'carmen': 4824, 'juni': 4825, 'disappointing': 4826, 'banter': 4827, 'blessedly': 4828, 'entertained': 4829, 'continual': 4830, 'barrage': 4831, 'jackie': 4832, 'chan': 4833, 'influence': 4834, 'starting': 4835, 'adds': 4836, 'sprawling': 4837, 'swashbuckler': 4838, 'diversions': 4839, 'uncomplicated': 4840, 'wanton': 4841, 'slipperiness': 4842, 'corpus': 4843, 'amiable': 4844, 'jerking': 4845, 'reshaping': 4846, 'physical': 4847, 'introduce': 4848, 'overwhelmingly': 4849, 'cogent': 4850, 'criminal': 4851, 'eponymous': 4852, 'atheistic': 4853, 'elliptical': 4854, 'aim': 4855, 'sympathy': 4856, 'grim': 4857, 'shades': 4858, 'gray': 4859, 'maneuvers': 4860, 'dizzying': 4861, 'heights': 4862, 'achieved': 4863, 'motocross': 4864, 'bmx': 4865, 'riders': 4866, 'hotdogging': 4867, 'ends': 4868, 'screwups': 4869, 'jeffrey': 4870, 'serial': 4871, 'killer': 4872, 'redundant': 4873, 'kudos': 4874, 'passing': 4875, 'shaping': 4876, 'horizons': 4877, 'approached': 4878, 'scott': 4879, 'nephew': 4880, 'dodger': 4881, 'capable': 4882, 'verge': 4883, 'wolfish': 4884, 'pessimism': 4885, 'chancellor': 4886, 'provoke': 4887, 'adventurous': 4888, 'venues': 4889, 'easygoing': 4890, 'third': 4891, 'baby': 4892, 'finding': 4893, 'god': 4894, 'marrow': 4895, 'digs': 4896, 'stirred': 4897, 'snags': 4898, 'stumblings': 4899, 'compensated': 4900, 'wryly': 4901, 'tension': 4902, 'seat': 4903, 'sparring': 4904, 'partners': 4905, 'mesh': 4906, 'incarnated': 4907, 'effusion': 4908, 'disco': 4909, 'bollywood': 4910, 'sent': 4911, 'soaring': 4912, 'superstitious': 4913, 'curse': 4914, 'chain': 4915, 'letters': 4916, 'applies': 4917, 'adored': 4918, 'red': 4919, 'bridge': 4920, 'laced': 4921, 'fanciful': 4922, 'likened': 4923, 'lengthy': 4924, 'jail': 4925, 'sentence': 4926, 'delectable': 4927, 'misfits': 4928, 'magnificent': 4929, 'highbrow': 4930, 'guardians': 4931, 'creepiest': 4932, 'scariest': 4933, 'rivaling': 4934, 'blair': 4935, 'witch': 4936, 'roland': 4937, 'unknowable': 4938, 'detective': 4939, 'neater': 4940, 'trick': 4941, 'dormer': 4942, 'increasing': 4943, 'weariness': 4944, 'existential': 4945, 'birds': 4946, 'homosexual': 4947, 'undertones': 4948, 'eddie': 4949, 'gay': 4950, 'pops': 4951, 'sophomore': 4952, 'slump': 4953, 'segues': 4954, 'sleight': 4955, 'ahhhh': 4956, 'emerge': 4957, 'clearer': 4958, 'gears': 4959, 'justice': 4960, 'grind': 4961, 'airtime': 4962, 'alongside': 4963, 'farm': 4964, 'housekeeping': 4965, 'unsavory': 4966, 'wwf': 4967, 'mentality': 4968, 'white': 4969, 'trash': 4970, 'roses': 4971, 'collateral': 4972, 'damage': 4973, 'goods': 4974, 'marquis': 4975, 'tapped': 4976, 'extraordinarily': 4977, 'turnabout': 4978, 'awful': 4979, 'coven': 4980, 'shadow': 4981, 'racial': 4982, 'prejudice': 4983, 'forms': 4984, 'repetitions': 4985, 'inconsistencies': 4986, 'steering': 4987, 'quick': 4988, 'solutions': 4989, 'feasting': 4990, 'ramshackle': 4991, 'landscape': 4992, 'motherland': 4993, 'accurate': 4994, 'milieu': 4995, 'vulnerability': 4996, 'ensures': 4997, 'malice': 4998, 'thoughts': 4999, 'compliment': 5000, 'hoping': 5001, 'vs': 5002, 'sever': 5003, 'xxx': 5004, 'prurient': 5005, 'squeamish': 5006, 'overlong': 5007, 'idolized': 5008, 'belongs': 5009, 'herbivore': 5010, 'sadness': 5011, 'specific': 5012, 'presumption': 5013, 'tangle': 5014, 'destroy': 5015, 'travels': 5016, 'arc': 5017, 'euphoria': 5018, 'disillusionment': 5019, 'auspicious': 5020, 'instinct': 5021, 'liable': 5022, 'unnerve': 5023, 'majority': 5024, 'practices': 5025, 'theatrical': 5026, 'houses': 5027, 'waiting': 5028, 'seus': 5029, 'graves': 5030, 'problemas': 5031, 'filme': 5032, 'operatic': 5033, 'entertainingly': 5034, 'magnificently': 5035, 'length': 5036, 'inspires': 5037, 'continuing': 5038, 'awareness': 5039, 'monumental': 5040, 'creatures': 5041, 'detailing': 5042, 'creativity': 5043, 'bizzarre': 5044, 'reaction': 5045, 'unemployment': 5046, 'glum': 5047, 'gratuitous': 5048, 'sexualization': 5049, 'objective': 5050, 'namely': 5051, 'craving': 5052, 'fake': 5053, 'stimulation': 5054, 'defies': 5055, 'haunts': 5056, 'horrifies': 5057, 'startles': 5058, 'ah': 5059, 'alienate': 5060, 'reserving': 5061, 'darkest': 5062, 'king': 5063, 'urgency': 5064, 'towers': 5065, 'buddy': 5066, 'gerald': 5067, 'bounce': 5068, 'refusing': 5069, 'memorialize': 5070, 'impatient': 5071, 'accumulates': 5072, 'ring': 5073, 'copy': 5074, 'strengths': 5075, 'jolly': 5076, 'griffiths': 5077, 'luminary': 5078, 'continually': 5079, 'profession': 5080, 'prancing': 5081, 'hooker': 5082, 'approaching': 5083, 'relishes': 5084, 'loyalty': 5085, 'staying': 5086, 'masochism': 5087, 'grounded': 5088, 'riveted': 5089, 'throes': 5090, 'rapid': 5091, 'opera': 5092, 'endure': 5093, 'intermissions': 5094, 'novice': 5095, 'exhilarated': 5096, 'davies': 5097, 'methamphetamines': 5098, 'equilibrium': 5099, 'drug': 5100, 'therapy': 5101, 'envisioned': 5102, 'chemists': 5103, 'martin': 5104, 'sven': 5105, 'frustrations': 5106, 'gothic': 5107, 'practically': 5108, 'weight': 5109, 'unerring': 5110, 'fascination': 5111, 'embedded': 5112, 'lurid': 5113, 'recommendation': 5114, 'alienation': 5115, 'separation': 5116, 'stunned': 5117, 'decided': 5118, 'tenth': 5119, 'nicholas': 5120, 'meyer': 5121, 'trek': 5122, 'vi': 5123, 'undiscovered': 5124, 'country': 5125, 'clouds': 5126, 'succinct': 5127, 'missing': 5128, 'fence': 5129, 'contrivance': 5130, 'artificial': 5131, 'nightclub': 5132, 'sequence': 5133, 'holm': 5134, 'embodies': 5135, 'effortlessly': 5136, 'regal': 5137, 'resolution': 5138, 'tatou': 5139, 'knack': 5140, 'magnify': 5141, 'exuberance': 5142, 'l': 5143, 'beach': 5144, 'illegal': 5145, 'playground': 5146, 'refuse': 5147, 'activity': 5148, 'statesmen': 5149, 'courtroom': 5150, 'trial': 5151, 'structure': 5152, 'jolting': 5153, 'plying': 5154, 'subconscious': 5155, 'nightmare': 5156, 'week': 5157, 'younger': 5158, 'perilously': 5159, 'overall': 5160, 'quotient': 5161, 'ratcatcher': 5162, 'acid': 5163, 'viewpoint': 5164, 'drab': 5165, 'segments': 5166, 'reunion': 5167, 'concert': 5168, 'retro': 5169, 'raft': 5170, 'brooding': 5171, 'room': 5172, 'gentility': 5173, 'body': 5174, 'naked': 5175, 'fundamental': 5176, 'include': 5177, 'catholic': 5178, 'doctrine': 5179, 'unseen': 5180, 'fabric': 5181, 'feelings': 5182, 'profoundly': 5183, 'deepen': 5184, 'reflection': 5185, 'considered': 5186, 'successor': 5187, 'european': 5188, 'nerve': 5189, 'trauma': 5190, 'holy': 5191, 'mad': 5192, 'maniac': 5193, 'mask': 5194, 'unseemly': 5195, 'convinced': 5196, 'musketeers': 5197, 'prevalent': 5198, 'visible': 5199, 'pokes': 5200, 'democratic': 5201, 'exercise': 5202, 'examining': 5203, 'poised': 5204, 'embark': 5205, 'hot': 5206, 'brine': 5207, 'undone': 5208, 'sogginess': 5209, 'offend': 5210, 'outrageousness': 5211, 'exceptional': 5212, 'showmanship': 5213, 'clones': 5214, 'torments': 5215, 'chateau': 5216, 'cleverly': 5217, 'probes': 5218, 'differences': 5219, 'yanks': 5220, 'tom': 5221, 'cruise': 5222, 'impression': 5223, 'underwear': 5224, 'tinkering': 5225, 'poignance': 5226, 'confirms': 5227, 'status': 5228, 'maker': 5229, 'bends': 5230, 'vera': 5231, 'gil': 5232, 'excel': 5233, 'tightly': 5234, 'organized': 5235, 'efficiency': 5236, 'flashbacks': 5237, 'constant': 5238, 'spasms': 5239, 'spotlights': 5240, 'caste': 5241, 'system': 5242, 'portrayal': 5243, 'creatively': 5244, 'backstory': 5245, 'screens': 5246, 'rival': 5247, 'whetted': 5248, 'complicity': 5249, 'harrowing': 5250, 'unspeakable': 5251, 'pulse': 5252, 'decrepitude': 5253, 'bones': 5254, 'luckiest': 5255, 'lighter': 5256, 'affairs': 5257, 'conviction': 5258, 'conception': 5259, 'resolve': 5260, 'confusions': 5261, 'dramatically': 5262, 'onstage': 5263, 'declines': 5264, 'proceeds': 5265, 'crystal': 5266, 'unflinchingly': 5267, 'bleak': 5268, 'anatomy': 5269, 'adapting': 5270, 'intermittently': 5271, 'unflaggingly': 5272, 'convoluted': 5273, 'muddle': 5274, 'ode': 5275, 'choice': 5276, 'chronicles': 5277, 'wrap': 5278, 'wannabe': 5279, 'dogged': 5280, 'jia': 5281, 'defoliation': 5282, 'doldrums': 5283, 'fanatical': 5284, 'excess': 5285, 'dynamics': 5286, 'unhurried': 5287, 'positively': 5288, 'densely': 5289, 'referential': 5290, 'economically': 5291, 'comfortable': 5292, 'balances': 5293, 'lets': 5294, 'comforted': 5295, 'destiny': 5296, 'naturalistic': 5297, 'contemplating': 5298, 'drastic': 5299, 'changes': 5300, 'messages': 5301, 'bible': 5302, 'significantly': 5303, 'tricks': 5304, 'rent': 5305, 'primitive': 5306, 'bubble': 5307, 'vast': 5308, 'collective': 5309, 'combatants': 5310, 'flesh': 5311, 'selfish': 5312, 'doggedness': 5313, 'transmute': 5314, 'demons': 5315, 'patchy': 5316, 'construction': 5317, 'india': 5318, 'blends': 5319, 'imagine': 5320, 'pride': 5321, 'discerning': 5322, 'proper': 5323, 'cup': 5324, 'tea': 5325, 'stuffiest': 5326, 'goers': 5327, 'timewaster': 5328, 'helped': 5329, 'twice': 5330, 'immigrants': 5331, 'information': 5332, 'impressions': 5333, 'knowing': 5334, 'exaggeration': 5335, 'immersing': 5336, 'competitive': 5337, 'djs': 5338, 'sensational': 5339, 'revelatory': 5340, 'scratching': 5341, 'itch': 5342, 'proof': 5343, 'epicenter': 5344, 'dubya': 5345, 'axis': 5346, 'evil': 5347, 'panache': 5348, 'encompasses': 5349, 'dealing': 5350, 'fascist': 5351, 'westerners': 5352, 'homeboy': 5353, 'spots': 5354, 'truthful': 5355, 'amounts': 5356, 'naiveté': 5357, 'establishes': 5358, 'sen': 5359, 'intensity': 5360, 'ran': 5361, 'savagery': 5362, 'combat': 5363, 'specter': 5364, 'visualized': 5365, 'dying': 5366, 'coral': 5367, 'reef': 5368, 'money': 5369, 'jingles': 5370, 'pocket': 5371, 'lite': 5372, 'passable': 5373, 'released': 5374, 'afterwards': 5375, 'canadians': 5376, 'sentiments': 5377, 'button': 5378, 'counterparts': 5379, 'grip': 5380, 'muckraking': 5381, 'legal': 5382, 'trust': 5383, 'brassy': 5384, 'futuristic': 5385, 'delivering': 5386, 'intensifying': 5387, 'escapist': 5388, 'bill': 5389, 'directing': 5390, 'locals': 5391, 'spotting': 5392, 'cleveland': 5393, 'sites': 5394, 'quirks': 5395, 'envious': 5396, 'hypocrisy': 5397, 'correctness': 5398, 'college': 5399, 'fields': 5400, 'corny': 5401, 'regards': 5402, 'returns': 5403, 'dissidents': 5404, 'streets': 5405, 'alarmingly': 5406, 'debuter': 5407, 'tony': 5408, 'narcotics': 5409, 'noir': 5410, 'seduction': 5411, 'backstabbing': 5412, 'betrayals': 5413, 'currency': 5414, 'harris': 5415, 'commands': 5416, 'suggest': 5417, 'ravages': 5418, 'corruption': 5419, 'ruthlessness': 5420, 'rea': 5421, 'bates': 5422, 'desmond': 5423, 'eagles': 5424, 'joined': 5425, 'sight': 5426, 'grandiloquent': 5427, 'quartet': 5428, 'lolling': 5429, 'sets': 5430, 'affable': 5431, 'threatening': 5432, 'preconceived': 5433, 'inhabitants': 5434, 'complexities': 5435, 'deliriously': 5436, 'uninitiated': 5437, 'triteness': 5438, 'tossed': 5439, 'hidden': 5440, 'undisputed': 5441, 'tidy': 5442, 'wiseman': 5443, 'strides': 5444, 'illusion': 5445, 'deconstructed': 5446, 'recreates': 5447, 'car': 5448, 'chases': 5449, 'fight': 5450, 'influences': 5451, 'pounds': 5452, 'goodfellas': 5453, 'image': 5454, 'pic': 5455, 'uma': 5456, 'clima': 5457, 'bumbling': 5458, 'brian': 5459, 'youngsters': 5460, 'stimulating': 5461, 'ear': 5462, 'candy': 5463, 'medicine': 5464, 'stiffness': 5465, 'kindness': 5466, 'hopefulness': 5467, 'grimly': 5468, 'stolid': 5469, 'escaping': 5470, 'minimalist': 5471, 'psychoanalytical': 5472, 'provocatively': 5473, 'seductive': 5474, 'weightlessness': 5475, 'james': 5476, 'horner': 5477, 'hefty': 5478, 'audio': 5479, 'heels': 5480, 'similarly': 5481, 'morose': 5482, 'humorless': 5483, 'commended': 5484, 'creepiness': 5485, 'economical': 5486, 'n': 5487, 'reminded': 5488, 'preaches': 5489, 'choirs': 5490, 'buoyed': 5491, 'juggling': 5492, 'birthday': 5493, 'joy': 5494, 'appealingly': 5495, 'juvenile': 5496, 'trifle': 5497, 'smiles': 5498, 'tons': 5499, 'intoxicating': 5500, 'masala': 5501, 'draw': 5502, 'onto': 5503, 'novella': 5504, 'bewilderingly': 5505, 'underrated': 5506, 'emergency': 5507, 'recycling': 5508, 'tweak': 5509, 'tangy': 5510, 'curious': 5511, 'oddities': 5512, 'due': 5513, 'underneath': 5514, 'snowballs': 5515, 'nonprofessional': 5516, 'midlife': 5517, 'crisis': 5518, 'parable': 5519, 'collision': 5520, 'remote': 5521, 'seacoast': 5522, 'stereotypes': 5523, 'dished': 5524, 'kept': 5525, 'aloft': 5526, 'comically': 5527, 'adept': 5528, 'optimistic': 5529, 'fears': 5530, 'wave': 5531, 'wherever': 5532, 'conjured': 5533, 'multilayered': 5534, 'number': 5535, 'essentially': 5536, 'exceptionally': 5537, 'bald': 5538, 'veritable': 5539, 'orbits': 5540, 'unsettled': 5541, 'opaque': 5542, 'moviegoer': 5543, 'soaringly': 5544, 'devilishly': 5545, 'heather': 5546, 'lethargically': 5547, 'psychic': 5548, 'abilities': 5549, 'climax': 5550, 'chills': 5551, 'wondered': 5552, 'input': 5553, 'executives': 5554, 'toes': 5555, 'anne': 5556, 'breakdown': 5557, 'seeds': 5558, 'biblical': 5559, 'forgiveness': 5560, 'syrupy': 5561, 'thirsty': 5562, 'estrogen': 5563, 'overdose': 5564, 'punch': 5565, 'enriched': 5566, 'holes': 5567, 'pleases': 5568, 'sees': 5569, 'waste': 5570, 'jabs': 5571, 'employs': 5572, 'placed': 5573, 'bent': 5574, 'repressed': 5575, 'teenage': 5576, 'tracking': 5577, 'breadth': 5578, 'intimacy': 5579, 'distinguishes': 5580, 'countless': 5581, 'complicated': 5582, 'fueling': 5583, 'terrorist': 5584, 'sacred': 5585, 'threatens': 5586, 'moods': 5587, 'treasures': 5588, 'marvels': 5589, 'clashing': 5590, 'delhi': 5591, 'failure': 5592, 'sleeve': 5593, 'scattershot': 5594, 'underpinnings': 5595, 'maddeningly': 5596, 'dangerously': 5597, 'covers': 5598, 'african': 5599, 'condition': 5600, 'rootlessness': 5601, 'millions': 5602, 'globe': 5603, 'improvise': 5604, 'jazzman': 5605, 'solaris': 5606, 'germinate': 5607, 'schlepping': 5608, 'indiana': 5609, 'misplaced': 5610, 'ashtray': 5611, 'withstand': 5612, 'inept': 5613, 'oliver': 5614, 'laying': 5615, 'encounter': 5616, 'tradition': 5617, 'loathing': 5618, 'mob': 5619, 'low': 5620, 'godfather': 5621, 'stooges': 5622, 'lan': 5623, 'yu': 5624, 'erotics': 5625, 'downright': 5626, 'unfree': 5627, 'thinly': 5628, 'veiled': 5629, 'warp': 5630, 'dilithium': 5631, 'crystals': 5632, 'pitiful': 5633, 'insurrection': 5634, 'retold': 5635, 'lauded': 5636, 'angle': 5637, 'lion': 5638, 'roaring': 5639, 'bigger': 5640, 'measure': 5641, 'actresses': 5642, 'ground': 5643, 'mainstream': 5644, 'suitable': 5645, 'fest': 5646, 'circuit': 5647, 'demonstrates': 5648, 'healthy': 5649, 'heroine': 5650, 'abusers': 5651, 'confirming': 5652, 'confines': 5653, 'unconventional': 5654, 'storyteller': 5655, 'richard': 5656, 'diane': 5657, 'martinez': 5658, 'surrounding': 5659, 'bobby': 5660, 'mosaic': 5661, 'relation': 5662, 'kitsch': 5663, 'smeary': 5664, 'digital': 5665, 'muddled': 5666, 'guts': 5667, 'appreciated': 5668, 'sailors': 5669, 'frankly': 5670, 'pertinent': 5671, 'cinematically': 5672, 'myself': 5673, 'struggling': 5674, 'finger': 5675, 'elusive': 5676, 'anarchic': 5677, 'relief': 5678, 'mythic': 5679, 'crisp': 5680, 'twilight': 5681, 'fondly': 5682, 'maze': 5683, 'uncluttered': 5684, 'relays': 5685, 'confrontations': 5686, 'expressing': 5687, 'steamy': 5688, 'royals': 5689, 'scandals': 5690, 'fairy': 5691, 'princesses': 5692, 'foremost': 5693, 'walked': 5694, 'devotees': 5695, 'minutiae': 5696, 'resemblance': 5697, 'cause': 5698, 'green': 5699, 'grimace': 5700, 'silliness': 5701, 'prevail': 5702, 'spider': 5703, 'web': 5704, 'listening': 5705, 'communal': 5706, 'yesteryear': 5707, 'inability': 5708, 'mention': 5709, 'saw': 5710, 'silent': 5711, 'dreamed': 5712, 'afghani': 5713, 'streamed': 5714, 'borders': 5715, 'leaping': 5716, 'shaped': 5717, 'slivers': 5718, 'signs': 5719, 'condensed': 5720, 'traits': 5721, 'principal': 5722, 'singers': 5723, 'diva': 5724, 'tenor': 5725, 'wish': 5726, 'distortions': 5727, 'mejor': 5728, 'cinta': 5729, 'serie': 5730, 'ni': 5731, 'con': 5732, 'cabeza': 5733, 'pero': 5734, 'duda': 5735, 'narcissistic': 5736, 'achieving': 5737, 'storylines': 5738, 'circumstances': 5739, 'naturalism': 5740, 'whippersnappers': 5741, 'pedigree': 5742, 'specifically': 5743, 'disappoint': 5744, 'dynamic': 5745, 'transcendent': 5746, 'alike': 5747, 'whale': 5748, 'sorry': 5749, 'aficionados': 5750, 'whodunit': 5751, 'crimes': 5752, 'freely': 5753, 'combines': 5754, 'disparate': 5755, 'nonconformity': 5756, 'glancing': 5757, 'hibiscus': 5758, 'grandly': 5759, 'testament': 5760, 'exterior': 5761, 'steal': 5762, 'channeling': 5763, 'kathy': 5764, 'baker': 5765, 'boston': 5766, '8': 5767, 'lightly': 5768, 'problems': 5769, 'shocks': 5770, 'store': 5771, 'unwary': 5772, 'occurrences': 5773, 'ghoulish': 5774, 'generates': 5775, 'hooked': 5776, 'aims': 5777, 'extent': 5778, 'succeeds': 5779, 'intelligently': 5780, 'collegiate': 5781, 'restoring': 5782, 'luster': 5783, 'lampoon': 5784, 'irrelevancy': 5785, 'cartoonish': 5786, 'frank': 5787, 'realism': 5788, 'clinic': 5789, 'someday': 5790, 'exterminator': 5791, 'strains': 5792, 'instincts': 5793, 'difference': 5794, 'dolls': 5795, 'season': 5796, 'nicest': 5797, 'orders': 5798, 'earned': 5799, 'haphazardness': 5800, 'tian': 5801, 'confining': 5802, 'color': 5803, 'backyard': 5804, 'demeaning': 5805, 'approaches': 5806, 'fatalism': 5807, 'gary': 5808, 'pass': 5809, 'blacklight': 5810, 'cheaper': 5811, 'pink': 5812, 'floyd': 5813, 'tickets': 5814, 'bought': 5815, 'tub': 5816, 'heard': 5817, 'difficulties': 5818, 'nimble': 5819, 'attuned': 5820, 'anarchist': 5821, 'maxim': 5822, 'morrison': 5823, 'iconoclastic': 5824, 'liberating': 5825, 'noise': 5826, 'plucking': 5827, 'pleaser': 5828, 'mouth': 5829, 'alexander': 5830, 'payne': 5831, 'employ': 5832, 'laughing': 5833, 'insists': 5834, 'virtue': 5835, 'imperfection': 5836, 'beast': 5837, 'collection': 5838, 'wrenching': 5839, 'cases': 5840, 'keener': 5841, 'grisly': 5842, 'quixotic': 5843, 'intricately': 5844, 'notice': 5845, 'contradictory': 5846, 'analytical': 5847, 'surrenders': 5848, 'illogic': 5849, 'permits': 5850, 'laughter': 5851, 'philippe': 5852, 'wasp': 5853, 'matron': 5854, 'ditched': 5855, 'saccharine': 5856, 'bicentennial': 5857, 'darker': 5858, 'infidelity': 5859, 'unfaithful': 5860, 'primarily': 5861, 'proficiently': 5862, 'trounce': 5863, 'trappings': 5864, 'baroque': 5865, 'funnybone': 5866, 'rachel': 5867, 'informed': 5868, 'wireless': 5869, 'daytime': 5870, 'soap': 5871, 'underestimated': 5872, 'goodies': 5873, 'lumps': 5874, 'coal': 5875, 'silence': 5876, 'lambs': 5877, 'rates': 5878, 'serving': 5879, 'fluff': 5880, 'maelstrom': 5881, 'predict': 5882, 'preordained': 5883, 'occur': 5884, 'discovering': 5885, 'acknowledging': 5886, 'whence': 5887, 'came': 5888, 'journalistic': 5889, 'expedience': 5890, 'deadly': 5891, 'insider': 5892, 'machinery': 5893, 'tinseltown': 5894, 'scalds': 5895, 'giddy': 5896, 'whimsical': 5897, 'relevant': 5898, 'born': 5899, 'pander': 5900, 'basest': 5901, 'desires': 5902, 'payback': 5903, 'saying': 5904, 'confronting': 5905, 'preoccupations': 5906, 'obsessions': 5907, 'eats': 5908, 'meddles': 5909, 'argues': 5910, 'bracingly': 5911, 'slather': 5912, 'blemishes': 5913, 'youth': 5914, 'combustible': 5915, 'chafing': 5916, 'loneliness': 5917, 'grandiosity': 5918, 'tend': 5919, 'characterize': 5920, 'puberty': 5921, 'le': 5922, 'comprehension': 5923, 'legged': 5924, 'freaks': 5925, 'hardest': 5926, 'remain': 5927, 'fifty': 5928, 'phillip': 5929, 'allegory': 5930, 'details': 5931, 'thin': 5932, 'nationalism': 5933, 'speculative': 5934, 'paranoid': 5935, 'impulse': 5936, 'warren': 5937, 'unapologetic': 5938, 'sweetheart': 5939, 'mandy': 5940, 'uneasy': 5941, 'center': 5942, 'dirty': 5943, 'deeds': 5944, 'caesar': 5945, 'stepped': 5946, 'assurance': 5947, 'acclaim': 5948, 'tool': 5949, 'driven': 5950, 'lookin': 5951, 'illustrates': 5952, 'comedic': 5953, 'verbal': 5954, 'conditioning': 5955, 'avant': 5956, 'garde': 5957, 'broadway': 5958, 'element': 5959, 'primary': 5960, 'seriously': 5961, 'urbane': 5962, 'bitterly': 5963, 'forsaken': 5964, 'widowmaker': 5965, 'bombastic': 5966, 'exploitative': 5967, 'morally': 5968, 'alert': 5969, 'revel': 5970, 'likes': 5971, 'chief': 5972, 'harvey': 5973, 'bluff': 5974, 'rigors': 5975, 'denmark': 5976, 'dogma': 5977, 'movement': 5978, 'collaboration': 5979, 'aground': 5980, 'snared': 5981, 'tangled': 5982, 'anthology': 5983, 'strain': 5984, 'credibility': 5985, 'monologue': 5986, 'incorporate': 5987, 'confident': 5988, 'responsibility': 5989, 'von': 5990, 'carpenter': 5991, 'sequels': 5992, 'unpredictable': 5993, 'letting': 5994, 'anew': 5995, 'insanely': 5996, 'grinning': 5997, 'slide': 5998, 'slippery': 5999, 'slope': 6000, 'disdain': 6001, 'stepdad': 6002, 'adjusting': 6003, 'teeming': 6004, 'afford': 6005, 'occupied': 6006, 'amidst': 6007, 'accept': 6008, 'henry': 6009, 'portraiture': 6010, 'argue': 6011, 'joins': 6012, 'endings': 6013, 'raised': 6014, 'kiddie': 6015, 'pablum': 6016, 'astringent': 6017, 'hawaiian': 6018, 'trimmings': 6019, 'rowdy': 6020, 'basic': 6021, 'lilo': 6022, 'vintage': 6023, 'shirley': 6024, 'temple': 6025, 'brutally': 6026, 'anticipated': 6027, 'shock': 6028, 'refusal': 6029, 'empathize': 6030, 'seasoned': 6031, 'veterans': 6032, 'gossip': 6033, 'wealth': 6034, 'celebrityhood': 6035, 'trains': 6036, 'narratively': 6037, 'imitation': 6038, 'anonymity': 6039, 'environments': 6040, 'undemanding': 6041, 'alacrity': 6042, 'skittish': 6043, 'york': 6044, 'stumble': 6045, 'furiously': 6046, 'stopped': 6047, 'started': 6048, 'reacting': 6049, 'urgently': 6050, 'protagonists': 6051, 'struggled': 6052, 'inventiveness': 6053, 'gasping': 6054, 'christianity': 6055, 'sweetly': 6056, 'unendurable': 6057, 'viewing': 6058, 'yorker': 6059, 'reese': 6060, 'inject': 6061, 'melanie': 6062, 'massive': 6063, 'infusion': 6064, 'sons': 6065, 'picaresque': 6066, 'vietnam': 6067, 'patriotic': 6068, 'soldiers': 6069, 'main': 6070, 'strategic': 6071, 'dramatizing': 6072, 'cost': 6073, 'define': 6074, 'evolve': 6075, 'recovery': 6076, 'sickeningly': 6077, 'savage': 6078, 'perversity': 6079, 'conceptual': 6080, 'stuffed': 6081, 'brim': 6082, 'instigator': 6083, 'rambling': 6084, 'gun': 6085, 'modus': 6086, 'operandi': 6087, 'crucifixion': 6088, 'juxtaposition': 6089, 'affectionately': 6090, 'traced': 6091, 'members': 6092, 'believing': 6093, 'filming': 6094, 'reefs': 6095, 'junior': 6096, 'scientists': 6097, 'fish': 6098, 'boring': 6099, 'avenues': 6100, 'discourse': 6101, 'verse': 6102, 'coulda': 6103, 'worse': 6104, 'technically': 6105, 'superb': 6106, 'shining': 6107, 'utilizing': 6108, 'converts': 6109, 'stylists': 6110, 'enhances': 6111, 'interviewees': 6112, 'distance': 6113, 'pack': 6114, 'imbued': 6115, 'scotland': 6116, 'pa': 6117, 'bard': 6118, 'stuck': 6119, 'dvd': 6120, 'backstage': 6121, '$': 6122, '1': 6123, 'million': 6124, 'charmer': 6125, 'dysfunctional': 6126, 'blockage': 6127, 'accompanies': 6128, 'emergence': 6129, 'undiminished': 6130, 'interview': 6131, 'assassin': 6132, 'pummel': 6133, 'phony': 6134, 'dynamism': 6135, 'cliche': 6136, 'manhood': 6137, 'burning': 6138, 'ethos': 6139, 'hedonistic': 6140, 'limited': 6141, 'confined': 6142, 'homages': 6143, 'loopy': 6144, 'voting': 6145, 'ivan': 6146, 'accepts': 6147, 'unable': 6148, 'react': 6149, 'anguished': 6150, 'scripting': 6151, 'washed': 6152, 'sumptuous': 6153, 'ocean': 6154, 'stylings': 6155, 'celebrate': 6156, 'victories': 6157, 'exceptions': 6158, 'stoops': 6159, 'conventions': 6160, 'dimming': 6161, 'openness': 6162, 'neorealism': 6163, 'oddity': 6164, 'whenever': 6165, 'figured': 6166, 'late': 6167, 'throws': 6168, 'loop': 6169, 'endurance': 6170, 'reconciled': 6171, 'survival': 6172, 'juice': 6173, 'economic': 6174, 'sweeping': 6175, 'mistakes': 6176, 'nobility': 6177, 'jeong': 6178, 'freshness': 6179, 'contribution': 6180, 'flowering': 6181, 'fosters': 6182, 'spontaneous': 6183, 'palpable': 6184, 'disconnection': 6185, 'incessant': 6186, 'cell': 6187, 'phones': 6188, 'malcolm': 6189, 'immigrant': 6190, 'brink': 6191, 'trashy': 6192, 'bewildering': 6193, 'classify': 6194, 'sisters': 6195, 'admittedly': 6196, 'middling': 6197, 'via': 6198, 'kirsten': 6199, 'generosity': 6200, 'diplomacy': 6201, 'austerity': 6202, 'uncertainties': 6203, 'mar': 6204, 'mel': 6205, 'expression': 6206, 'nation': 6207, 'boozy': 6208, 'languid': 6209, 'board': 6210, 'cannes': 6211, 'annual': 6212, 'riviera': 6213, 'spree': 6214, 'buzz': 6215, 'blab': 6216, 'luck': 6217, 'hugely': 6218, 'hairs': 6219, 'chest': 6220, 'sneeze': 6221, 'simultaneously': 6222, 'expectation': 6223, 'prism': 6224, 'experiment': 6225, 'wondrously': 6226, 'storytellers': 6227, 'sane': 6228, 'regimen': 6229, 'eating': 6230, 'sleeping': 6231, 'contemplation': 6232, 'exceeding': 6233, 'majestic': 6234, 'contributions': 6235, 'captured': 6236, 'decidedly': 6237, 'pathology': 6238, 'moderately': 6239, 'elegantly': 6240, 'dressed': 6241, 'weep': 6242, 'artless': 6243, 'sytle': 6244, 'calibrated': 6245, 'thrives': 6246, 'propelled': 6247, 'supremely': 6248, 'prevent': 6249, 'monument': 6250, 'single': 6251, 'regain': 6252, 'dignity': 6253, 'mannered': 6254, 'pesky': 6255, 'interfering': 6256, 'homosexuality': 6257, 'ingenuity': 6258, 'freshening': 6259, 'happened': 6260, 'newsreels': 6261, 'psychedelia': 6262, 'bitchy': 6263, 'frolic': 6264, 'popularity': 6265, 'lone': 6266, 'eloquently': 6267, 'brew': 6268, 'perseverance': 6269, 'hopeless': 6270, 'closure': 6271, 'theories': 6272, 'useless': 6273, 'inquisitive': 6274, 'duel': 6275, 'honorable': 6276, 'legacy': 6277, 'minimum': 6278, 'whit': 6279, 'units': 6280, 'irrational': 6281, 'tarantula': 6282, 'prominently': 6283, 'rugrats': 6284, 'feral': 6285, 'uncomfortable': 6286, 'fearlessness': 6287, 'nonconformist': 6288, 'scathingly': 6289, 'thomas': 6290, 'wolfe': 6291, 'ripping': 6292, 'gauge': 6293, 'punny': 6294, '6': 6295, 'telemarketers': 6296, 'schmidt': 6297, 'someplace': 6298, 'consuming': 6299, 'demanding': 6300, 'otherness': 6301, 'fills': 6302, 'bruised': 6303, 'costume': 6304, 'renaissance': 6305, 'spain': 6306, 'freshly': 6307, 'considers': 6308, 'immortal': 6309, 'somebody': 6310, 'broaches': 6311, 'theology': 6312, 'surrealism': 6313, 'wonton': 6314, 'floats': 6315, 'inquisitiveness': 6316, 'reminiscent': 6317, 'moodiness': 6318, 'blockbuster': 6319, 'boomers': 6320, 'barrie': 6321, 'curves': 6322, 'harangues': 6323, 'swallow': 6324, 'levity': 6325, 'dismissed': 6326, 'mindless': 6327, 'hanks': 6328, 'depression': 6329, 'sitting': 6330, 'row': 6331, 'sydney': 6332, 'darling': 6333, 'tiny': 6334, 'seater': 6335, 'plane': 6336, 'carried': 6337, 'gliding': 6338, 'banking': 6339, 'hovering': 6340, 'sake': 6341, 'alfred': 6342, 'drinking': 6343, 'twelve': 6344, 'beers': 6345, 'strip': 6346, 'debris': 6347, 'unfocused': 6348, 'unsung': 6349, 'moralistic': 6350, 'ears': 6351, 'dull': 6352, 'widescreen': 6353, 'parochial': 6354, 'prescient': 6355, 'acidity': 6356, 'succumbing': 6357, 'bathos': 6358, 'injects': 6359, 'strictly': 6360, 'revolutionary': 6361, 'nonchalant': 6362, 'meshes': 6363, 'ethnography': 6364, 'deceit': 6365, 'juicy': 6366, 'entitled': 6367, 'fashioning': 6368, 'prescription': 6369, 'critical': 6370, 'disaster': 6371, 'variety': 6372, 'fictional': 6373, 'causes': 6374, 'neurosis': 6375, 'negativity': 6376, 'pitch': 6377, 'discarded': 6378, 'spread': 6379, 'possibilities': 6380, 'mankind': 6381, 'consideration': 6382, 'murderer': 6383, 'dearth': 6384, 'epiphanies': 6385, 'burns': 6386, 'punchy': 6387, 'carry': 6388, 'desecrations': 6389, 'acceptable': 6390, 'monday': 6391, 'developed': 6392, 'par': 6393, 'cheese': 6394, 'puff': 6395, 'ascension': 6396, 'illustrating': 6397, 'masculine': 6398, 'bullets': 6399, 'freight': 6400, 'train': 6401, 'squareness': 6402, 'cable': 6403, 'turmoil': 6404, 'perpetual': 6405, 'unspool': 6406, 'irritating': 6407, 'trimming': 6408, 'grumbling': 6409, 'grub': 6410, 'polemic': 6411, 'unadulterated': 6412, 'depicted': 6413, 'bernard': 6414, 'rose': 6415, 'commitment': 6416, 'folk': 6417, 'digressions': 6418, 'yourselves': 6419, 'conned': 6420, 'merrily': 6421, 'endeavor': 6422, 'en': 6423, 'sí': 6424, 'mismo': 6425, 'rey': 6426, 'pantalla': 6427, 'experiencia': 6428, 'pokey': 6429, 'humdrum': 6430, 'computerized': 6431, 'yoda': 6432, 'martial': 6433, 'ascends': 6434, 'kinetic': 6435, 'cranky': 6436, 'rediscover': 6437, 'quivering': 6438, 'wang': 6439, 'embroils': 6440, 'mystique': 6441, 'reenacting': 6442, 'historic': 6443, 'destruction': 6444, 'unexamined': 6445, 'believable': 6446, 'earth': 6447, 'stimulate': 6448, 'prehistoric': 6449, 'hilarity': 6450, 'fantastically': 6451, 'invest': 6452, 'sensuality': 6453, 'plumbs': 6454, 'jettisoned': 6455, 'crucial': 6456, 'surest': 6457, 'disingenuous': 6458, 'distraction': 6459, 'friday': 6460, 'excuse': 6461, 'os': 6462, 'improvisation': 6463, 'nevertheless': 6464, 'feathers': 6465, 'exoticism': 6466, 'seas': 6467, 'sand': 6468, 'heartbreak': 6469, 'older': 6470, 'wiser': 6471, 'bodily': 6472, 'function': 6473, 'jokes': 6474, 'bullseye': 6475, 'hype': 6476, 'rollicking': 6477, 'lau': 6478, 'plotline': 6479, 'cinderella': 6480, 'spell': 6481, 'astoundingly': 6482, 'forthright': 6483, 'raymond': 6484, 'barry': 6485, 'evans': 6486, 'schemes': 6487, 'satisfyingly': 6488, 'dour': 6489, 'consistency': 6490, 'methodical': 6491, 'ballot': 6492, 'purposefully': 6493, 'reductive': 6494, 'lodging': 6495, 'trenchant': 6496, 'ins': 6497, 'psyche': 6498, 'standards': 6499, 'knucklehead': 6500, 'swill': 6501, 'chick': 6502, 'unsubtle': 6503, 'adrenalized': 6504, 'shockers': 6505, 'reaches': 6506, 'wholly': 6507, 'highest': 6508, 'awkwardness': 6509, 'generous': 6510, 'insistent': 6511, 'frequently': 6512, 'overwrought': 6513, 'shatters': 6514, 'waves': 6515, 'sack': 6516, 'promises': 6517, 'conquer': 6518, 'online': 6519, 'laptops': 6520, 'sketchy': 6521, 'plans': 6522, 'fisk': 6523, 'resemble': 6524, 'captivatingly': 6525, 'sparkling': 6526, 'repartee': 6527, 'hearing': 6528, 'reputedly': 6529, 'unfilmable': 6530, 'novels': 6531, 'bucked': 6532, 'exquisite': 6533, 'servants': 6534, 'remembering': 6535, 'revulsion': 6536, 'flabbergasting': 6537, 'convince': 6538, 'wizened': 6539, 'visitor': 6540, 'faraway': 6541, 'yesterday': 6542, 'heartening': 6543, 'enduring': 6544, 'co': 6545, 'backhanded': 6546, 'various': 6547, 'victimized': 6548, 'unexplainable': 6549, 'filter': 6550, 'stimulus': 6551, 'optic': 6552, 'totalitarian': 6553, 'tomorrow': 6554, 'laws': 6555, 'willingness': 6556, 'factory': 6557, 'worker': 6558, 'escapes': 6559, 'holiday': 6560, 'venice': 6561, 'respite': 6562, 'refresh': 6563, 'retread': 6564, 'poets': 6565, 'arch': 6566, 'promenade': 6567, 'clad': 6568, 'bodies': 6569, 'myrtle': 6570, 'adrenaline': 6571, 'jolt': 6572, 'lunch': 6573, 'rush': 6574, 'diner': 6575, 'note': 6576, 'ally': 6577, 'earnestness': 6578, 'somber': 6579, 'achingly': 6580, 'inferior': 6581, 'delayed': 6582, 'gangs': 6583, 'cross': 6584, 'toxic': 6585, 'chemicals': 6586, 'screaming': 6587, 'traces': 6588, 'exploits': 6589, 'awed': 6590, 'sportsmen': 6591, 'bolster': 6592, 'juan': 6593, 'united': 6594, 'states': 6595, 'woods': 6596, 'powered': 6597, 'civic': 6598, 'tatters': 6599, 'observant': 6600, 'discussed': 6601, 'abstract': 6602, 'tragically': 6603, 'comprehend': 6604, 'chasm': 6605, 'knowledge': 6606, 'allowing': 6607, 'gaunt': 6608, 'leonine': 6609, 'dimension': 6610, 'cunning': 6611, 'police': 6612, 'fervid': 6613, 'indian': 6614, 'unforgivingly': 6615, 'inconsistent': 6616, 'proud': 6617, 'upsetting': 6618, 'palestinians': 6619, 'crowded': 6620, 'cities': 6621, 'refugee': 6622, 'gaza': 6623, 'clint': 6624, 'pb': 6625, 'sandwich': 6626, 'uneventful': 6627, 'boasting': 6628, 'profane': 6629, 'politically': 6630, 'charged': 6631, 'sufficiently': 6632, 'unreligious': 6633, 'megaplex': 6634, 'screenings': 6635, 'strategy': 6636, 'benefit': 6637, 'demonstrating': 6638, 'reside': 6639, 'quitting': 6640, 'beause': 6641, 'centered': 6642, 'bath': 6643, 'averting': 6644, 'unthinkable': 6645, 'unacceptable': 6646, 'unmentionable': 6647, 'generalities': 6648, 'scrutiny': 6649, 'cuban': 6650, 'treated': 6651, 'rounded': 6652, 'holistic': 6653, 'lucks': 6654, 'chaplin': 6655, 'kidman': 6656, 'anteing': 6657, 'sell': 6658, 'negotiate': 6659, 'espn': 6660, 'gates': 6661, 'wanes': 6662, 'improve': 6663, 'translating': 6664, 'tonto': 6665, 'existed': 6666, 'unexpectedly': 6667, 'adamant': 6668, 'manhattan': 6669, 'denied': 6670, 'controversy': 6671, 'immature': 6672, 'provocations': 6673, 'cheapening': 6674, 'downward': 6675, 'spiral': 6676, 'bears': 6677, 'junkie': 6678, 'ignite': 6679, 'fairness': 6680, 'coughed': 6681, 'fidgeted': 6682, 'romped': 6683, 'aisles': 6684, 'breaks': 6685, 'torture': 6686, 'pitted': 6687, 'shimmering': 6688, 'ethereal': 6689, 'painting': 6690, 'efficient': 6691, 'suitably': 6692, 'anonymous': 6693, 'sickly': 6694, 'normative': 6695, 'acrid': 6696, 'topics': 6697, 'relegated': 6698, 'forward': 6699, 'sally': 6700, 'jesse': 6701, 'philadelphia': 6702, 'sign': 6703, 'abandon': 6704, 'scripts': 6705, 'olympia': 6706, 'wash': 6707, 'marilyn': 6708, 'freeman': 6709, 'weighty': 6710, 'colorfully': 6711, 'wrapped': 6712, 'kitschy': 6713, 'executed': 6714, 'appreciation': 6715, 'daily': 6716, 'hardhearted': 6717, 'scrooge': 6718, 'respond': 6719, 'sturm': 6720, 'und': 6721, 'drang': 6722, 'posthumously': 6723, 'published': 6724, 'innuendo': 6725, 'shameful': 6726, 'debated': 6727, 'ferocity': 6728, 'thoughtfulness': 6729, 'intentioned': 6730, 'wreak': 6731, 'havoc': 6732, 'discerned': 6733, 'capability': 6734, 'thrill': 6735, 'disquieting': 6736, 'wreck': 6737, 'redemption': 6738, 'aspect': 6739, 'argentinian': 6740, 'mayhem': 6741, 'callow': 6742, 'fatherhood': 6743, 'ownership': 6744, 'redefinition': 6745, 'myth': 6746, 'unit': 6747, 'opens': 6748, 'maggots': 6749, 'crawling': 6750, 'stanley': 6751, 'kwan': 6752, 'stripe': 6753, 'sessions': 6754, 'blow': 6755, 'admirers': 6756, 'mermaid': 6757, 'veggies': 6758, 'creaky': 6759, 'staircase': 6760, 'spent': 6761, 'pearl': 6762, 'harbor': 6763, 'artistically': 6764, 'guru': 6765, 'launch': 6766, 'excels': 6767, 'enigmatic': 6768, 'nelson': 6769, 'eddy': 6770, 'crooned': 6771, 'macdonald': 6772, 'canadian': 6773, 'scorn': 6774, 'disinterest': 6775, 'anachronistic': 6776, 'completion': 6777, 'artworks': 6778, 'resentment': 6779, 'bombshell': 6780, 'blame': 6781, 'required': 6782, 'civics': 6783, 'classes': 6784, 'travails': 6785, 'vastly': 6786, 'receives': 6787, 'newcomer': 6788, 'derek': 6789, 'luke': 6790, 'broken': 6791, 'texture': 6792, 'chimps': 6793, 'judicious': 6794, 'strongest': 6795, 'contained': 6796, 'anchors': 6797, 'grin': 6798, 'ballplayer': 6799, 'ok': 6800, 'apparatus': 6801, 'humanly': 6802, 'graphic': 6803, 'adrenalin': 6804, 'collapse': 6805, 'restored': 6806, 'belittle': 6807, 'shorter': 6808, 'doyle': 6809, 'forcefulness': 6810, 'sublimely': 6811, 'lofty': 6812, 'elegiac': 6813, 'collie': 6814, 'genial': 6815, 'complaints': 6816, 'errors': 6817, 'fiascos': 6818, 'mastering': 6819, 'formidable': 6820, 'cameras': 6821, 'articulates': 6822, 'flood': 6823, 'lark': 6824, 'climactic': 6825, 'hourlong': 6826, 'cricket': 6827, 'boredom': 6828, 'combine': 6829, 'claustrophobia': 6830, 'spookiness': 6831, 'supernatural': 6832, 'sooner': 6833, 'detract': 6834, 'thick': 6835, 'shortness': 6836, 'disappoints': 6837, 'ardent': 6838, 'introverted': 6839, 'fetishes': 6840, 'hopelessly': 6841, 'am': 6842, 'attraction': 6843, 'needed': 6844, 'uk': 6845, 'carter': 6846, 'newcastle': 6847, 'gangster': 6848, 'drips': 6849, 'wander': 6850, 'denial': 6851, 'chords': 6852, 'bai': 6853, 'flamboyant': 6854, 'nomination': 6855, 'choosing': 6856, 'insurance': 6857, 'actuary': 6858, 'spans': 6859, 'dosage': 6860, 'goofball': 6861, 'jackass': 6862, 'agendas': 6863, 'courageous': 6864, 'molly': 6865, 'craig': 6866, 'radiates': 6867, 'animé': 6868, 'defining': 6869, 'narrated': 6870, 'parapsychological': 6871, 'phenomena': 6872, 'grieving': 6873, 'plethora': 6874, 'diatribes': 6875, 'households': 6876, 'forefront': 6877, 'sixth': 6878, 'torn': 6879, 'spangle': 6880, 'dover': 6881, 'damaged': 6882, 'families': 6883, 'consolation': 6884, 'arguably': 6885, 'rainbow': 6886, 'omniscient': 6887, 'narrator': 6888, 'mobility': 6889, 'coast': 6890, 'fascinate': 6891, 'berry': 6892, 'die': 6893, 'bonds': 6894, 'exploratory': 6895, 'medical': 6896, 'procedure': 6897, 'autopsy': 6898, 'upping': 6899, 'ante': 6900, 'drooling': 6901, 'pauline': 6902, 'der': 6903, 'described': 6904, 'swept': 6905, 'exploring': 6906, 'horribly': 6907, 'findings': 6908, 'acquires': 6909, 'pale': 6910, 'situations': 6911, 'lesser': 6912, 'emigre': 6913, 'explore': 6914, 'elude': 6915, 'nationally': 6916, 'eerily': 6917, 'spirituality': 6918, 'nicole': 6919, 'fluid': 6920, 'authority': 6921, 'seal': 6922, 'catching': 6923, 'equals': 6924, 'rez': 6925, 'picnic': 6926, 'marry': 6927, 'inquiry': 6928, 'sugarcoated': 6929, 'busby': 6930, 'berkeley': 6931, 'extravaganza': 6932, 'pulpy': 6933, 'cutter': 6934, 'barbershop': 6935, 'tuned': 6936, 'baffled': 6937, 'minimal': 6938, 'angela': 6939, 'prima': 6940, 'donna': 6941, 'roberto': 6942, 'lover': 6943, 'mario': 6944, 'villainous': 6945, 'lecherous': 6946, 'sing': 6947, 'ensure': 6948, 'lethargic': 6949, 'hindered': 6950, 'peppered': 6951, 'populated': 6952, 'blown': 6953, 'choreographed': 6954, 'kitchen': 6955, 'ballet': 6956, 'sexism': 6957, 'morning': 6958, 'undercuts': 6959, 'muscles': 6960, 'smarts': 6961, 'giggling': 6962, 'absurdities': 6963, 'desperation': 6964, 'penetrating': 6965, 'undercurrent': 6966, 'cerebral': 6967, 'vibe': 6968, 'hug': 6969, 'handled': 6970, 'etched': 6971, 'vulgarity': 6972, 'cussing': 6973, 'swear': 6974, 'creeping': 6975, 'astronaut': 6976, 'catherine': 6977, 'di': 6978, 'supporting': 6979, 'sassy': 6980, 'awe': 6981, 'floppy': 6982, 'stammers': 6983, 'glitz': 6984, 'humane': 6985, 'infectiously': 6986, 'enthusiastic': 6987, 'timeless': 6988, 'heated': 6989, 'embarrassment': 6990, 'europe': 6991, 'maladjusted': 6992, 'narcotized': 6993, 'josh': 6994, 'substantial': 6995, 'intrigued': 6996, 'douglas': 6997, 'rapt': 6998, 'recessive': 6999, 'problematic': 7000, 'whipping': 7001, 'punching': 7002, 'unprepared': 7003, 'wispy': 7004, 'inoffensive': 7005, 'stepmom': 7006, 'israel': 7007, 'ww': 7008, 'haul': 7009, 'finch': 7010, 'reassuring': 7011, 'sung': 7012, 'carol': 7013, 'including': 7014, 'assumption': 7015, 'childlike': 7016, 'inherently': 7017, 'tune': 7018, 'taught': 7019, 'sexiness': 7020, 'underlines': 7021, 'dullest': 7022, 'tangents': 7023, 'inclination': 7024, 'adam': 7025, 'substitute': 7026, 'strings': 7027, 'melancholia': 7028, 'adage': 7029, 'radiant': 7030, 'fore': 7031, 'basically': 7032, 'reel': 7033, 'subscription': 7034, 'magazine': 7035, 'samurai': 7036, 'sword': 7037, 'jiang': 7038, 'wen': 7039, 'devils': 7040, 'doorstep': 7041, 'joseph': 7042, 'heller': 7043, 'kurt': 7044, 'lose': 7045, 'track': 7046, 'caffeinated': 7047, 'logical': 7048, 'loopholes': 7049, 'adapts': 7050, 'erects': 7051, 'neat': 7052, 'illuminate': 7053, 'flight': 7054, 'revisionist': 7055, 'fancy': 7056, 'entre': 7057, 'não': 7058, 'apenas': 7059, 'sobre': 7060, 'mas': 7061, 'belo': 7062, 'affirms': 7063, 'smile': 7064, 'grumble': 7065, 'exist': 7066, 'precedent': 7067, 'shedding': 7068, 'unnoticed': 7069, 'underappreciated': 7070, 'gluing': 7071, 'changing': 7072, 'lanes': 7073, 'practitioners': 7074, 'practice': 7075, 'crafty': 7076, 'ferris': 7077, 'journalism': 7078, 'zings': 7079, 'vibrance': 7080, 'coldest': 7081, 'crumb': 7082, 'banquet': 7083, 'tired': 7084, 'disappears': 7085, 'crosses': 7086, 'winded': 7087, 'constructs': 7088, 'skateboarding': 7089, 'boom': 7090, 'punk': 7091, 'awake': 7092, 'tense': 7093, 'danny': 7094, 'serpent': 7095, 'smirk': 7096, 'cohesive': 7097, 'workout': 7098, 'reaffirms': 7099, 'overtake': 7100, 'jerry': 7101, 'springer': 7102, 'sy': 7103, 'madmen': 7104, 'slightest': 7105, 'difficulty': 7106, 'accepting': 7107, 'ouzo': 7108, 'whirlwind': 7109, 'cringe': 7110, 'energized': 7111, 'wallace': 7112, 'maternal': 7113, 'fury': 7114, 'crackles': 7115, 'definite': 7116, 'unbelievable': 7117, 'meandering': 7118, 'imagines': 7119, 'transports': 7120, 'actorly': 7121, 'formal': 7122, 'innovations': 7123, 'consumers': 7124, 'mein': 7125, 'tso': 7126, 'chicken': 7127, 'attach': 7128, 'steaming': 7129, 'cartons': 7130, 'brogue': 7131, 'installment': 7132, 'château': 7133, 'whimsicality': 7134, 'discipline': 7135, 'yields': 7136, 'lift': 7137, 'playwriting': 7138, 'subgenre': 7139, 'forcefully': 7140, 'awfully': 7141, 'obviousness': 7142, 'stupidity': 7143, 'jolts': 7144, 'cattle': 7145, 'prod': 7146, 'kim': 7147, 'danger': 7148, 'whereas': 7149, 'conspiracy': 7150, 'jfk': 7151, 'flashy': 7152, 'incurably': 7153, 'triple': 7154, 'dude': 7155, 'vin': 7156, 'diesel': 7157, 'equation': 7158, 'box': 7159, 'forbidden': 7160, 'valid': 7161, 'dazed': 7162, 'confused': 7163, 'pornography': 7164, 'ai': 7165, 'lame': 7166, 'musketeer': 7167, 'dreary': 7168, 'recommended': 7169, 'contributed': 7170, 'enthusiasts': 7171, 'squeeze': 7172, 'angelina': 7173, 'jolie': 7174, 'bundling': 7175, 'flowers': 7176, 'judith': 7177, 'passes': 7178, 'hysterics': 7179, 'performed': 7180, 'uncinematic': 7181, 'spiked': 7182, 'corniest': 7183, 'hackneyed': 7184, 'uh': 7185, 'shred': 7186, 'trinity': 7187, 'reflects': 7188, 'bio': 7189, 'architect': 7190, 'melancholic': 7191, 'leavened': 7192, 'nourishing': 7193, 'companionship': 7194, 'shapely': 7195, 'hates': 7196, 'empathizes': 7197, 'interpret': 7198, 'languorous': 7199, 'bursting': 7200, 'pedestrian': 7201, 'notwithstanding': 7202, 'uncanny': 7203, 'animal': 7204, 'themed': 7205, 'lieutenant': 7206, 'pearce': 7207, 'retooled': 7208, 'plain': 7209, 'disoriented': 7210, 'alice': 7211, 'wonderland': 7212, 'stalker': 7213, 'collaborative': 7214, 'corporate': 7215, 'circus': 7216, 'climate': 7217, 'mergers': 7218, 'downsizing': 7219, 'confrontational': 7220, 'stance': 7221, 'suburban': 7222, 'portuguese': 7223, 'import': 7224, 'borrows': 7225, 'vampires': 7226, 'porn': 7227, 'unusually': 7228, 'photographic': 7229, 'fishy': 7230, 'apparently': 7231, 'aniston': 7232, 'olivier': 7233, 'appointed': 7234, 'padded': 7235, 'upends': 7236, 'cliché': 7237, 'satisfactory': 7238, 'carnage': 7239, 'terry': 7240, 'geriatric': 7241, 'suits': 7242, 'wherein': 7243, 'roughshod': 7244, 'incompetent': 7245, 'cops': 7246, 'lifted': 7247, 'pressed': 7248, 'meat': 7249, 'grinder': 7250, 'casings': 7251, 'skins': 7252, 'forgive': 7253, 'entree': 7254, 'confection': 7255, 'halloween': 7256, 'heavily': 7257, 'grandstanding': 7258, 'armed': 7259, 'levy': 7260, 'shoots': 7261, 'namesake': 7262, 'franklin': 7263, 'builds': 7264, 'flourish': 7265, 'plateau': 7266, 'interrogation': 7267, 'grips': 7268, 'romances': 7269, 'chewing': 7270, 'blubber': 7271, 'acquired': 7272, 'discover': 7273, 'william': 7274, 'tepid': 7275, 'contact': 7276, 'lint': 7277, 'borg': 7278, 'cape': 7279, 'finishes': 7280, 'parsec': 7281, 'nose': 7282, 'dated': 7283, 'depending': 7284, 'ignorant': 7285, 'fairies': 7286, 'smoother': 7287, 'caring': 7288, 'stale': 7289, 'commonplace': 7290, 'seamy': 7291, 'underbelly': 7292, 'probing': 7293, 'caustic': 7294, 'chimes': 7295, 'mettle': 7296, 'square': 7297, 'intoxication': 7298, 'tastelessness': 7299, 'swooning': 7300, 'betting': 7301, 'impressed': 7302, 'retaliatory': 7303, 'responses': 7304, 'pulling': 7305, 'plug': 7306, 'conspirators': 7307, 'armageddon': 7308, 'frantic': 7309, 'spiffy': 7310, 'unruly': 7311, 'vocalized': 7312, 'fulfills': 7313, 'requirement': 7314, 'exception': 7315, 'blighter': 7316, 'london': 7317, 'housing': 7318, 'dysfunction': 7319, 'comforting': 7320, 'jar': 7321, 'marmite': 7322, 'slathered': 7323, 'crackers': 7324, 'served': 7325, 'bleakness': 7326, 'consume': 7327, 'president': 7328, 'journalists': 7329, 'publicity': 7330, 'rails': 7331, 'larry': 7332, 'newfangled': 7333, 'derived': 7334, 'extra': 7335, 'pacing': 7336, 'atlantic': 7337, 'headbanger': 7338, 'plutonium': 7339, 'purgatory': 7340, 'penchant': 7341, 'contentious': 7342, 'configurations': 7343, 'invitingly': 7344, 'upbeat': 7345, 'overture': 7346, 'conducted': 7347, 'loneliest': 7348, 'virtuous': 7349, 'lending': 7350, 'swings': 7351, 'jostles': 7352, 'telescope': 7353, 'aloof': 7354, 'unreachable': 7355, 'targeted': 7356, 'computer': 7357, 'merges': 7358, 'wire': 7359, 'fu': 7360, 'wrestling': 7361, 'stew': 7362, 'hitting': 7363, 'ironies': 7364, 'annals': 7365, 'updating': 7366, 'slickness': 7367, 'caught': 7368, 'exhilaratingly': 7369, 'tasteless': 7370, 'scratch': 7371, 'automatic': 7372, 'gunfire': 7373, 'critique': 7374, 'capitalism': 7375, 'improbable': 7376, 'gored': 7377, 'bullfighters': 7378, 'comatose': 7379, 'ballerinas': 7380, 'kinky': 7381, 'bedside': 7382, 'vigils': 7383, 'denouements': 7384, 'seduce': 7385, 'taboo': 7386, 'prim': 7387, 'scooby': 7388, 'doo': 7389, 'devastatingly': 7390, 'astonishingly': 7391, 'insane': 7392, 'liberties': 7393, 'goofiest': 7394, 'parlor': 7395, 'forum': 7396, 'advantage': 7397, 'downfall': 7398, 'colleagues': 7399, 'appetizing': 7400, 'dish': 7401, 'asparagus': 7402, 'brussels': 7403, 'sprouts': 7404, 'remove': 7405, 'herring': 7406, 'surroundings': 7407, 'apparent': 7408, 'outing': 7409, 'rating': 7410, 'nudity': 7411, 'corpse': 7412, 'ruthless': 7413, 'placid': 7414, 'conservative': 7415, 'hidebound': 7416, 'traditions': 7417, 'relevance': 7418, 'revisiting': 7419, 'intrepid': 7420, 'courtship': 7421, 'reflections': 7422, 'intentional': 7423, 'vacuum': 7424, 'gooding': 7425, 'frontman': 7426, 'goofiness': 7427, 'cameos': 7428, 'celebrities': 7429, 'philosophy': 7430, 'illustrated': 7431, 'stylishly': 7432, 'inevitable': 7433, 'flattens': 7434, 'wrinkles': 7435, 'block': 7436, 'moron': 7437, 'oversized': 7438, 'bedtime': 7439, 'dishonorable': 7440, 'quickie': 7441, 'synthetic': 7442, 'decency': 7443, 'bravo': 7444, 'rewritten': 7445, 'limbs': 7446, 'conspiratorial': 7447, 'towering': 7448, 'stomp': 7449, 'lux': 7450, 'eighties': 7451, 'grandmother': 7452, 'setup': 7453, 'mediocrity': 7454, 'rife': 7455, 'rueful': 7456, 'springing': 7457, 'melted': 7458, 'astonish': 7459, 'humorously': 7460, 'tendentious': 7461, 'intervention': 7462, 'ringside': 7463, 'contest': 7464, 'frustration': 7465, 'tropes': 7466, 'gag': 7467, 'viscerally': 7468, 'repellent': 7469, 'hideousness': 7470, 'touché': 7471, 'historically': 7472, 'cooly': 7473, 'cherish': 7474, 'spaceship': 7475, 'launching': 7476, 'pad': 7477, 'duly': 7478, 'dimensions': 7479, 'shots': 7480, 'astronauts': 7481, 'floating': 7482, 'cabins': 7483, 'occupation': 7484, 'selves': 7485, 'mediocre': 7486, 'judging': 7487, 'fubar': 7488, 'israeli': 7489, 'unnatural': 7490, 'calm': 7491, 'shaken': 7492, 'blasts': 7493, 'redux': 7494, 'organic': 7495, 'encourages': 7496, 'evocation': 7497, 'evergreen': 7498, 'expresses': 7499, 'prevails': 7500, 'cooks': 7501, 'smoky': 7502, 'forges': 7503, 'sisterly': 7504, 'tuning': 7505, 'fork': 7506, 'temptations': 7507, 'unleashed': 7508, 'crazed': 7509, 'overtly': 7510, 'raucously': 7511, 'lately': 7512, 'surrealistic': 7513, 'rudimentary': 7514, 'drawings': 7515, 'paste': 7516, 'canada': 7517, 'arctic': 7518, 'frozen': 7519, 'tundra': 7520, 'wake': 7521, 'intractable': 7522, 'irreversible': 7523, 'aggravating': 7524, 'joyous': 7525, 'tolerance': 7526, 'robustness': 7527, 'bloodletting': 7528, 'ireland': 7529, 'suffocating': 7530, 'senseless': 7531, 'buttons': 7532, 'push': 7533, 'rug': 7534, 'plunging': 7535, 'laughed': 7536, 'martinet': 7537, 'instructor': 7538, 'fantasized': 7539, 'unhappy': 7540, 'tormentor': 7541, 'deserved': 7542, 'implosion': 7543, 'evenings': 7544, 'stitch': 7545, 'watercolor': 7546, 'dumbo': 7547, 'conditions': 7548, 'bowling': 7549, 'columbine': 7550, 'infused': 7551, 'screenwriting': 7552, 'dummies': 7553, 'conformity': 7554, 'julie': 7555, 'titular': 7556, 'brains': 7557, 'sharply': 7558, 'gong': 7559, 'frustratingly': 7560, 'vengeance': 7561, 'oleander': 7562, 'directly': 7563, 'exalts': 7564, 'harmoniously': 7565, 'uncut': 7566, 'sergio': 7567, 'leone': 7568, 'staggering': 7569, 'insightfully': 7570, 'properly': 7571, 'planned': 7572, 'documentarian': 7573, 'rope': 7574, 'snaps': 7575, 'wesley': 7576, 'snipes': 7577, 'compulsive': 7578, 'metro': 7579, 'strategies': 7580, 'deceptions': 7581, 'discontent': 7582, 'reliable': 7583, 'suffice': 7584, 'acquainted': 7585, 'tiniest': 7586, 'marvelously': 7587, 'reverent': 7588, 'remembrance': 7589, 'las': 7590, 'mejores': 7591, 'mucho': 7592, 'tiempo': 7593, 'punches': 7594, 'infamy': 7595, 'inspiration': 7596, 'fringes': 7597, 'underground': 7598, 'tendencies': 7599, 'saving': 7600, 'oozing': 7601, 'attractive': 7602, 'murky': 7603, 'machines': 7604, 'curtains': 7605, 'explosive': 7606, 'confounding': 7607, 'solemnly': 7608, 'advances': 7609, 'daringly': 7610, 'thesis': 7611, 'juiced': 7612, 'synergistic': 7613, 'encouraging': 7614, 'needlessly': 7615, 'elvis': 7616, 'sugar': 7617, 'flexible': 7618, 'word': 7619, 'kittenish': 7620, 'layers': 7621, 'unflappable': 7622, 'decadent': 7623, 'urbanity': 7624, 'everett': 7625, 'firth': 7626, 'ron': 7627, 'apollo': 7628, 'packages': 7629, 'fencing': 7630, 'eminently': 7631, 'linear': 7632, 'thirteen': 7633, 'pearls': 7634, 'clicking': 7635, 'rising': 7636, 'jake': 7637, 'winners': 7638, 'dustin': 7639, 'holly': 7640, 'ellen': 7641, 'aplomb': 7642, 'ian': 7643, 'conquers': 7644, 'earthy': 7645, 'brett': 7646, 'morgen': 7647, 'biographical': 7648, 'fantasia': 7649, 'subtitled': 7650, 'guns': 7651, 'internal': 7652, 'combustion': 7653, 'engine': 7654, 'thump': 7655, 'pastry': 7656, 'ratio': 7657, 'overwhelms': 7658, 'pleas': 7659, 'environs': 7660, 'sloppy': 7661, 'scares': 7662, 'ominous': 7663, 'pervasive': 7664, 'unknown': 7665, 'threat': 7666, 'lurks': 7667, 'insular': 7668, 'rail': 7669, 'unprecedented': 7670, 'contradicts': 7671, 'nowadays': 7672, 'handling': 7673, 'geeked': 7674, 'stacy': 7675, 'jell': 7676, 'sean': 7677, 'penn': 7678, 'monotone': 7679, 'narration': 7680, 'sentimentalizing': 7681, 'elevate': 7682, 'glory': 7683, 'ilk': 7684, 'notably': 7685, 'mere': 7686, 'atmospheric': 7687, 'weirdness': 7688, 'rises': 7689, 'rejiggering': 7690, 'esoteric': 7691, 'musings': 7692, 'floor': 7693, 'randomness': 7694, 'owe': 7695, 'cage': 7696, 'apology': 7697, 'professionals': 7698, 'crimen': 7699, 'del': 7700, 'padre': 7701, 'amaro': 7702, 'despairing': 7703, 'establishment': 7704, 'developments': 7705, 'university': 7706, 'departments': 7707, 'instantly': 7708, 'recognizable': 7709, 'drawing': 7710, 'developers': 7711, 'tourism': 7712, 'pageants': 7713, 'commercialism': 7714, 'neglecting': 7715, 'apocalypse': 7716, 'canvas': 7717, 'brush': 7718, 'smokey': 7719, 'robinson': 7720, 'worm': 7721, 'law': 7722, 'enforcement': 7723, 'hades': 7724, 'halfhearted': 7725, 'zeal': 7726, '8th': 7727, 'grade': 7728, 'delving': 7729, 'resistance': 7730, 'proficient': 7731, 'singularly': 7732, 'cursory': 7733, 'bette': 7734, 'reviews': 7735, 'ponderous': 7736, 'indoor': 7737, 'totally': 7738, 'tattoo': 7739, 'maintain': 7740, 'raunch': 7741, 'brio': 7742, 'ask': 7743, 'canny': 7744, 'gruesome': 7745, 'sociopath': 7746, 'sadists': 7747, 'thorough': 7748, 'unblinking': 7749, 'elegy': 7750, 'bustling': 7751, 'atop': 7752, 'lump': 7753, 'harder': 7754, 'slip': 7755, 'fingers': 7756, 'bliss': 7757, 'conflagration': 7758, 'cooper': 7759, 'flying': 7760, 'procession': 7761, 'reinvigorated': 7762, 'retelling': 7763, 'reynolds': 7764, 'f': 7765, 'rom': 7766, 'blazingly': 7767, 'sneaks': 7768, 'sanctimony': 7769, 'amiably': 7770, 'patronizing': 7771, 'masked': 7772, 'injustice': 7773, 'arrives': 7774, 'margin': 7775, 'deceptively': 7776, 'shaggy': 7777, 'drags': 7778, 'forced': 7779, 'commentary': 7780, 'provided': 7781, 'reenactment': 7782, 'tracts': 7783, 'ended': 7784, 'hippie': 7785, 'lake': 7786, 'grainy': 7787, 'mars': 7788, 'letter': 7789, 'slain': 7790, 'rappers': 7791, 'taunt': 7792, 'recovered': 7793, 'wondrous': 7794, 'usurp': 7795, 'preaching': 7796, 'downtown': 7797, 'barbs': 7798, 'pill': 7799, 'confuse': 7800, 'compared': 7801, 'flops': 7802, 'fingering': 7803, 'scratches': 7804, 'jacques': 7805, 'rank': 7806, 'gallo': 7807, 'shocker': 7808, 'weirdo': 7809, 'glaring': 7810, 'studied': 7811, 'dependent': 7812, 'contraption': 7813, 'clean': 7814, 'investigate': 7815, 'sociopaths': 7816, 'margarita': 7817, 'arrive': 7818, 'impudent': 7819, 'snickers': 7820, 'humankind': 7821, 'unmistakably': 7822, 'rehearsals': 7823, 'facet': 7824, 'mission': 7825, 'resonances': 7826, 'ironically': 7827, 'instrument': 7828, 'scrapbook': 7829, 'mug': 7830, 'simplistic': 7831, 'hinge': 7832, 'prevention': 7833, 'similar': 7834, 'dominate': 7835, 'shrill': 7836, 'characterization': 7837, 'marred': 7838, 'inexplicable': 7839, 'distracting': 7840, 'blunder': 7841, 'guess': 7842, 'opportunities': 7843, 'honored': 7844, 'received': 7845, 'weirder': 7846, 'nurtures': 7847, 'embraced': 7848, 'peso': 7849, 'amor': 7850, 'como': 7851, 'vida': 7852, 'muerte': 7853, 'walter': 7854, 'hypermasculine': 7855, 'jumble': 7856, 'undertaking': 7857, 'coheres': 7858, 'hanging': 7859, 'visionary': 7860, 'composition': 7861, 'beliefs': 7862, 'prejudices': 7863, 'tolerate': 7864, 'trades': 7865, 'jeff': 7866, 'shaw': 7867, 'melting': 7868, 'attentions': 7869, 'press': 7870, 'zips': 7871, 'heralds': 7872, 'phoniness': 7873, 'gusto': 7874, 'normally': 7875, 'scorpion': 7876, 'barbarian': 7877, 'barriers': 7878, 'authentically': 7879, 'impulsive': 7880, 'hallmark': 7881, 'libretto': 7882, 'ideally': 7883, 'jam': 7884, 'grotesquely': 7885, 'lulls': 7886, 'dutifully': 7887, 'heartstrings': 7888, 'dean': 7889, 'sanders': 7890, 'valiantly': 7891, 'psychodrama': 7892, 'explanations': 7893, 'wallowing': 7894, 'hormonal': 7895, 'professional': 7896, 'blithely': 7897, 'slyly': 7898, 'discursive': 7899, 'terminally': 7900, 'smitten': 7901, 'troubadour': 7902, 'acolytes': 7903, 'verite': 7904, 'assassination': 7905, 'kennedy': 7906, 'techniques': 7907, 'aplenty': 7908, 'bonus': 7909, 'worry': 7910, 'subjected': 7911, 'farts': 7912, 'urine': 7913, 'feces': 7914, 'semen': 7915, 'substances': 7916, 'overrun': 7917, 'limbo': 7918, 'door': 7919, 'liberation': 7920, 'horrendously': 7921, 'confusing': 7922, 'native': 7923, 'mexican': 7924, 'transfixes': 7925, 'mora': 7926, 'solo': 7927, 'breaking': 7928, 'beginnings': 7929, 'conclusion': 7930, 'lagging': 7931, 'guiltless': 7932, 'evening': 7933, 'deflated': 7934, 'jazzy': 7935, 'tops': 7936, 'dances': 7937, 'calling': 7938, 'demonstration': 7939, 'painstaking': 7940, 'imparting': 7941, 'impair': 7942, 'highway': 7943, 'patrolman': 7944, 'nuts': 7945, 'routes': 7946, 'misconceived': 7947, '5': 7948, 'dutiful': 7949, 'disciplined': 7950, 'collectively': 7951, 'vowing': 7952, 'lioness': 7953, 'protecting': 7954, 'cub': 7955, 'reluctant': 7956, 'incapable': 7957, 'controlling': 7958, 'tattoos': 7959, 'wear': 7960, 'misty': 7961, 'rate': 7962, 'modesty': 7963, 'predicament': 7964, 'fits': 7965, 'intriguingly': 7966, 'rude': 7967, 'catalytic': 7968, 'fool': 7969, 'cutthroat': 7970, 'unrelenting': 7971, 'insistence': 7972, 'opting': 7973, 'frighten': 7974, 'disturb': 7975, 'spectacularly': 7976, 'yellow': 7977, 'asphalt': 7978, 'predictability': 7979, 'slowness': 7980, 'perkiness': 7981, 'plainness': 7982, 'lingers': 7983, 'boxes': 7984, 'multiple': 7985, 'strands': 7986, 'dashing': 7987, 'unburdened': 7988, 'pretensions': 7989, 'noteworthy': 7990, 'clears': 7991, 'righteousness': 7992, 'harmon': 7993, 'crawlies': 7994, 'amassed': 7995, 'literature': 7996, 'tact': 7997, 'daunting': 7998, 'support': 7999, 'terrorizing': 8000, 'prospect': 8001, 'ape': 8002, 'swinging': 8003, 'trees': 8004, 'hooting': 8005, 'praises': 8006, 'sheerly': 8007, 'embarrassed': 8008, 'cherished': 8009, 'unrepentantly': 8010, 'rice': 8011, 'vampire': 8012, 'pageantry': 8013, 'roars': 8014, 'p': 8015, 'grandness': 8016, 'equalizer': 8017, 'ills': 8018, 'twenty': 8019, 'touchstone': 8020, 'species': 8021, 'duke': 8022, 'despicable': 8023, '#': 8024, '9': 8025, 'interestingly': 8026, 'magnolia': 8027, 'lynch': 8028, 'dr': 8029, 'aided': 8030, 'lejos': 8031, 'fiesta': 8032, 'ojos': 8033, 'sus': 8034, 'propios': 8035, 'inescapable': 8036, 'flower': 8037, 'purge': 8038, 'tooth': 8039, 'claw': 8040, 'amateurish': 8041, 'compassionately': 8042, 'título': 8043, 'película': 8044, 'narra': 8045, 'historia': 8046, 'donde': 8047, 'mujer': 8048, 'realidad': 8049, 'sexo': 8050, 'persuasive': 8051, 'defeated': 8052, 'defiant': 8053, 'flux': 8054, 'trabajo': 8055, 'gracias': 8056, 'clásico': 8057, 'estadounidense': 8058, 'begun': 8059, 'bronze': 8060, 'craft': 8061, 'staggeringly': 8062, 'intellect': 8063, 'disguised': 8064, 'turntablists': 8065, 'jugglers': 8066, 'schoolers': 8067, 'innovators': 8068, 'documenting': 8069, 'peaks': 8070, 'frames': 8071, 'ethical': 8072, 'quintet': 8073, 'judge': 8074, 'dampened': 8075, 'serve': 8076, 'roundelay': 8077, 'interplay': 8078, 'partnerships': 8079, 'deferred': 8080, 'explored': 8081, 'swims': 8082, 'sleeper': 8083, 'award': 8084, 'engulfed': 8085, 'dollar': 8086, 'haywire': 8087, 'manifesto': 8088, 'tori': 8089, 'amos': 8090, 'records': 8091, 'dehumanizing': 8092, 'undressed': 8093, 'indulgently': 8094, 'cultivated': 8095, 'pissed': 8096, 'handiwork': 8097, 'seams': 8098, 'pushiness': 8099, 'decibel': 8100, 'craftsmanship': 8101, 'intergalactic': 8102, 'choreography': 8103, 'consumed': 8104, 'crushed': 8105, 'fumes': 8106, 'painted': 8107, 'suspend': 8108, 'disbelief': 8109, 'shaking': 8110, 'influential': 8111, 'implicitly': 8112, 'chicanery': 8113, 'businesses': 8114, 'tooled': 8115, 'terrorism': 8116, 'deterioration': 8117, 'victor': 8118, 'rosa': 8119, 'internalized': 8120, 'transparency': 8121, 'naughty': 8122, 'sailor': 8123, 'blush': 8124, 'perfected': 8125, 'motivated': 8126, 'cary': 8127, 'houseboat': 8128, 'goose': 8129, 'affectionate': 8130, 'irresponsible': 8131, 'latches': 8132, 'frosting': 8133, 'bowl': 8134, 'roiling': 8135, 'trembling': 8136, 'gratitude': 8137, 'pungent': 8138, 'fall': 8139, 'abysmal': 8140, 'argentine': 8141, 'envelope': 8142, 'ichi': 8143, 'rigid': 8144, 'mockumentary': 8145, 'blatantly': 8146, 'biased': 8147, 'horrible': 8148, 'mechanisms': 8149, 'poverty': 8150, 'atmospherics': 8151, 'abrasive': 8152, 'burn': 8153, 'irrigates': 8154, 'banger': 8155, 'nailbiter': 8156, 'skewed': 8157, 'reader': 8158, 'digest': 8159, 'defend': 8160, 'frothing': 8161, 'domino': 8162, 'pleasingly': 8163, 'emphatic': 8164, 'obsessive': 8165, 'embellishment': 8166, 'pondering': 8167, 'menu': 8168, 'invasion': 8169, 'dreadful': 8170, 'cribbed': 8171, 'lang': 8172, 'kane': 8173, 'lasting': 8174, 'evolves': 8175, 'pierce': 8176, 'slowed': 8177, 'aimlessness': 8178, 'transgression': 8179, 'creeps': 8180, 'hammy': 8181, 'honorably': 8182, 'section': 8183, 'fellowship': 8184, 'obnoxious': 8185, 'added': 8186, 'clout': 8187, 'welcomes': 8188, 'dash': 8189, 'fused': 8190, 'affords': 8191, 'executive': 8192, 'producer': 8193, 'shrewd': 8194, 'abroad': 8195, 'gran': 8196, 'tan': 8197, 'superficial': 8198, 'muchas': 8199, 'pecan': 8200, 'totalmente': 8201, 'saddled': 8202, 'unwieldy': 8203, 'angles': 8204, 'payoff': 8205, 'lore': 8206, 'hallmarks': 8207, 'tougher': 8208, 'blob': 8209, 'classical': 8210, 'freud': 8211, 'reclaiming': 8212, 'recreating': 8213, 'idiom': 8214, 'soars': 8215, 'panoramic': 8216, 'swooping': 8217, 'scooping': 8218, 'subjective': 8219, 'discoveries': 8220, 'fumbled': 8221, 'diaries': 8222, 'fiery': 8223, 'societal': 8224, 'forged': 8225, 'consistent': 8226, 'espoused': 8227, 'resurrection': 8228, 'banal': 8229, 'flirts': 8230, 'bedfellows': 8231, 'compatible': 8232, 'companionable': 8233, 'island': 8234, 'rodriguez': 8235, 'adorns': 8236, 'dave': 8237, 'overlapping': 8238, 'masterly': 8239, 'preciseness': 8240, 'doles': 8241, 'cleaner': 8242, 'glance': 8243, 'thoughtfully': 8244, 'hamming': 8245, 'nonjudgmental': 8246, 'prostitute': 8247, 'lonely': 8248, 'needy': 8249, 'clients': 8250, 'regret': 8251, 'appeals': 8252, 'filmgoing': 8253, 'implication': 8254, 'catalyst': 8255, 'restrictive': 8256, 'chaotic': 8257, 'spotlight': 8258, 'numbers': 8259, 'widget': 8260, 'sunbaked': 8261, 'summery': 8262, 'lucia': 8263, 'claustrophic': 8264, 'attics': 8265, 'inevitably': 8266, 'consigned': 8267, 'texan': 8268, 'unlimited': 8269, 'access': 8270, 'meetings': 8271, 'elect': 8272, 'imposed': 8273, 'sensibilities': 8274, 'don': 8275, 'forgoes': 8276, 'pulsating': 8277, 'craftsmen': 8278, 'africa': 8279, 'peek': 8280, 'gesture': 8281, 'camerawork': 8282, 'watches': 8283, 'letterman': 8284, 'symbiotic': 8285, 'tormented': 8286, 'faceless': 8287, 'deserving': 8288, 'sub': 8289, 'preserving': 8290, 'hailed': 8291, 'accurately': 8292, 'stooping': 8293, 'gooeyness': 8294, 'pursuers': 8295, 'heidi': 8296, 'mai': 8297, 'thi': 8298, 'iii': 8299, 'heroic': 8300, 'persistence': 8301, 'shapeless': 8302, 'sorcerer': 8303, 'gore': 8304, 'spends': 8305, 'ludicrous': 8306, 'prepared': 8307, 'cling': 8308, 'thumbs': 8309, 'trap': 8310, 'vanity': 8311, 'disarmingly': 8312, 'strikingly': 8313, 'devious': 8314, 'reconstruction': 8315, 'warlord': 8316, 'dustbin': 8317, 'highlighted': 8318, 'elevates': 8319, 'touchingly': 8320, 'mending': 8321, 'communication': 8322, 'marker': 8323, 'essayist': 8324, 'tasteful': 8325, 'revision': 8326, 'wonders': 8327, 'enhancing': 8328, 'morals': 8329, 'salt': 8330, 'crowdpleaser': 8331, 'bound': 8332, 'howlingly': 8333, 'thank': 8334, 'signpost': 8335, 'communicates': 8336, 'curiously': 8337, 'biting': 8338, 'chilled': 8339, 'oral': 8340, 'belgium': 8341, 'signals': 8342, 'rick': 8343, 'provincial': 8344, 'bourgeois': 8345, 'seeping': 8346, 'lingering': 8347, 'deliberately': 8348, 'unsteady': 8349, 'improvised': 8350, 'months': 8351, 'ordinary': 8352, 'survivable': 8353, 'espite': 8354, 'hare': 8355, 'cunningham': 8356, 'flows': 8357, 'forwards': 8358, 'weaving': 8359, 'brittle': 8360, 'goo': 8361, 'cad': 8362, 'oomph': 8363, 'necessity': 8364, 'outdoes': 8365, 'homework': 8366, 'soaked': 8367, 'nazi': 8368, 'aesthetics': 8369, 'hitler': 8370, 'mundo': 8371, 'sua': 8372, 'tela': 8373, 'seu': 8374, 'este': 8375, 'numa': 8376, 'triste': 8377, 'da': 8378, 'lifelong': 8379, 'formalist': 8380, 'dumber': 8381, 'gratefully': 8382, 'cornpone': 8383, 'cosa': 8384, 'nostra': 8385, 'occupational': 8386, 'subsequent': 8387, 'reinvention': 8388, 'transforms': 8389, 'expanse': 8390, 'distaste': 8391, 'inhabit': 8392, 'frequent': 8393, 'flurries': 8394, 'slaloming': 8395, 'awarded': 8396, 'trading': 8397, 'reverence': 8398, 'comeback': 8399, 'curlers': 8400, 'brooms': 8401, 'tape': 8402, 'ghostbusters': 8403, 'architecture': 8404, 'airless': 8405, 'shell': 8406, 'irresistibly': 8407, 'compensate': 8408, 'corniness': 8409, 'judd': 8410, 'sewing': 8411, 'outsiders': 8412, 'condescending': 8413, 'plague': 8414, 'sneering': 8415, 'womanhood': 8416, 'v': 8417, 'stifling': 8418, 'yawn': 8419, 'marked': 8420, 'acute': 8421, 'convinces': 8422, 'secretly': 8423, 'unhinged': 8424, 'strokes': 8425, 'cheeks': 8426, 'coos': 8427, 'beseechingly': 8428, 'tensions': 8429, 'ashamed': 8430, 'admitting': 8431, 'enjoyment': 8432, 'summertime': 8433, 'bucket': 8434, 'anomaly': 8435, 'extremities': 8436, 'sophomoric': 8437, 'hellish': 8438, 'comical': 8439, 'grew': 8440, 'reagan': 8441, 'trove': 8442, 'jacqueline': 8443, 'harvard': 8444, 'recognizably': 8445, 'bothered': 8446, 'construct': 8447, 'charleston': 8448, 'vent': 8449, 'send': 8450, 'freewheeling': 8451, 'powerfully': 8452, 'combining': 8453, 'malaise': 8454, 'sacrificing': 8455, 'salle': 8456, 'smack': 8457, 'woodman': 8458, 'influenced': 8459, 'moviemakers': 8460, 'modicum': 8461, 'partner': 8462, 'karen': 8463, 'mill': 8464, 'piercing': 8465, 'spikes': 8466, 'leonard': 8467, 'elemental': 8468, 'rocket': 8469, 'turntable': 8470, 'outselling': 8471, 'guitar': 8472, 'infinitely': 8473, 'spouses': 8474, 'statement': 8475, 'settles': 8476, 'annoying': 8477, 'specimen': 8478, 'dread': 8479, 'encountering': 8480, 'fanboy': 8481, 'unoriginal': 8482, 'tonal': 8483, 'shifts': 8484, 'até': 8485, 'ser': 8486, 'é': 8487, 'vai': 8488, 'à': 8489, 'dos': 8490, 'propels': 8491, 'upper': 8492, 'echelons': 8493, 'workaday': 8494, 'inertia': 8495, 'indulging': 8496, 'solipsism': 8497, 'smoothly': 8498, 'impersonation': 8499, 'gelati': 8500, 'conversation': 8501, 'yarns': 8502, 'terrifically': 8503, 'curtain': 8504, 'separates': 8505, 'hammering': 8506, 'forgets': 8507, 'impressively': 8508, 'discreet': 8509, 'mini': 8510, 'dv': 8511, 'swiftly': 8512, 'maintained': 8513, 'casualties': 8514, 'stunningly': 8515, 'interdependence': 8516, 'accomodates': 8517, 'practical': 8518, 'unstinting': 8519, 'qual': 8520, 'overnight': 8521, 'robbed': 8522, 'persecuted': 8523, 'feminine': 8524, 'cannier': 8525, 'doppelganger': 8526, 'environmental': 8527, 'pollution': 8528, 'ripper': 8529, 'chill': 8530, 'naomi': 8531, 'watts': 8532, 'petite': 8533, 'eternity': 8534, 'lusty': 8535, 'grueling': 8536, 'liking': 8537, 'garbage': 8538, 'rogers': 8539, 'sexes': 8540, 'imbue': 8541, 'whimper': 8542, 'stumbles': 8543, 'offended': 8544, 'deception': 8545, 'convincingly': 8546, 'disassociation': 8547, 'crudities': 8548, 'unorthodox': 8549, 'strangest': 8550, 'evaluate': 8551, 'ours': 8552, 'meaningless': 8553, 'balk': 8554, 'wounded': 8555, 'wounding': 8556, 'uncle': 8557, 'ralph': 8558, 'shrugging': 8559, 'deemed': 8560, 'hired': 8561, 'portray': 8562, 'dawson': 8563, 'humana': 8564, 'imposible': 8565, 'outcome': 8566, 'acumen': 8567, 'collect': 8568, 'instance': 8569, 'inventing': 8570, 'brat': 8571, 'wobbly': 8572, 'unstable': 8573, 'accident': 8574, 'accidental': 8575, 'arts': 8576, 'conjuring': 8577, 'menacing': 8578, 'flashing': 8579, 'lights': 8580, 'rattling': 8581, 'bump': 8582, 'axel': 8583, 'teachers': 8584, 'increase': 8585, 'student': 8586, 'imparted': 8587, 'proficiency': 8588, 'lothario': 8589, 'vary': 8590, 'balancing': 8591, 'deafening': 8592, 'receiving': 8593, 'telegrams': 8594, 'kicking': 8595, 'undead': 8596, 'plaguing': 8597, 'relentlessly': 8598, 'globalizing': 8599, 'verisimilitude': 8600, 'tapping': 8601, 'slave': 8602, 'inhuman': 8603, 'skims': 8604, 'taiwanese': 8605, 'auteur': 8606, 'fallen': 8607, 'oddest': 8608, 'gambles': 8609, 'publishing': 8610, 'ramifications': 8611, 'standout': 8612, 'baffling': 8613, 'severe': 8614, 'rejection': 8615, 'refreshed': 8616, 'seamstress': 8617, 'review': 8618, 'shrapnel': 8619, 'mental': 8620, 'shellshock': 8621, 'último': 8622, 'vignettes': 8623, 'cumulative': 8624, 'enters': 8625, 'realm': 8626, 'venture': 8627, 'bag': 8628, 'impervious': 8629, 'wittier': 8630, 'hispanic': 8631, 'laissez': 8632, 'passer': 8633, 'valiant': 8634, 'progressive': 8635, 'bull': 8636, 'provocateur': 8637, 'crashing': 8638, 'slaps': 8639, 'liberalism': 8640, 'manifestation': 8641, 'institutionalized': 8642, 'slavery': 8643, 'snowball': 8644, 'coating': 8645, 'falcon': 8646, 'skies': 8647, 'imply': 8648, 'suggestion': 8649, 'overuse': 8650, 'guilt': 8651, 'cannon': 8652, 'routines': 8653, 'graces': 8654, 'restatement': 8655, 'validated': 8656, 'precarious': 8657, 'extravagant': 8658, 'exiled': 8659, 'aristocracy': 8660, 'victorious': 8661, 'revolutionaries': 8662, 'arthouse': 8663, 'hackles': 8664, 'nifty': 8665, 'fervently': 8666, 'thinkers': 8667, 'severely': 8668, 'tested': 8669, 'immaturity': 8670, 'flash': 8671, 'videos': 8672, 'dana': 8673, 'amir': 8674, 'mann': 8675, 'area': 8676, 'headed': 8677, 'east': 8678, 'welcomed': 8679, 'tens': 8680, 'edifying': 8681, 'tucker': 8682, 'merits': 8683, 'faked': 8684, 'stately': 8685, 'glows': 8686, 'conniving': 8687, 'requiring': 8688, 'gon': 8689, 'propulsive': 8690, 'dominated': 8691, 'concentrates': 8692, 'sway': 8693, 'squad': 8694, 'psychopathic': 8695, 'underdogs': 8696, 'tar': 8697, 'unsuspecting': 8698, 'lawmen': 8699, 'vegetables': 8700, 'batch': 8701, 'attract': 8702, 'upscale': 8703, 'chooses': 8704, 'champion': 8705, 'losing': 8706, 'wildcard': 8707, 'nutty': 8708, 'flinch': 8709, 'prognosis': 8710, 'weave': 8711, 'shudder': 8712, 'tremble': 8713, 'machismo': 8714, 'parent': 8715, 'tamer': 8716, 'advertised': 8717, 'compromise': 8718, 'initial': 8719, 'link': 8720, 'romantics': 8721, 'leather': 8722, 'pants': 8723, 'augmented': 8724, 'boobs': 8725, 'resuscitate': 8726, 'libertine': 8727, 'kok': 8728, 'thus': 8729, 'butthead': 8730, 'elicit': 8731, 'luvvies': 8732, 'raptures': 8733, 'introspective': 8734, 'wider': 8735, 'niche': 8736, 'shoes': 8737, 'hoofing': 8738, 'crooning': 8739, 'bites': 8740, 'linking': 8741, 'massacre': 8742, 'doors': 8743, 'ravaging': 8744, 'bean': 8745, 'investigation': 8746, 'flashback': 8747, 'monstrous': 8748, 'lunatic': 8749, 'spins': 8750, 'conspicuous': 8751, 'anomie': 8752, 'reincarnation': 8753, 'fetishism': 8754, 'founding': 8755, 'yong': 8756, 'kang': 8757, 'calculated': 8758, 'pastiche': 8759, 'relating': 8760, 'lustrous': 8761, 'bloated': 8762, 'strays': 8763, 'brims': 8764, 'secondary': 8765, 'psycho': 8766, 'pours': 8767, 'fudges': 8768, 'purer': 8769, 'li': 8770, 'stakes': 8771, 'gullible': 8772, 'weekend': 8773, 'cognizant': 8774, 'puzzling': 8775, 'devoid': 8776, 'objectivity': 8777, 'comments': 8778, 'participants': 8779, 'walks': 8780, 'tightrope': 8781, 'wicked': 8782, 'muted': 8783, 'parody': 8784, 'blaxploitation': 8785, 'dishes': 8786, 'ton': 8787, 'harshness': 8788, 'fastballs': 8789, 'hunk': 8790, 'alternative': 8791, 'educates': 8792, 'achieve': 8793, 'beasts': 8794, 'stalking': 8795, 'merited': 8796, 'fuels': 8797, 'stamp': 8798, 'visualize': 8799, 'schizophrenia': 8800, 'seeks': 8801, 'misogynist': 8802, 'mordantly': 8803, 'intimately': 8804, 'aaa': 8805, 'rated': 8806, 'eee': 8807, 'travail': 8808, 'shiner': 8809, 'organizing': 8810, 'laura': 8811, 'cahill': 8812, 'unexceptional': 8813, 'lazy': 8814, 'concludes': 8815, 'dawn': 8816, 'vibrantly': 8817, 'colored': 8818, 'pun': 8819, 'stranger': 8820, 'marveled': 8821, 'rendering': 8822, 'flames': 8823, 'crisper': 8824, 'punchier': 8825, 'hankies': 8826, 'comprise': 8827, 'fulfilling': 8828, 'gestalt': 8829, 'coastal': 8830, 'distracts': 8831, 'aimless': 8832, 'newness': 8833, 'mentioned': 8834, \"c'mon\": 8835, 'effecting': 8836, 'shrek': 8837, 'enter': 8838, 'modestly': 8839, 'irritates': 8840, 'saddens': 8841, 'obnoxiously': 8842, 'languishing': 8843, 'shelf': 8844, 'escapade': 8845, 'sofia': 8846, 'genes': 8847, 'conceive': 8848, 'ideal': 8849, 'suggesting': 8850, 'boils': 8851, 'matchmaking': 8852, 'dragons': 8853, 'dispatching': 8854, 'suddenly': 8855, 'dani': 8856, 'reworking': 8857, 'throat': 8858, 'visualizing': 8859, 'riffs': 8860, 'colonics': 8861, 'ads': 8862, 'periods': 8863, 'outré': 8864, 'definitive': 8865, 'elsewhere': 8866, 'westbrook': 8867, 'peak': 8868, 'shapes': 8869, 'endear': 8870, 'notable': 8871, 'boarders': 8872, 'missteps': 8873, 'motivation': 8874, 'sermon': 8875, 'welsh': 8876, 'learns': 8877, 'mourns': 8878, 'factors': 8879, 'proclaim': 8880, 'somebodies': 8881, 'burnt': 8882, 'marathons': 8883, 'flatulence': 8884, 'indelible': 8885, 'facing': 8886, 'flippant': 8887, 'lock': 8888, 'smoking': 8889, 'barrels': 8890, 'immerse': 8891, 'crocodile': 8892, 'errs': 8893, 'closet': 8894, 'skeletons': 8895, 'meatier': 8896, 'tipped': 8897, 'robust': 8898, 'shanghai': 8899, 'ghetto': 8900, 'rests': 8901, 'voices': 8902, 'decide': 8903, 'ploddingly': 8904, 'ignore': 8905, 'concentrate': 8906, 'interpersonal': 8907, 'alternates': 8908, 'introspection': 8909, 'shmear': 8910, 'releases': 8911, 'warrior': 8912, 'owes': 8913, 'debts': 8914, 'workable': 8915, 'primer': 8916, 'region': 8917, 'samuel': 8918, 'applied': 8919, 'willie': 8920, 'trumpet': 8921, 'thinness': 8922, 'appalling': 8923, 'stepmother': 8924, 'underwater': 8925, 'net': 8926, 'spits': 8927, 'grizzled': 8928, 'charred': 8929, 'northwest': 8930, 'bermuda': 8931, 'triangle': 8932, 'sleepless': 8933, 'effectiveness': 8934, 'bank': 8935, 'robberies': 8936, 'documentarians': 8937, 'shockingly': 8938, 'conversion': 8939, 'hooks': 8940, 'maid': 8941, 'inspection': 8942, 'lily': 8943, 'plaintiveness': 8944, 'won': 8945, 'screenwriters': 8946, 'toss': 8947, 'dungeons': 8948, 'weaponry': 8949, 'skateboard': 8950, 'anthropology': 8951, 'sturdiness': 8952, 'solidity': 8953, 'feisty': 8954, 'longest': 8955, 'yard': 8956, 'ritchie': 8957, 'immune': 8958, 'folly': 8959, 'anniversary': 8960, 'edition': 8961, 'retrospectively': 8962, 'shockwaves': 8963, 'gratify': 8964, 'corrupt': 8965, 'weasels': 8966, 'lingered': 8967, 'solely': 8968, 'save': 8969, 'megalomaniac': 8970, 'domination': 8971, 'punctuated': 8972, 'bloodshed': 8973, 'hoopla': 8974, 'areas': 8975, 'flinching': 8976, 'chillingly': 8977, 'reopens': 8978, 'succumbs': 8979, 'sensationalism': 8980, 'doubts': 8981, 'yearnings': 8982, 'broader': 8983, 'producing': 8984, 'asking': 8985, 'answering': 8986, 'hyped': 8987, 'shootings': 8988, 'rotten': 8989, 'fabulously': 8990, 'sneaky': 8991, 'butler': 8992, 'meant': 8993, 'yorkers': 8994, 'meow': 8995, 'purr': 8996, 'crude': 8997, 'incorporates': 8998, 'divisions': 8999, 'nonfiction': 9000, 'argument': 9001, 'pro': 9002, 'degrading': 9003, 'revealed': 9004, 'dispassionate': 9005, 'pasty': 9006, 'lumpen': 9007, 'pithy': 9008, 'steadily': 9009, 'burst': 9010, 'fred': 9011, 'views': 9012, 'affluence': 9013, 'directive': 9014, 'protect': 9015, 'code': 9016, 'costs': 9017, 'blur': 9018, 'merge': 9019, 'tout': 9020, 'excites': 9021, 'tickles': 9022, 'bone': 9023, 'reassuringly': 9024, 'charge': 9025, 'corbett': 9026, 'joel': 9027, 'contentedly': 9028, 'bars': 9029, 'lapping': 9030, 'kicks': 9031, 'gear': 9032, 'impenetrable': 9033, 'horns': 9034, 'halos': 9035, 'serendipity': 9036, 'immediacy': 9037, 'sucks': 9038, 'treats': 9039, 'captivates': 9040, 'plunge': 9041, 'louts': 9042, 'climbing': 9043, 'depictions': 9044, 'address': 9045, 'aid': 9046, 'available': 9047, 'workers': 9048, 'prone': 9049, 'indignation': 9050, 'susceptible': 9051, 'witless': 9052, 'jordan': 9053, 'jealous': 9054, 'riled': 9055, 'poetics': 9056, 'intersect': 9057, 'occurs': 9058, 'rekindles': 9059, 'orthodox': 9060, 'jews': 9061, 'west': 9062, 'addressing': 9063, 'compromising': 9064, 'dope': 9065, 'gawky': 9066, 'spall': 9067, 'reveal': 9068, 'sparked': 9069, 'bubbles': 9070, 'walsh': 9071, 'pipe': 9072, 'spectrum': 9073, 'hypocrisies': 9074, 'zelda': 9075, 'omits': 9076, 'needless': 9077, 'chase': 9078, 'swordfights': 9079, 'evolved': 9080, 'quirkily': 9081, 'placing': 9082, 'inescapably': 9083, 'dual': 9084, 'chiefly': 9085, 'faster': 9086, 'impressionable': 9087, 'upfront': 9088, 'linearity': 9089, 'clause': 9090, 'matured': 9091, 'toast': 9092, 'unbridled': 9093, 'hardship': 9094, 'asylum': 9095, 'bonanza': 9096, 'puns': 9097, 'recapitulation': 9098, 'characteristically': 9099, 'shifty': 9100, 'anxieties': 9101, 'sidesteps': 9102, 'shackles': 9103, 'espionage': 9104, 'decisive': 9105, 'elite': 9106, 'determine': 9107, 'proceed': 9108, 'implodes': 9109, 'respites': 9110, 'humming': 9111, 'moulin': 9112, 'purposeful': 9113, 'overdoing': 9114, 'metaphors': 9115, 'didacticism': 9116, 'mystical': 9117, 'daredevils': 9118, 'intoxicatingly': 9119, 'comedian': 9120, 'naturally': 9121, 'crave': 9122, 'jolted': 9123, 'gourd': 9124, 'benevolent': 9125, 'enthusiastically': 9126, 'invokes': 9127, 'percussion': 9128, 'brass': 9129, 'competition': 9130, 'bands': 9131, 'football': 9132, 'sheds': 9133, 'psychology': 9134, 'require': 9135, 'couch': 9136, 'ace': 9137, 'survives': 9138, 'bv': 9139, 'ache': 9140, 'mortal': 9141, 'slights': 9142, 'telegraphed': 9143, 'blithe': 9144, 'exchanges': 9145, 'bolstered': 9146, 'economics': 9147, 'fabulousness': 9148, 'fundamentally': 9149, 'biggest': 9150, 'kiosks': 9151, 'palette': 9152, 'pinks': 9153, 'dreamy': 9154, 'manically': 9155, 'vaudeville': 9156, 'gravitational': 9157, 'puerile': 9158, 'instilled': 9159, 'flavor': 9160, 'sharpie': 9161, 'pen': 9162, 'disgust': 9163, 'giggles': 9164, 'keenest': 9165, 'bombay': 9166, 'musicals': 9167, 'worked': 9168, 'conceal': 9169, 'inextricably': 9170, 'entwined': 9171, 'janice': 9172, 'eileen': 9173, 'teeth': 9174, 'slender': 9175, 'glinting': 9176, 'winningly': 9177, 'intolerance': 9178, 'deform': 9179, 'rudd': 9180, 'spouting': 9181, 'malapropisms': 9182, 'trusts': 9183, 'stallion': 9184, 'arrest': 9185, 'lika': 9186, 'names': 9187, 'infantilized': 9188, 'infantile': 9189, 'nightmarish': 9190, 'academy': 9191, 'kenneth': 9192, 'hundred': 9193, 'interact': 9194, 'se': 9195, 'nos': 9196, 'larga': 9197, 'formulas': 9198, 'messing': 9199, 'fuses': 9200, 'accused': 9201, 'undisciplined': 9202, 'shoestring': 9203, 'unevenly': 9204, 'rotting': 9205, 'disobedience': 9206, 'movements': 9207, 'references': 9208, 'ribcage': 9209, 'kung': 9210, 'pow': 9211, 'residences': 9212, 'carved': 9213, 'strictness': 9214, 'momentos': 9215, 'casi': 9216, 'siempre': 9217, 'hallelujah': 9218, 'favors': 9219, 'humanist': 9220, 'affects': 9221, 'geographical': 9222, 'displacement': 9223, 'abandoned': 9224, 'consoled': 9225, 'orc': 9226, 'tres': 9227, 'nia': 9228, 'partir': 9229, 'momento': 9230, 'pensar': 9231, 'realmente': 9232, 'appetizer': 9233, 'testimony': 9234, 'ne': 9235, 'lushly': 9236, 'recorded': 9237, 'amoral': 9238, 'pursuing': 9239, 'cyber': 9240, 'hymn': 9241, 'renowned': 9242, 'tearful': 9243, 'gaze': 9244, 'untrained': 9245, 'formalism': 9246, 'brushes': 9247, 'calamity': 9248, 'profits': 9249, 'eagerness': 9250, 'scriptwriters': 9251, 'blips': 9252, 'duration': 9253, 'staged': 9254, 'miraculous': 9255, 'stirs': 9256, 'recharged': 9257, 'edward': 9258, 'brainpower': 9259, 'leanest': 9260, 'meanest': 9261, 'misanthropic': 9262, 'practiced': 9263, 'distances': 9264, 'luther': 9265, 'satisfaction': 9266, 'latter': 9267, 'diabolical': 9268, 'guessed': 9269, 'eloquent': 9270, 'memorial': 9271, 'trade': 9272, 'conclusive': 9273, 'patriot': 9274, 'insouciance': 9275, 'demise': 9276, 'flee': 9277, 'pathetic': 9278, 'teenager': 9279, 'retaliation': 9280, 'santa': 9281, 'streamlined': 9282, 'former': 9283, 'complaint': 9284, 'miserably': 9285, 'suffer': 9286, 'dreadfulness': 9287, 'centering': 9288, 'specialized': 9289, 'mira': 9290, 'cheat': 9291, 'surefire': 9292, 'pandering': 9293, 'seesawing': 9294, 'recklessness': 9295, 'smoochy': 9296, 'ghastly': 9297, 'populist': 9298, 'underscore': 9299, 'fatter': 9300, 'tenderly': 9301, 'float': 9302, 'grabs': 9303, 'shakes': 9304, 'vigorously': 9305, 'hardscrabble': 9306, 'margaret': 9307, 'thatcher': 9308, 'ruinous': 9309, 'millennial': 9310, 'brusqueness': 9311, 'undying': 9312, 'politesse': 9313, 'marvin': 9314, 'gaye': 9315, 'supremes': 9316, 'buoy': 9317, 'bogged': 9318, 'dramaturgy': 9319, 'surge': 9320, 'swirling': 9321, 'rapids': 9322, 'leap': 9323, 'pinnacle': 9324, 'rouses': 9325, 'croatia': 9326, 'uncomfortably': 9327, 'crammed': 9328, 'bristles': 9329, 'splashy': 9330, 'connoisseurs': 9331, 'ridley': 9332, 'woven': 9333, 'handsomely': 9334, 'recalling': 9335, 'sixties': 9336, 'rockumentary': 9337, 'milestones': 9338, 'blissfully': 9339, 'misdirected': 9340, 'sanctimonious': 9341, 'towards': 9342, 'participatory': 9343, 'malnourished': 9344, 'intellectuals': 9345, 'gulp': 9346, 'frenzy': 9347, 'sham': 9348, 'highlight': 9349, 'rhapsodic': 9350, 'creations': 9351, 'sillier': 9352, 'cuter': 9353, 'entity': 9354, 'strangling': 9355, 'triumphantly': 9356, 'captors': 9357, 'befuddled': 9358, 'captives': 9359, 'virtuoso': 9360, 'sparse': 9361, 'survived': 9362, 'misogyny': 9363, 'aggressiveness': 9364, 'bled': 9365, 'sleek': 9366, 'arty': 9367, 'erotically': 9368, 'perplexing': 9369, 'austrian': 9370, 'suppression': 9371, 'tucked': 9372, 'integrating': 9373, 'foreground': 9374, 'forest': 9375, 'wearing': 9376, 'cumbersome': 9377, 'reward': 9378, 'suited': 9379, 'regalia': 9380, 'transcendence': 9381, 'surf': 9382, 'thrillingly': 9383, 'populates': 9384, 'routine': 9385, 'ineffable': 9386, 'inexplicably': 9387, 'travis': 9388, 'agnostic': 9389, 'carnivore': 9390, 'jonah': 9391, 'lunacy': 9392, 'pronounced': 9393, 'advised': 9394, 'squint': 9395, 'noticing': 9396, 'egregious': 9397, 'nicks': 9398, 'exaggerated': 9399, 'twisting': 9400, 'frothy': 9401, 'dreamscape': 9402, 'ambience': 9403, 'unsurprising': 9404, 'contrasting': 9405, 'sleekness': 9406, 'kiddies': 9407, 'cheeky': 9408, 'concession': 9409, 'mana': 9410, 'transit': 9411, 'table': 9412, 'hookers': 9413, 'hughes': 9414, 'elder': 9415, 'antic': 9416, 'subtlest': 9417, 'complexly': 9418, 'rarest': 9419, 'belt': 9420, 'undogmatic': 9421, 'breathe': 9422, 'forcing': 9423, 'showtime': 9424, 'clutch': 9425, 'punctuation': 9426, 'gracious': 9427, 'adorable': 9428, 'lamentations': 9429, 'pivotal': 9430, 'disregard': 9431, 'bias': 9432, 'temptingly': 9433, 'twentysomething': 9434, 'narcissism': 9435, 'followed': 9436, 'sci': 9437, 'fi': 9438, 'attempted': 9439, 'ups': 9440, 'downs': 9441, 'ethnicities': 9442, 'twinkling': 9443, 'insinuating': 9444, 'extremes': 9445, 'screwball': 9446, 'continuum': 9447, 'assembled': 9448, 'symbolism': 9449, 'catharsis': 9450, 'funk': 9451, 'sole': 9452, 'sem': 9453, 'isso': 9454, 'skilfully': 9455, 'aerial': 9456, 'overflows': 9457, 'crippled': 9458, 'squirming': 9459, 'alternatives': 9460, 'prominent': 9461, 'suggestive': 9462, 'readings': 9463, 'germany': 9464, 'republic': 9465, 'budding': 9466, 'wallflower': 9467, 'disappointingly': 9468, 'outlandishness': 9469, 'painterly': 9470, 'bluer': 9471, 'biologically': 9472, 'todo': 9473, 'lengua': 9474, 'peppering': 9475, 'norwegian': 9476, 'folktales': 9477, 'ong': 9478, 'fatale': 9479, 'redeems': 9480, 'lend': 9481, 'avuncular': 9482, 'chortles': 9483, 'trite': 9484, 'overused': 9485, 'rustic': 9486, 'ravel': 9487, 'bolero': 9488, 'crescendo': 9489, 'plotless': 9490, 'admitted': 9491, 'dadaist': 9492, 'proportions': 9493, 'adequate': 9494, 'representing': 9495, 'bounds': 9496, 'maintaining': 9497, 'tackling': 9498, 'explain': 9499, 'diplomat': 9500, 'tweaked': 9501, 'statecraft': 9502, 'slugfest': 9503, 'decisively': 9504, 'satiric': 9505, 'toothless': 9506, 'compressed': 9507, 'evanescent': 9508, 'stream': 9509, 'dubious': 9510, 'wasted': 9511, 'yours': 9512, 'purists': 9513, 'slickest': 9514, 'mitchell': 9515, 'infusing': 9516, 'bark': 9517, 'homophobia': 9518, 'deliberative': 9519, 'characterized': 9520, 'typifies': 9521, 'delirium': 9522, 'pre': 9523, 'extant': 9524, 'stardom': 9525, 'bale': 9526, 'arcane': 9527, 'exposure': 9528, 'pause': 9529, 'cope': 9530, 'impart': 9531, 'bludgeoning': 9532, 'coy': 9533, 'ving': 9534, 'competence': 9535, 'suspect': 9536, 'sag': 9537, 'closing': 9538, 'civilization': 9539, 'cure': 9540, 'rudy': 9541, 'lodge': 9542, 'trickster': 9543, 'laden': 9544, 'tinged': 9545, 'kindred': 9546, 'quietude': 9547, 'schultz': 9548, 'papa': 9549, 'spanning': 9550, 'suspending': 9551, 'evelyn': 9552, 'surehanded': 9553, 'desolate': 9554, 'infuse': 9555, 'rocky': 9556, 'sibling': 9557, 'reconciliation': 9558, 'concrete': 9559, 'rote': 9560, 'extravagantly': 9561, 'sporadically': 9562, 'confidently': 9563, 'orchestrated': 9564, 'aesthetically': 9565, 'sexually': 9566, 'rightly': 9567, 'nicky': 9568, 'supple': 9569, 'indomitability': 9570, 'tends': 9571, 'gracefully': 9572, 'distractions': 9573, 'immersive': 9574, 'station': 9575, 'joie': 9576, 'vivre': 9577, 'hostage': 9578, 'generic': 9579, 'seek': 9580, 'seattle': 9581, 'singh': 9582, 'ladles': 9583, 'pizza': 9584, 'fallibility': 9585, 'patent': 9586, 'dramatize': 9587, 'messiness': 9588, 'grungy': 9589, 'hilariously': 9590, 'determination': 9591, 'aspires': 9592, 'clone': 9593, 'abundant': 9594, 'humanism': 9595, 'compass': 9596, 'quintessential': 9597, 'fanatics': 9598, 'showdown': 9599, 'golf': 9600, 'enlivens': 9601, 'defiance': 9602, 'dictates': 9603, 'shimmers': 9604, 'essay': 9605, 'suicide': 9606, 'apple': 9607, 'develop': 9608, 'dizzily': 9609, 'wong': 9610, 'mainland': 9611, 'unrelieved': 9612, 'wistful': 9613, 'poor': 9614, 'heavyweight': 9615, 'behalf': 9616, 'endangered': 9617, 'testing': 9618, 'shimmeringly': 9619, 'watery': 9620, 'survive': 9621, 'unforgiven': 9622, 'utilized': 9623, 'scintillating': 9624, 'sympathies': 9625, 'delves': 9626, 'culmination': 9627, 'selection': 9628, 'graphically': 9629, 'fledgling': 9630, 'democracies': 9631, 'hue': 9632, 'iconography': 9633, 'butter': 9634, 'consummate': 9635, 'ali': 9636, 'graduation': 9637, 'terrier': 9638, 'sip': 9639, 'wines': 9640, 'ivory': 9641, 'settle': 9642, 'iced': 9643, 'undeserving': 9644, 'unhappiness': 9645, 'helpings': 9646, 'dawns': 9647, 'ceremonies': 9648, 'lush': 9649, 'benjamins': 9650, 'perceptiveness': 9651, 'millisecond': 9652, 'frissons': 9653, 'wound': 9654, 'clock': 9655, 'ticking': 9656, 'reunions': 9657, 'assume': 9658, 'perversely': 9659, 'mournful': 9660, 'shenanigans': 9661, 'improvement': 9662, 'dinner': 9663, 'formed': 9664, 'grossest': 9665, 'heartbreakingly': 9666, 'unafraid': 9667, 'elbows': 9668, 'savory': 9669, 'plates': 9670, 'spinning': 9671, 'bouncing': 9672, 'varmints': 9673, 'distract': 9674, 'ricocheting': 9675, 'craziness': 9676, 'picked': 9677, 'swung': 9678, 'colonialism': 9679, 'weary': 9680, 'journalist': 9681, 'solipsistic': 9682, 'justify': 9683, 'degraded': 9684, 'roughly': 9685, 'bon': 9686, 'certified': 9687, 'march': 9688, 'options': 9689, 'playfully': 9690, 'crazier': 9691, 'skyscraper': 9692, 'nursery': 9693, 'surrounded': 9694, 'enthrall': 9695, 'believer': 9696, 'cheered': 9697, 'exposé': 9698, 'seesawed': 9699, 'spiritually': 9700, 'lament': 9701, 'revitalize': 9702, 'scared': 9703, 'jennifer': 9704, 'lopez': 9705, 'storm': 9706, 'shrewdly': 9707, 'harmlessly': 9708, 'naïve': 9709, 'nba': 9710, 'bart': 9711, 'gravity': 9712, 'anchoring': 9713, 'poco': 9714, 'proyecto': 9715, 'spells': 9716, 'blender': 9717, 'technological': 9718, 'disjointed': 9719, 'laid': 9720, 'squarely': 9721, 'mais': 9722, 'tarde': 9723, 'passe': 9724, 'utilizar': 9725, 'candles': 9726, 'cake': 9727, 'fret': 9728, 'calories': 9729, 'dealers': 9730, 'kidnapping': 9731, 'tenacious': 9732, 'fighter': 9733, 'prisoner': 9734, 'crossover': 9735, 'markets': 9736, 'hence': 9737, 'pipeline': 9738, 'hitch': 9739, 'orientation': 9740, 'scattered': 9741, 'fright': 9742, 'slovenly': 9743, 'donald': 9744, 'stitched': 9745, 'enhanced': 9746, 'surplus': 9747, 'archive': 9748, 'endless': 9749, 'balm': 9750, 'ideology': 9751, 'bravery': 9752, 'advancing': 9753, 'integrated': 9754, 'jumbo': 9755, 'ants': 9756, 'arrow': 9757, 'unscathed': 9758, 'raging': 9759, 'returning': 9760, 'rubin': 9761, 'duck': 9762, 'transported': 9763, 'dispossessed': 9764, 'expository': 9765, 'signature': 9766, 'affirming': 9767, 'decay': 9768, 'amiss': 9769, 'tapestry': 9770, 'frei': 9771, 'humanistic': 9772, 'communicate': 9773, 'antagonism': 9774, 'jerusalem': 9775, 'wedge': 9776, 'berg': 9777, 'episodes': 9778, 'looney': 9779, 'neurasthenic': 9780, 'characteristic': 9781, 'unfolding': 9782, 'fatal': 9783, 'indecent': 9784, 'proposal': 9785, '½': 9786, 'dolorous': 9787, 'sporadic': 9788, 'dips': 9789, 'humility': 9790, 'dysfunctionally': 9791, 'curtsy': 9792, 'outlet': 9793, 'diction': 9794, 'fiji': 9795, 'diver': 9796, 'michelle': 9797, 'hall': 9798, 'princess': 9799, 'ben': 9800, 'intolerable': 9801, 'spending': 9802, 'outpaces': 9803, 'contemporaries': 9804, 'peerlessly': 9805, 'ranges': 9806, 'downplays': 9807, 'rely': 9808, 'opposed': 9809, 'sullivan': 9810, 'atypically': 9811, 'shouts': 9812, 'durable': 9813, 'cultivation': 9814, 'succumb': 9815, 'generate': 9816, 'lowbrow': 9817, 'passed': 9818, 'farcical': 9819, 'annoyances': 9820, 'underworld': 9821, 'taxi': 9822, 'driver': 9823, 'theory': 9824, 'russians': 9825, 'nationalist': 9826, 'merci': 9827, 'holographic': 9828, 'librarian': 9829, 'orlando': 9830, 'fateful': 9831, 'evolution': 9832, 'bewitched': 9833, 'adolescents': 9834, 'claire': 9835, 'ought': 9836, 'villains': 9837, 'update': 9838, 'indians': 9839, 'spectacles': 9840, 'subcontinent': 9841, 'laddish': 9842, 'bearable': 9843, 'discards': 9844, 'pathological': 9845, 'exhuming': 9846, 'circumstantial': 9847, 'vapid': 9848, 'mystification': 9849, 'recycled': 9850, 'bravado': 9851, 'hack': 9852, 'allusions': 9853, 'murders': 9854, 'humanize': 9855, 'misfire': 9856, 'player': 9857, 'gained': 9858, 'snatch': 9859, 'bod': 9860, 'household': 9861, 'goombah': 9862, 'courtesy': 9863, 'pogue': 9864, 'yale': 9865, 'grad': 9866, 'previously': 9867, 'gave': 9868, 'skulls': 9869, 'rollerball': 9870, 'overboard': 9871, 'flies': 9872, 'hail': 9873, 'comment': 9874, 'schneider': 9875, 'prissy': 9876, 'studios': 9877, 'shoddy': 9878, 'product': 9879, 'comparison': 9880, 'pax': 9881, 'lulled': 9882, 'coma': 9883, 'tawdry': 9884, 'toilet': 9885, 'burrito': 9886, 'tequila': 9887, 'bender': 9888, 'criticism': 9889, 'potshots': 9890, 'bankrupt': 9891, 'sketched': 9892, 'yep': 9893, 'waking': 9894, 'compels': 9895, 'experiments': 9896, 'harvests': 9897, 'gems': 9898, 'roughage': 9899, 'dominates': 9900, 'pile': 9901, 'electoral': 9902, 'broadcast': 9903, 'heavyweights': 9904, 'agreed': 9905, 'produce': 9906, 'cavorting': 9907, 'derive': 9908, 'curling': 9909, 'distinctly': 9910, 'indoors': 9911, 'unsure': 9912, 'nerds': 9913, 'revisited': 9914, 'regurgitates': 9915, 'thrown': 9916, 'flashbulb': 9917, 'continuity': 9918, 'incoherent': 9919, 'bout': 9920, 'stinks': 9921, 'burlap': 9922, 'gloom': 9923, 'civilized': 9924, 'ballistic': 9925, 'ordeal': 9926, 'amusement': 9927, 'farenheit': 9928, 'naturalness': 9929, 'appeared': 9930, 'jumpsuit': 9931, 'shout': 9932, 'profanities': 9933, 'platitudes': 9934, 'pc': 9935, 'stability': 9936, 'misleading': 9937, 'unexplained': 9938, 'baboon': 9939, 'cameo': 9940, 'assuredly': 9941, 'tickled': 9942, 'dollars': 9943, 'destin': 9944, 'sugary': 9945, 'interfaith': 9946, 'stretched': 9947, 'upset': 9948, 'flat': 9949, 'relative': 9950, 'trots': 9951, 'vacation': 9952, 'sketches': 9953, 'identification': 9954, 'underdeveloped': 9955, 'conveyor': 9956, 'drowsy': 9957, 'infatuated': 9958, 'badly': 9959, 'monkey': 9960, 'bar': 9961, 'height': 9962, 'pug': 9963, 'uproar': 9964, 'riddled': 9965, 'unanswered': 9966, 'requires': 9967, 'gargantuan': 9968, 'plod': 9969, 'usher': 9970, 'advance': 9971, 'screening': 9972, 'pluto': 9973, 'nash': 9974, 'stinker': 9975, 'musty': 9976, 'wills': 9977, 'nubile': 9978, 'campus': 9979, 'depravity': 9980, 'fade': 9981, 'deliberate': 9982, 'tiresome': 9983, 'ugliness': 9984, 'spoiler': 9985, 'recount': 9986, 'confuses': 9987, 'contorting': 9988, 'pointless': 9989, 'losers': 9990, 'robotic': 9991, 'jury': 9992, 'bestowed': 9993, 'honoring': 9994, 'prescribed': 9995, 'dentist': 9996, 'soothing': 9997, 'muzak': 9998, 'cushion': 9999, 'evade': 10000, 'responsibilities': 10001, 'toddler': 10002, 'talkers': 10003, 'cd': 10004, 'motions': 10005, 'dignified': 10006, 'ceo': 10007, 'meet': 10008, 'pee': 10009, 'tree': 10010, 'bear': 10011, 'mechanical': 10012, 'kinda': 10013, 'exhibit': 10014, 'beware': 10015, 'dime': 10016, 'tediously': 10017, 'subplots': 10018, 'grouchy': 10019, 'ayatollah': 10020, 'mosque': 10021, 'plodding': 10022, 'extracting': 10023, 'purposes': 10024, 'retina': 10025, 'muster': 10026, 'doubting': 10027, 'knockaround': 10028, 'raison': 10029, 'tame': 10030, 'offensive': 10031, 'maiden': 10032, 'foolish': 10033, 'untold': 10034, 'bui': 10035, 'boilerplate': 10036, 'assumes': 10037, 'exact': 10038, 'specifics': 10039, 'earn': 10040, 'pie': 10041, 'conjure': 10042, 'followers': 10043, 'shrieky': 10044, 'sopranos': 10045, 'unfunny': 10046, 'finishing': 10047, 'ham': 10048, 'disintegrating': 10049, 'boyd': 10050, 'consequence': 10051, 'antitrust': 10052, 'fraction': 10053, 'importa': 10054, 'talento': 10055, 'interesante': 10056, 'pudo': 10057, 'haber': 10058, 'resultado': 10059, 'pues': 10060, 'deplorable': 10061, 'registering': 10062, 'blip': 10063, 'recycle': 10064, 'wilder': 10065, 'whatsoever': 10066, 'processed': 10067, 'chop': 10068, 'suey': 10069, 'mixer': 10070, 'dystopian': 10071, 'retooling': 10072, 'fahrenheit': 10073, 'matrix': 10074, 'chitchat': 10075, 'neurotics': 10076, 'erotic': 10077, 'stiff': 10078, 'perpetually': 10079, 'hazy': 10080, 'rehash': 10081, 'whirl': 10082, 'pegged': 10083, 'dating': 10084, 'simplify': 10085, 'dishonest': 10086, 'ruins': 10087, 'ba': 10088, 'lovebirds': 10089, 'unappealing': 10090, 'dearly': 10091, 'restless': 10092, 'blanket': 10093, 'statements': 10094, 'ruminations': 10095, 'worries': 10096, 'lousy': 10097, 'gamely': 10098, 'gap': 10099, 'jeremy': 10100, 'fiendish': 10101, 'textbook': 10102, 'psychologizing': 10103, 'peevish': 10104, 'gimmicky': 10105, 'horse': 10106, 'sandbox': 10107, 'oozes': 10108, 'condescension': 10109, 'pore': 10110, 'snap': 10111, 'wiseacre': 10112, 'crackle': 10113, 'spears': 10114, 'ad': 10115, 'ia': 10116, 'loud': 10117, 'mush': 10118, 'strutting': 10119, 'journalistically': 10120, 'lethally': 10121, 'putting': 10122, 'unleashes': 10123, 'pandora': 10124, 'gamut': 10125, 'cheesier': 10126, 'cheesiest': 10127, 'hawk': 10128, 'named': 10129, 'ballast': 10130, 'tanks': 10131, 'harrison': 10132, 'labors': 10133, 'whip': 10134, 'muscle': 10135, 'leers': 10136, 'detached': 10137, 'abhorrent': 10138, 'gain': 10139, 'oftentimes': 10140, 'cowardly': 10141, 'skirmishes': 10142, 'waged': 10143, 'predators': 10144, 'undistinguished': 10145, 'ensnare': 10146, 'exhausting': 10147, 'tommy': 10148, 'booths': 10149, 'fancies': 10150, 'jr': 10151, 'ounce': 10152, 'fluffy': 10153, 'disposible': 10154, 'seated': 10155, 'pinheads': 10156, 'expecting': 10157, 'exit': 10158, 'explosions': 10159, 'sadism': 10160, 'pulp': 10161, 'choppy': 10162, 'monosyllabic': 10163, 'dubbed': 10164, 'vertical': 10165, 'limit': 10166, 'downtime': 10167, 'stealing': 10168, 'evenly': 10169, 'milks': 10170, 'blasphemous': 10171, 'jersey': 10172, 'stripped': 10173, 'soured': 10174, 'icky': 10175, 'scientific': 10176, 'incomprehensible': 10177, 'pit': 10178, 'clue': 10179, 'helping': 10180, 'tomatoes': 10181, 'enabling': 10182, 'ebullient': 10183, 'freezers': 10184, 'folds': 10185, 'respectably': 10186, 'rohypnol': 10187, 'hal': 10188, 'ingredient': 10189, 'sustained': 10190, 'stanford': 10191, 'bebe': 10192, 'seduces': 10193, 'founders': 10194, 'intelligentsia': 10195, 'nonsensical': 10196, 'hypothesis': 10197, 'firing': 10198, 'cylinders': 10199, 'unsatisfied': 10200, 'ate': 10201, 'peanut': 10202, 'text': 10203, 'adopt': 10204, 'dulls': 10205, 'injected': 10206, 'unashamedly': 10207, 'sluggish': 10208, 'g': 10209, 'wells': 10210, 'kin': 10211, 'reworked': 10212, 'sonny': 10213, 'missed': 10214, 'tuxedo': 10215, 'binging': 10216, 'cotton': 10217, 'sticky': 10218, 'depress': 10219, 'checkout': 10220, 'grave': 10221, 'childish': 10222, 'plummets': 10223, 'graveyard': 10224, 'racing': 10225, 'rescue': 10226, 'sealed': 10227, 'indefinitely': 10228, 'advice': 10229, 'kev': 10230, 'signing': 10231, 'dotted': 10232, 'raucous': 10233, 'regrets': 10234, 'hideously': 10235, 'clumsily': 10236, 'paper': 10237, 'shiny': 10238, 'glazed': 10239, 'scum': 10240, 'cluelessness': 10241, 'directions': 10242, 'searches': 10243, 'vainly': 10244, 'strangeness': 10245, 'excellence': 10246, 'mimetic': 10247, 'approximation': 10248, 'unintelligible': 10249, 'poorly': 10250, 'anecdote': 10251, 'seizures': 10252, 'aan': 10253, 'inelegant': 10254, 'unrelated': 10255, 'shorts': 10256, 'vain': 10257, 'inappropriate': 10258, 'undeserved': 10259, 'induce': 10260, 'league': 10261, 'crap': 10262, 'badness': 10263, 'deuces': 10264, 'variable': 10265, 'cuba': 10266, 'mugs': 10267, 'dogs': 10268, 'leaden': 10269, 'sleazy': 10270, 'moralizing': 10271, 'plotting': 10272, 'villainess': 10273, 'lina': 10274, 'bo': 10275, 'buck': 10276, 'greasy': 10277, 'vidgame': 10278, 'excruciatingly': 10279, 'distasteful': 10280, 'pool': 10281, 'drowned': 10282, 'sidekicks': 10283, 'cardiac': 10284, 'eager': 10285, 'murray': 10286, 'prolific': 10287, 'stuffs': 10288, 'enigma': 10289, 'yielded': 10290, 'unengaging': 10291, 'limitations': 10292, 'schlocky': 10293, 'shtick': 10294, 'ellis': 10295, 'scripted': 10296, 'realizing': 10297, 'fault': 10298, 'nastier': 10299, 'capitalize': 10300, 'milk': 10301, 'cow': 10302, 'answer': 10303, 'preferring': 10304, 'humiliation': 10305, 'defecates': 10306, 'bed': 10307, 'urinates': 10308, 'plants': 10309, 'limp': 10310, 'biscuit': 10311, 'excite': 10312, 'churns': 10313, 'flagrantly': 10314, 'thunderstorms': 10315, 'klein': 10316, 'swan': 10317, 'dive': 10318, 'landing': 10319, 'dreck': 10320, 'mikes': 10321, 'chasing': 10322, 'disastrous': 10323, 'harm': 10324, 'stores': 10325, 'bikes': 10326, 'topless': 10327, 'mud': 10328, 'guiding': 10329, 'looseness': 10330, 'grasping': 10331, 'workshop': 10332, 'activate': 10333, 'girlish': 10334, 'ducts': 10335, 'overplayed': 10336, 'dreadfully': 10337, 'inversion': 10338, 'concubine': 10339, 'eschews': 10340, 'panorama': 10341, 'mugging': 10342, 'stumblebum': 10343, 'succession': 10344, 'dumped': 10345, 'cram': 10346, 'pot': 10347, 'macy': 10348, 'thanksgiving': 10349, 'balloon': 10350, 'ropes': 10351, 'mercilessly': 10352, 'resorts': 10353, 'addicted': 10354, 'minimally': 10355, 'culprit': 10356, 'soulless': 10357, 'irk': 10358, 'rerun': 10359, 'heartily': 10360, 'marine': 10361, 'uncouth': 10362, 'vicious': 10363, 'hampered': 10364, 'paralyzed': 10365, 'sounding': 10366, 'crawls': 10367, 'snail': 10368, 'tirade': 10369, 'knock': 10370, 'postcard': 10371, 'lovefest': 10372, 'compendium': 10373, 'coffee': 10374, 'loaded': 10375, 'drains': 10376, 'conclusions': 10377, 'lameness': 10378, 'sanguine': 10379, 'mired': 10380, 'quicksand': 10381, 'pretention': 10382, 'fortify': 10383, 'turgid': 10384, 'myopic': 10385, 'stalls': 10386, 'lackluster': 10387, 'blandness': 10388, 'clan': 10389, 'norris': 10390, 'grenade': 10391, '7': 10392, 'indication': 10393, 'asked': 10394, 'belief': 10395, 'washout': 10396, 'expend': 10397, 'unamusing': 10398, 'unrewarding': 10399, 'squandering': 10400, 'mushy': 10401, 'peas': 10402, 'fires': 10403, 'fumbles': 10404, 'accumulated': 10405, 'miscalculation': 10406, 'defuses': 10407, 'submerging': 10408, 'paraphrase': 10409, 'fragment': 10410, 'underdone': 10411, 'potato': 10412, 'disposable': 10413, 'snoozer': 10414, '4ever': 10415, 'changed': 10416, 'academic': 10417, 'upsets': 10418, 'shreds': 10419, 'deleting': 10420, 'advanced': 10421, 'prozac': 10422, 'rampantly': 10423, 'doofus': 10424, 'blatant': 10425, 'placement': 10426, 'fart': 10427, 'unsurprisingly': 10428, 'stereotypical': 10429, 'rash': 10430, 'jelly': 10431, 'resident': 10432, 'playstation': 10433, 'cocktail': 10434, 'supplied': 10435, 'unspeakably': 10436, 'unbearably': 10437, 'reams': 10438, 'flatly': 10439, 'glorified': 10440, 'write': 10441, 'liner': 10442, 'execrable': 10443, 'moronic': 10444, 'justifies': 10445, 'updates': 10446, 'latino': 10447, 'hop': 10448, 'downhill': 10449, 'unlock': 10450, 'lifeless': 10451, 'lawn': 10452, 'chair': 10453, 'distinguish': 10454, 'promisingly': 10455, 'moratorium': 10456, 'immediately': 10457, 'treacly': 10458, 'professors': 10459, 'heartwarmingly': 10460, 'motivate': 10461, 'perch': 10462, 'metropolitan': 10463, 'categorize': 10464, 'smutty': 10465, 'leaky': 10466, 'hobby': 10467, 'attracts': 10468, 'threw': 10469, 'equipment': 10470, 'aisle': 10471, 'walker': 10472, 'battery': 10473, 'throwaway': 10474, 'rainbows': 10475, 'plant': 10476, 'segment': 10477, 'populace': 10478, 'zero': 10479, 'diss': 10480, 'repulsive': 10481, 'enamored': 10482, 'antonio': 10483, 'faceoff': 10484, 'prey': 10485, 'afflicts': 10486, 'joint': 10487, 'promotion': 10488, 'association': 10489, 'teenaged': 10490, 'mythmaking': 10491, 'dopey': 10492, 'misfortune': 10493, 'cloaks': 10494, '=': 10495, 'duds': 10496, 'underwhelming': 10497, 'unified': 10498, 'peaked': 10499, 'flopping': 10500, 'wedgie': 10501, 'hereby': 10502, 'unimpressively': 10503, 'fussy': 10504, 'hi': 10505, 'puppies': 10506, 'legs': 10507, 'butterflies': 10508, 'dey': 10509, 'demonstrated': 10510, 'mixing': 10511, 'noon': 10512, 'uninspired': 10513, 'blanks': 10514, 'forrest': 10515, 'erratic': 10516, 'wince': 10517, 'gratingly': 10518, 'tainted': 10519, 'improbability': 10520, 'searching': 10521, 'quarter': 10522, 'elephant': 10523, 'spoofy': 10524, 'invention': 10525, 'crikey': 10526, 'graceless': 10527, 'serials': 10528, 'redundancy': 10529, 'unsuccessful': 10530, 'crudeness': 10531, 'accompanying': 10532, 'accumulate': 10533, 'navel': 10534, 'riot': 10535, 'sleaziness': 10536, 'kingdom': 10537, 'iteration': 10538, 'developmentally': 10539, 'disabled': 10540, 'redeem': 10541, 'tootsie': 10542, 'tang': 10543, 'punchlines': 10544, 'baird': 10545, 'editor': 10546, 'yawner': 10547, 'void': 10548, 'generating': 10549, 'inspector': 10550, 'pelo': 10551, 'doce': 10552, 'lar': 10553, 'jay': 10554, 'imitations': 10555, 'subsided': 10556, 'processor': 10557, 'mine': 10558, 'wore': 10559, 'cutesy': 10560, 'holmes': 10561, 'underachiever': 10562, 'abridged': 10563, 'intermediary': 10564, 'drifts': 10565, 'aimlessly': 10566, 'cracks': 10567, 'unmemorable': 10568, 'torturing': 10569, 'genitals': 10570, 'weighs': 10571, 'champagne': 10572, 'alarms': 10573, 'throbbing': 10574, 'propensity': 10575, 'patting': 10576, 'talks': 10577, 'sensationalize': 10578, 'histrionics': 10579, 'modernizes': 10580, 'mason': 10581, 'suit': 10582, 'decision': 10583, 'plucks': 10584, 'bore': 10585, 'falsehoods': 10586, 'undermining': 10587, 'hairy': 10588, 'laggard': 10589, 'wending': 10590, 'respective': 10591, 'worn': 10592, 'threadbare': 10593, 'warmed': 10594, 'nonbelievers': 10595, 'rethink': 10596, 'attitudes': 10597, 'creed': 10598, 'skeptics': 10599, 'confluence': 10600, 'repetition': 10601, 'outward': 10602, 'flakiness': 10603, 'funniness': 10604, 'bowel': 10605, 'crossed': 10606, 'raccoons': 10607, 'sucked': 10608, 'mystic': 10609, 'unbreakable': 10610, 'ineffective': 10611, 'gussied': 10612, 'shriek': 10613, 'weakly': 10614, 'mojo': 10615, 'fudged': 10616, 'gigantic': 10617, 'lunar': 10618, 'smuggling': 10619, 'cows': 10620, 'alter': 10621, 'lighted': 10622, 'inquiries': 10623, 'redeemable': 10624, 'randall': 10625, 'distinguishing': 10626, 'manufactured': 10627, 'cursing': 10628, 'strategically': 10629, 'sheets': 10630, 'singer': 10631, 'mediterranean': 10632, 'drenched': 10633, 'soapy': 10634, 'brady': 10635, 'topnotch': 10636, 'foursome': 10637, 'shoving': 10638, 'clichéd': 10639, 'allegedly': 10640, 'marketable': 10641, 'pretends': 10642, 'cadavers': 10643, 'heading': 10644, 'cheapo': 10645, 'enveloped': 10646, 'dedication': 10647, 'tube': 10648, 'jonathan': 10649, 'insipid': 10650, 'goldberg': 10651, 'remotely': 10652, 'triumphant': 10653, 'drumbeat': 10654, 'pornographic': 10655, 'swank': 10656, 'apartments': 10657, 'parties': 10658, 'disguise': 10659, 'ha': 10660, 'fluxing': 10661, 'sample': 10662, 'rubbish': 10663, 'listless': 10664, 'endured': 10665, 'waterlogged': 10666, 'uncharted': 10667, 'incoherence': 10668, 'batting': 10669, 'eyelids': 10670, 'stunt': 10671, 'clownish': 10672, 'abbreviated': 10673, 'misfit': 10674, 'splitting': 10675, 'judaism': 10676, 'unveil': 10677, 'wheedling': 10678, 'witnesses': 10679, 'pointing': 10680, 'smeared': 10681, 'windshield': 10682, 'soaper': 10683, 'scenic': 10684, 'mountains': 10685, 'howler': 10686, 'whir': 10687, 'clicks': 10688, 'recite': 10689, 'laughable': 10690, 'fillers': 10691, 'cresting': 10692, 'palaver': 10693, 'portions': 10694, 'prolonged': 10695, 'flimsy': 10696, 'dozens': 10697, 'reeks': 10698, 'rot': 10699, 'porcelain': 10700, 'churn': 10701, 'outweighs': 10702, 'bothers': 10703, 'devote': 10704, 'anthropomorphic': 10705, 'makeup': 10706, 'jazz': 10707, 'whiny': 10708, 'poof': 10709, 'spindly': 10710, 'ingenue': 10711, 'worlds': 10712, 'serviceability': 10713, 'unimaginative': 10714, 'handful': 10715, 'monroe': 10716, 'unsympathetic': 10717, 'bacon': 10718, 'deteriorates': 10719, 'protracted': 10720, 'borderline': 10721, 'ungainly': 10722, 'knees': 10723, 'arise': 10724, 'reedy': 10725, 'consigliere': 10726, 'sadly': 10727, 'dunno': 10728, 'travesty': 10729, 'transvestite': 10730, 'clotted': 10731, 'pileup': 10732, 'olives': 10733, 'garnish': 10734, 'disappointment': 10735, 'enlightenment': 10736, 'billy': 10737, 'desired': 10738, 'hateful': 10739, 'irrelevant': 10740, 'grumpy': 10741, 'demographic': 10742, 'uninspiring': 10743, 'immersed': 10744, 'voyeuristic': 10745, 'screenplays': 10746, 'masterpieces': 10747, 'markedly': 10748, 'inactive': 10749, 'conversational': 10750, 'bordering': 10751, 'roster': 10752, 'oppressively': 10753, 'reviewers': 10754, 'churlish': 10755, 'begrudge': 10756, 'dragonfly': 10757, 'spectator': 10758, 'participant': 10759, 'reverie': 10760, 'unparalleled': 10761, 'mistaken': 10762, 'labored': 10763, 'asleep': 10764, 'restore': 10765, 'prominence': 10766, 'terrors': 10767, 'praiseworthy': 10768, 'encounters': 10769, 'purportedly': 10770, 'verges': 10771, 'stretch': 10772, 'weightless': 10773, 'melt': 10774, '7th': 10775, 'provoked': 10776, 'insulting': 10777, 'derisive': 10778, 'clunker': 10779, 'fixated': 10780, 'wretched': 10781, 'flame': 10782, 'halfwit': 10783, 'standup': 10784, 'jet': 10785, 'rollerblades': 10786, 'dia': 10787, 'esta': 10788, 'harold': 10789, 'deve': 10790, 'ter': 10791, 'cama': 10792, 'halftime': 10793, 'fifteen': 10794, 'fell': 10795, 'interchangeable': 10796, 'actioner': 10797, 'imbecilic': 10798, 'botching': 10799, 'assignment': 10800, 'backwater': 10801, 'laugher': 10802, 'ventures': 10803, 'circa': 10804, 'outwardly': 10805, 'sexist': 10806, 'liability': 10807, 'tots': 10808, 'till': 10809, 'anton': 10810, 'cherry': 10811, 'orchard': 10812, 'uppity': 10813, 'compare': 10814, 'criterion': 10815, 'gel': 10816, 'location': 10817, 'awkwardly': 10818, 'garish': 10819, 'diverges': 10820, 'agonizing': 10821, 'jock': 10822, 'piffle': 10823, 'zoe': 10824, 'enemies': 10825, 'exploitive': 10826, 'array': 10827, 'obligatory': 10828, 'stupefying': 10829, 'awakening': 10830, 'learned': 10831, 'competently': 10832, 'shifted': 10833, 'emphasis': 10834, 'prints': 10835, 'decipherable': 10836, 'syrup': 10837, 'dragged': 10838, 'returned': 10839, 'warn': 10840, 'twaddle': 10841, 'shoe': 10842, 'superficiality': 10843, 'barrel': 10844, 'enactments': 10845, 'giants': 10846, 'stifles': 10847, 'sara': 10848, 'mall': 10849, 'kill': 10850, 'smugly': 10851, 'slapping': 10852, 'foot': 10853, 'repugnant': 10854, 'demi': 10855, 'scarlet': 10856, 'isolated': 10857, 'soup': 10858, 'canned': 10859, 'nada': 10860, 'frittered': 10861, 'trims': 10862, 'poking': 10863, 'fruit': 10864, 'pies': 10865, 'tiresomely': 10866, 'praying': 10867, 'maggio': 10868, 'idiotic': 10869, 'groan': 10870, 'hiss': 10871, 'catsup': 10872, 'feeble': 10873, 'corn': 10874, 'aiming': 10875, 'petty': 10876, 'thievery': 10877, 'shoot': 10878, 'pessimists': 10879, 'gymnastics': 10880, 'inauthentic': 10881, 'dismissive': 10882, 'jungle': 10883, 'needing': 10884, 'fistfights': 10885, 'phlegmatic': 10886, 'bespeaks': 10887, 'expiration': 10888, 'unattractive': 10889, 'odorous': 10890, 'drivel': 10891, 'idiots': 10892, 'sickening': 10893, 'thud': 10894, 'moat': 10895, 'focuses': 10896, 'perform': 10897, 'midst': 10898, 'narrow': 10899, 'affluent': 10900, 'damsel': 10901, 'distress': 10902, 'decides': 10903, 'bully': 10904, 'overdone': 10905, 'fees': 10906, 'unfulfilling': 10907, 'eighth': 10908, 'doze': 10909, 'punitively': 10910, 'overheated': 10911, 'excruciating': 10912, 'facial': 10913, 'numb': 10914, 'punitive': 10915, 'gunplay': 10916, 'smashups': 10917, 'flaccid': 10918, 'sniping': 10919, 'capitalizes': 10920, 'opts': 10921, 'mannerisms': 10922, 'cue': 10923, 'wretchedly': 10924, 'inane': 10925, 'uninteresting': 10926, 'squanders': 10927, 'uniqueness': 10928, 'squander': 10929, 'hewitt': 10930, 'rackets': 10931, 'hobbled': 10932, 'setups': 10933, 'castles': 10934, 'corner': 10935, 'flatter': 10936, 'describing': 10937, 'invented': 10938, 'rumblings': 10939, 'cowering': 10940, 'scruffy': 10941, 'abel': 10942, 'beaten': 10943, 'insinuation': 10944, 'unintentional': 10945, 'earplugs': 10946, 'pillowcases': 10947, 'tongue': 10948, 'cheek': 10949, 'seasonal': 10950, 'unlikeable': 10951, 'surrealist': 10952, 'retrospective': 10953, 'invaders': 10954, 'existent': 10955, 'revived': 10956, 'heedless': 10957, 'impetuousness': 10958, 'research': 10959, 'agreement': 10960, 'trifecta': 10961, 'wreaks': 10962, 'ineptly': 10963, 'pabulum': 10964, 'properties': 10965, 'timid': 10966, 'soggy': 10967, 'affected': 10968, 'pub': 10969, 'murk': 10970, 'valley': 10971, 'sledgehammer': 10972, 'induces': 10973, 'headaches': 10974, 'possessed': 10975, 'solemn': 10976, 'stupidities': 10977, 'feminism': 10978, 'modernized': 10979, 'dilettante': 10980, 'laconic': 10981, 'assures': 10982, 'keel': 10983, 'caricatures': 10984, 'buffoons': 10985, 'resurrect': 10986, 'runaway': 10987, 'deja': 10988, 'vu': 10989, 'overproduced': 10990, 'unnecessary': 10991, 'hmmm': 10992, 'wayward': 10993, 'wooden': 10994, 'stuffing': 10995, 'pencil': 10996, 'sharpener': 10997, 'network': 10998, 'switch': 10999, 'rehashes': 11000, 'feed': 11001, 'midway': 11002, 'flickering': 11003, 'perfunctory': 11004, 'catcher': 11005, 'rye': 11006, 'dyslexia': 11007, 'expose': 11008, 'banality': 11009, 'lashing': 11010, 'umpteenth': 11011, 'skinny': 11012, 'dip': 11013, 'putrid': 11014, 'pond': 11015, 'tomcats': 11016, 'thrusts': 11017, 'inchoate': 11018, 'eldritch': 11019, 'pantheon': 11020, 'wreckage': 11021, 'battlefield': 11022, 'showgirls': 11023, 'curio': 11024, 'oily': 11025, 'dealer': 11026, 'requisite': 11027, 'captain': 11028, 'aggrandizing': 11029, 'punishable': 11030, 'chainsaw': 11031, 'malls': 11032, 'genteel': 11033, 'drowning': 11034, 'upstaged': 11035, 'stiller': 11036, 'liza': 11037, 'inexperienced': 11038, 'looked': 11039, 'lumbering': 11040, 'wheezy': 11041, 'campy': 11042, 'serbs': 11043, 'extremists': 11044, 'unentertaining': 11045, 'piss': 11046, 'litmus': 11047, 'backward': 11048, 'raindrop': 11049, 'grit': 11050, 'flabby': 11051, 'flaw': 11052, 'humiliated': 11053, 'rhapsodize': 11054, 'dirgelike': 11055, 'lullaby': 11056, 'tener': 11057, 'único': 11058, 'cuerpo': 11059, 'indigenous': 11060, 'eke': 11061, 'courtney': 11062, 'ringing': 11063, 'penance': 11064, 'shambles': 11065, 'hide': 11066, 'overweight': 11067, 'pathetically': 11068, 'impeccably': 11069, 'unravels': 11070, 'efficiently': 11071, 'heist': 11072, 'brooklyn': 11073, 'hoods': 11074, 'seth': 11075, 'pepper': 11076, 'stayed': 11077, 'evoked': 11078, 'lukewarm': 11079, 'questionable': 11080, 'vat': 11081, 'twitchy': 11082, 'boorishness': 11083, 'oversimplification': 11084, 'opposite': 11085, 'insatiable': 11086, 'battered': 11087, 'morphs': 11088, 'carl': 11089, 'bogs': 11090, 'stilted': 11091, 'tabloid': 11092, 'embalmed': 11093, 'neighbor': 11094, 'personally': 11095, 'brightly': 11096, 'florid': 11097, 'leery': 11098, 'tail': 11099, 'negligible': 11100, 'squaddie': 11101, 'disgusting': 11102, 'jacket': 11103, 'visions': 11104, 'relayed': 11105, 'sharks': 11106, 'skewering': 11107, 'insiders': 11108, 'wishful': 11109, 'ash': 11110, 'wednesday': 11111, 'equate': 11112, 'broke': 11113, 'currently': 11114, 'underway': 11115, 'suppose': 11116, 'cal': 11117, 'perpetrating': 11118, 'patch': 11119, 'cloyingly': 11120, 'bagatelle': 11121, 'exercises': 11122, 'variant': 11123, 'nincompoop': 11124, 'manchild': 11125, 'undercut': 11126, 'camaraderie': 11127, 'penned': 11128, 'intention': 11129, 'passably': 11130, 'brawn': 11131, 'crass': 11132, 'remorse': 11133, 'rape': 11134, 'oo': 11135, 'padding': 11136, 'playbook': 11137, 'fling': 11138, 'thankless': 11139, 'ricochets': 11140, 'catholics': 11141, 'catechism': 11142, 'tailor': 11143, 'amusements': 11144, 'transpose': 11145, 'undermines': 11146, 'progression': 11147, 'worthless': 11148, 'arising': 11149, 'skills': 11150, 'waited': 11151, 'breathless': 11152, 'anticipation': 11153, 'letdown': 11154, 'slips': 11155, 'smothered': 11156, 'solemnity': 11157, 'hairdo': 11158, 'cockney': 11159, 'untalented': 11160, 'parking': 11161, 'brow': 11162, 'druggy': 11163, 'orgy': 11164, 'majors': 11165, 'notations': 11166, 'ten': 11167, 'sputters': 11168, 'simpler': 11169, 'leaner': 11170, 'preferable': 11171, 'complicate': 11172, 'unaccountable': 11173, 'thoughtlessly': 11174, 'puppet': 11175, 'receding': 11176, 'hairline': 11177, 'weathered': 11178, 'countenance': 11179, 'ridiculously': 11180, 'porridge': 11181, 'chewy': 11182, 'microscope': 11183, 'veered': 11184, 'exxon': 11185, 'surveyed': 11186, 'ignoring': 11187, 'waits': 11188, 'dusty': 11189, 'leatherbound': 11190, 'elicited': 11191, 'undernourished': 11192, 'congeniality': 11193, 'egomaniac': 11194, 'grating': 11195, 'simpson': 11196, 'chuckling': 11197, 'attack': 11198, 'burr': 11199, 'schools': 11200, 'schoolgirl': 11201, 'fritters': 11202, 'unimpressive': 11203, 'indifferent': 11204, 'digits': 11205, 'deem': 11206, 'hmmmmm': 11207, 'transparent': 11208, 'embarrassingly': 11209, 'reek': 11210, 'rewrite': 11211, 'garner': 11212, 'cooler': 11213, 'slides': 11214, 'macho': 11215, 'assert': 11216, 'draggin': 11217, 'insubstantial': 11218, 'overwhelmed': 11219, 'plate': 11220, 'misdemeanor': 11221, 'unconvincing': 11222, 'catches': 11223, 'poo': 11224, 'sinuously': 11225, 'dylan': 11226, 'kidd': 11227, 'prepackaged': 11228, 'julia': 11229, 'roberts': 11230, 'publicist': 11231, 'roach': 11232, 'taxicab': 11233, 'siege': 11234, 'springs': 11235, 'stereotype': 11236, 'unturned': 11237, 'sprinkled': 11238, 'bodacious': 11239, 'ministers': 11240, 'discuss': 11241, 'lengths': 11242, 'converted': 11243, 'titled': 11244, 'males': 11245, 'vile': 11246, 'tiger': 11247, 'pyschological': 11248, 'knocks': 11249, 'anemic': 11250, 'grubbing': 11251, 'loveless': 11252, 'sufficient': 11253, 'unclean': 11254, 'booty': 11255, 'bread': 11256, 'dipped': 11257, 'eviction': 11258, 'cuss': 11259, 'bungling': 11260, 'cloaked': 11261, 'euphemism': 11262, 'wood': 11263, 'folksy': 11264, 'stagy': 11265, 'stacked': 11266, 'binary': 11267, 'oppositions': 11268, 'trickery': 11269, 'devolves': 11270, 'absent': 11271, 'makin': 11272, 'losin': 11273, 'base': 11274, 'frankenstein': 11275, 'mishmash': 11276, 'careens': 11277, 'performs': 11278, 'clunkiness': 11279, 'strained': 11280, 'vaporize': 11281, 'jokers': 11282, 'kidnappings': 11283, 'unpleasantly': 11284, 'imposter': 11285, 'fanatic': 11286, 'kidlets': 11287, 'brainer': 11288, 'rekindle': 11289, 'graze': 11290, 'consciously': 11291, 'cranked': 11292, 'brits': 11293, 'methodology': 11294, 'hardened': 11295, 'jumbled': 11296, 'milking': 11297, 'dress': 11298, 'surfaces': 11299, 'physique': 11300, 'vague': 11301, 'tumbleweeds': 11302, 'blowing': 11303, 'graced': 11304, 'loopiness': 11305, 'stagey': 11306, 'reassembled': 11307, 'amble': 11308, 'boris': 11309, 'enact': 11310, 'vh1': 11311, 'distorts': 11312, 'riddles': 11313, 'counting': 11314, 'bolt': 11315, 'sketch': 11316, 'pizazz': 11317, 'reactive': 11318, 'cipher': 11319, 'bastard': 11320, 'plastered': 11321, 'involve': 11322, 'precocious': 11323, 'worrying': 11324, 'covering': 11325, 'excesses': 11326, 'winger': 11327, 'skipping': 11328, 'sorriest': 11329, 'brazen': 11330, 'putters': 11331, 'blank': 11332, 'contriving': 11333, 'laser': 11334, 'littered': 11335, 'restroom': 11336, 'theorizing': 11337, 'according': 11338, 'render': 11339, 'guardian': 11340, 'phrase': 11341, 'avon': 11342, 'noticeably': 11343, 'shamefully': 11344, 'strolls': 11345, 'kilt': 11346, 'carrying': 11347, 'clubs': 11348, 'shoulder': 11349, 'salient': 11350, 'capra': 11351, 'filler': 11352, 'ze': 11353, 'inform': 11354, 'educate': 11355, 'astray': 11356, 'customarily': 11357, 'jovial': 11358, 'deficit': 11359, 'join': 11360, 'kilted': 11361, 'indicative': 11362, 'rambles': 11363, 'unintended': 11364, 'introducing': 11365, 'alluring': 11366, 'boatload': 11367, 'freighter': 11368, 'withholds': 11369, 'pyrotechnics': 11370, 'schmaltz': 11371, 'assess': 11372, 'engineering': 11373, 'crisply': 11374, 'cry': 11375, 'overcooked': 11376, 'kraft': 11377, 'macaroni': 11378, 'outtakes': 11379, 'divided': 11380, 'deliberateness': 11381, 'remakes': 11382, 'avengers': 11383, 'relic': 11384, 'convolutions': 11385, 'descends': 11386, 'moralism': 11387, 'obscured': 11388, 'oops': 11389, 'chirpy': 11390, 'songbird': 11391, 'popped': 11392, 'loathsome': 11393, 'rut': 11394, 'dug': 11395, 'climb': 11396, 'ladder': 11397, 'operative': 11398, 'glimpses': 11399, 'gleaned': 11400, 'organize': 11401, 'pompous': 11402, 'garbled': 11403, 'sleepwalk': 11404, 'vulgarities': 11405, 'tosses': 11406, 'toys': 11407, 'paeans': 11408, 'brutality': 11409, 'traffics': 11410, 'rushed': 11411, 'flimsier': 11412, 'logically': 11413, 'porous': 11414, 'concocted': 11415, 'whitewash': 11416, 'dupe': 11417, 'dictate': 11418, 'painkillers': 11419, 'immaculately': 11420, 'freaking': 11421, 'absurdly': 11422, 'impulses': 11423, 'commendable': 11424, 'coke': 11425, 'hospital': 11426, 'unclear': 11427, 'undertaken': 11428, 'beck': 11429, 'blimp': 11430, 'framework': 11431, 'prior': 11432, 'grinds': 11433, 'sentimentalist': 11434, 'worshipful': 11435, 'random': 11436, 'wes': 11437, 'craven': 11438, 'elm': 11439, 'hills': 11440, 'schlock': 11441, 'sunshine': 11442, 'surveys': 11443, 'assesses': 11444, 'sociology': 11445, 'cloudy': 11446, 'becalmed': 11447, 'fix': 11448, 'sidesplitting': 11449, 'ridicule': 11450, 'bombards': 11451, 'parallel': 11452, 'prostituted': 11453, 'muse': 11454, 'recycles': 11455, 'milder': 11456, 'plumbed': 11457, 'marcus': 11458, 'copies': 11459, 'sources': 11460, 'conspiracies': 11461, 'apartheid': 11462, 'hammer': 11463, 'fitting': 11464, 'genesis': 11465, 'animatronic': 11466, 'disneyland': 11467, 'sabotaged': 11468, 'bombs': 11469, 'iota': 11470, 'dick': 11471, 'hideous': 11472, 'excepting': 11473, 'encountered': 11474, 'pete': 11475, 'purposeless': 11476, 'pandemonium': 11477, 'sulking': 11478, 'hustler': 11479, 'dot': 11480, 'thirty': 11481, 'incarnations': 11482, 'pleasuring': 11483, 'sacrifices': 11484, 'impostor': 11485, 'tunnels': 11486, 'attackers': 11487, 'surveillance': 11488, 'technologies': 11489, 'seller': 11490, 'rat': 11491, 'expensive': 11492, 'thesps': 11493, 'slumming': 11494, 'joyless': 11495, 'daydreams': 11496, 'beard': 11497, 'charmless': 11498, 'vacant': 11499, 'incongruous': 11500, 'bluescreen': 11501, 'radical': 11502, 'stocked': 11503, 'awfulness': 11504, 'benefited': 11505, 'sharper': 11506, 'lens': 11507, 'granddad': 11508, 'nouvelle': 11509, 'baffle': 11510, 'squabbling': 11511, 'phantom': 11512, 'raving': 11513, 'philosophically': 11514, 'intellectually': 11515, 'logistically': 11516, 'participation': 11517, 'tnt': 11518, 'coupling': 11519, 'disgracefully': 11520, 'flailing': 11521, 'perennial': 11522, 'stockings': 11523, 'disloyal': 11524, 'satyr': 11525, 'misguided': 11526, 'freddy': 11527, 'molested': 11528, 'freddie': 11529, 'fingered': 11530, 'tara': 11531, 'reid': 11532, 'tropic': 11533, 'pageant': 11534, 'ensuing': 11535, 'resolutions': 11536, 'preview': 11537, 'indignant': 11538, 'preemptive': 11539, 'profanity': 11540, 'remarks': 11541, 'engendering': 11542, 'probation': 11543, 'officer': 11544, 'hunger': 11545, 'diaz': 11546, 'brainless': 11547, 'fifties': 11548, 'conceited': 11549, 'pap': 11550, 'condone': 11551, 'recently': 11552, 'tortuous': 11553, 'six': 11554, 'waterboy': 11555, 'dripping': 11556, 'bypassing': 11557, 'trivialize': 11558, 'addiction': 11559, 'ruined': 11560, 'improbabilities': 11561, 'impacting': 11562, 'nary': 11563, 'pollute': 11564, 'rigidly': 11565, 'paradigm': 11566, 'permitting': 11567, 'bmw': 11568, 'haranguing': 11569, 'turd': 11570, 'squashed': 11571, 'truck': 11572, 'preferably': 11573, 'semi': 11574, 'glover': 11575, 'irrepressible': 11576, 'frightfest': 11577, 'immaculate': 11578, 'jump': 11579, 'camouflage': 11580, 'nausea': 11581, 'numbingly': 11582, 'disquietingly': 11583, 'gas': 11584, 'jams': 11585, 'prefabricated': 11586, 'nonexistent': 11587, 'bailiwick': 11588, 'pregnant': 11589, 'insult': 11590, 'informs': 11591, 'stuffy': 11592, 'monopoly': 11593, 'chai': 11594, 'disconcertingly': 11595, 'oblivious': 11596, 'backdrops': 11597, 'developing': 11598, 'attachment': 11599, 'sweep': 11600, 'episodic': 11601, 'choppiness': 11602, 'congratulate': 11603, 'lizard': 11604, 'chong': 11605, 'chips': 11606, 'amalgam': 11607, 'existing': 11608, 'attacks': 11609, 'queasy': 11610, 'bemused': 11611, 'dramatized': 11612, 'pbs': 11613, 'restage': 11614, 'bathtub': 11615, 'slickly': 11616, 'antiseptic': 11617, 'insensitivity': 11618, 'tripe': 11619, 'groundbreaking': 11620, 'stylistically': 11621, 'overrides': 11622, 'shifting': 11623, 'labyrinthine': 11624, 'defeats': 11625, 'bearing': 11626, 'paramount': 11627, 'imprint': 11628, 'pickup': 11629, 'tactfully': 11630, 'pretended': 11631, 'sewer': 11632, 'skeeved': 11633, 'lobbyists': 11634, 'tinsel': 11635, 'shortest': 11636, 'hole': 11637, 'outrage': 11638, 'hastily': 11639, 'inert': 11640, 'loveable': 11641, 'leroy': 11642, 'skippable': 11643, 'dawdle': 11644, 'mode': 11645, 'straddles': 11646, 'boldface': 11647, 'libidinous': 11648, 'obscenely': 11649, 'sidewalks': 11650, 'foundering': 11651, 'athleticism': 11652, 'lighting': 11653, 'sociological': 11654, 'stoked': 11655, 'happenstance': 11656, 'overladen': 11657, 'conceits': 11658, 'talked': 11659, 'servitude': 11660, 'flop': 11661, 'generically': 11662, 'forgettably': 11663, 'puréed': 11664, 'mélange': 11665, 'wankery': 11666, 'excessively': 11667, 'dud': 11668, 'slob': 11669, 'reductions': 11670, 'crooks': 11671, 'wasting': 11672, 'abomination': 11673, 'grease': 11674, 'humans': 11675, 'hairier': 11676, 'tax': 11677, 'einstein': 11678, 'sympathizing': 11679, 'interrupted': 11680, 'hurley': 11681, 'bathing': 11682, 'screed': 11683, 'curmudgeonly': 11684, 'playwright': 11685, 'overstuffed': 11686, 'dramedy': 11687, 'improbably': 11688, 'forbearing': 11689, 'contend': 11690, 'angeles': 11691, 'boll': 11692, 'blah': 11693, 'phoenix': 11694, 'literarily': 11695, 'fetid': 11696, 'uglier': 11697, 'depict': 11698, 'unity': 11699, 'admiring': 11700, 'stagnation': 11701, 'fades': 11702, 'suspects': 11703, 'endorses': 11704, 'merit': 11705, 'associations': 11706, 'scribe': 11707, 'wade': 11708, 'cycle': 11709, 'bilked': 11710, 'overacted': 11711, 'wattage': 11712, 'tumult': 11713, 'conforms': 11714, 'scarface': 11715, 'verdict': 11716, 'hammers': 11717, 'scarier': 11718, 'troupe': 11719, 'invested': 11720, 'undergraduate': 11721, 'doubling': 11722, 'subtexts': 11723, 'existentialism': 11724, 'wizard': 11725, 'fifth': 11726, 'stalked': 11727, 'bug': 11728, 'predominantly': 11729, 'unnamed': 11730, 'substitutable': 11731, 'hushed': 11732, 'puzzle': 11733, 'ethan': 11734, 'tempted': 11735, 'redundancies': 11736, 'inexpressive': 11737, 'disagree': 11738, 'clare': 11739, 'irreverence': 11740, 'xerox': 11741, 'illiterate': 11742, 'rancid': 11743, 'contain': 11744, 'toy': 11745, 'procedural': 11746, 'wanders': 11747, 'evasive': 11748, 'erin': 11749, 'eleven': 11750, 'expeditious': 11751, 'toro': 11752, 'reassure': 11753, 'poses': 11754, 'sica': 11755, 'overbearing': 11756, 'unpersuasive': 11757, 'evolving': 11758, 'creators': 11759, 'psychiatrist': 11760, 'trajectory': 11761, 'posits': 11762, 'heretofore': 11763, 'unfathomable': 11764, 'boat': 11765, 'rancorous': 11766, 'outline': 11767, 'pulchritude': 11768, 'wisecracking': 11769, 'shallows': 11770, 'beside': 11771, 'cousin': 11772, 'printed': 11773, 'iles': 11774, 'translate': 11775, 'duking': 11776, 'poky': 11777, 'workshops': 11778, 'nurtured': 11779, 'lurking': 11780, 'spoil': 11781, 'modem': 11782, 'disconnects': 11783, 'seconds': 11784, 'dialog': 11785, 'parting': 11786, 'misfires': 11787, 'crossroads': 11788, 'cutoffs': 11789, 'reduce': 11790, 'buries': 11791, 'mountain': 11792, 'overwritten': 11793, 'surfeit': 11794, 'flowery': 11795, 'techno': 11796, 'overtones': 11797, 'winter': 11798, 'sleepers': 11799, 'entrance': 11800, 'exam': 11801, 'distended': 11802, 'flushed': 11803, 'latrine': 11804, 'heroism': 11805, 'brunt': 11806, 'telegraphing': 11807, 'indifferently': 11808, 'implausible': 11809, 'programmer': 11810, 'cheerful': 11811, 'unending': 11812, 'sunburn': 11813, 'christina': 11814, 'crux': 11815, 'technicality': 11816, 'credulity': 11817, 'kaleidoscope': 11818, 'mom': 11819, 'naptime': 11820, 'clipped': 11821, 'dizzy': 11822, 'jaunt': 11823, 'rights': 11824, 'churning': 11825, 'fertile': 11826, 'vainglorious': 11827, 'interminably': 11828, 'miserable': 11829, 'unfold': 11830, 'bibi': 11831, 'gazing': 11832, 'overplotted': 11833, 'tux': 11834, 'knockoff': 11835, 'detox': 11836, 'proverbial': 11837, 'slackers': 11838, 'achilles': 11839, 'heel': 11840, 'dollop': 11841, 'knot': 11842, 'tightening': 11843, 'symptom': 11844, 'malnutrition': 11845, 'mohawk': 11846, 'sheet': 11847, 'deriding': 11848, 'doddering': 11849, 'drained': 11850, 'deathbed': 11851, 'outrageously': 11852, 'scenarios': 11853, 'lasts': 11854, 'egg': 11855, 'timer': 11856, 'willfully': 11857, 'incomplete': 11858, 'etc': 11859, 'lower': 11860, 'leukemia': 11861, 'benign': 11862, 'arthritic': 11863, 'commodified': 11864, 'acclaimed': 11865, 'hovers': 11866, 'redeeming': 11867, 'drek': 11868, 'boxing': 11869, 'promoter': 11870, 'pilot': 11871, 'buyer': 11872, 'contrary': 11873, 'pose': 11874, 'charges': 11875, 'purports': 11876, 'ostensible': 11877, 'tonally': 11878, 'stretching': 11879, 'heartstring': 11880, 'instilling': 11881, 'wary': 11882, 'sliding': 11883, 'failing': 11884, 'laziness': 11885, 'eugene': 11886, 'turkey': 11887, 'cowrote': 11888, 'starred': 11889, 'grotesque': 11890, 'airhead': 11891, 'measures': 11892, 'extemporaneously': 11893, 'shouted': 11894, 'plugged': 11895, 'tedium': 11896, 'alchemy': 11897, 'leaks': 11898, 'valueless': 11899, 'paean': 11900, 'starters': 11901, 'slim': 11902, 'experiencing': 11903, 'dresses': 11904, 'swaggering': 11905, 'fishing': 11906, 'hostess': 11907, 'salvage': 11908, 'résumé': 11909, 'giggle': 11910, 'potatoes': 11911, 'loser': 11912, 'ships': 11913, 'chokes': 11914, 'decorum': 11915, 'depressingly': 11916, 'prosaic': 11917, 'slogged': 11918, 'sunk': 11919, 'mechanics': 11920, 'raising': 11921, 'eyebrows': 11922, 'referencing': 11923, 'arcana': 11924, 'savviest': 11925, 'destructive': 11926, 'fidget': 11927, 'deleted': 11928, 'montage': 11929, 'ragbag': 11930, 'wretchedness': 11931, 'nagging': 11932, 'suspicion': 11933, 'discernible': 11934, 'monstrously': 11935, 'holden': 11936, 'synthesis': 11937, 'bees': 11938, 'fisticuffs': 11939, 'rumbles': 11940, 'cinephile': 11941, 'perpetrated': 11942, 'mimicry': 11943, 'stab': 11944, 'weaker': 11945, 'killers': 11946, 'evaporation': 11947, 'hamfisted': 11948, 'hapless': 11949, 'facilitator': 11950, 'occasions': 11951, 'yammering': 11952, 'fraternity': 11953, 'exceed': 11954, 'broder': 11955, 'ventura': 11956, 'wincing': 11957, 'repugnance': 11958, 'porky': 11959, 'tarted': 11960, 'flava': 11961, 'playas': 11962, 'leftover': 11963, 'enron': 11964, 'underestimate': 11965, 'entertainments': 11966, 'igloo': 11967, 'sank': 11968, 'jerky': 11969, 'compiled': 11970, 'minus': 11971, 'programs': 11972, 'depressed': 11973, 'inarticulate': 11974, 'hyper': 11975, 'val': 11976, 'appearing': 11977, 'offends': 11978, 'spray': 11979, 'underarm': 11980, 'noises': 11981, 'permanent': 11982, 'impish': 11983, 'augmentation': 11984, 'preparation': 11985, 'objectionable': 11986, 'inspirations': 11987, 'overplay': 11988, 'tactics': 11989, 'thrashing': 11990, 'britches': 11991, 'unremittingly': 11992, 'labeling': 11993, 'constitutes': 11994, 'cruelty': 11995, 'canines': 11996, 'writhing': 11997, 'wailing': 11998, 'opium': 11999, 'overdoses': 12000, 'dissolution': 12001, 'coarse': 12002, 'disservice': 12003, 'bumper': 12004, 'sticker': 12005, 'soullessness': 12006, 'route': 12007, 'revolve': 12008, 'inflection': 12009, 'stationary': 12010, 'oration': 12011, 'contributing': 12012, 'clips': 12013, 'railing': 12014, 'rehashed': 12015, 'zombies': 12016, 'raps': 12017, 'freak': 12018, 'mercenary': 12019, 'categorization': 12020, 'stoic': 12021, 'intimidate': 12022, 'gymnast': 12023, 'embellishing': 12024, 'insensitive': 12025, 'hurting': 12026, 'columns': 12027, 'journal': 12028, 'hemlock': 12029, 'oatmeal': 12030, 'satanic': 12031, 'severed': 12032, 'limb': 12033, 'meekly': 12034, 'prosthetic': 12035, 'putty': 12036, 'kmart': 12037, 'conspire': 12038, 'trekkie': 12039, 'tidal': 12040, 'magician': 12041, 'threefold': 12042, 'expansion': 12043, 'dimwits': 12044, 'collected': 12045, 'pranks': 12046, 'pratfalls': 12047, 'injuries': 12048, 'gibberish': 12049, 'thorn': 12050, 'vinegar': 12051, 'plundered': 12052, 'conspicuously': 12053, 'crescendos': 12054, 'stoke': 12055, 'explanation': 12056, 'prowess': 12057, 'smoothes': 12058, 'transgressive': 12059, 'larceny': 12060, 'convicted': 12061, 'theft': 12062, 'steadfast': 12063, 'medal': 12064, 'fleetingly': 12065, 'improvisations': 12066, 'entertainer': 12067, 'perry': 12068, 'boss': 12069, 'convict': 12070, 'heinous': 12071, 'chef': 12072, 'hotdog': 12073, 'falseness': 12074, 'began': 12075, 'hostages': 12076, 'affectation': 12077, 'evincing': 12078, 'percolates': 12079, 'monotonous': 12080, 'whine': 12081, 'egotistical': 12082, 'pr': 12083, 'license': 12084, 'coasting': 12085, 'bicycle': 12086, 'thief': 12087, 'reimagine': 12088, 'wheezing': 12089, 'related': 12090, 'robots': 12091, 'butchered': 12092, 'duo': 12093, 'marquee': 12094, 'buffoonery': 12095, 'tickle': 12096, 'preschooler': 12097, 'unforgivably': 12098, 'fortified': 12099, 'buildings': 12100, 'startlingly': 12101, 'qualifies': 12102, 'glide': 12103, 'voluptuous': 12104, 'rebecca': 12105, 'diluted': 12106, 'mistakenly': 12107, 'lifelike': 12108, 'cardboard': 12109, 'cutout': 12110, 'joshua': 12111, 'luis': 12112, 'attendant': 12113, 'nutjob': 12114, 'scant': 12115, 'hile': 12116, 'monkeys': 12117, 'environmentalism': 12118, 'oversize': 12119, 'gasbag': 12120, 'mighty': 12121, 'sudsy': 12122, 'noblest': 12123, 'wrestler': 12124, 'dolly': 12125, 'resumes': 12126, 'meanwhile': 12127, 'reads': 12128, 'driving': 12129, 'daisy': 12130, 'attacking': 12131, 'bid': 12132, 'progenitor': 12133, 'lagoon': 12134, 'textural': 12135, 'harnesses': 12136, 'overemphatic': 12137, 'wading': 12138, 'burly': 12139, 'coincidence': 12140, 'pummels': 12141, 'drunken': 12142, 'roundhouse': 12143, 'dubbing': 12144, 'glenn': 12145, 'regis': 12146, 'tissue': 12147, 'fab': 12148, 'fetish': 12149, 'lays': 12150, 'professionally': 12151, 'horrific': 12152, 'unemotional': 12153, 'psyches': 12154, 'undercurrents': 12155, 'uncover': 12156, 'cryin': 12157, 'stir': 12158, 'measurements': 12159, 'valedictorian': 12160, 'landings': 12161, 'hora': 12162, 'nuevas': 12163, 'claims': 12164, 'thousand': 12165, 'woefully': 12166, 'sympathize': 12167, 'momentary': 12168, 'sedentary': 12169, 'valium': 12170, 'convolution': 12171, 'claim': 12172, 'lumpy': 12173, 'paws': 12174, 'blooper': 12175, 'inexorable': 12176, 'passage': 12177, 'sainthood': 12178, 'abc': 12179, 'aids': 12180, 'cash': 12181, 'yikes': 12182, 'uproarious': 12183, 'hash': 12184, 'undetermined': 12185, 'reserve': 12186, 'suffocated': 12187, 'uptight': 12188, 'packaged': 12189, 'sold': 12190, 'coughs': 12191, 'skids': 12192, 'spliced': 12193, 'clowns': 12194, '%': 12195, 'literacy': 12196, 'inkling': 12197, 'rehearsal': 12198, 'congenital': 12199, 'virtuosity': 12200, 'pedagogy': 12201, 'pine': 12202, 'handle': 12203, 'trails': 12204, 'inconsequentiality': 12205, 'stomping': 12206, 'clown': 12207, 'untuned': 12208, 'instruments': 12209, 'intelligible': 12210, 'treatises': 12211, 'blaring': 12212, 'metal': 12213, 'buggy': 12214, 'establish': 12215, 'switches': 12216, 'tenuous': 12217, 'purport': 12218, 'span': 12219, 'hiding': 12220, 'repulsively': 12221, 'ed': 12222, 'revoked': 12223, 'matt': 12224, 'residuals': 12225, 'officially': 12226, 'completes': 12227, 'hunting': 12228, 'linux': 12229, 'ski': 12230, 'robbery': 12231, 'diapers': 12232, 'hitmen': 12233, 'imminently': 12234, 'unessential': 12235, 'blackboards': 12236, 'unfortunate': 12237, 'torpid': 12238, 'trips': 12239, 'intrinsically': 12240, 'sir': 12241, 'bitch': 12242, 'shall': 12243, 'enacted': 12244, 'daughters': 12245, 'featured': 12246, 'whiney': 12247, 'bugged': 12248, 'apprehension': 12249, 'collapses': 12250, 'foundation': 12251, 'shallowly': 12252, 'rosily': 12253, 'mississippi': 12254, 'delta': 12255, 'undermine': 12256, 'bummer': 12257, 'partway': 12258, 'rejected': 12259, 'recruitment': 12260, 'sellouts': 12261, 'portentous': 12262, 'fitfully': 12263, 'pubescent': 12264, 'frankie': 12265, 'kills': 12266, 'sun': 12267, 'elysian': 12268, 'legitimate': 12269, 'sterility': 12270, 'swing': 12271, 'whiff': 12272, 'championship': 12273, 'neglects': 12274, 'zigzag': 12275, 'unbroken': 12276, 'jargon': 12277, 'filth': 12278, 'desolation': 12279, 'artiste': 12280, 'crypt': 12281, 'wallow': 12282, 'stubbly': 12283, 'chins': 12284, 'liver': 12285, 'bobbed': 12286, 'chuckles': 12287, 'patched': 12288, 'accompany': 12289, 'fewer': 12290, 'exhilaration': 12291, 'taxing': 12292, 'reawaken': 12293, 'doomsday': 12294, 'gaudy': 12295, 'insufferable': 12296, 'groans': 12297, 'expounded': 12298, 'doodle': 12299, 'conscientious': 12300, 'potion': 12301, 'blossom': 12302, 'buttercup': 12303, 'enable': 12304, 'discern': 12305, 'nascent': 12306, 'industrialized': 12307, 'implements': 12308, 'unwise': 12309, 'vibes': 12310, 'yawp': 12311, 'grains': 12312, 'ole': 12313, 'dimwitted': 12314, 'dimmer': 12315, 'vehicles': 12316, 'circularity': 12317, 'indicated': 12318, 'satellite': 12319, 'terri': 12320, 'markers': 12321, 'dozen': 12322, 'omitted': 12323, 'unsaid': 12324, 'befits': 12325, 'snuggle': 12326, 'softener': 12327, 'breakdowns': 12328, 'unwatchable': 12329, 'humping': 12330, 'lise': 12331, 'sunnier': 12332, 'playthings': 12333, 'lighten': 12334, 'retain': 12335, 'alternate': 12336, 'fryers': 12337, 'hamburgers': 12338, 'nanosecond': 12339, 'scrubbing': 12340, 'emptying': 12341, 'traps': 12342, 'taxes': 12343, 'dooby': 12344, 'daphne': 12345, 'village': 12346, 'idiot': 12347, 'primavera': 12348, 'blare': 12349, 'innovative': 12350, 'afterschool': 12351, 'freshened': 12352, 'dunce': 12353, 'provokes': 12354, 'howlers': 12355, 'yawns': 12356, 'describes': 12357, 'chevy': 12358, 'persistently': 12359, 'resuscitation': 12360, 'plods': 12361, 'interiors': 12362, 'vessel': 12363, 'moodily': 12364, 'drizzle': 12365, 'rainwear': 12366, 'cancer': 12367, 'apt': 12368, 'fleming': 12369, 'travelogue': 12370, 'diatribe': 12371, 'titillation': 12372, 'freebie': 12373, 'q': 12374, 'unedited': 12375, 'clamor': 12376, 'clanging': 12377, 'femme': 12378, 'prisoners': 12379, 'persecutions': 12380, 'saintly': 12381, 'figuring': 12382, 'patchouli': 12383, 'oil': 12384, 'sums': 12385, 'unjustified': 12386, 'spout': 12387, 'consists': 12388, 'slowest': 12389, 'ugh': 12390, 'laughably': 12391, 'irredeemably': 12392, 'anguish': 12393, 'guest': 12394, 'decrying': 12395, 'emblematic': 12396, 'ageism': 12397, 'afflicting': 12398, 'varsity': 12399, 'substandard': 12400, 'shown': 12401, 'judgment': 12402, 'planning': 12403, 'illicit': 12404, 'herd': 12405, 'imprisonment': 12406, 'nerdy': 12407, 'bratty': 12408, 'ted': 12409, 'justification': 12410, 'unexplored': 12411, 'seine': 12412, 'slogs': 12413, 'handheld': 12414, 'annoyingly': 12415, 'vertigo': 12416, 'opacity': 12417, 'subsequently': 12418, 'pony': 12419, 'ponderously': 12420, 'mope': 12421, 'lightning': 12422, 'prize': 12423, 'bomb': 12424, 'wilts': 12425, 'awhile': 12426, 'rouse': 12427, 'dressing': 12428, 'fancied': 12429, 'beatnik': 12430, 'wim': 12431, 'downside': 12432, 'paucity': 12433, 'condensation': 12434, 'lists': 12435, \"o'clock\": 12436, 'skips': 12437, 'lobotomized': 12438, 'lured': 12439, 'fist': 12440, 'flounders': 12441, 'preferred': 12442, 'transfer': 12443, 'holland': 12444, 'lecture': 12445, 'unwillingness': 12446, 'heartrending': 12447, 'fundamentalists': 12448, 'relatives': 12449, 'devotes': 12450, 'bigoted': 12451, 'platonic': 12452, 'philandering': 12453, 'diminishes': 12454, 'stature': 12455, 'tended': 12456, 'fading': 12457, 'gum': 12458, 'appease': 12459, 'silliest': 12460, 'dire': 12461, 'chao': 12462, 'chen': 12463, 'assistant': 12464, 'marries': 12465, 'amateurishness': 12466, 'discourages': 12467, 'regurgitated': 12468, 'neverland': 12469, 'greasiest': 12470, 'beached': 12471, 'grouper': 12472, 'overloads': 12473, 'sermonizing': 12474, 'dullards': 12475, 'reiterates': 12476, 'willful': 12477, 'evidenced': 12478, 'accounting': 12479, 'texas': 12480, 'universally': 12481, 'pelosi': 12482, 'festooning': 12483, 'magically': 12484, 'slavishly': 12485, 'henna': 12486, 'ornamentation': 12487, 'dramatics': 12488, 'hamlet': 12489, 'iv': 12490, 'frowns': 12491, 'opposing': 12492, 'viewpoints': 12493, 'toasts': 12494, 'testimonial': 12495, 'insufficiently': 12496, 'helmer': 12497, 'payola': 12498, 'vice': 12499, 'hated': 12500, 'hose': 12501, 'wives': 12502, 'mgm': 12503, 'persuasion': 12504, 'prequel': 12505, 'ostensibly': 12506, 'lab': 12507, 'imprimatur': 12508, 'mirthless': 12509, 'amiability': 12510, 'personifies': 12511, 'aspiration': 12512, 'coolness': 12513, 'greased': 12514, 'apartment': 12515, 'involvement': 12516, 'heresy': 12517, 'motives': 12518, 'revered': 12519, 'forgot': 12520, 'infomercial': 12521, 'hating': 12522, 'vim': 12523, 'digit': 12524, 'jeopardy': 12525, 'alliance': 12526, 'culminates': 12527, 'bus': 12528, 'dissing': 12529, 'temerity': 12530, 'winding': 12531, 'reversal': 12532, 'majorly': 12533, 'manifestos': 12534, 'amber': 12535, 'detracts': 12536, 'substitutes': 12537, 'loitering': 12538, 'stadium': 12539, 'nuked': 12540, 'alex': 12541, 'tank': 12542, 'racist': 12543, 'snuck': 12544, 'hormones': 12545, 'sledgehammers': 12546, 'inquisitions': 12547, 'ineffectual': 12548, 'juggle': 12549, 'juxtapose': 12550, 'takeoff': 12551, 'sats': 12552, 'melodramatics': 12553, 'inflated': 12554, 'soar': 12555, 'faintly': 12556, 'untidy': 12557, 'elaborateness': 12558, 'conceptions': 12559, 'elan': 12560, 'praised': 12561, 'obscurity': 12562, 'treacherous': 12563, 'pedro': 12564, 'wincingly': 12565, 'nauseatingly': 12566, 'cringing': 12567, 'villians': 12568, 'introduced': 12569, 'snake': 12570, 'religion': 12571, 'sampler': 12572, 'bumping': 12573, 'rationale': 12574, 'laurel': 12575, 'frights': 12576, 'israelis': 12577, 'evenhanded': 12578, 'installation': 12579, 'initially': 12580, 'spitting': 12581, 'hanson': 12582, 'lawyer': 12583, 'grasps': 12584, 'investigating': 12585, 'jettisons': 12586, 'meddling': 12587, 'fleshed': 12588, 'debases': 12589, 'grinding': 12590, 'lopsided': 12591, 'professor': 12592, 'suspecting': 12593, 'mal': 12594, 'peor': 12595, 'pérdida': 12596, 'dinero': 12597, 'begs': 12598, 'reps': 12599, 'delibrately': 12600, 'obtuse': 12601, 'unapproachable': 12602, 'windbags': 12603, 'drone': 12604, 'inanely': 12605, 'cacophony': 12606, 'prattle': 12607, 'conceived': 12608, 'collections': 12609, 'yacht': 12610, 'confrontation': 12611, 'flowed': 12612, 'hides': 12613, 'pillage': 12614, 'puke': 12615, 'broadly': 12616, 'animals': 12617, 'injured': 12618, 'patchwork': 12619, 'senior': 12620, 'fiftysomething': 12621, 'loudly': 12622, 'decline': 12623, 'cheats': 12624, 'retreats': 12625, 'individually': 12626, 'prepubescent': 12627, 'impatiently': 12628, 'squinting': 12629, 'glorifying': 12630, 'software': 12631, 'anarchy': 12632, 'snooze': 12633, 'sluggishly': 12634, 'nap': 12635, 'itching': 12636, 'tack': 12637, 'morphed': 12638, 'accomplishing': 12639, 'dissatisfied': 12640, 'godawful': 12641, 'slug': 12642, 'longs': 12643, 'frisk': 12644, 'alleys': 12645, 'snoozy': 12646, 'glibly': 12647, 'weighed': 12648, 'gazes': 12649, 'tacky': 12650, 'adjectives': 12651, 'inflict': 12652, 'reputations': 12653, 'costly': 12654, 'treating': 12655, 'prop': 12656, 'werewolf': 12657, 'thoughtless': 12658, 'scouse': 12659, 'sourness': 12660, 'highfalutin': 12661, 'corkscrew': 12662, 'begets': 12663, 'awry': 12664, 'portal': 12665, 'greedy': 12666, 'banging': 12667, 'salesmanship': 12668, 'behaving': 12669, 'divertingly': 12670, 'gotten': 12671, 'nail': 12672, 'coffin': 12673, 'fuhgeddaboutit': 12674, 'boil': 12675, 'buoys': 12676, 'hinted': 12677, 'spousal': 12678, 'forgiven': 12679, 'creaking': 12680, 'rusty': 12681, 'backdrop': 12682, 'failings': 12683, 'dramatist': 12684, 'blurs': 12685, 'overreaches': 12686, 'laziest': 12687, 'spinoffs': 12688, 'rekindled': 12689, 'kathleen': 12690, 'upcoming': 12691, 'sla': 12692, 'emily': 12693, 'sept': 12694, 'flaunts': 12695, 'eve': 12696, 'drunk': 12697, 'unoriginality': 12698, 'faultlessly': 12699, 'lethal': 12700, 'knowingness': 12701, 'fists': 12702, 'scatological': 12703, 'proctologist': 12704, 'tunnel': 12705, 'abruptly': 12706, 'soppy': 12707, 'exasperating': 12708, 'regan': 12709, 'signify': 12710, 'suspension': 12711, 'sanctified': 12712, 'alarmed': 12713, 'wielding': 12714, 'wrenches': 12715, 'fleeing': 12716, 'mocking': 12717, 'staple': 12718, 'programming': 12719, 'pointlessness': 12720, 'bonbon': 12721, 'jaundiced': 12722, 'pages': 12723, 'cart': 12724, 'outcast': 12725, 'mire': 12726, 'chipper': 12727, 'derails': 12728, 'gels': 12729, 'feminist': 12730, 'plum': 12731, 'worms': 12732, 'preprogrammed': 12733, 'jesus': 12734, 'guidelines': 12735, 'cleverer': 12736, 'finished': 12737, 'passionately': 12738, 'teaching': 12739, 'timelines': 12740, 'ephemeral': 12741, 'wrestle': 12742, 'handkerchief': 12743, 'swipe': 12744, 'helpfully': 12745, 'locate': 12746, 'neuroses': 12747, 'exhaust': 12748, 'spouse': 12749, 'tonga': 12750, 'nurse': 12751, 'sunset': 12752, 'boulevard': 12753, 'simpsons': 12754, 'inconclusive': 12755, 'buying': 12756, 'glue': 12757, 'conscious': 12758, 'salaciously': 12759, 'odor': 12760, 'fond': 12761, 'oafish': 12762, 'impersonating': 12763, 'aristocrat': 12764, 'unrealized': 12765, 'impersonal': 12766, 'relentlessness': 12767, 'videogame': 12768, 'sleekly': 12769, 'weather': 12770, 'loosens': 12771, 'proportion': 12772, 'tick': 12773, 'underscores': 12774, 'polishing': 12775, 'panther': 12776, 'moon': 12777, 'geeky': 12778, 'dissolves': 12779, 'spiders': 12780, 'outrun': 12781, 'motorcycle': 12782, 'cocoon': 12783, 'underwood': 12784, 'connected': 12785, 'clique': 12786, 'breed': 12787, 'marginalization': 12788, 'loom': 12789, 'dreamer': 12790, 'dogwalker': 12791, 'dullness': 12792, 'entirety': 12793, 'envy': 12794, 'flocking': 12795, 'botched': 12796, 'subtler': 12797, 'norman': 12798, 'ultraviolent': 12799, 'stupider': 12800, 'dirk': 12801, 'greg': 12802, 'mount': 12803, 'unconnected': 12804, 'undeveloped': 12805, 'choke': 12806, 'canter': 12807, 'falters': 12808, 'excited': 12809, 'rehashing': 12810, 'affability': 12811, 'nominal': 12812, 'cameron': 12813, 'mate': 12814, 'alleged': 12815, 'provocation': 12816, 'antique': 12817, 'obliviousness': 12818, 'dawdles': 12819, 'generational': 12820, 'bonding': 12821, 'marketing': 12822, 'bludgeon': 12823, 'unconscious': 12824, 'crock': 12825, 'jackasses': 12826, 'felons': 12827, 'assigned': 12828, 'cons': 12829, 'wastes': 12830, 'relevancy': 12831, 'bothersome': 12832, 'earnestly': 12833, 'embarrassing': 12834, 'newly': 12835, 'automated': 12836, 'draft': 12837, 'legends': 12838, 'trifles': 12839, 'humbuggery': 12840, 'ribbing': 12841, 'cheating': 12842, 'betray': 12843, 'slugs': 12844, 'yankee': 12845, 'rung': 12846, 'entries': 12847, 'baggy': 12848, 'carnival': 12849, 'rhyme': 12850, 'tiring': 12851, 'siblings': 12852, 'oriental': 12853, 'surfacing': 12854, 'instant': 12855, 'porno': 12856, 'gnat': 12857, 'racehorse': 12858, 'collectible': 12859, 'junctures': 12860, 'enervated': 12861, 'numbness': 12862, 'undertone': 12863, 'preamble': 12864, 'materializes': 12865, 'slumber': 12866, 'unmolested': 12867, 'haughtiness': 12868, 'laurels': 12869, 'regrettably': 12870, 'naive': 12871, 'moldy': 12872, 'gloomy': 12873, 'clambake': 12874, 'battles': 12875, 'plastic': 12876, 'army': 12877, 'classified': 12878, 'reliably': 12879, 'freeze': 12880, 'luxury': 12881, 'boasted': 12882, 'furry': 12883, 'lapdance': 12884, 'skating': 12885, 'shore': 12886, 'sketchbook': 12887, 'adroit': 12888, 'wearisome': 12889, 'deaths': 12890, 'livelier': 12891, 'sorority': 12892, 'clothing': 12893, 'deficiency': 12894, 'exasperatingly': 12895, 'metaphoric': 12896, 'flags': 12897, 'drabness': 12898, 'endemic': 12899, 'sabotages': 12900, 'juncture': 12901, 'hamstrung': 12902, 'wearer': 12903, 'superman': 12904, 'postapocalyptic': 12905, 'disadvantage': 12906, 'bloodless': 12907, 'spit': 12908, 'purported': 12909, 'pathologically': 12910, 'avenges': 12911, 'trippy': 12912, 'nike': 12913, 'tweedy': 12914, 'canning': 12915, 'stockbroker': 12916, 'repairing': 12917, 'yearn': 12918, 'airborne': 12919, 'nude': 12920, 'groupies': 12921, 'liven': 12922, 'rigor': 12923, 'showiness': 12924, 'offsets': 12925, 'han': 12926, 'eh': 12927, 'offense': 12928, 'wally': 12929, 'boost': 12930, 'ballpoint': 12931, 'ink': 12932, 'columnist': 12933, 'rant': 12934, 'offered': 12935, 'slapdash': 12936, 'extraterrestrial': 12937, 'goats': 12938, 'tuneless': 12939, 'programa': 12940, 'única': 12941, 'teve': 12942, 'mau': 12943, 'cinemas': 12944, 'shuns': 12945, 'hinged': 12946, 'crotch': 12947, 'thinner': 12948, 'fishes': 12949, 'grittiest': 12950, 'watson': 12951, 'unwrapped': 12952, 'recoiling': 12953, 'spacey': 12954, 'sultry': 12955, 'linda': 12956, 'indigestible': 12957, 'arm': 12958, 'guided': 12959, 'sharpens': 12960, 'erase': 12961, 'repeats': 12962, 'sameness': 12963, 'deconstruct': 12964, 'daydreaming': 12965, 'alas': 12966, 'yuks': 12967, 'stoned': 12968, 'airport': 12969, 'security': 12970, 'unmoved': 12971, 'plainly': 12972, 'repackaged': 12973, 'disclosure': 12974, 'tourist': 12975, 'scriptwriter': 12976, 'mods': 12977, 'rockers': 12978, 'estate': 12979, 'designs': 12980, 'dante': 12981, 'luscious': 12982, 'insisted': 12983, 'slipshod': 12984, 'scoring': 12985, 'faulted': 12986, 'lucy': 12987, 'cliff': 12988, 'ravaged': 12989, 'leaning': 12990, 'gowns': 12991, 'comebacks': 12992, 'tuna': 12993, 'penis': 12994, 'breast': 12995, 'profit': 12996, 'trivializes': 12997, 'jags': 12998, 'pump': 12999, 'gee': 13000, 'moot': 13001, 'hysterical': 13002, 'disquisition': 13003, 'sucking': 13004, 'hooey': 13005, 'scent': 13006, 'farmer': 13007, 'battling': 13008, 'depersonalization': 13009, 'unwittingly': 13010, 'festive': 13011, 'skimpy': 13012, 'conceivable': 13013, 'skates': 13014, 'pausing': 13015, 'tie': 13016, 'bows': 13017, 'poodle': 13018, 'heaviest': 13019, 'noodle': 13020, 'perpetrators': 13021, 'dingoes': 13022, 'candor': 13023, 'wilt': 13024, 'overstays': 13025, 'sprinklings': 13026, 'gulps': 13027, 'huggy': 13028, 'deflates': 13029, 'numbs': 13030, 'dampens': 13031, 'egyptian': 13032, 'demigod': 13033, 'integral': 13034, 'sharing': 13035, 'compromised': 13036, 'fog': 13037, 'ashes': 13038, 'sings': 13039, 'completed': 13040, 'abandons': 13041, 'pretense': 13042, 'waltzes': 13043, 'hectic': 13044, 'fortunately': 13045, 'boiling': 13046, 'rooting': 13047, 'uncompelling': 13048, 'parodies': 13049, 'perplexed': 13050, 'automatically': 13051, 'pegs': 13052, 'unrealistic': 13053, 'middles': 13054, 'ja': 13055, 'rule': 13056, 'benefitted': 13057, 'transplanted': 13058, 'elicits': 13059, 'scrappy': 13060, 'graduated': 13061, 'elementary': 13062, 'reduction': 13063, 'slacker': 13064, 'drowns': 13065, 'louis': 13066, 'rams': 13067, 'potboiler': 13068, 'gob': 13069, 'pasteurized': 13070, 'ditties': 13071, 'retch': 13072, 'crème': 13073, 'brûlée': 13074, 'jokester': 13075, 'punchline': 13076, 'multifaceted': 13077, 'shelved': 13078, 'clocks': 13079, 'earthbound': 13080, 'soporific': 13081, 'dank': 13082, 'stinky': 13083, 'subservient': 13084, 'gadgets': 13085, 'brandishing': 13086, 'financial': 13087, 'extortion': 13088, 'decomposition': 13089, 'cloak': 13090, 'romanticization': 13091, 'delusional': 13092, 'caliber': 13093, 'symbols': 13094, 'deconstructionist': 13095, 'philosopher': 13096, 'vanishes': 13097, 'pics': 13098, 'muddy': 13099, 'blurry': 13100, 'ugliest': 13101, 'manqué': 13102, 'qui': 13103, 'tombe': 13104, 'sur': 13105, 'nerfs': 13106, 'presque': 13107, 'dès': 13108, 'première': 13109, 'mute': 13110, 'apes': 13111, 'infrequently': 13112, 'trolls': 13113, 'met': 13114, 'sentences': 13115, 'splashes': 13116, 'subjecting': 13117, 'cabin': 13118, 'pound': 13119, 'lingo': 13120, 'brotherly': 13121, 'abbott': 13122, 'coeducational': 13123, 'kappa': 13124, 'rho': 13125, 'alpha': 13126, 'phi': 13127, 'outrunning': 13128, 'fireball': 13129, 'busts': 13130, 'comfy': 13131, 'quiver': 13132, 'ineptitudes': 13133, 'slots': 13134, 'spencer': 13135, 'tracy': 13136, 'bottomless': 13137, 'charity': 13138, 'clink': 13139, 'frenzied': 13140, 'click': 13141, 'prospective': 13142, 'embroiled': 13143, 'stupor': 13144, 'elapse': 13145, 'daddy': 13146, 'slashers': 13147, 'boiler': 13148, 'laundry': 13149, 'interlocking': 13150, 'scandinavian': 13151, 'settlers': 13152, 'yuppie': 13153, 'ganesh': 13154, 'midlevel': 13155, 'metaphorically': 13156, 'dumbest': 13157, 'sketchiest': 13158, 'mysticism': 13159, 'mystifying': 13160, 'earmarks': 13161, 'graphics': 13162, 'tad': 13163, 'schooling': 13164, 'murkiest': 13165, 'intentionally': 13166, 'thereof': 13167, 'portable': 13168, 'demeanor': 13169, 'adopts': 13170, 'stupidly': 13171, 'spoon': 13172, 'feeding': 13173, 'arrested': 13174, 'mounting': 13175, 'wholesale': 13176, 'forgetting': 13177, 'lulling': 13178, 'allergy': 13179, 'unavailable': 13180, 'ushers': 13181, 'marathon': 13182, 'influx': 13183, 'liquid': 13184, 'gallagher': 13185, 'dishonor': 13186, 'disconnected': 13187, 'somnolent': 13188, 'splendidly': 13189, 'mummified': 13190, 'sloppily': 13191, 'caterer': 13192, 'candle': 13193, 'hallways': 13194, 'windup': 13195, 'dislike': 13196, 'mating': 13197, 'noxious': 13198, 'preciousness': 13199, 'louder': 13200, 'ponytail': 13201, 'squandered': 13202, 'honey': 13203, 'deli': 13204, 'excrescence': 13205, 'consumption': 13206, 'belonged': 13207, 'beta': 13208, 'predator': 13209, 'styles': 13210, 'eastern': 13211, 'undermined': 13212, 'inadequate': 13213, 'expulsion': 13214, 'racy': 13215, 'crosscuts': 13216, 'doting': 13217, 'shun': 13218, 'fatigues': 13219, 'indistinct': 13220, 'overtime': 13221, 'irritatingly': 13222, 'error': 13223, 'mirror': 13224, 'communism': 13225, 'uninvolving': 13226, 'prompting': 13227, 'muffled': 13228, 'costumey': 13229, 'passivity': 13230, 'studiously': 13231, 'provoking': 13232, 'ploy': 13233, 'kegger': 13234, 'sounded': 13235, 'pitcher': 13236, 'margaritas': 13237, 'thrall': 13238, 'hangover': 13239, 'contents': 13240, 'cria': 13241, 'alma': 13242, 'frio': 13243, 'investing': 13244, 'emi': 13245, 'commonly': 13246, 'hire': 13247, 'mismatched': 13248, 'asinine': 13249, 'brazenly': 13250, 'solved': 13251, 'kvetch': 13252, 'armenian': 13253, 'genocide': 13254, 'website': 13255, 'gravitas': 13256, 'placeholder': 13257, 'ergo': 13258, 'unpicked': 13259, 'vine': 13260, 'afforded': 13261, 'bloodwork': 13262, 'mechanism': 13263, 'avoided': 13264, 'defensive': 13265, 'swamped': 13266, 'conciliatory': 13267, 'seasons': 13268, 'rhetorical': 13269, 'heaviness': 13270, 'synchronized': 13271, 'swimmer': 13272, 'wool': 13273, 'wetsuit': 13274, 'faking': 13275, 'mellow': 13276, 'counterculture': 13277, 'carbon': 13278, 'jackets': 13279, 'intends': 13280, 'mangle': 13281, 'voyages': 13282, 'limping': 13283, 'microwaves': 13284, 'motifs': 13285, 'basted': 13286, 'gravy': 13287, 'distributors': 13288, 'rooted': 13289, 'finder': 13290, 'opportunism': 13291, 'rein': 13292, 'twentieth': 13293, 'extensively': 13294, 'fuse': 13295, 'adherence': 13296, 'swap': 13297, 'depart': 13298, 'pandered': 13299, 'coat': 13300, 'remaining': 13301, 'heartless': 13302, 'arrogant': 13303, 'chatty': 13304, 'syndrome': 13305, 'sushi': 13306, 'swamp': 13307, 'doubled': 13308, 'georgian': 13309, 'tel': 13310, 'rome': 13311, 'breasts': 13312, 'threaten': 13313, 'upstage': 13314, 'warpath': 13315, 'devilish': 13316, 'pretentiously': 13317, 'strung': 13318, 'extravaganzas': 13319, 'overpower': 13320, 'bong': 13321, 'downing': 13322, 'alcoholic': 13323, 'beverage': 13324, 'rabbits': 13325, 'brimful': 13326, 'portion': 13327, 'respected': 13328, 'specious': 13329, 'extras': 13330, 'fictitious': 13331, 'trailers': 13332, 'scorns': 13333, 'hodgepodge': 13334, 'orphan': 13335, 'wandered': 13336, 'spurts': 13337, 'baz': 13338, 'causing': 13339, 'smelly': 13340, 'despising': 13341, 'casually': 13342, 'drain': 13343, 'unceasing': 13344, 'exposing': 13345, 'whistles': 13346, 'bells': 13347, 'mum': 13348, 'punish': 13349, 'adore': 13350, 'pancakes': 13351, 'sandal': 13352, 'howling': 13353, 'unsophisticated': 13354, 'thuggery': 13355, 'naïveté': 13356, 'arbitrary': 13357, 'pet': 13358, 'defunct': 13359, 'sorely': 13360, 'hipness': 13361, 'bundle': 13362, 'diffuses': 13363, 'glacial': 13364, 'hints': 13365, 'struts': 13366, 'pinned': 13367, 'huckster': 13368, 'lapel': 13369, 'decorates': 13370, 'lent': 13371, 'atonal': 13372, 'demonizes': 13373, 'gifting': 13374, 'vomit': 13375, 'patter': 13376, 'remainder': 13377, 'kate': 13378, 'sodden': 13379, 'violins': 13380, 'unaware': 13381, 'unlistenable': 13382, 'lowering': 13383, 'booming': 13384, 'linguistic': 13385, 'fumbling': 13386, 'whispers': 13387, 'cigarette': 13388, 'smoke': 13389, 'woozy': 13390, 'ye': 13391, 'guide': 13392, 'similarities': 13393, 'firestorm': 13394, 'fingernails': 13395, 'instinctively': 13396, 'crawled': 13397, 'eyeballs': 13398, 'disquiet': 13399, 'christians': 13400, 'reductionist': 13401, 'feelgood': 13402, 'omnipotent': 13403, 'affronted': 13404, 'secularists': 13405, 'antlers': 13406, 'shorn': 13407, 'researchers': 13408, 'obsolete': 13409, 'malediction': 13410, 'sustenance': 13411, 'grapple': 13412, 'irrevocably': 13413, 'rainy': 13414, 'disintegration': 13415, 'spry': 13416, 'snowman': 13417, 'flute': 13418, 'meltdown': 13419, 'stupidest': 13420, 'grandfather': 13421, 'boast': 13422, 'violates': 13423, 'staleness': 13424, 'slummy': 13425, 'turf': 13426, 'inconceivable': 13427, 'doa': 13428, 'straining': 13429, 'herrings': 13430, 'mouthpieces': 13431, 'lottery': 13432, 'fireballs': 13433, 'winces': 13434, 'clutches': 13435, 'gasps': 13436, 'ahem': 13437, 'ailments': 13438, 'uninflected': 13439, 'ambitiously': 13440, 'abused': 13441, 'autistic': 13442, 'depraved': 13443, 'docile': 13444, 'wordless': 13445, 'ethnographic': 13446, 'cynic': 13447, 'groaner': 13448, 'unlikable': 13449, 'dissipated': 13450, 'clyde': 13451, 'barrow': 13452, 'leafing': 13453, 'photos': 13454, 'accompanied': 13455, 'captions': 13456, 'dorm': 13457, 'rooms': 13458, 'fluke': 13459, 'subscriber': 13460, 'obligations': 13461, 'guessable': 13462, 'echoes': 13463, 'morbidity': 13464, 'shu': 13465, 'hibernation': 13466, 'facetious': 13467, 'reports': 13468, 'afterlife': 13469, 'skidding': 13470, 'limps': 13471, 'tearjerker': 13472, 'cesspool': 13473, 'plots': 13474, 'obstacle': 13475, 'agents': 13476, 'heathers': 13477, 'plato': 13478, 'therefore': 13479, 'greenlight': 13480, 'miniseries': 13481, 'astronomically': 13482, 'slimed': 13483, 'bleu': 13484, 'cheering': 13485, 'ruthlessly': 13486, 'pained': 13487, 'dislikable': 13488, 'sociopathy': 13489, 'scam': 13490, 'suckers': 13491, 'surrender': 13492, 'unrecoverable': 13493, 'recovering': 13494, 'careening': 13495, 'submerged': 13496, 'peekaboo': 13497, 'elves': 13498, 'pimps': 13499, 'ho': 13500, 'boardwalk': 13501, 'laudable': 13502, 'adrift': 13503, 'unifying': 13504, 'sophisticates': 13505, 'pitifully': 13506, 'unromantic': 13507, 'sneak': 13508, 'deviously': 13509, 'guise': 13510, 'unrequited': 13511, 'covered': 13512, 'lewd': 13513, 'useful': 13514, 'odoriferous': 13515, 'crawl': 13516, 'hardman': 13517, 'rally': 13518, 'protestors': 13519, 'gesturing': 13520, 'bedeviled': 13521, 'miscalculates': 13522, 'fiddle': 13523, 'melange': 13524, 'sap': 13525, 'devotedly': 13526, 'recreation': 13527, 'scuttled': 13528, 'devastation': 13529, 'faulty': 13530, 'spotty': 13531, 'stomps': 13532, 'hobnail': 13533, 'boots': 13534, 'natalie': 13535, 'motorized': 13536, 'scooter': 13537, 'homiletic': 13538, 'inauspicious': 13539, 'mopes': 13540, 'tract': 13541, 'meanderings': 13542, 'lessen': 13543, 'setpiece': 13544, 'blowout': 13545, 'downplaying': 13546, 'homicide': 13547, 'sermonize': 13548, 'wordy': 13549, 'wisp': 13550, 'avid': 13551, 'strenuous': 13552, 'clinch': 13553, 'escapades': 13554, 'gander': 13555, 'amuses': 13556, 'bores': 13557, 'clothed': 13558, 'expressly': 13559, 'sewage': 13560, 'shovel': 13561, 'gullets': 13562, 'simulate': 13563, 'palm': 13564, 'autopilot': 13565, 'masters': 13566, 'brawny': 13567, 'unqualified': 13568, 'entering': 13569, 'synagogue': 13570, 'ramblings': 13571, 'smorgasbord': 13572, 'soliloquies': 13573, 'comienza': 13574, 'comedia': 13575, 'termina': 13576, 'spawned': 13577, 'tantamount': 13578, 'wing': 13579, 'prayer': 13580, 'hunky': 13581, 'castle': 13582, 'sky': 13583, 'nurses': 13584, 'gaping': 13585, 'olympic': 13586, 'blustery': 13587, 'paces': 13588, 'arguing': 13589, 'surgeon': 13590, 'mends': 13591, 'meticulously': 13592, 'decommissioned': 13593, 'startle': 13594, 'stifled': 13595, 'prevalence': 13596, 'stringently': 13597, 'lumpish': 13598, 'overload': 13599, 'irreparably': 13600, 'glitter': 13601, 'betrayed': 13602, 'origin': 13603, 'mumbles': 13604, 'friggin': 13605, 'progressed': 13606, 'dodge': 13607, 'capably': 13608, 'limerick': 13609, 'scrawled': 13610, 'saddam': 13611, 'hussein': 13612, 'permission': 13613, 'scummy': 13614, 'ripoff': 13615, 'distressingly': 13616, 'rebellious': 13617, 'redone': 13618, 'inadvertent': 13619, 'cruelties': 13620, 'blacks': 13621, 'distilled': 13622, 'caucasian': 13623, 'health': 13624, 'salaries': 13625, 'agape': 13626, 'punched': 13627, 'unofficially': 13628, 'bestial': 13629, 'fragmented': 13630, 'spinoff': 13631, 'dwindles': 13632, 'bleed': 13633, 'underlies': 13634, 'keg': 13635, 'intimidated': 13636, 'aftertaste': 13637, 'populating': 13638, 'meanspirited': 13639, 'camouflaging': 13640, 'interminable': 13641, 'stave': 13642, 'hottest': 13643, 'hippest': 13644, 'outdated': 13645, 'swagger': 13646, 'intelligibility': 13647, 'despairingly': 13648, 'smallest': 13649, 'sensitivities': 13650, 'clamorous': 13651, 'forewarned': 13652, 'drown': 13653, 'gushy': 13654, 'neutral': 13655, 'laughingly': 13656, 'irksome': 13657, 'complacency': 13658, 'satisfied': 13659, 'rediscovers': 13660, 'aptitude': 13661, 'abdul': 13662, 'malik': 13663, 'filmgoers': 13664, 'vies': 13665, 'implausibility': 13666, 'chou': 13667, 'payoffs': 13668, 'backseat': 13669, 'coinage': 13670, 'pawn': 13671, 'disabilities': 13672, 'reverse': 13673, 'trope': 13674, 'avalanches': 13675, 'fuzziness': 13676, 'whoop': 13677, 'bungle': 13678, 'parables': 13679, 'brats': 13680, 'peopled': 13681, 'balding': 13682, 'log': 13683, 'uncool': 13684, 'entrée': 13685, 'flavorless': 13686, 'objects': 13687, 'rip': 13688, 'impressionistic': 13689, 'purity': 13690, 'doings': 13691, 'megaplexes': 13692, 'ushered': 13693, 'smash': 13694, 'guarantee': 13695, 'misunderstanding': 13696, 'stern': 13697, 'popping': 13698, 'illogical': 13699, 'personable': 13700, 'diretor': 13701, 'bom': 13702, 'trama': 13703, 'shelves': 13704, 'aborted': 13705, 'disappointments': 13706, 'shekhar': 13707, 'modernize': 13708, 'reconceptualize': 13709, 'fixating': 13710, 'reinforcement': 13711, 'shiver': 13712, 'indicate': 13713, 'nosedive': 13714, 'infirmity': 13715, 'prank': 13716, 'longtime': 13717, 'admirer': 13718, 'overlook': 13719, 'drawbacks': 13720, 'lazily': 13721, 'rhetoric': 13722, 'bona': 13723, 'fide': 13724, 'groaners': 13725, 'framed': 13726, 'eternal': 13727, 'pique': 13728, 'indifference': 13729, 'grievous': 13730, 'obsessively': 13731, 'icy': 13732, 'wail': 13733, 'cadence': 13734, 'suicidal': 13735, 'masquerade': 13736, 'projection': 13737, 'bouts': 13738, 'defensible': 13739, 'deliverance': 13740, 'shepard': 13741, 'shallower': 13742, 'egregiously': 13743, 'rover': 13744, 'shave': 13745, 'topping': 13746, 'cone': 13747, 'atrocities': 13748, 'treacle': 13749, 'rogue': 13750, 'assassins': 13751, 'agency': 13752, 'amnesiac': 13753, 'profundities': 13754, 'retrieve': 13755, 'trumps': 13756, 'tides': 13757, 'bolder': 13758, 'burdened': 13759, 'accessibility': 13760, 'aristocrats': 13761, 'unspools': 13762, 'blending': 13763, 'entrepreneurial': 13764, 'customers': 13765, 'glitzy': 13766, 'veggie': 13767, 'threshold': 13768, 'manifestations': 13769, 'versace': 13770, 'cues': 13771, 'blacken': 13772, 'organ': 13773, 'vengefulness': 13774, 'remained': 13775, 'dim': 13776, 'echo': 13777, 'pork': 13778, 'dumplings': 13779, 'reigns': 13780, 'fireworks': 13781, 'glamorous': 13782, 'moldering': 13783, 'strenuously': 13784, 'shipping': 13785, 'transplant': 13786, 'soil': 13787, 'resists': 13788, 'intrusion': 13789, 'arriving': 13790, 'natives': 13791, 'demonic': 13792, 'lisa': 13793, 'inhalant': 13794, 'blackout': 13795, 'transfigures': 13796, 'unchanged': 13797, 'dullard': 13798, 'detractors': 13799, 'accuse': 13800, 'humidity': 13801, 'spawn': 13802, 'fools': 13803, 'branched': 13804, 'copycat': 13805, 'interpretations': 13806, 'café': 13807, 'overhearing': 13808, 'natter': 13809, 'tables': 13810, 'pared': 13811, 'poet': 13812, 'drinker': 13813, 'exemplify': 13814, 'meager': 13815, 'resoundingly': 13816, 'bewildered': 13817, 'spookily': 13818, 'abrupt': 13819, 'glucose': 13820, 'cello': 13821, 'culled': 13822, 'fax': 13823, 'priggish': 13824, 'renewal': 13825, 'prettiest': 13826, 'kendall': 13827, 'invited': 13828, 'soiree': 13829, 'morsels': 13830, 'heaped': 13831, 'unfairly': 13832, 'fabricated': 13833, 'violated': 13834, 'targets': 13835, 'unmentionables': 13836, 'aussie': 13837, 'outage': 13838, 'cards': 13839, 'sportsmanship': 13840, 'trump': 13841, 'molehill': 13842, 'restate': 13843, 'strives': 13844, 'socially': 13845, 'encompassing': 13846, 'wavers': 13847, 'cellular': 13848, 'dodges': 13849, 'screenful': 13850, 'loads': 13851, 'shabby': 13852, 'piles': 13853, 'layer': 13854, 'amorality': 13855, 'reyes': 13856, 'iq': 13857, 'unprovoked': 13858, 'suffocate': 13859, 'illumination': 13860, 'instances': 13861, 'veil': 13862, 'timelessness': 13863, 'teenybopper': 13864, 'scandalous': 13865, 'satisfactorily': 13866, 'interpreting': 13867, 'phantasms': 13868, 'pasts': 13869, 'cohesion': 13870, 'waffle': 13871, 'helpful': 13872, 'extremist': 13873, 'fiend': 13874, 'billing': 13875, 'stodgy': 13876, 'teleprompter': 13877, 'simpleminded': 13878, 'cared': 13879, 'grayish': 13880, 'avarice': 13881, 'panic': 13882, 'witlessness': 13883, 'criminals': 13884, 'attributable': 13885, 'wrists': 13886, 'tummy': 13887, 'huggers': 13888, 'twirling': 13889, 'exclamation': 13890, 'wrecks': 13891, 'whistle': 13892, 'doltish': 13893, 'skunk': 13894, 'fetishistic': 13895, 'pretend': 13896, 'avoiding': 13897, 'disturbance': 13898, 'honors': 13899, 'helm': 13900, 'unflattering': 13901, 'comparisons': 13902, 'installments': 13903, 'detriment': 13904, 'polemical': 13905, 'cafeteria': 13906, 'goulash': 13907, 'masturbation': 13908, 'upheaval': 13909, 'april': 13910, 'bushels': 13911, 'twinkie': 13912, 'straddle': 13913, 'repetitively': 13914, 'awash': 13915, 'droning': 13916, 'masseur': 13917, 'riding': 13918, 'wimps': 13919, 'clams': 13920, 'broiling': 13921, 'hackery': 13922, 'italics': 13923, 'boosterism': 13924, 'barf': 13925, 'recall': 13926, 'desultory': 13927, 'clocked': 13928, 'vote': 13929, 'dependence': 13930, 'edged': 13931, 'tome': 13932, 'recreational': 13933, 'milked': 13934, 'drawers': 13935, 'flattening': 13936, 'poster': 13937, 'resulted': 13938, 'eloquence': 13939, 'prelude': 13940, 'smoothed': 13941, 'tidings': 13942, 'abysmally': 13943, 'tireless': 13944, 'booking': 13945, 'reiner': 13946, 'sending': 13947, 'eroticism': 13948, 'pardon': 13949, 'goth': 13950, 'boyz': 13951, 'troll': 13952, 'nightmares': 13953, 'freakshow': 13954, 'elmo': 13955, 'touts': 13956, 'tied': 13957, 'crassly': 13958, 'comedically': 13959, 'persistent': 13960, 'nihilistic': 13961, 'summons': 13962, 'quadrangle': 13963, 'reference': 13964, 'paranormal': 13965, '`': 13966, 'massacres': 13967, 'erupt': 13968, 'wanker': 13969, 'goths': 13970, 'doubles': 13971, 'emaciated': 13972, 'unambitious': 13973, 'dictums': 13974, 'jostling': 13975, 'elbowed': 13976, 'rotoscope': 13977, 'swipes': 13978, 'bambi': 13979, 'imaginary': 13980, 'fugitive': 13981, 'atrocious': 13982, 'luridly': 13983, 'softly': 13984, 'setpieces': 13985, 'expert': 13986, 'fighters': 13987, 'altered': 13988, 'jagged': 13989, 'monitor': 13990, 'extensive': 13991, 'gods': 13992, 'dependable': 13993, 'cries': 13994, 'quelle': 13995, 'omission': 13996, 'wades': 13997, 'print': 13998, 'insignificance': 13999, 'ballsy': 14000, 'emulates': 14001, 'annex': 14002, 'behave': 14003, 'lungs': 14004, 'eliminating': 14005, 'beheadings': 14006, 'watered': 14007, 'collar': 14008, 'versión': 14009, 'ningún': 14010, 'contenido': 14011, 'crappy': 14012, 'percentages': 14013, 'hooliganism': 14014, 'shootout': 14015, 'loaf': 14016, 'explodes': 14017, 'bella': 14018, 'boundless': 14019, 'dies': 14020, 'pains': 14021, 'seductiveness': 14022, 'viability': 14023, 'whet': 14024, 'uncommitted': 14025, 'ruse': 14026, 'tactic': 14027, 'stiflingly': 14028, 'innate': 14029, 'theatrics': 14030, 'flattened': 14031, 'juiceless': 14032, 'standoffish': 14033, 'saps': 14034, 'videotape': 14035, 'indecipherable': 14036, 'systematically': 14037, 'split': 14038, 'violently': 14039, 'slop': 14040, 'insults': 14041, 'addictive': 14042, 'puppy': 14043, 'neck': 14044, 'stench': 14045, 'romanticized': 14046, 'lounge': 14047, 'navigates': 14048, 'pomposity': 14049, 'pretentiousness': 14050, 'baked': 14051, 'reeked': 14052, 'salvos': 14053, 'ame': 14054, 'undo': 14055, 'slurs': 14056, 'souvlaki': 14057, 'indigestion': 14058, 'thoroughfare': 14059, 'tacks': 14060, 'varies': 14061, 'pupils': 14062, 'affect': 14063, 'kurds': 14064, 'directionless': 14065, 'bastards': 14066, 'plagued': 14067, 'grounding': 14068, 'latently': 14069, 'harps': 14070, 'jokey': 14071, 'uproariously': 14072, 'boiled': 14073, 'argot': 14074, 'stink': 14075, 'goodly': 14076, 'muttering': 14077, 'schoolboy': 14078, 'bytes': 14079, 'anciently': 14080, 'métier': 14081, 'iceberg': 14082, 'melts': 14083, 'insignificant': 14084, 'spiritless': 14085, 'lionize': 14086, 'gallic': 14087, 'fusty': 14088, 'prophet': 14089, 'uselessly': 14090, 'starship': 14091, 'sprawl': 14092, 'uncoordinated': 14093, 'vectors': 14094, 'arthur': 14095, 'crusty': 14096, 'auditorium': 14097, 'homogenized': 14098, 'tattered': 14099, 'glasses': 14100, 'embellished': 14101, 'hijinks': 14102, 'creek': 14103, 'puzzles': 14104, 'hypocritical': 14105, 'participate': 14106, 'foreshadowing': 14107, 'routinely': 14108, 'dynamited': 14109, 'gregory': 14110, 'perfervid': 14111, 'ces': 14112, 'owen': 14113, 'partnership': 14114, 'retail': 14115, 'clerk': 14116, 'impassive': 14117, 'melodramas': 14118, 'adhering': 14119, 'indulgence': 14120, 'annoyed': 14121, 'derailed': 14122, 'flush': 14123, 'testosterone': 14124, 'reactionary': 14125, 'furrow': 14126, 'whirling': 14127, 'holding': 14128, 'crushing': 14129, 'venality': 14130, 'trier': 14131, 'transcript': 14132, 'freudian': 14133, 'tomfoolery': 14134, 'mantra': 14135, 'immortals': 14136, 'heed': 14137, 'speeds': 14138, 'cockeyed': 14139, 'suggested': 14140, 'mattered': 14141, 'overexposed': 14142, 'spies': 14143, 'deer': 14144, 'waxes': 14145, 'template': 14146, 'sloughs': 14147, 'presses': 14148, 'limpid': 14149, 'heyday': 14150, 'zingers': 14151, 'underscoring': 14152, 'trusted': 14153, 'denouement': 14154, 'joylessly': 14155, 'whooshing': 14156, 'emptily': 14157, 'walt': 14158, 'becker': 14159, 'demographically': 14160, 'graffiti': 14161, 'distinguishable': 14162, 'actory': 14163, 'concoctions': 14164, 'dimness': 14165, 'rejigger': 14166, 'parlance': 14167, 'entered': 14168, 'idiotically': 14169, 'improperly': 14170, 'smaller': 14171, 'numbered': 14172, 'quota': 14173, 'warden': 14174, 'miracles': 14175, 'hrs': 14176, 'showboating': 14177, 'bogging': 14178, 'annie': 14179, 'screwing': 14180, 'intermezzo': 14181, 'insufferably': 14182, 'constricted': 14183, 'editorial': 14184, 'firmer': 14185, 'idling': 14186, 'overinflated': 14187, 'recognizes': 14188, 'extrusion': 14189, 'tagline': 14190, 'snore': 14191, 'amours': 14192, 'aircraft': 14193, 'carrier': 14194, 'sentimentalized': 14195, 'edit': 14196, 'beg': 14197, 'heap': 14198, 'defense': 14199, 'marveling': 14200, 'superhuman': 14201, 'shivers': 14202, 'overripe': 14203, 'rosemary': 14204, 'relied': 14205, 'convention': 14206, 'surround': 14207, 'contemptuous': 14208, 'zip': 14209, 'hem': 14210, 'hems': 14211, 'noticed': 14212, 'exploiting': 14213, 'novelty': 14214, 'webcast': 14215, 'roy': 14216, 'quibble': 14217, 'cackles': 14218, 'blueprint': 14219, 'bidder': 14220, 'sexploitation': 14221, 'masquerading': 14222, 'governs': 14223, 'cliques': 14224, 'explaining': 14225, 'emerged': 14226, 'brooks': 14227, 'yelling': 14228, 'endeavors': 14229, 'interlocked': 14230, 'parodied': 14231, 'loony': 14232, 'eroticized': 14233, 'slapped': 14234, 'hairpiece': 14235, 'lai': 14236, 'bitten': 14237, 'offset': 14238, 'comin': 14239, 'fearing': 14240, 'molto': 14241, 'freakish': 14242, 'ratchets': 14243, 'doggie': 14244, 'winks': 14245, 'boho': 14246, 'removed': 14247, 'galled': 14248, 'puddle': 14249, 'attractions': 14250, 'conrad': 14251, 'christ': 14252, 'stuttering': 14253, 'proposes': 14254, 'girlfriend': 14255, 'mistress': 14256, 'plumbing': 14257, 'arrangements': 14258, 'sensuous': 14259, 'aggrieved': 14260, 'decorating': 14261, 'amok': 14262, 'snagged': 14263, 'stormy': 14264, 'zap': 14265, 'bray': 14266, 'garden': 14267, 'hustlers': 14268, 'exhibits': 14269, 'salacious': 14270, 'telenovela': 14271, 'chopsocky': 14272, 'lear': 14273, 'hitman': 14274, 'shorty': 14275, 'inexpressible': 14276, 'palate': 14277, 'ditsy': 14278, 'drudgery': 14279, 'dough': 14280, 'tartly': 14281, 'doctorate': 14282, 'framing': 14283, 'ineptitude': 14284, 'publicists': 14285, 'departs': 14286, 'misuse': 14287, 'ashley': 14288, 'harlem': 14289, 'chocolate': 14290, 'somnambulant': 14291, 'outbursts': 14292, 'backlash': 14293, 'blinding': 14294, 'ordered': 14295, 'fuddled': 14296, 'oeuvre': 14297, 'gays': 14298, 'challenged': 14299, 'keening': 14300, 'sideshow': 14301, 'miami': 14302, 'unsuccessfully': 14303, 'dreaded': 14304, 'inmates': 14305, 'calculations': 14306, 'reprehensible': 14307, 'manipulating': 14308, 'bestowing': 14309, 'glee': 14310, 'icons': 14311, 'galore': 14312, 'vagueness': 14313, 'glimmer': 14314, 'naught': 14315, 'secondhand': 14316, 'glacially': 14317, 'winged': 14318, 'assailants': 14319, 'subjugate': 14320, 'dissecting': 14321, 'contours': 14322, 'dispel': 14323, 'paperbacks': 14324, 'switchblade': 14325, 'sexpot': 14326, 'dolman': 14327, 'norma': 14328, 'rae': 14329, 'resents': 14330, 'inhale': 14331, 'gutter': 14332, 'romancer': 14333, 'staggers': 14334, 'complaining': 14335, 'brainy': 14336, 'suffocation': 14337, 'caso': 14338, 'você': 14339, 'sala': 14340, 'antes': 14341, 'lhe': 14342, 'decorous': 14343, 'hubristic': 14344, 'famed': 14345, 'reproduce': 14346, 'advert': 14347, 'exhibitionism': 14348, 'exhaustingly': 14349, 'masochistic': 14350, 'captive': 14351, 'sarah': 14352, 'spade': 14353, 'citizen': 14354, 'subzero': 14355, 'inc': 14356, 'jammies': 14357, 'showers': 14358, 'wane': 14359, 'offal': 14360, 'grossly': 14361, 'kramer': 14362, 'encyclopedia': 14363, 'shoplifts': 14364, 'wanderers': 14365, 'bronx': 14366, 'cribbing': 14367, 'charade': 14368, 'spiffing': 14369, 'leftovers': 14370, 'banged': 14371, 'bode': 14372, 'mined': 14373, 'arkansas': 14374, 'peroxide': 14375, 'blond': 14376, 'honeys': 14377, 'worldly': 14378, 'reruns': 14379, 'supermarket': 14380, 'tabloids': 14381, 'lantern': 14382, 'lobotomy': 14383, 'scooped': 14384, 'franc': 14385, 'goldman': 14386, 'unbalanced': 14387, 'rhino': 14388, 'subliminally': 14389, 'province': 14390, 'overpowered': 14391, 'vacuous': 14392, 'embody': 14393, 'futility': 14394, 'explains': 14395, 'zeitgeist': 14396, 'crassness': 14397, 'bentley': 14398, 'hudson': 14399, 'stare': 14400, 'sniffle': 14401, 'respectively': 14402, 'ledger': 14403, 'amusedly': 14404, 'vaunted': 14405, 'weil': 14406, 'consumerist': 14407, 'kahn': 14408, 'summary': 14409, 'snoots': 14410, 'trotting': 14411, 'standbys': 14412, 'malarkey': 14413, 'ardently': 14414, 'gobbler': 14415, 'weaned': 14416, 'alarming': 14417, 'portent': 14418}\n",
      "Embedding matrix shape: (14419, 300)\n"
     ]
    },
    {
     "data": {
      "text/plain": [
       "1"
      ]
     },
     "execution_count": 8,
     "metadata": {},
     "output_type": "execute_result"
    }
   ],
   "source": [
    "# Initialize special tokens and indices\n",
    "PAD_TOKEN = \"<PAD>\"\n",
    "OOV_TOKEN = \"<OOV>\"\n",
    "PAD_IDX = 0\n",
    "OOV_IDX = 1\n",
    "\n",
    "# Initialize vocabulary and embeddings dictionary\n",
    "word2idx = {PAD_TOKEN: PAD_IDX, OOV_TOKEN: OOV_IDX}\n",
    "idx2word = {PAD_IDX: PAD_TOKEN, OOV_IDX: OOV_TOKEN}\n",
    "\n",
    "# Create an embedding matrix initialized with zero for special tokens\n",
    "embedding_matrix = [np.zeros(embedding_dim), np.zeros(embedding_dim)]\n",
    "\n",
    "# Function to build vocabulary and embedding matrix\n",
    "def build_vocabulary(sentences):\n",
    "    for sentence in sentences:\n",
    "        tokens = [token.lower() for token in word_tokenize(sentence)]\n",
    "        for token in tokens:\n",
    "            if token not in word2idx:\n",
    "                if token in word_vectors:\n",
    "                    word2idx[token] = len(word2idx)\n",
    "                    idx2word[len(idx2word)] = token\n",
    "                    embedding_matrix.append(word_vectors[token])\n",
    "                #else:\n",
    "                #   word2idx[token] = OOV_IDX  # Map OOV tokens to <OOV>\n",
    "\n",
    "    return word2idx, idx2word, np.array(embedding_matrix)\n",
    "\n",
    "word2idx, idx2word, embedding_matrix = build_vocabulary(train_dataset['text'])\n",
    "\n",
    "# Verifying the results\n",
    "print(\"Vocabulary:\", word2idx)\n",
    "print(\"Embedding matrix shape:\", embedding_matrix.shape)\n",
    "\n",
    "# To get the word with OOV handling, call\n",
    "word2idx.get(\"unknown_word\", OOV_IDX)"
   ]
  },
  {
   "cell_type": "code",
   "execution_count": 9,
   "metadata": {
    "id": "5JiJACYVaBiq"
   },
   "outputs": [],
   "source": [
    "import torch\n",
    "from torch.utils.data import Dataset, DataLoader\n",
    "import numpy as np\n",
    "\n",
    "# Constants\n",
    "MAX_LENGTH = 50  # Maximum length for each sequence (adjustable)\n",
    "\n",
    "class SentimentDataset(Dataset):\n",
    "    def __init__(self, texts, labels, word2idx, max_length=MAX_LENGTH):\n",
    "        self.texts = texts\n",
    "        self.labels = labels\n",
    "        self.word2idx = word2idx\n",
    "        self.max_length = max_length\n",
    "\n",
    "    def __len__(self):\n",
    "        return len(self.texts)\n",
    "\n",
    "    def __getitem__(self, idx):\n",
    "        # Tokenize and convert text to indices\n",
    "        tokens = word_tokenize(self.texts[idx].lower())\n",
    "        indices = [self.word2idx.get(token, OOV_IDX) for token in tokens]  # Map OOV words to OOV_IDX\n",
    "\n",
    "        # Store actual length before padding\n",
    "        length = min(len(indices), self.max_length)\n",
    "\n",
    "        # Pad or truncate to max_length\n",
    "        if len(indices) < self.max_length:\n",
    "            indices.extend([PAD_IDX] * (self.max_length - len(indices)))\n",
    "        else:\n",
    "            indices = indices[:self.max_length]\n",
    "\n",
    "        # Convert label to tensor\n",
    "        label = torch.tensor(self.labels[idx], dtype=torch.float32)\n",
    "\n",
    "        return torch.tensor(indices, dtype=torch.long), label, length\n",
    "\n",
    "# Collate function for DataLoader\n",
    "def collate_fn(batch):\n",
    "    texts, labels, lengths = zip(*batch)\n",
    "    texts = torch.stack(texts)\n",
    "    labels = torch.stack(labels)\n",
    "    lengths = torch.tensor(lengths)\n",
    "    return texts, labels, lengths\n"
   ]
  },
  {
   "cell_type": "code",
   "execution_count": 10,
   "metadata": {
    "id": "yKCCXggraBiq"
   },
   "outputs": [],
   "source": [
    "custom_train_dataset = SentimentDataset(train_dataset['text'], train_dataset['label'], word2idx)\n",
    "custom_dataloader = DataLoader(custom_train_dataset, batch_size=64, collate_fn=collate_fn, shuffle=True)"
   ]
  },
  {
   "cell_type": "code",
   "execution_count": 11,
   "metadata": {
    "colab": {
     "base_uri": "https://localhost:8080/"
    },
    "id": "2jo0vmQtaBiq",
    "outputId": "16a44426-0231-4792-e6d8-0dec9490fa93"
   },
   "outputs": [
    {
     "data": {
      "text/plain": [
       "(tensor([[   1,  334,    1,  ...,    0,    0,    0],\n",
       "         [ 289,   34,   79,  ...,    0,    0,    0],\n",
       "         [  69,    1,   73,  ...,    0,    0,    0],\n",
       "         ...,\n",
       "         [   2, 9574, 4141,  ...,    0,    0,    0],\n",
       "         [   2,  359,   10,  ...,    0,    0,    0],\n",
       "         [   2,  776,   65,  ...,    0,    0,    0]]),\n",
       " tensor([1., 0., 1., 0., 1., 1., 1., 1., 0., 0., 0., 0., 0., 0., 1., 1., 1., 1.,\n",
       "         0., 1., 1., 1., 0., 0., 0., 0., 1., 0., 1., 0., 1., 0., 1., 0., 0., 0.,\n",
       "         0., 0., 0., 1., 1., 0., 0., 1., 0., 0., 0., 1., 1., 0., 0., 0., 0., 1.,\n",
       "         0., 1., 0., 1., 0., 1., 1., 1., 0., 1.]),\n",
       " tensor([ 9, 21, 22, 17, 13, 21,  9, 23, 29, 19,  4, 25, 17, 16, 24, 26, 16, 26,\n",
       "         33, 41, 27,  5, 16, 23,  7, 33, 30, 17, 16, 12, 28, 33, 24, 15, 35, 45,\n",
       "         18, 19, 22, 13,  8, 36, 26, 19, 26, 45, 14, 27,  3, 12,  4,  9,  7, 13,\n",
       "         23, 27, 14,  2, 34, 29, 19, 26, 29,  9]))"
      ]
     },
     "execution_count": 11,
     "metadata": {},
     "output_type": "execute_result"
    }
   ],
   "source": [
    "a, b, c = next(iter(custom_dataloader))\n",
    "a, b, c"
   ]
  },
  {
   "cell_type": "code",
   "execution_count": 12,
   "metadata": {
    "id": "QkkxIXC8aBiq"
   },
   "outputs": [],
   "source": [
    "import torch\n",
    "import torch.nn as nn\n",
    "\n",
    "class SentimentRNN(nn.Module):\n",
    "    def __init__(self, embedding_matrix, hidden_size, output_size=1, num_layers=1, dropout=0.5):\n",
    "        super(SentimentRNN, self).__init__()\n",
    "\n",
    "        # Embedding layer using the pre-loaded Word2Vec embedding matrix\n",
    "        vocab_size, embedding_dim = embedding_matrix.shape\n",
    "        self.embedding = nn.Embedding.from_pretrained(torch.tensor(embedding_matrix, dtype=torch.float32),\n",
    "                                                      freeze=True, padding_idx=PAD_IDX)\n",
    "\n",
    "        # RNN layer (LSTM in this case)\n",
    "        self.rnn = nn.LSTM(input_size=embedding_dim, hidden_size=hidden_size, num_layers=num_layers,\n",
    "                           batch_first=True, dropout=dropout if num_layers > 1 else 0)\n",
    "\n",
    "        # Fully connected output layer\n",
    "        self.fc = nn.Linear(hidden_size, output_size)\n",
    "\n",
    "        # Sigmoid activation for binary classification\n",
    "        self.sigmoid = nn.Sigmoid()\n",
    "\n",
    "    def forward(self, x, lengths):\n",
    "        # x is the batch of token indices; lengths is the actual lengths before padding\n",
    "        embedded = self.embedding(x)  # [batch_size, seq_length, embedding_dim]\n",
    "\n",
    "        # Pack padded batch of sequences for RNN to skip over padding tokens\n",
    "        packed_embedded = nn.utils.rnn.pack_padded_sequence(embedded, lengths.cpu(), batch_first=True, enforce_sorted=False)\n",
    "\n",
    "        # RNN forward pass\n",
    "        packed_output, (hidden, _) = self.rnn(packed_embedded)\n",
    "\n",
    "        # Take the hidden state from the last RNN layer\n",
    "        hidden = hidden[-1]  # [batch_size, hidden_size]\n",
    "\n",
    "        # Fully connected layer and sigmoid activation\n",
    "        out = self.fc(hidden)\n",
    "        return self.sigmoid(out).squeeze()\n",
    "\n",
    "# Define hyperparameters\n",
    "hidden_size = 128  # Number of features in the hidden state\n",
    "output_size = 1  # Output size for binary classification (sentiment)\n",
    "num_layers = 1   # Number of RNN layers\n",
    "dropout = 0.5    # Dropout rate\n",
    "\n",
    "# Initialize the model with the pre-loaded embedding matrix from Word2Vec\n",
    "model = SentimentRNN(embedding_matrix, hidden_size, output_size, num_layers, dropout)"
   ]
  },
  {
   "cell_type": "code",
   "execution_count": 13,
   "metadata": {
    "colab": {
     "base_uri": "https://localhost:8080/"
    },
    "id": "0XZC3rr3aBiq",
    "outputId": "e33f2be2-af0d-41ab-c8aa-94c6e7b809af"
   },
   "outputs": [
    {
     "name": "stderr",
     "output_type": "stream",
     "text": [
      "Epoch 1/10 - Training: 100%|██████████| 134/134 [00:11<00:00, 11.51it/s]\n"
     ]
    },
    {
     "name": "stdout",
     "output_type": "stream",
     "text": [
      "Epoch 1/10 - Train Loss: 0.5750, Train Accuracy: 0.7018\n",
      "Epoch 1/10 - Test Loss: 0.5008, Test Accuracy: 0.7636\n"
     ]
    },
    {
     "name": "stderr",
     "output_type": "stream",
     "text": [
      "Epoch 2/10 - Training: 100%|██████████| 134/134 [00:10<00:00, 12.48it/s]\n"
     ]
    },
    {
     "name": "stdout",
     "output_type": "stream",
     "text": [
      "Epoch 2/10 - Train Loss: 0.4763, Train Accuracy: 0.7782\n",
      "Epoch 2/10 - Test Loss: 0.4891, Test Accuracy: 0.7608\n"
     ]
    },
    {
     "name": "stderr",
     "output_type": "stream",
     "text": [
      "Epoch 3/10 - Training: 100%|██████████| 134/134 [00:13<00:00, 10.18it/s]\n"
     ]
    },
    {
     "name": "stdout",
     "output_type": "stream",
     "text": [
      "Epoch 3/10 - Train Loss: 0.4532, Train Accuracy: 0.7892\n",
      "Epoch 3/10 - Test Loss: 0.4783, Test Accuracy: 0.7749\n"
     ]
    },
    {
     "name": "stderr",
     "output_type": "stream",
     "text": [
      "Epoch 4/10 - Training: 100%|██████████| 134/134 [00:12<00:00, 10.92it/s]\n"
     ]
    },
    {
     "name": "stdout",
     "output_type": "stream",
     "text": [
      "Epoch 4/10 - Train Loss: 0.4236, Train Accuracy: 0.8053\n",
      "Epoch 4/10 - Test Loss: 0.4968, Test Accuracy: 0.7589\n"
     ]
    },
    {
     "name": "stderr",
     "output_type": "stream",
     "text": [
      "Epoch 5/10 - Training: 100%|██████████| 134/134 [00:11<00:00, 11.76it/s]\n"
     ]
    },
    {
     "name": "stdout",
     "output_type": "stream",
     "text": [
      "Epoch 5/10 - Train Loss: 0.4049, Train Accuracy: 0.8186\n",
      "Epoch 5/10 - Test Loss: 0.4613, Test Accuracy: 0.7767\n"
     ]
    },
    {
     "name": "stderr",
     "output_type": "stream",
     "text": [
      "Epoch 6/10 - Training: 100%|██████████| 134/134 [00:10<00:00, 13.18it/s]\n"
     ]
    },
    {
     "name": "stdout",
     "output_type": "stream",
     "text": [
      "Epoch 6/10 - Train Loss: 0.4007, Train Accuracy: 0.8204\n",
      "Epoch 6/10 - Test Loss: 0.4559, Test Accuracy: 0.7880\n"
     ]
    },
    {
     "name": "stderr",
     "output_type": "stream",
     "text": [
      "Epoch 7/10 - Training: 100%|██████████| 134/134 [00:09<00:00, 13.41it/s]\n"
     ]
    },
    {
     "name": "stdout",
     "output_type": "stream",
     "text": [
      "Epoch 7/10 - Train Loss: 0.3697, Train Accuracy: 0.8321\n",
      "Epoch 7/10 - Test Loss: 0.4490, Test Accuracy: 0.7899\n"
     ]
    },
    {
     "name": "stderr",
     "output_type": "stream",
     "text": [
      "Epoch 8/10 - Training: 100%|██████████| 134/134 [00:10<00:00, 12.73it/s]\n"
     ]
    },
    {
     "name": "stdout",
     "output_type": "stream",
     "text": [
      "Epoch 8/10 - Train Loss: 0.3490, Train Accuracy: 0.8450\n",
      "Epoch 8/10 - Test Loss: 0.4747, Test Accuracy: 0.7767\n"
     ]
    },
    {
     "name": "stderr",
     "output_type": "stream",
     "text": [
      "Epoch 9/10 - Training: 100%|██████████| 134/134 [00:09<00:00, 13.51it/s]\n"
     ]
    },
    {
     "name": "stdout",
     "output_type": "stream",
     "text": [
      "Epoch 9/10 - Train Loss: 0.3258, Train Accuracy: 0.8572\n",
      "Epoch 9/10 - Test Loss: 0.4963, Test Accuracy: 0.7777\n"
     ]
    },
    {
     "name": "stderr",
     "output_type": "stream",
     "text": [
      "Epoch 10/10 - Training: 100%|██████████| 134/134 [00:11<00:00, 11.87it/s]\n"
     ]
    },
    {
     "name": "stdout",
     "output_type": "stream",
     "text": [
      "Epoch 10/10 - Train Loss: 0.3024, Train Accuracy: 0.8700\n",
      "Epoch 10/10 - Test Loss: 0.4738, Test Accuracy: 0.7805\n"
     ]
    }
   ],
   "source": [
    "custom_test_dataset = SentimentDataset(test_dataset['text'], test_dataset['label'], word2idx)\n",
    "custom_test_dataloader = DataLoader(custom_test_dataset, batch_size=64, collate_fn=collate_fn)\n",
    "\n",
    "import torch.optim as optim\n",
    "from tqdm import tqdm\n",
    "\n",
    "def train_and_evaluate(model, train_dataloader, test_dataloader, criterion, optimizer, num_epochs, device):\n",
    "    model = model.to(device)\n",
    "\n",
    "    for epoch in range(num_epochs):\n",
    "        # Set model to training mode\n",
    "        model.train()\n",
    "        epoch_loss = 0.0\n",
    "        correct_predictions = 0\n",
    "        total_predictions = 0\n",
    "\n",
    "        # Training Loop\n",
    "        for texts, labels, lengths in tqdm(train_dataloader, desc=f\"Epoch {epoch + 1}/{num_epochs} - Training\"):\n",
    "            # Move data to the device\n",
    "            texts, labels, lengths = texts.to(device), labels.to(device), lengths.to(device)\n",
    "\n",
    "            # Zero the parameter gradients\n",
    "            optimizer.zero_grad()\n",
    "\n",
    "            # Forward pass\n",
    "            outputs = model(texts, lengths)\n",
    "            loss = criterion(outputs, labels)\n",
    "\n",
    "            # Backward pass and optimization\n",
    "            loss.backward()\n",
    "            optimizer.step()\n",
    "\n",
    "            # Update loss and accuracy\n",
    "            epoch_loss += loss.item() * texts.size(0)  # Multiply by batch size to get total loss for the batch\n",
    "            predictions = (outputs >= 0.5).float()  # Convert probabilities to binary predictions\n",
    "            correct_predictions += (predictions == labels).sum().item()\n",
    "            total_predictions += labels.size(0)\n",
    "\n",
    "        # Calculate average training loss and accuracy for the epoch\n",
    "        avg_train_loss = epoch_loss / len(train_dataloader.dataset)\n",
    "        train_accuracy = correct_predictions / total_predictions\n",
    "        print(f\"Epoch {epoch + 1}/{num_epochs} - Train Loss: {avg_train_loss:.4f}, Train Accuracy: {train_accuracy:.4f}\")\n",
    "\n",
    "        # Evaluate on test set at the end of each epoch\n",
    "        test_loss, test_accuracy = evaluate_on_test_set(model, test_dataloader, criterion, device)\n",
    "        print(f\"Epoch {epoch + 1}/{num_epochs} - Test Loss: {test_loss:.4f}, Test Accuracy: {test_accuracy:.4f}\")\n",
    "\n",
    "def evaluate_on_test_set(model, test_dataloader, criterion, device):\n",
    "    model.eval()  # Set the model to evaluation mode\n",
    "    total_loss = 0.0\n",
    "    correct_predictions = 0\n",
    "    total_predictions = 0\n",
    "\n",
    "    with torch.no_grad():  # Disable gradient computation\n",
    "        for texts, labels, lengths in test_dataloader:\n",
    "            # Move data to the device\n",
    "            texts, labels, lengths = texts.to(device), labels.to(device), lengths.to(device)\n",
    "\n",
    "            # Forward pass\n",
    "            outputs = model(texts, lengths)\n",
    "            loss = criterion(outputs, labels)\n",
    "\n",
    "            # Update loss and accuracy\n",
    "            total_loss += loss.item() * texts.size(0)  # Multiply by batch size for total batch loss\n",
    "            predictions = (outputs >= 0.5).float()  # Convert probabilities to binary predictions\n",
    "            correct_predictions += (predictions == labels).sum().item()\n",
    "            total_predictions += labels.size(0)\n",
    "\n",
    "    # Calculate average loss and accuracy\n",
    "    avg_loss = total_loss / len(test_dataloader.dataset)\n",
    "    accuracy = correct_predictions / total_predictions\n",
    "\n",
    "    return avg_loss, accuracy\n",
    "\n",
    "# Set device, loss function, and optimizer\n",
    "device = torch.device(\"cuda\" if torch.cuda.is_available() else \"cpu\")\n",
    "criterion = nn.BCELoss()\n",
    "optimizer = optim.Adam(model.parameters(), lr=0.001)\n",
    "num_epochs = 10  # Set the number of epochs as needed\n",
    "\n",
    "# Start training and evaluating\n",
    "train_and_evaluate(model, custom_dataloader, custom_test_dataloader, criterion, optimizer, num_epochs, device)"
   ]
  },
  {
   "cell_type": "markdown",
   "metadata": {
    "id": "rOptWRu9aBir"
   },
   "source": [
    "# Part 3.1"
   ]
  },
  {
   "cell_type": "code",
   "execution_count": 14,
   "metadata": {
    "id": "nvEPAhQJaBir"
   },
   "outputs": [],
   "source": [
    "class SentimentRNN(nn.Module):\n",
    "    def __init__(self, embedding_matrix, hidden_size, output_size=1, num_layers=1, dropout=0.5):\n",
    "        super(SentimentRNN, self).__init__()\n",
    "\n",
    "        # Embedding layer without freezing, so embeddings are trainable\n",
    "        vocab_size, embedding_dim = embedding_matrix.shape\n",
    "        self.embedding = nn.Embedding.from_pretrained(\n",
    "            torch.tensor(embedding_matrix, dtype=torch.float32),\n",
    "            freeze=False,  # Set to False to allow training the embeddings\n",
    "            padding_idx=PAD_IDX\n",
    "        )\n",
    "\n",
    "        # RNN layer (LSTM)\n",
    "        self.rnn = nn.LSTM(input_size=embedding_dim, hidden_size=hidden_size, num_layers=num_layers,\n",
    "                           batch_first=True, dropout=dropout if num_layers > 1 else 0)\n",
    "\n",
    "        # Fully connected output layer\n",
    "        self.fc = nn.Linear(hidden_size, output_size)\n",
    "\n",
    "        # Sigmoid activation for binary classification\n",
    "        self.sigmoid = nn.Sigmoid()\n",
    "\n",
    "    def forward(self, x, lengths):\n",
    "        # x is the batch of token indices; lengths is the actual lengths before padding\n",
    "        embedded = self.embedding(x)  # [batch_size, seq_length, embedding_dim]\n",
    "\n",
    "        # Pack padded batch of sequences for RNN to skip over padding tokens\n",
    "        packed_embedded = nn.utils.rnn.pack_padded_sequence(embedded, lengths.cpu(), batch_first=True, enforce_sorted=False)\n",
    "\n",
    "        # RNN forward pass\n",
    "        packed_output, (hidden, _) = self.rnn(packed_embedded)\n",
    "\n",
    "        # Take the hidden state from the last RNN layer\n",
    "        hidden = hidden[-1]  # [batch_size, hidden_size]\n",
    "\n",
    "        # Fully connected layer and sigmoid activation\n",
    "        out = self.fc(hidden)\n",
    "        return self.sigmoid(out).squeeze()"
   ]
  },
  {
   "cell_type": "code",
   "execution_count": 15,
   "metadata": {
    "colab": {
     "base_uri": "https://localhost:8080/"
    },
    "id": "d5apGOUqaBir",
    "outputId": "11c8dc68-2630-4d7d-8bc9-d96f8f2378b2"
   },
   "outputs": [
    {
     "name": "stderr",
     "output_type": "stream",
     "text": [
      "Epoch 1/10 - Training: 100%|██████████| 134/134 [00:14<00:00,  9.49it/s]\n"
     ]
    },
    {
     "name": "stdout",
     "output_type": "stream",
     "text": [
      "Epoch 1/10 - Train Loss: 0.5461, Train Accuracy: 0.7124\n",
      "Epoch 1/10 - Test Loss: 0.4713, Test Accuracy: 0.7692\n"
     ]
    },
    {
     "name": "stderr",
     "output_type": "stream",
     "text": [
      "Epoch 2/10 - Training: 100%|██████████| 134/134 [00:14<00:00,  9.03it/s]\n"
     ]
    },
    {
     "name": "stdout",
     "output_type": "stream",
     "text": [
      "Epoch 2/10 - Train Loss: 0.3215, Train Accuracy: 0.8676\n",
      "Epoch 2/10 - Test Loss: 0.4400, Test Accuracy: 0.7795\n"
     ]
    },
    {
     "name": "stderr",
     "output_type": "stream",
     "text": [
      "Epoch 3/10 - Training: 100%|██████████| 134/134 [00:14<00:00,  9.37it/s]\n"
     ]
    },
    {
     "name": "stdout",
     "output_type": "stream",
     "text": [
      "Epoch 3/10 - Train Loss: 0.1857, Train Accuracy: 0.9301\n",
      "Epoch 3/10 - Test Loss: 0.5457, Test Accuracy: 0.7702\n"
     ]
    },
    {
     "name": "stderr",
     "output_type": "stream",
     "text": [
      "Epoch 4/10 - Training: 100%|██████████| 134/134 [00:13<00:00,  9.63it/s]\n"
     ]
    },
    {
     "name": "stdout",
     "output_type": "stream",
     "text": [
      "Epoch 4/10 - Train Loss: 0.0981, Train Accuracy: 0.9671\n",
      "Epoch 4/10 - Test Loss: 0.7229, Test Accuracy: 0.7533\n"
     ]
    },
    {
     "name": "stderr",
     "output_type": "stream",
     "text": [
      "Epoch 5/10 - Training: 100%|██████████| 134/134 [00:14<00:00,  9.35it/s]\n"
     ]
    },
    {
     "name": "stdout",
     "output_type": "stream",
     "text": [
      "Epoch 5/10 - Train Loss: 0.0535, Train Accuracy: 0.9821\n",
      "Epoch 5/10 - Test Loss: 0.9072, Test Accuracy: 0.7598\n"
     ]
    },
    {
     "name": "stderr",
     "output_type": "stream",
     "text": [
      "Epoch 6/10 - Training: 100%|██████████| 134/134 [00:13<00:00, 10.04it/s]\n"
     ]
    },
    {
     "name": "stdout",
     "output_type": "stream",
     "text": [
      "Epoch 6/10 - Train Loss: 0.0404, Train Accuracy: 0.9877\n",
      "Epoch 6/10 - Test Loss: 0.9606, Test Accuracy: 0.7214\n"
     ]
    },
    {
     "name": "stderr",
     "output_type": "stream",
     "text": [
      "Epoch 7/10 - Training: 100%|██████████| 134/134 [00:13<00:00, 10.31it/s]\n"
     ]
    },
    {
     "name": "stdout",
     "output_type": "stream",
     "text": [
      "Epoch 7/10 - Train Loss: 0.0304, Train Accuracy: 0.9897\n",
      "Epoch 7/10 - Test Loss: 1.1149, Test Accuracy: 0.7561\n"
     ]
    },
    {
     "name": "stderr",
     "output_type": "stream",
     "text": [
      "Epoch 8/10 - Training: 100%|██████████| 134/134 [00:12<00:00, 10.45it/s]\n"
     ]
    },
    {
     "name": "stdout",
     "output_type": "stream",
     "text": [
      "Epoch 8/10 - Train Loss: 0.0178, Train Accuracy: 0.9937\n",
      "Epoch 8/10 - Test Loss: 0.9450, Test Accuracy: 0.7542\n"
     ]
    },
    {
     "name": "stderr",
     "output_type": "stream",
     "text": [
      "Epoch 9/10 - Training: 100%|██████████| 134/134 [00:13<00:00,  9.58it/s]\n"
     ]
    },
    {
     "name": "stdout",
     "output_type": "stream",
     "text": [
      "Epoch 9/10 - Train Loss: 0.0189, Train Accuracy: 0.9937\n",
      "Epoch 9/10 - Test Loss: 1.4423, Test Accuracy: 0.7533\n"
     ]
    },
    {
     "name": "stderr",
     "output_type": "stream",
     "text": [
      "Epoch 10/10 - Training: 100%|██████████| 134/134 [00:12<00:00, 10.74it/s]\n"
     ]
    },
    {
     "name": "stdout",
     "output_type": "stream",
     "text": [
      "Epoch 10/10 - Train Loss: 0.0108, Train Accuracy: 0.9962\n",
      "Epoch 10/10 - Test Loss: 1.4376, Test Accuracy: 0.7645\n"
     ]
    }
   ],
   "source": [
    "# Ensure embeddings are trainable in SentimentRNN\n",
    "model = SentimentRNN(embedding_matrix, hidden_size=128, output_size=1, num_layers=1, dropout=0.5)\n",
    "\n",
    "# Set up training configurations\n",
    "device = torch.device(\"cuda\" if torch.cuda.is_available() else \"cpu\")\n",
    "criterion = nn.BCELoss()\n",
    "optimizer = optim.Adam(model.parameters(), lr=0.001)\n",
    "num_epochs = 10  # or any other desired number of epochs\n",
    "\n",
    "# Train and evaluate the model, which will print test accuracy after each epoch\n",
    "train_and_evaluate(model, custom_dataloader, custom_test_dataloader, criterion, optimizer, num_epochs, device)\n"
   ]
  },
  {
   "cell_type": "markdown",
   "metadata": {
    "id": "GcdoZ8BiaBir"
   },
   "source": [
    "# Part 3.2"
   ]
  },
  {
   "cell_type": "code",
   "execution_count": 16,
   "metadata": {
    "colab": {
     "base_uri": "https://localhost:8080/"
    },
    "id": "qIRWg0POaBir",
    "outputId": "34d554d8-5059-4c12-aadd-da9bdc8939c3"
   },
   "outputs": [
    {
     "name": "stdout",
     "output_type": "stream",
     "text": [
      "Final word2idx size: 14419\n",
      "Final embedding_matrix size: 14419\n"
     ]
    }
   ],
   "source": [
    "def build_vocabulary(sentences):\n",
    "    # Initialize within the function scope to avoid external influence\n",
    "    word2idx = {PAD_TOKEN: PAD_IDX, OOV_TOKEN: OOV_IDX}\n",
    "    idx2word = {PAD_IDX: PAD_TOKEN, OOV_IDX: OOV_TOKEN}\n",
    "    embedding_matrix = [np.zeros(embedding_dim), np.zeros(embedding_dim)]  # Start with PAD and OOV vectors\n",
    "\n",
    "    for sentence in sentences:\n",
    "        tokens = [token.lower() for token in word_tokenize(sentence)]\n",
    "        for token in tokens:\n",
    "            if token not in word2idx:\n",
    "                if token in word_vectors:\n",
    "                    # Add embedding for token in word_vectors\n",
    "                    word2idx[token] = len(word2idx)\n",
    "                    idx2word[len(idx2word)] = token\n",
    "                    embedding_matrix.append(word_vectors[token])\n",
    "                else:\n",
    "                    # Map OOV words to the existing <OOV> token without adding them to the vocabulary\n",
    "                    # No action needed since __getitem__ in Dataset handles OOV mapping\n",
    "                    continue\n",
    "\n",
    "    # Convert embedding_matrix to a numpy array after completion\n",
    "    embedding_matrix = np.array(embedding_matrix)\n",
    "\n",
    "    # Debugging information\n",
    "    print(\"Final word2idx size:\", len(word2idx))\n",
    "    print(\"Final embedding_matrix size:\", embedding_matrix.shape[0])\n",
    "\n",
    "    # Ensure embedding matrix size matches vocabulary size\n",
    "    assert len(word2idx) == embedding_matrix.shape[0], (\n",
    "        f\"Mismatch between word2idx ({len(word2idx)}) and embedding_matrix size ({embedding_matrix.shape[0]})\"\n",
    "    )\n",
    "\n",
    "    return word2idx, idx2word, embedding_matrix\n",
    "\n",
    "# Rebuild vocabulary and embedding matrix with isolated initialization\n",
    "word2idx, idx2word, embedding_matrix = build_vocabulary(train_dataset['text'])\n",
    "\n",
    "# Reinitialize Datasets with updated word2idx\n",
    "custom_train_dataset = SentimentDataset(train_dataset['text'], train_dataset['label'], word2idx)\n",
    "custom_test_dataset = SentimentDataset(test_dataset['text'], test_dataset['label'], word2idx)\n",
    "\n",
    "# Reinitialize DataLoaders with updated Datasets\n",
    "custom_dataloader = DataLoader(custom_train_dataset, batch_size=64, collate_fn=collate_fn, shuffle=True)\n",
    "custom_test_dataloader = DataLoader(custom_test_dataset, batch_size=64, collate_fn=collate_fn)"
   ]
  },
  {
   "cell_type": "code",
   "execution_count": 17,
   "metadata": {
    "colab": {
     "base_uri": "https://localhost:8080/"
    },
    "id": "MTQeXZEvaBir",
    "outputId": "ce736c88-1d5e-49c2-8712-94b7e76f85f4"
   },
   "outputs": [
    {
     "name": "stderr",
     "output_type": "stream",
     "text": [
      "Epoch 1/10 - Training:   0%|          | 0/134 [00:00<?, ?it/s]"
     ]
    },
    {
     "name": "stderr",
     "output_type": "stream",
     "text": [
      "Epoch 1/10 - Training: 100%|██████████| 134/134 [00:14<00:00,  9.21it/s]\n"
     ]
    },
    {
     "name": "stdout",
     "output_type": "stream",
     "text": [
      "Epoch 1/10 - Train Loss: 0.5527, Train Accuracy: 0.7097\n",
      "Epoch 1/10 - Test Loss: 0.4510, Test Accuracy: 0.7936\n"
     ]
    },
    {
     "name": "stderr",
     "output_type": "stream",
     "text": [
      "Epoch 2/10 - Training: 100%|██████████| 134/134 [00:18<00:00,  7.39it/s]\n"
     ]
    },
    {
     "name": "stdout",
     "output_type": "stream",
     "text": [
      "Epoch 2/10 - Train Loss: 0.3259, Train Accuracy: 0.8669\n",
      "Epoch 2/10 - Test Loss: 0.4566, Test Accuracy: 0.7842\n"
     ]
    },
    {
     "name": "stderr",
     "output_type": "stream",
     "text": [
      "Epoch 3/10 - Training: 100%|██████████| 134/134 [00:13<00:00,  9.99it/s]\n"
     ]
    },
    {
     "name": "stdout",
     "output_type": "stream",
     "text": [
      "Epoch 3/10 - Train Loss: 0.1789, Train Accuracy: 0.9349\n",
      "Epoch 3/10 - Test Loss: 0.5980, Test Accuracy: 0.7852\n"
     ]
    },
    {
     "name": "stderr",
     "output_type": "stream",
     "text": [
      "Epoch 4/10 - Training: 100%|██████████| 134/134 [00:12<00:00, 10.69it/s]\n"
     ]
    },
    {
     "name": "stdout",
     "output_type": "stream",
     "text": [
      "Epoch 4/10 - Train Loss: 0.1036, Train Accuracy: 0.9651\n",
      "Epoch 4/10 - Test Loss: 0.6048, Test Accuracy: 0.7598\n"
     ]
    },
    {
     "name": "stderr",
     "output_type": "stream",
     "text": [
      "Epoch 5/10 - Training: 100%|██████████| 134/134 [00:14<00:00,  9.12it/s]\n"
     ]
    },
    {
     "name": "stdout",
     "output_type": "stream",
     "text": [
      "Epoch 5/10 - Train Loss: 0.0663, Train Accuracy: 0.9789\n",
      "Epoch 5/10 - Test Loss: 0.8067, Test Accuracy: 0.7627\n"
     ]
    },
    {
     "name": "stderr",
     "output_type": "stream",
     "text": [
      "Epoch 6/10 - Training: 100%|██████████| 134/134 [00:24<00:00,  5.56it/s]\n"
     ]
    },
    {
     "name": "stdout",
     "output_type": "stream",
     "text": [
      "Epoch 6/10 - Train Loss: 0.0471, Train Accuracy: 0.9852\n",
      "Epoch 6/10 - Test Loss: 1.0880, Test Accuracy: 0.7477\n"
     ]
    },
    {
     "name": "stderr",
     "output_type": "stream",
     "text": [
      "Epoch 7/10 - Training: 100%|██████████| 134/134 [00:19<00:00,  6.89it/s]\n"
     ]
    },
    {
     "name": "stdout",
     "output_type": "stream",
     "text": [
      "Epoch 7/10 - Train Loss: 0.0322, Train Accuracy: 0.9891\n",
      "Epoch 7/10 - Test Loss: 1.0818, Test Accuracy: 0.7552\n"
     ]
    },
    {
     "name": "stderr",
     "output_type": "stream",
     "text": [
      "Epoch 8/10 - Training: 100%|██████████| 134/134 [00:18<00:00,  7.24it/s]\n"
     ]
    },
    {
     "name": "stdout",
     "output_type": "stream",
     "text": [
      "Epoch 8/10 - Train Loss: 0.0243, Train Accuracy: 0.9921\n",
      "Epoch 8/10 - Test Loss: 1.1315, Test Accuracy: 0.7636\n"
     ]
    },
    {
     "name": "stderr",
     "output_type": "stream",
     "text": [
      "Epoch 9/10 - Training: 100%|██████████| 134/134 [00:16<00:00,  8.20it/s]\n"
     ]
    },
    {
     "name": "stdout",
     "output_type": "stream",
     "text": [
      "Epoch 9/10 - Train Loss: 0.0110, Train Accuracy: 0.9962\n",
      "Epoch 9/10 - Test Loss: 1.3195, Test Accuracy: 0.7486\n"
     ]
    },
    {
     "name": "stderr",
     "output_type": "stream",
     "text": [
      "Epoch 10/10 - Training: 100%|██████████| 134/134 [00:17<00:00,  7.84it/s]\n"
     ]
    },
    {
     "name": "stdout",
     "output_type": "stream",
     "text": [
      "Epoch 10/10 - Train Loss: 0.0049, Train Accuracy: 0.9987\n",
      "Epoch 10/10 - Test Loss: 1.4228, Test Accuracy: 0.7683\n"
     ]
    }
   ],
   "source": [
    "# Ensure embeddings are set up with zero initialization for OOV words in SentimentRNN\n",
    "model = SentimentRNN(embedding_matrix, hidden_size=128, output_size=1, num_layers=1, dropout=0.5)\n",
    "\n",
    "# Training configurations\n",
    "device = torch.device(\"cuda\" if torch.cuda.is_available() else \"cpu\")\n",
    "criterion = nn.BCELoss()\n",
    "optimizer = optim.Adam(model.parameters(), lr=0.001)\n",
    "num_epochs = 10  # or another preferred number of epochs\n",
    "\n",
    "# Train and evaluate the model\n",
    "train_and_evaluate(model, custom_dataloader, custom_test_dataloader, criterion, optimizer, num_epochs, device)\n"
   ]
  },
  {
   "cell_type": "markdown",
   "metadata": {
    "id": "8ptVvilpdpQ1"
   },
   "source": [
    "# Part 3.3 - Implementing biLSTM and biGRU Models"
   ]
  },
  {
   "cell_type": "markdown",
   "metadata": {
    "id": "zXdA5kBFeDIl"
   },
   "source": [
    "### biLSTM Model"
   ]
  },
  {
   "cell_type": "code",
   "execution_count": 18,
   "metadata": {
    "id": "MpFKokejaBir"
   },
   "outputs": [],
   "source": [
    "class SentimentBiLSTM(nn.Module):\n",
    "    def __init__(self, embedding_matrix, hidden_size, output_size=1, num_layers=2, dropout=0.5):\n",
    "        super(SentimentBiLSTM, self).__init__()\n",
    "\n",
    "        # Embedding layer with trainable embeddings\n",
    "        vocab_size, embedding_dim = embedding_matrix.shape\n",
    "        self.embedding = nn.Embedding.from_pretrained(\n",
    "            torch.tensor(embedding_matrix, dtype=torch.float32),\n",
    "            freeze=False, padding_idx=PAD_IDX\n",
    "        )\n",
    "\n",
    "        # biLSTM layer with multiple layers\n",
    "        self.lstm = nn.LSTM(input_size=embedding_dim, hidden_size=hidden_size, num_layers=num_layers,\n",
    "                            batch_first=True, bidirectional=True, dropout=dropout)\n",
    "\n",
    "        # Fully connected output layer\n",
    "        self.fc = nn.Linear(hidden_size * 2, output_size)  # Multiply by 2 for bidirectional\n",
    "\n",
    "        # Sigmoid activation for binary classification\n",
    "        self.sigmoid = nn.Sigmoid()\n",
    "\n",
    "    def forward(self, x, lengths):\n",
    "        embedded = self.embedding(x)\n",
    "        packed_embedded = nn.utils.rnn.pack_padded_sequence(embedded, lengths.cpu(), batch_first=True, enforce_sorted=False)\n",
    "        packed_output, (hidden, _) = self.lstm(packed_embedded)\n",
    "        hidden = torch.cat((hidden[-2], hidden[-1]), dim=1)  # Concatenate final hidden states from both directions\n",
    "        out = self.fc(hidden)\n",
    "        return self.sigmoid(out).squeeze()"
   ]
  },
  {
   "cell_type": "code",
   "execution_count": 19,
   "metadata": {
    "colab": {
     "base_uri": "https://localhost:8080/"
    },
    "id": "xe72vEpte1QG",
    "outputId": "f6545e14-777f-4a0f-9afa-7a960e659b8b"
   },
   "outputs": [
    {
     "name": "stdout",
     "output_type": "stream",
     "text": [
      "Training and evaluating biLSTM model\n"
     ]
    },
    {
     "name": "stderr",
     "output_type": "stream",
     "text": [
      "Epoch 1/10 - Training:   0%|          | 0/134 [00:00<?, ?it/s]"
     ]
    },
    {
     "name": "stderr",
     "output_type": "stream",
     "text": [
      "Epoch 1/10 - Training: 100%|██████████| 134/134 [00:49<00:00,  2.73it/s]\n"
     ]
    },
    {
     "name": "stdout",
     "output_type": "stream",
     "text": [
      "Epoch 1/10 - Train Loss: 0.5337, Train Accuracy: 0.7019\n",
      "Epoch 1/10 - Test Loss: 0.4397, Test Accuracy: 0.8021\n"
     ]
    },
    {
     "name": "stderr",
     "output_type": "stream",
     "text": [
      "Epoch 2/10 - Training: 100%|██████████| 134/134 [00:44<00:00,  3.04it/s]\n"
     ]
    },
    {
     "name": "stdout",
     "output_type": "stream",
     "text": [
      "Epoch 2/10 - Train Loss: 0.3087, Train Accuracy: 0.8692\n",
      "Epoch 2/10 - Test Loss: 0.4664, Test Accuracy: 0.7917\n"
     ]
    },
    {
     "name": "stderr",
     "output_type": "stream",
     "text": [
      "Epoch 3/10 - Training: 100%|██████████| 134/134 [00:45<00:00,  2.93it/s]\n"
     ]
    },
    {
     "name": "stdout",
     "output_type": "stream",
     "text": [
      "Epoch 3/10 - Train Loss: 0.1687, Train Accuracy: 0.9392\n",
      "Epoch 3/10 - Test Loss: 0.5083, Test Accuracy: 0.7908\n"
     ]
    },
    {
     "name": "stderr",
     "output_type": "stream",
     "text": [
      "Epoch 4/10 - Training: 100%|██████████| 134/134 [00:44<00:00,  3.01it/s]\n"
     ]
    },
    {
     "name": "stdout",
     "output_type": "stream",
     "text": [
      "Epoch 4/10 - Train Loss: 0.0887, Train Accuracy: 0.9692\n",
      "Epoch 4/10 - Test Loss: 0.6027, Test Accuracy: 0.7749\n"
     ]
    },
    {
     "name": "stderr",
     "output_type": "stream",
     "text": [
      "Epoch 5/10 - Training: 100%|██████████| 134/134 [00:48<00:00,  2.78it/s]\n"
     ]
    },
    {
     "name": "stdout",
     "output_type": "stream",
     "text": [
      "Epoch 5/10 - Train Loss: 0.0480, Train Accuracy: 0.9834\n",
      "Epoch 5/10 - Test Loss: 0.8438, Test Accuracy: 0.7749\n"
     ]
    },
    {
     "name": "stderr",
     "output_type": "stream",
     "text": [
      "Epoch 6/10 - Training: 100%|██████████| 134/134 [00:46<00:00,  2.87it/s]\n"
     ]
    },
    {
     "name": "stdout",
     "output_type": "stream",
     "text": [
      "Epoch 6/10 - Train Loss: 0.0311, Train Accuracy: 0.9892\n",
      "Epoch 6/10 - Test Loss: 0.8793, Test Accuracy: 0.7739\n"
     ]
    },
    {
     "name": "stderr",
     "output_type": "stream",
     "text": [
      "Epoch 7/10 - Training: 100%|██████████| 134/134 [00:50<00:00,  2.65it/s]\n"
     ]
    },
    {
     "name": "stdout",
     "output_type": "stream",
     "text": [
      "Epoch 7/10 - Train Loss: 0.0172, Train Accuracy: 0.9931\n",
      "Epoch 7/10 - Test Loss: 0.9251, Test Accuracy: 0.7514\n"
     ]
    },
    {
     "name": "stderr",
     "output_type": "stream",
     "text": [
      "Epoch 8/10 - Training: 100%|██████████| 134/134 [00:47<00:00,  2.81it/s]\n"
     ]
    },
    {
     "name": "stdout",
     "output_type": "stream",
     "text": [
      "Epoch 8/10 - Train Loss: 0.0189, Train Accuracy: 0.9937\n",
      "Epoch 8/10 - Test Loss: 1.3125, Test Accuracy: 0.7674\n"
     ]
    },
    {
     "name": "stderr",
     "output_type": "stream",
     "text": [
      "Epoch 9/10 - Training: 100%|██████████| 134/134 [00:41<00:00,  3.22it/s]\n"
     ]
    },
    {
     "name": "stdout",
     "output_type": "stream",
     "text": [
      "Epoch 9/10 - Train Loss: 0.0085, Train Accuracy: 0.9971\n",
      "Epoch 9/10 - Test Loss: 1.3973, Test Accuracy: 0.7664\n"
     ]
    },
    {
     "name": "stderr",
     "output_type": "stream",
     "text": [
      "Epoch 10/10 - Training: 100%|██████████| 134/134 [00:44<00:00,  3.01it/s]\n"
     ]
    },
    {
     "name": "stdout",
     "output_type": "stream",
     "text": [
      "Epoch 10/10 - Train Loss: 0.0104, Train Accuracy: 0.9968\n",
      "Epoch 10/10 - Test Loss: 1.3669, Test Accuracy: 0.7692\n"
     ]
    }
   ],
   "source": [
    "print(\"Training and evaluating biLSTM model\")\n",
    "biLSTM_model = SentimentBiLSTM(embedding_matrix, hidden_size=128)\n",
    "optimizer = torch.optim.Adam(biLSTM_model.parameters(), lr=0.001)\n",
    "train_and_evaluate(biLSTM_model, custom_dataloader, custom_test_dataloader, criterion, optimizer, num_epochs=10, device=device)"
   ]
  },
  {
   "cell_type": "markdown",
   "metadata": {
    "id": "e5soBc4Ae4Ux"
   },
   "source": [
    "### biGRU Model"
   ]
  },
  {
   "cell_type": "code",
   "execution_count": 20,
   "metadata": {
    "id": "27QxCMDlcjrB"
   },
   "outputs": [],
   "source": [
    "class SentimentBiGRU(nn.Module):\n",
    "    def __init__(self, embedding_matrix, hidden_size, output_size=1, num_layers=2, dropout=0.5):\n",
    "        super(SentimentBiGRU, self).__init__()\n",
    "\n",
    "        # Embedding layer with trainable embeddings\n",
    "        vocab_size, embedding_dim = embedding_matrix.shape\n",
    "        self.embedding = nn.Embedding.from_pretrained(\n",
    "            torch.tensor(embedding_matrix, dtype=torch.float32),\n",
    "            freeze=False, padding_idx=PAD_IDX\n",
    "        )\n",
    "\n",
    "        # biGRU layer with multiple layers\n",
    "        self.gru = nn.GRU(input_size=embedding_dim, hidden_size=hidden_size, num_layers=num_layers,\n",
    "                          batch_first=True, bidirectional=True, dropout=dropout)\n",
    "\n",
    "        # Fully connected output layer\n",
    "        self.fc = nn.Linear(hidden_size * 2, output_size)  # Multiply by 2 for bidirectional\n",
    "\n",
    "        # Sigmoid activation for binary classification\n",
    "        self.sigmoid = nn.Sigmoid()\n",
    "\n",
    "    def forward(self, x, lengths):\n",
    "        embedded = self.embedding(x)\n",
    "        packed_embedded = nn.utils.rnn.pack_padded_sequence(embedded, lengths.cpu(), batch_first=True, enforce_sorted=False)\n",
    "        packed_output, hidden = self.gru(packed_embedded)\n",
    "        hidden = torch.cat((hidden[-2], hidden[-1]), dim=1)  # Concatenate final hidden states from both directions\n",
    "        out = self.fc(hidden)\n",
    "        return self.sigmoid(out).squeeze()"
   ]
  },
  {
   "cell_type": "code",
   "execution_count": 21,
   "metadata": {
    "colab": {
     "base_uri": "https://localhost:8080/"
    },
    "id": "hs1BZgnxfjAg",
    "outputId": "e6698292-8e06-49d2-e5e7-68328efe0667"
   },
   "outputs": [
    {
     "name": "stdout",
     "output_type": "stream",
     "text": [
      "Training and evaluating biGRU model\n"
     ]
    },
    {
     "name": "stderr",
     "output_type": "stream",
     "text": [
      "Epoch 1/10 - Training: 100%|██████████| 134/134 [00:37<00:00,  3.59it/s]\n"
     ]
    },
    {
     "name": "stdout",
     "output_type": "stream",
     "text": [
      "Epoch 1/10 - Train Loss: 0.5168, Train Accuracy: 0.7358\n",
      "Epoch 1/10 - Test Loss: 0.4469, Test Accuracy: 0.8021\n"
     ]
    },
    {
     "name": "stderr",
     "output_type": "stream",
     "text": [
      "Epoch 2/10 - Training: 100%|██████████| 134/134 [00:39<00:00,  3.42it/s]\n"
     ]
    },
    {
     "name": "stdout",
     "output_type": "stream",
     "text": [
      "Epoch 2/10 - Train Loss: 0.2946, Train Accuracy: 0.8755\n",
      "Epoch 2/10 - Test Loss: 0.4514, Test Accuracy: 0.7880\n"
     ]
    },
    {
     "name": "stderr",
     "output_type": "stream",
     "text": [
      "Epoch 3/10 - Training: 100%|██████████| 134/134 [00:38<00:00,  3.51it/s]\n"
     ]
    },
    {
     "name": "stdout",
     "output_type": "stream",
     "text": [
      "Epoch 3/10 - Train Loss: 0.1470, Train Accuracy: 0.9436\n",
      "Epoch 3/10 - Test Loss: 0.5434, Test Accuracy: 0.7749\n"
     ]
    },
    {
     "name": "stderr",
     "output_type": "stream",
     "text": [
      "Epoch 4/10 - Training: 100%|██████████| 134/134 [00:37<00:00,  3.54it/s]\n"
     ]
    },
    {
     "name": "stdout",
     "output_type": "stream",
     "text": [
      "Epoch 4/10 - Train Loss: 0.0556, Train Accuracy: 0.9819\n",
      "Epoch 4/10 - Test Loss: 0.8985, Test Accuracy: 0.7730\n"
     ]
    },
    {
     "name": "stderr",
     "output_type": "stream",
     "text": [
      "Epoch 5/10 - Training: 100%|██████████| 134/134 [00:40<00:00,  3.34it/s]\n"
     ]
    },
    {
     "name": "stdout",
     "output_type": "stream",
     "text": [
      "Epoch 5/10 - Train Loss: 0.0246, Train Accuracy: 0.9907\n",
      "Epoch 5/10 - Test Loss: 0.8855, Test Accuracy: 0.7833\n"
     ]
    },
    {
     "name": "stderr",
     "output_type": "stream",
     "text": [
      "Epoch 6/10 - Training: 100%|██████████| 134/134 [00:37<00:00,  3.59it/s]\n"
     ]
    },
    {
     "name": "stdout",
     "output_type": "stream",
     "text": [
      "Epoch 6/10 - Train Loss: 0.0164, Train Accuracy: 0.9945\n",
      "Epoch 6/10 - Test Loss: 0.9748, Test Accuracy: 0.7899\n"
     ]
    },
    {
     "name": "stderr",
     "output_type": "stream",
     "text": [
      "Epoch 7/10 - Training: 100%|██████████| 134/134 [00:34<00:00,  3.86it/s]\n"
     ]
    },
    {
     "name": "stdout",
     "output_type": "stream",
     "text": [
      "Epoch 7/10 - Train Loss: 0.0075, Train Accuracy: 0.9975\n",
      "Epoch 7/10 - Test Loss: 1.1819, Test Accuracy: 0.7833\n"
     ]
    },
    {
     "name": "stderr",
     "output_type": "stream",
     "text": [
      "Epoch 8/10 - Training: 100%|██████████| 134/134 [00:42<00:00,  3.12it/s]\n"
     ]
    },
    {
     "name": "stdout",
     "output_type": "stream",
     "text": [
      "Epoch 8/10 - Train Loss: 0.0079, Train Accuracy: 0.9975\n",
      "Epoch 8/10 - Test Loss: 1.3603, Test Accuracy: 0.7889\n"
     ]
    },
    {
     "name": "stderr",
     "output_type": "stream",
     "text": [
      "Epoch 9/10 - Training: 100%|██████████| 134/134 [00:48<00:00,  2.79it/s]\n"
     ]
    },
    {
     "name": "stdout",
     "output_type": "stream",
     "text": [
      "Epoch 9/10 - Train Loss: 0.0118, Train Accuracy: 0.9950\n",
      "Epoch 9/10 - Test Loss: 1.7621, Test Accuracy: 0.7561\n"
     ]
    },
    {
     "name": "stderr",
     "output_type": "stream",
     "text": [
      "Epoch 10/10 - Training: 100%|██████████| 134/134 [01:06<00:00,  2.02it/s]\n"
     ]
    },
    {
     "name": "stdout",
     "output_type": "stream",
     "text": [
      "Epoch 10/10 - Train Loss: 0.0111, Train Accuracy: 0.9958\n",
      "Epoch 10/10 - Test Loss: 1.5038, Test Accuracy: 0.7617\n"
     ]
    }
   ],
   "source": [
    "print(\"Training and evaluating biGRU model\")\n",
    "biGRU_model = SentimentBiGRU(embedding_matrix, hidden_size=128)\n",
    "optimizer = torch.optim.Adam(biGRU_model.parameters(), lr=0.001)\n",
    "train_and_evaluate(biGRU_model, custom_dataloader, custom_test_dataloader, criterion, optimizer, num_epochs=10, device=device)"
   ]
  },
  {
   "cell_type": "markdown",
   "metadata": {
    "id": "-jn6ptc9q2Dg"
   },
   "source": [
    "# Part 3.4 - Implementing CNN for Sentence Representation"
   ]
  },
  {
   "cell_type": "code",
   "execution_count": 22,
   "metadata": {
    "id": "SGLlNyTOq6vQ"
   },
   "outputs": [],
   "source": [
    "import torch\n",
    "import torch.nn as nn\n",
    "import torch.nn.functional as F\n",
    "\n",
    "class SentimentCNN(nn.Module):\n",
    "    def __init__(self, embedding_matrix, num_filters=100, filter_sizes=[3,4,5], hidden_dim=128, output_size=1, dropout=0.5):\n",
    "        super(SentimentCNN, self).__init__()\n",
    "\n",
    "        vocab_size, embedding_dim = embedding_matrix.shape\n",
    "        self.embedding = nn.Embedding.from_pretrained(\n",
    "            torch.tensor(embedding_matrix, dtype=torch.float32),\n",
    "            freeze=False,  # Embeddings are trainable\n",
    "            padding_idx=PAD_IDX\n",
    "        )\n",
    "\n",
    "        self.convs = nn.ModuleList([\n",
    "            nn.Conv2d(1, num_filters, (fs, embedding_dim)) for fs in filter_sizes\n",
    "        ])\n",
    "\n",
    "        self.dropout = nn.Dropout(dropout)\n",
    "        self.fc = nn.Linear(num_filters * len(filter_sizes), output_size)\n",
    "        self.sigmoid = nn.Sigmoid()\n",
    "\n",
    "    def forward(self, x, lengths):\n",
    "        embedded = self.embedding(x)  # [batch_size, seq_length, embedding_dim]\n",
    "        embedded = embedded.unsqueeze(1)  # [batch_size, 1, seq_length, embedding_dim]\n",
    "\n",
    "        conved = [F.relu(conv(embedded)).squeeze(3) for conv in self.convs]  # List of [batch_size, num_filters, *]\n",
    "        pooled = [F.max_pool1d(c, c.size(2)).squeeze(2) for c in conved]  # List of [batch_size, num_filters]\n",
    "\n",
    "        cat = torch.cat(pooled, dim=1)  # [batch_size, num_filters * len(filter_sizes)]\n",
    "        dropped = self.dropout(cat)\n",
    "        out = self.fc(dropped)\n",
    "        return self.sigmoid(out).squeeze()\n"
   ]
  },
  {
   "cell_type": "code",
   "execution_count": 23,
   "metadata": {
    "colab": {
     "base_uri": "https://localhost:8080/"
    },
    "id": "2tiAz8rerBZn",
    "outputId": "d4f8089b-7d72-4aa6-bb5e-b37df79543fa",
    "scrolled": true
   },
   "outputs": [
    {
     "name": "stdout",
     "output_type": "stream",
     "text": [
      "Training and evaluating CNN model\n"
     ]
    },
    {
     "name": "stderr",
     "output_type": "stream",
     "text": [
      "Epoch 1/10 - Training:   0%|          | 0/134 [00:00<?, ?it/s]"
     ]
    },
    {
     "name": "stderr",
     "output_type": "stream",
     "text": [
      "Epoch 1/10 - Training: 100%|██████████| 134/134 [00:20<00:00,  6.38it/s]\n"
     ]
    },
    {
     "name": "stdout",
     "output_type": "stream",
     "text": [
      "Epoch 1/10 - Train Loss: 0.5380, Train Accuracy: 0.7314\n",
      "Epoch 1/10 - Test Loss: 0.4279, Test Accuracy: 0.8002\n"
     ]
    },
    {
     "name": "stderr",
     "output_type": "stream",
     "text": [
      "Epoch 2/10 - Training: 100%|██████████| 134/134 [00:18<00:00,  7.26it/s]\n"
     ]
    },
    {
     "name": "stdout",
     "output_type": "stream",
     "text": [
      "Epoch 2/10 - Train Loss: 0.3286, Train Accuracy: 0.8596\n",
      "Epoch 2/10 - Test Loss: 0.4285, Test Accuracy: 0.7871\n"
     ]
    },
    {
     "name": "stderr",
     "output_type": "stream",
     "text": [
      "Epoch 3/10 - Training: 100%|██████████| 134/134 [00:17<00:00,  7.54it/s]\n"
     ]
    },
    {
     "name": "stdout",
     "output_type": "stream",
     "text": [
      "Epoch 3/10 - Train Loss: 0.1782, Train Accuracy: 0.9354\n",
      "Epoch 3/10 - Test Loss: 0.4764, Test Accuracy: 0.7880\n"
     ]
    },
    {
     "name": "stderr",
     "output_type": "stream",
     "text": [
      "Epoch 4/10 - Training: 100%|██████████| 134/134 [00:17<00:00,  7.87it/s]\n"
     ]
    },
    {
     "name": "stdout",
     "output_type": "stream",
     "text": [
      "Epoch 4/10 - Train Loss: 0.0825, Train Accuracy: 0.9742\n",
      "Epoch 4/10 - Test Loss: 0.5786, Test Accuracy: 0.7899\n"
     ]
    },
    {
     "name": "stderr",
     "output_type": "stream",
     "text": [
      "Epoch 5/10 - Training: 100%|██████████| 134/134 [00:16<00:00,  7.92it/s]\n"
     ]
    },
    {
     "name": "stdout",
     "output_type": "stream",
     "text": [
      "Epoch 5/10 - Train Loss: 0.0376, Train Accuracy: 0.9906\n",
      "Epoch 5/10 - Test Loss: 0.6658, Test Accuracy: 0.7880\n"
     ]
    },
    {
     "name": "stderr",
     "output_type": "stream",
     "text": [
      "Epoch 6/10 - Training: 100%|██████████| 134/134 [00:17<00:00,  7.87it/s]\n"
     ]
    },
    {
     "name": "stdout",
     "output_type": "stream",
     "text": [
      "Epoch 6/10 - Train Loss: 0.0178, Train Accuracy: 0.9975\n",
      "Epoch 6/10 - Test Loss: 0.7455, Test Accuracy: 0.7767\n"
     ]
    },
    {
     "name": "stderr",
     "output_type": "stream",
     "text": [
      "Epoch 7/10 - Training: 100%|██████████| 134/134 [00:17<00:00,  7.62it/s]\n"
     ]
    },
    {
     "name": "stdout",
     "output_type": "stream",
     "text": [
      "Epoch 7/10 - Train Loss: 0.0097, Train Accuracy: 0.9985\n",
      "Epoch 7/10 - Test Loss: 0.8157, Test Accuracy: 0.7880\n"
     ]
    },
    {
     "name": "stderr",
     "output_type": "stream",
     "text": [
      "Epoch 8/10 - Training: 100%|██████████| 134/134 [00:15<00:00,  8.73it/s]\n"
     ]
    },
    {
     "name": "stdout",
     "output_type": "stream",
     "text": [
      "Epoch 8/10 - Train Loss: 0.0061, Train Accuracy: 0.9991\n",
      "Epoch 8/10 - Test Loss: 0.8684, Test Accuracy: 0.7786\n"
     ]
    },
    {
     "name": "stderr",
     "output_type": "stream",
     "text": [
      "Epoch 9/10 - Training: 100%|██████████| 134/134 [00:16<00:00,  7.90it/s]\n"
     ]
    },
    {
     "name": "stdout",
     "output_type": "stream",
     "text": [
      "Epoch 9/10 - Train Loss: 0.0039, Train Accuracy: 0.9996\n",
      "Epoch 9/10 - Test Loss: 0.9156, Test Accuracy: 0.7749\n"
     ]
    },
    {
     "name": "stderr",
     "output_type": "stream",
     "text": [
      "Epoch 10/10 - Training: 100%|██████████| 134/134 [00:15<00:00,  8.67it/s]\n"
     ]
    },
    {
     "name": "stdout",
     "output_type": "stream",
     "text": [
      "Epoch 10/10 - Train Loss: 0.0028, Train Accuracy: 0.9996\n",
      "Epoch 10/10 - Test Loss: 1.0467, Test Accuracy: 0.7711\n"
     ]
    }
   ],
   "source": [
    "print(\"Training and evaluating CNN model\")\n",
    "cnn_model = SentimentCNN(embedding_matrix, num_filters=100, filter_sizes=[3,4,5], hidden_dim=128, dropout=0.5)\n",
    "optimizer = torch.optim.Adam(cnn_model.parameters(), lr=0.001)\n",
    "train_and_evaluate(cnn_model, custom_dataloader, custom_test_dataloader, criterion, optimizer, num_epochs=10, device=device)"
   ]
  },
  {
   "cell_type": "markdown",
   "metadata": {},
   "source": [
    "# Part 3.5"
   ]
  },
  {
   "cell_type": "code",
   "execution_count": 24,
   "metadata": {},
   "outputs": [],
   "source": [
    "import torch\n",
    "import torch.nn as nn\n",
    "import torch.nn.functional as F\n",
    "\n",
    "class SentimentRNNWithAttention(nn.Module):\n",
    "    def __init__(self, embedding_matrix, hidden_size, output_size=1, num_layers=1, dropout=0.5):\n",
    "        super(SentimentRNNWithAttention, self).__init__()\n",
    "        vocab_size, embedding_dim = embedding_matrix.shape\n",
    "        self.embedding = nn.Embedding.from_pretrained(\n",
    "            torch.tensor(embedding_matrix, dtype=torch.float32), freeze=False, padding_idx=PAD_IDX)\n",
    "\n",
    "        self.rnn = nn.LSTM(input_size=embedding_dim, hidden_size=hidden_size, num_layers=num_layers,\n",
    "                           batch_first=True, dropout=dropout if num_layers > 1 else 0, bidirectional=True)\n",
    "\n",
    "        self.attention = nn.Linear(hidden_size * 2, 1)  # Multiply by 2 for bidirectional\n",
    "        self.fc = nn.Linear(hidden_size * 2, output_size)\n",
    "        self.sigmoid = nn.Sigmoid()\n",
    "\n",
    "    def forward(self, x, lengths):\n",
    "        embedded = self.embedding(x)\n",
    "        packed_embedded = nn.utils.rnn.pack_padded_sequence(embedded, lengths.cpu(), batch_first=True, enforce_sorted=False)\n",
    "        packed_output, (hidden, _) = self.rnn(packed_embedded)\n",
    "        output, _ = nn.utils.rnn.pad_packed_sequence(packed_output, batch_first=True)\n",
    "\n",
    "        attention_weights = F.softmax(self.attention(output), dim=1)\n",
    "        context_vector = torch.sum(attention_weights * output, dim=1)\n",
    "\n",
    "        out = self.fc(context_vector)\n",
    "        return self.sigmoid(out).squeeze()\n"
   ]
  },
  {
   "cell_type": "code",
   "execution_count": 25,
   "metadata": {},
   "outputs": [
    {
     "name": "stdout",
     "output_type": "stream",
     "text": [
      "Training and evaluating biLSTM model with Attention\n"
     ]
    },
    {
     "name": "stderr",
     "output_type": "stream",
     "text": [
      "Epoch 1/10 - Training: 100%|██████████| 134/134 [00:28<00:00,  4.72it/s]\n"
     ]
    },
    {
     "name": "stdout",
     "output_type": "stream",
     "text": [
      "Epoch 1/10 - Train Loss: 0.5692, Train Accuracy: 0.7158\n",
      "Epoch 1/10 - Test Loss: 0.4671, Test Accuracy: 0.7739\n"
     ]
    },
    {
     "name": "stderr",
     "output_type": "stream",
     "text": [
      "Epoch 2/10 - Training: 100%|██████████| 134/134 [00:31<00:00,  4.24it/s]\n"
     ]
    },
    {
     "name": "stdout",
     "output_type": "stream",
     "text": [
      "Epoch 2/10 - Train Loss: 0.3428, Train Accuracy: 0.8576\n",
      "Epoch 2/10 - Test Loss: 0.4495, Test Accuracy: 0.7842\n"
     ]
    },
    {
     "name": "stderr",
     "output_type": "stream",
     "text": [
      "Epoch 3/10 - Training: 100%|██████████| 134/134 [00:33<00:00,  3.95it/s]\n"
     ]
    },
    {
     "name": "stdout",
     "output_type": "stream",
     "text": [
      "Epoch 3/10 - Train Loss: 0.1931, Train Accuracy: 0.9278\n",
      "Epoch 3/10 - Test Loss: 0.4811, Test Accuracy: 0.7974\n"
     ]
    },
    {
     "name": "stderr",
     "output_type": "stream",
     "text": [
      "Epoch 4/10 - Training: 100%|██████████| 134/134 [00:34<00:00,  3.86it/s]\n"
     ]
    },
    {
     "name": "stdout",
     "output_type": "stream",
     "text": [
      "Epoch 4/10 - Train Loss: 0.0956, Train Accuracy: 0.9665\n",
      "Epoch 4/10 - Test Loss: 0.6143, Test Accuracy: 0.7833\n"
     ]
    },
    {
     "name": "stderr",
     "output_type": "stream",
     "text": [
      "Epoch 5/10 - Training: 100%|██████████| 134/134 [00:32<00:00,  4.07it/s]\n"
     ]
    },
    {
     "name": "stdout",
     "output_type": "stream",
     "text": [
      "Epoch 5/10 - Train Loss: 0.0465, Train Accuracy: 0.9851\n",
      "Epoch 5/10 - Test Loss: 0.7752, Test Accuracy: 0.7749\n"
     ]
    },
    {
     "name": "stderr",
     "output_type": "stream",
     "text": [
      "Epoch 6/10 - Training: 100%|██████████| 134/134 [00:29<00:00,  4.55it/s]\n"
     ]
    },
    {
     "name": "stdout",
     "output_type": "stream",
     "text": [
      "Epoch 6/10 - Train Loss: 0.0293, Train Accuracy: 0.9909\n",
      "Epoch 6/10 - Test Loss: 0.8935, Test Accuracy: 0.7824\n"
     ]
    },
    {
     "name": "stderr",
     "output_type": "stream",
     "text": [
      "Epoch 7/10 - Training: 100%|██████████| 134/134 [00:34<00:00,  3.93it/s]\n"
     ]
    },
    {
     "name": "stdout",
     "output_type": "stream",
     "text": [
      "Epoch 7/10 - Train Loss: 0.0123, Train Accuracy: 0.9957\n",
      "Epoch 7/10 - Test Loss: 0.9600, Test Accuracy: 0.7842\n"
     ]
    },
    {
     "name": "stderr",
     "output_type": "stream",
     "text": [
      "Epoch 8/10 - Training: 100%|██████████| 134/134 [00:29<00:00,  4.56it/s]\n"
     ]
    },
    {
     "name": "stdout",
     "output_type": "stream",
     "text": [
      "Epoch 8/10 - Train Loss: 0.0063, Train Accuracy: 0.9979\n",
      "Epoch 8/10 - Test Loss: 1.0911, Test Accuracy: 0.7917\n"
     ]
    },
    {
     "name": "stderr",
     "output_type": "stream",
     "text": [
      "Epoch 9/10 - Training: 100%|██████████| 134/134 [00:35<00:00,  3.75it/s]\n"
     ]
    },
    {
     "name": "stdout",
     "output_type": "stream",
     "text": [
      "Epoch 9/10 - Train Loss: 0.0034, Train Accuracy: 0.9987\n",
      "Epoch 9/10 - Test Loss: 1.3379, Test Accuracy: 0.7795\n"
     ]
    },
    {
     "name": "stderr",
     "output_type": "stream",
     "text": [
      "Epoch 10/10 - Training: 100%|██████████| 134/134 [00:30<00:00,  4.35it/s]\n"
     ]
    },
    {
     "name": "stdout",
     "output_type": "stream",
     "text": [
      "Epoch 10/10 - Train Loss: 0.0032, Train Accuracy: 0.9993\n",
      "Epoch 10/10 - Test Loss: 1.2993, Test Accuracy: 0.7880\n"
     ]
    }
   ],
   "source": [
    "print(\"Training and evaluating biLSTM model with Attention\")\n",
    "biLSTM_model_with_Attention = SentimentRNNWithAttention(embedding_matrix, hidden_size, output_size, num_layers, dropout)\n",
    "optimizer = torch.optim.Adam(biLSTM_model_with_Attention.parameters(), lr=0.001)\n",
    "train_and_evaluate(biLSTM_model_with_Attention, custom_dataloader, custom_test_dataloader, criterion, optimizer, num_epochs=10, device=device)\n"
   ]
  }
 ],
 "metadata": {
  "colab": {
   "machine_shape": "hm",
   "provenance": []
  },
  "kernelspec": {
   "display_name": ".venv",
   "language": "python",
   "name": "python3"
  },
  "language_info": {
   "codemirror_mode": {
    "name": "ipython",
    "version": 3
   },
   "file_extension": ".py",
   "mimetype": "text/x-python",
   "name": "python",
   "nbconvert_exporter": "python",
   "pygments_lexer": "ipython3",
   "version": "3.12.4"
  },
  "widgets": {
   "application/vnd.jupyter.widget-state+json": {
    "00af2c2ddf69487086f41cab416a3405": {
     "model_module": "@jupyter-widgets/base",
     "model_module_version": "1.2.0",
     "model_name": "LayoutModel",
     "state": {
      "_model_module": "@jupyter-widgets/base",
      "_model_module_version": "1.2.0",
      "_model_name": "LayoutModel",
      "_view_count": null,
      "_view_module": "@jupyter-widgets/base",
      "_view_module_version": "1.2.0",
      "_view_name": "LayoutView",
      "align_content": null,
      "align_items": null,
      "align_self": null,
      "border": null,
      "bottom": null,
      "display": null,
      "flex": null,
      "flex_flow": null,
      "grid_area": null,
      "grid_auto_columns": null,
      "grid_auto_flow": null,
      "grid_auto_rows": null,
      "grid_column": null,
      "grid_gap": null,
      "grid_row": null,
      "grid_template_areas": null,
      "grid_template_columns": null,
      "grid_template_rows": null,
      "height": null,
      "justify_content": null,
      "justify_items": null,
      "left": null,
      "margin": null,
      "max_height": null,
      "max_width": null,
      "min_height": null,
      "min_width": null,
      "object_fit": null,
      "object_position": null,
      "order": null,
      "overflow": null,
      "overflow_x": null,
      "overflow_y": null,
      "padding": null,
      "right": null,
      "top": null,
      "visibility": null,
      "width": null
     }
    },
    "084a461e710745fdbe5c918fe4c7a32e": {
     "model_module": "@jupyter-widgets/controls",
     "model_module_version": "1.5.0",
     "model_name": "DescriptionStyleModel",
     "state": {
      "_model_module": "@jupyter-widgets/controls",
      "_model_module_version": "1.5.0",
      "_model_name": "DescriptionStyleModel",
      "_view_count": null,
      "_view_module": "@jupyter-widgets/base",
      "_view_module_version": "1.2.0",
      "_view_name": "StyleView",
      "description_width": ""
     }
    },
    "0efed2e3420e4d6d9ba3f48ec7406dc9": {
     "model_module": "@jupyter-widgets/controls",
     "model_module_version": "1.5.0",
     "model_name": "ProgressStyleModel",
     "state": {
      "_model_module": "@jupyter-widgets/controls",
      "_model_module_version": "1.5.0",
      "_model_name": "ProgressStyleModel",
      "_view_count": null,
      "_view_module": "@jupyter-widgets/base",
      "_view_module_version": "1.2.0",
      "_view_name": "StyleView",
      "bar_color": null,
      "description_width": ""
     }
    },
    "1341a2f3c72346b08b953476af0d4520": {
     "model_module": "@jupyter-widgets/base",
     "model_module_version": "1.2.0",
     "model_name": "LayoutModel",
     "state": {
      "_model_module": "@jupyter-widgets/base",
      "_model_module_version": "1.2.0",
      "_model_name": "LayoutModel",
      "_view_count": null,
      "_view_module": "@jupyter-widgets/base",
      "_view_module_version": "1.2.0",
      "_view_name": "LayoutView",
      "align_content": null,
      "align_items": null,
      "align_self": null,
      "border": null,
      "bottom": null,
      "display": null,
      "flex": null,
      "flex_flow": null,
      "grid_area": null,
      "grid_auto_columns": null,
      "grid_auto_flow": null,
      "grid_auto_rows": null,
      "grid_column": null,
      "grid_gap": null,
      "grid_row": null,
      "grid_template_areas": null,
      "grid_template_columns": null,
      "grid_template_rows": null,
      "height": null,
      "justify_content": null,
      "justify_items": null,
      "left": null,
      "margin": null,
      "max_height": null,
      "max_width": null,
      "min_height": null,
      "min_width": null,
      "object_fit": null,
      "object_position": null,
      "order": null,
      "overflow": null,
      "overflow_x": null,
      "overflow_y": null,
      "padding": null,
      "right": null,
      "top": null,
      "visibility": null,
      "width": null
     }
    },
    "135e8f84168e4b7eb5ea35d911742c1c": {
     "model_module": "@jupyter-widgets/controls",
     "model_module_version": "1.5.0",
     "model_name": "DescriptionStyleModel",
     "state": {
      "_model_module": "@jupyter-widgets/controls",
      "_model_module_version": "1.5.0",
      "_model_name": "DescriptionStyleModel",
      "_view_count": null,
      "_view_module": "@jupyter-widgets/base",
      "_view_module_version": "1.2.0",
      "_view_name": "StyleView",
      "description_width": ""
     }
    },
    "1463fd84cf014a8ab49e1bc430b50f1b": {
     "model_module": "@jupyter-widgets/controls",
     "model_module_version": "1.5.0",
     "model_name": "DescriptionStyleModel",
     "state": {
      "_model_module": "@jupyter-widgets/controls",
      "_model_module_version": "1.5.0",
      "_model_name": "DescriptionStyleModel",
      "_view_count": null,
      "_view_module": "@jupyter-widgets/base",
      "_view_module_version": "1.2.0",
      "_view_name": "StyleView",
      "description_width": ""
     }
    },
    "15675fd12e114ce7947b1251d0b53eb3": {
     "model_module": "@jupyter-widgets/controls",
     "model_module_version": "1.5.0",
     "model_name": "DescriptionStyleModel",
     "state": {
      "_model_module": "@jupyter-widgets/controls",
      "_model_module_version": "1.5.0",
      "_model_name": "DescriptionStyleModel",
      "_view_count": null,
      "_view_module": "@jupyter-widgets/base",
      "_view_module_version": "1.2.0",
      "_view_name": "StyleView",
      "description_width": ""
     }
    },
    "1a52257b54df47df915a152846db46f8": {
     "model_module": "@jupyter-widgets/base",
     "model_module_version": "1.2.0",
     "model_name": "LayoutModel",
     "state": {
      "_model_module": "@jupyter-widgets/base",
      "_model_module_version": "1.2.0",
      "_model_name": "LayoutModel",
      "_view_count": null,
      "_view_module": "@jupyter-widgets/base",
      "_view_module_version": "1.2.0",
      "_view_name": "LayoutView",
      "align_content": null,
      "align_items": null,
      "align_self": null,
      "border": null,
      "bottom": null,
      "display": null,
      "flex": null,
      "flex_flow": null,
      "grid_area": null,
      "grid_auto_columns": null,
      "grid_auto_flow": null,
      "grid_auto_rows": null,
      "grid_column": null,
      "grid_gap": null,
      "grid_row": null,
      "grid_template_areas": null,
      "grid_template_columns": null,
      "grid_template_rows": null,
      "height": null,
      "justify_content": null,
      "justify_items": null,
      "left": null,
      "margin": null,
      "max_height": null,
      "max_width": null,
      "min_height": null,
      "min_width": null,
      "object_fit": null,
      "object_position": null,
      "order": null,
      "overflow": null,
      "overflow_x": null,
      "overflow_y": null,
      "padding": null,
      "right": null,
      "top": null,
      "visibility": null,
      "width": null
     }
    },
    "1af3e60ff7154380b89aca156a955361": {
     "model_module": "@jupyter-widgets/controls",
     "model_module_version": "1.5.0",
     "model_name": "HBoxModel",
     "state": {
      "_dom_classes": [],
      "_model_module": "@jupyter-widgets/controls",
      "_model_module_version": "1.5.0",
      "_model_name": "HBoxModel",
      "_view_count": null,
      "_view_module": "@jupyter-widgets/controls",
      "_view_module_version": "1.5.0",
      "_view_name": "HBoxView",
      "box_style": "",
      "children": [
       "IPY_MODEL_d1cb811bb68848299c29d50d1c186831",
       "IPY_MODEL_5ddeb0d340804937b1f2af5e6724886d",
       "IPY_MODEL_2d3b865365e441bcadc23cc1a50c0aa3"
      ],
      "layout": "IPY_MODEL_00af2c2ddf69487086f41cab416a3405"
     }
    },
    "1c1ae154fb244281b5483513a55fed56": {
     "model_module": "@jupyter-widgets/controls",
     "model_module_version": "1.5.0",
     "model_name": "DescriptionStyleModel",
     "state": {
      "_model_module": "@jupyter-widgets/controls",
      "_model_module_version": "1.5.0",
      "_model_name": "DescriptionStyleModel",
      "_view_count": null,
      "_view_module": "@jupyter-widgets/base",
      "_view_module_version": "1.2.0",
      "_view_name": "StyleView",
      "description_width": ""
     }
    },
    "1c615c2fd4b8467da42782cc240c7510": {
     "model_module": "@jupyter-widgets/controls",
     "model_module_version": "1.5.0",
     "model_name": "HBoxModel",
     "state": {
      "_dom_classes": [],
      "_model_module": "@jupyter-widgets/controls",
      "_model_module_version": "1.5.0",
      "_model_name": "HBoxModel",
      "_view_count": null,
      "_view_module": "@jupyter-widgets/controls",
      "_view_module_version": "1.5.0",
      "_view_name": "HBoxView",
      "box_style": "",
      "children": [
       "IPY_MODEL_f32063fd90794d0a8e3ae099379771c4",
       "IPY_MODEL_a6c391c4796e44c7ba9fe064d93f94a8",
       "IPY_MODEL_6c2df2836eae44249c11754e80f39402"
      ],
      "layout": "IPY_MODEL_580011de1010431fa2902fcc3ba6672c"
     }
    },
    "25ed7db0c3c443c986e708df739d8809": {
     "model_module": "@jupyter-widgets/controls",
     "model_module_version": "1.5.0",
     "model_name": "DescriptionStyleModel",
     "state": {
      "_model_module": "@jupyter-widgets/controls",
      "_model_module_version": "1.5.0",
      "_model_name": "DescriptionStyleModel",
      "_view_count": null,
      "_view_module": "@jupyter-widgets/base",
      "_view_module_version": "1.2.0",
      "_view_name": "StyleView",
      "description_width": ""
     }
    },
    "2b7b8e8fdbde4446b14e55c37fd5cc18": {
     "model_module": "@jupyter-widgets/controls",
     "model_module_version": "1.5.0",
     "model_name": "HBoxModel",
     "state": {
      "_dom_classes": [],
      "_model_module": "@jupyter-widgets/controls",
      "_model_module_version": "1.5.0",
      "_model_name": "HBoxModel",
      "_view_count": null,
      "_view_module": "@jupyter-widgets/controls",
      "_view_module_version": "1.5.0",
      "_view_name": "HBoxView",
      "box_style": "",
      "children": [
       "IPY_MODEL_8403d19bd73d4008bc5352403626ce97",
       "IPY_MODEL_5a4372a4c3f640dab1480da9a228287c",
       "IPY_MODEL_2f3ca5c6adbf4aef86e920dc96a5ac8c"
      ],
      "layout": "IPY_MODEL_86f63ce3202c46c7969037b1a1ab7c00"
     }
    },
    "2d3b865365e441bcadc23cc1a50c0aa3": {
     "model_module": "@jupyter-widgets/controls",
     "model_module_version": "1.5.0",
     "model_name": "HTMLModel",
     "state": {
      "_dom_classes": [],
      "_model_module": "@jupyter-widgets/controls",
      "_model_module_version": "1.5.0",
      "_model_name": "HTMLModel",
      "_view_count": null,
      "_view_module": "@jupyter-widgets/controls",
      "_view_module_version": "1.5.0",
      "_view_name": "HTMLView",
      "description": "",
      "description_tooltip": null,
      "layout": "IPY_MODEL_478d0e1032c14053b3d04299922d0176",
      "placeholder": "​",
      "style": "IPY_MODEL_99d738cbb3dd4f02a91b59344fd227d8",
      "value": " 8530/8530 [00:00&lt;00:00, 161956.90 examples/s]"
     }
    },
    "2d6622678505480ba2c9519abd3ee2ca": {
     "model_module": "@jupyter-widgets/controls",
     "model_module_version": "1.5.0",
     "model_name": "FloatProgressModel",
     "state": {
      "_dom_classes": [],
      "_model_module": "@jupyter-widgets/controls",
      "_model_module_version": "1.5.0",
      "_model_name": "FloatProgressModel",
      "_view_count": null,
      "_view_module": "@jupyter-widgets/controls",
      "_view_module_version": "1.5.0",
      "_view_name": "ProgressView",
      "bar_style": "success",
      "description": "",
      "description_tooltip": null,
      "layout": "IPY_MODEL_e63c461c5f44457fad282874a4df2f4b",
      "max": 7457,
      "min": 0,
      "orientation": "horizontal",
      "style": "IPY_MODEL_a1910318a63d44e09df0e4302a47ad72",
      "value": 7457
     }
    },
    "2f3ca5c6adbf4aef86e920dc96a5ac8c": {
     "model_module": "@jupyter-widgets/controls",
     "model_module_version": "1.5.0",
     "model_name": "HTMLModel",
     "state": {
      "_dom_classes": [],
      "_model_module": "@jupyter-widgets/controls",
      "_model_module_version": "1.5.0",
      "_model_name": "HTMLModel",
      "_view_count": null,
      "_view_module": "@jupyter-widgets/controls",
      "_view_module_version": "1.5.0",
      "_view_name": "HTMLView",
      "description": "",
      "description_tooltip": null,
      "layout": "IPY_MODEL_63095f9356994d1abd7d317f9797094b",
      "placeholder": "​",
      "style": "IPY_MODEL_1c1ae154fb244281b5483513a55fed56",
      "value": " 90.0k/90.0k [00:00&lt;00:00, 7.41MB/s]"
     }
    },
    "38e9e3691dd64c2e8503504cdc4d0cb3": {
     "model_module": "@jupyter-widgets/controls",
     "model_module_version": "1.5.0",
     "model_name": "HTMLModel",
     "state": {
      "_dom_classes": [],
      "_model_module": "@jupyter-widgets/controls",
      "_model_module_version": "1.5.0",
      "_model_name": "HTMLModel",
      "_view_count": null,
      "_view_module": "@jupyter-widgets/controls",
      "_view_module_version": "1.5.0",
      "_view_name": "HTMLView",
      "description": "",
      "description_tooltip": null,
      "layout": "IPY_MODEL_1a52257b54df47df915a152846db46f8",
      "placeholder": "​",
      "style": "IPY_MODEL_135e8f84168e4b7eb5ea35d911742c1c",
      "value": " 1066/1066 [00:00&lt;00:00, 53478.55 examples/s]"
     }
    },
    "40ce75831cf5470f90f9e1d08ab8a3e4": {
     "model_module": "@jupyter-widgets/controls",
     "model_module_version": "1.5.0",
     "model_name": "ProgressStyleModel",
     "state": {
      "_model_module": "@jupyter-widgets/controls",
      "_model_module_version": "1.5.0",
      "_model_name": "ProgressStyleModel",
      "_view_count": null,
      "_view_module": "@jupyter-widgets/base",
      "_view_module_version": "1.2.0",
      "_view_name": "StyleView",
      "bar_color": null,
      "description_width": ""
     }
    },
    "478d0e1032c14053b3d04299922d0176": {
     "model_module": "@jupyter-widgets/base",
     "model_module_version": "1.2.0",
     "model_name": "LayoutModel",
     "state": {
      "_model_module": "@jupyter-widgets/base",
      "_model_module_version": "1.2.0",
      "_model_name": "LayoutModel",
      "_view_count": null,
      "_view_module": "@jupyter-widgets/base",
      "_view_module_version": "1.2.0",
      "_view_name": "LayoutView",
      "align_content": null,
      "align_items": null,
      "align_self": null,
      "border": null,
      "bottom": null,
      "display": null,
      "flex": null,
      "flex_flow": null,
      "grid_area": null,
      "grid_auto_columns": null,
      "grid_auto_flow": null,
      "grid_auto_rows": null,
      "grid_column": null,
      "grid_gap": null,
      "grid_row": null,
      "grid_template_areas": null,
      "grid_template_columns": null,
      "grid_template_rows": null,
      "height": null,
      "justify_content": null,
      "justify_items": null,
      "left": null,
      "margin": null,
      "max_height": null,
      "max_width": null,
      "min_height": null,
      "min_width": null,
      "object_fit": null,
      "object_position": null,
      "order": null,
      "overflow": null,
      "overflow_x": null,
      "overflow_y": null,
      "padding": null,
      "right": null,
      "top": null,
      "visibility": null,
      "width": null
     }
    },
    "4d847b0a9aa042fba4a7d8ad6845e9de": {
     "model_module": "@jupyter-widgets/controls",
     "model_module_version": "1.5.0",
     "model_name": "HTMLModel",
     "state": {
      "_dom_classes": [],
      "_model_module": "@jupyter-widgets/controls",
      "_model_module_version": "1.5.0",
      "_model_name": "HTMLModel",
      "_view_count": null,
      "_view_module": "@jupyter-widgets/controls",
      "_view_module_version": "1.5.0",
      "_view_name": "HTMLView",
      "description": "",
      "description_tooltip": null,
      "layout": "IPY_MODEL_50ec262e41ff475db5e6998643b94288",
      "placeholder": "​",
      "style": "IPY_MODEL_25ed7db0c3c443c986e708df739d8809",
      "value": " 699k/699k [00:00&lt;00:00, 28.0MB/s]"
     }
    },
    "4e338f4edb1445febc8035bca7d88be6": {
     "model_module": "@jupyter-widgets/base",
     "model_module_version": "1.2.0",
     "model_name": "LayoutModel",
     "state": {
      "_model_module": "@jupyter-widgets/base",
      "_model_module_version": "1.2.0",
      "_model_name": "LayoutModel",
      "_view_count": null,
      "_view_module": "@jupyter-widgets/base",
      "_view_module_version": "1.2.0",
      "_view_name": "LayoutView",
      "align_content": null,
      "align_items": null,
      "align_self": null,
      "border": null,
      "bottom": null,
      "display": null,
      "flex": null,
      "flex_flow": null,
      "grid_area": null,
      "grid_auto_columns": null,
      "grid_auto_flow": null,
      "grid_auto_rows": null,
      "grid_column": null,
      "grid_gap": null,
      "grid_row": null,
      "grid_template_areas": null,
      "grid_template_columns": null,
      "grid_template_rows": null,
      "height": null,
      "justify_content": null,
      "justify_items": null,
      "left": null,
      "margin": null,
      "max_height": null,
      "max_width": null,
      "min_height": null,
      "min_width": null,
      "object_fit": null,
      "object_position": null,
      "order": null,
      "overflow": null,
      "overflow_x": null,
      "overflow_y": null,
      "padding": null,
      "right": null,
      "top": null,
      "visibility": null,
      "width": null
     }
    },
    "50ac8dc4533b4210b8c645b945324a4e": {
     "model_module": "@jupyter-widgets/base",
     "model_module_version": "1.2.0",
     "model_name": "LayoutModel",
     "state": {
      "_model_module": "@jupyter-widgets/base",
      "_model_module_version": "1.2.0",
      "_model_name": "LayoutModel",
      "_view_count": null,
      "_view_module": "@jupyter-widgets/base",
      "_view_module_version": "1.2.0",
      "_view_name": "LayoutView",
      "align_content": null,
      "align_items": null,
      "align_self": null,
      "border": null,
      "bottom": null,
      "display": null,
      "flex": null,
      "flex_flow": null,
      "grid_area": null,
      "grid_auto_columns": null,
      "grid_auto_flow": null,
      "grid_auto_rows": null,
      "grid_column": null,
      "grid_gap": null,
      "grid_row": null,
      "grid_template_areas": null,
      "grid_template_columns": null,
      "grid_template_rows": null,
      "height": null,
      "justify_content": null,
      "justify_items": null,
      "left": null,
      "margin": null,
      "max_height": null,
      "max_width": null,
      "min_height": null,
      "min_width": null,
      "object_fit": null,
      "object_position": null,
      "order": null,
      "overflow": null,
      "overflow_x": null,
      "overflow_y": null,
      "padding": null,
      "right": null,
      "top": null,
      "visibility": null,
      "width": null
     }
    },
    "50ec262e41ff475db5e6998643b94288": {
     "model_module": "@jupyter-widgets/base",
     "model_module_version": "1.2.0",
     "model_name": "LayoutModel",
     "state": {
      "_model_module": "@jupyter-widgets/base",
      "_model_module_version": "1.2.0",
      "_model_name": "LayoutModel",
      "_view_count": null,
      "_view_module": "@jupyter-widgets/base",
      "_view_module_version": "1.2.0",
      "_view_name": "LayoutView",
      "align_content": null,
      "align_items": null,
      "align_self": null,
      "border": null,
      "bottom": null,
      "display": null,
      "flex": null,
      "flex_flow": null,
      "grid_area": null,
      "grid_auto_columns": null,
      "grid_auto_flow": null,
      "grid_auto_rows": null,
      "grid_column": null,
      "grid_gap": null,
      "grid_row": null,
      "grid_template_areas": null,
      "grid_template_columns": null,
      "grid_template_rows": null,
      "height": null,
      "justify_content": null,
      "justify_items": null,
      "left": null,
      "margin": null,
      "max_height": null,
      "max_width": null,
      "min_height": null,
      "min_width": null,
      "object_fit": null,
      "object_position": null,
      "order": null,
      "overflow": null,
      "overflow_x": null,
      "overflow_y": null,
      "padding": null,
      "right": null,
      "top": null,
      "visibility": null,
      "width": null
     }
    },
    "530e47071b1641669c556157592af617": {
     "model_module": "@jupyter-widgets/controls",
     "model_module_version": "1.5.0",
     "model_name": "HBoxModel",
     "state": {
      "_dom_classes": [],
      "_model_module": "@jupyter-widgets/controls",
      "_model_module_version": "1.5.0",
      "_model_name": "HBoxModel",
      "_view_count": null,
      "_view_module": "@jupyter-widgets/controls",
      "_view_module_version": "1.5.0",
      "_view_name": "HBoxView",
      "box_style": "",
      "children": [
       "IPY_MODEL_bba7a4216d9d41e7a291196011fcd731",
       "IPY_MODEL_a5f1742b512142b2beffac715a92a642",
       "IPY_MODEL_7ed59fadf46e4cc3a3b26f1d8f7335b1"
      ],
      "layout": "IPY_MODEL_7b6211548b80479199f9507bef6aa490"
     }
    },
    "54efeb726dc8438fb0bd87f6feeeabd8": {
     "model_module": "@jupyter-widgets/base",
     "model_module_version": "1.2.0",
     "model_name": "LayoutModel",
     "state": {
      "_model_module": "@jupyter-widgets/base",
      "_model_module_version": "1.2.0",
      "_model_name": "LayoutModel",
      "_view_count": null,
      "_view_module": "@jupyter-widgets/base",
      "_view_module_version": "1.2.0",
      "_view_name": "LayoutView",
      "align_content": null,
      "align_items": null,
      "align_self": null,
      "border": null,
      "bottom": null,
      "display": null,
      "flex": null,
      "flex_flow": null,
      "grid_area": null,
      "grid_auto_columns": null,
      "grid_auto_flow": null,
      "grid_auto_rows": null,
      "grid_column": null,
      "grid_gap": null,
      "grid_row": null,
      "grid_template_areas": null,
      "grid_template_columns": null,
      "grid_template_rows": null,
      "height": null,
      "justify_content": null,
      "justify_items": null,
      "left": null,
      "margin": null,
      "max_height": null,
      "max_width": null,
      "min_height": null,
      "min_width": null,
      "object_fit": null,
      "object_position": null,
      "order": null,
      "overflow": null,
      "overflow_x": null,
      "overflow_y": null,
      "padding": null,
      "right": null,
      "top": null,
      "visibility": null,
      "width": null
     }
    },
    "580011de1010431fa2902fcc3ba6672c": {
     "model_module": "@jupyter-widgets/base",
     "model_module_version": "1.2.0",
     "model_name": "LayoutModel",
     "state": {
      "_model_module": "@jupyter-widgets/base",
      "_model_module_version": "1.2.0",
      "_model_name": "LayoutModel",
      "_view_count": null,
      "_view_module": "@jupyter-widgets/base",
      "_view_module_version": "1.2.0",
      "_view_name": "LayoutView",
      "align_content": null,
      "align_items": null,
      "align_self": null,
      "border": null,
      "bottom": null,
      "display": null,
      "flex": null,
      "flex_flow": null,
      "grid_area": null,
      "grid_auto_columns": null,
      "grid_auto_flow": null,
      "grid_auto_rows": null,
      "grid_column": null,
      "grid_gap": null,
      "grid_row": null,
      "grid_template_areas": null,
      "grid_template_columns": null,
      "grid_template_rows": null,
      "height": null,
      "justify_content": null,
      "justify_items": null,
      "left": null,
      "margin": null,
      "max_height": null,
      "max_width": null,
      "min_height": null,
      "min_width": null,
      "object_fit": null,
      "object_position": null,
      "order": null,
      "overflow": null,
      "overflow_x": null,
      "overflow_y": null,
      "padding": null,
      "right": null,
      "top": null,
      "visibility": null,
      "width": null
     }
    },
    "5a4372a4c3f640dab1480da9a228287c": {
     "model_module": "@jupyter-widgets/controls",
     "model_module_version": "1.5.0",
     "model_name": "FloatProgressModel",
     "state": {
      "_dom_classes": [],
      "_model_module": "@jupyter-widgets/controls",
      "_model_module_version": "1.5.0",
      "_model_name": "FloatProgressModel",
      "_view_count": null,
      "_view_module": "@jupyter-widgets/controls",
      "_view_module_version": "1.5.0",
      "_view_name": "ProgressView",
      "bar_style": "success",
      "description": "",
      "description_tooltip": null,
      "layout": "IPY_MODEL_76fee6f08e2945309317c758c6ec0150",
      "max": 90001,
      "min": 0,
      "orientation": "horizontal",
      "style": "IPY_MODEL_0efed2e3420e4d6d9ba3f48ec7406dc9",
      "value": 90001
     }
    },
    "5ddeb0d340804937b1f2af5e6724886d": {
     "model_module": "@jupyter-widgets/controls",
     "model_module_version": "1.5.0",
     "model_name": "FloatProgressModel",
     "state": {
      "_dom_classes": [],
      "_model_module": "@jupyter-widgets/controls",
      "_model_module_version": "1.5.0",
      "_model_name": "FloatProgressModel",
      "_view_count": null,
      "_view_module": "@jupyter-widgets/controls",
      "_view_module_version": "1.5.0",
      "_view_name": "ProgressView",
      "bar_style": "success",
      "description": "",
      "description_tooltip": null,
      "layout": "IPY_MODEL_9bbc77d3a8034031a6d2edd3edfedb36",
      "max": 8530,
      "min": 0,
      "orientation": "horizontal",
      "style": "IPY_MODEL_df60df1c55f44bb48e1b12e2e3681bbd",
      "value": 8530
     }
    },
    "5e88323c779f4b22a4cd0992ab1ee792": {
     "model_module": "@jupyter-widgets/controls",
     "model_module_version": "1.5.0",
     "model_name": "DescriptionStyleModel",
     "state": {
      "_model_module": "@jupyter-widgets/controls",
      "_model_module_version": "1.5.0",
      "_model_name": "DescriptionStyleModel",
      "_view_count": null,
      "_view_module": "@jupyter-widgets/base",
      "_view_module_version": "1.2.0",
      "_view_name": "StyleView",
      "description_width": ""
     }
    },
    "63095f9356994d1abd7d317f9797094b": {
     "model_module": "@jupyter-widgets/base",
     "model_module_version": "1.2.0",
     "model_name": "LayoutModel",
     "state": {
      "_model_module": "@jupyter-widgets/base",
      "_model_module_version": "1.2.0",
      "_model_name": "LayoutModel",
      "_view_count": null,
      "_view_module": "@jupyter-widgets/base",
      "_view_module_version": "1.2.0",
      "_view_name": "LayoutView",
      "align_content": null,
      "align_items": null,
      "align_self": null,
      "border": null,
      "bottom": null,
      "display": null,
      "flex": null,
      "flex_flow": null,
      "grid_area": null,
      "grid_auto_columns": null,
      "grid_auto_flow": null,
      "grid_auto_rows": null,
      "grid_column": null,
      "grid_gap": null,
      "grid_row": null,
      "grid_template_areas": null,
      "grid_template_columns": null,
      "grid_template_rows": null,
      "height": null,
      "justify_content": null,
      "justify_items": null,
      "left": null,
      "margin": null,
      "max_height": null,
      "max_width": null,
      "min_height": null,
      "min_width": null,
      "object_fit": null,
      "object_position": null,
      "order": null,
      "overflow": null,
      "overflow_x": null,
      "overflow_y": null,
      "padding": null,
      "right": null,
      "top": null,
      "visibility": null,
      "width": null
     }
    },
    "659dab5c1a2648dcafa4c9713dc4cee5": {
     "model_module": "@jupyter-widgets/base",
     "model_module_version": "1.2.0",
     "model_name": "LayoutModel",
     "state": {
      "_model_module": "@jupyter-widgets/base",
      "_model_module_version": "1.2.0",
      "_model_name": "LayoutModel",
      "_view_count": null,
      "_view_module": "@jupyter-widgets/base",
      "_view_module_version": "1.2.0",
      "_view_name": "LayoutView",
      "align_content": null,
      "align_items": null,
      "align_self": null,
      "border": null,
      "bottom": null,
      "display": null,
      "flex": null,
      "flex_flow": null,
      "grid_area": null,
      "grid_auto_columns": null,
      "grid_auto_flow": null,
      "grid_auto_rows": null,
      "grid_column": null,
      "grid_gap": null,
      "grid_row": null,
      "grid_template_areas": null,
      "grid_template_columns": null,
      "grid_template_rows": null,
      "height": null,
      "justify_content": null,
      "justify_items": null,
      "left": null,
      "margin": null,
      "max_height": null,
      "max_width": null,
      "min_height": null,
      "min_width": null,
      "object_fit": null,
      "object_position": null,
      "order": null,
      "overflow": null,
      "overflow_x": null,
      "overflow_y": null,
      "padding": null,
      "right": null,
      "top": null,
      "visibility": null,
      "width": null
     }
    },
    "681f0e5e879b462982144f86fcf217f2": {
     "model_module": "@jupyter-widgets/controls",
     "model_module_version": "1.5.0",
     "model_name": "DescriptionStyleModel",
     "state": {
      "_model_module": "@jupyter-widgets/controls",
      "_model_module_version": "1.5.0",
      "_model_name": "DescriptionStyleModel",
      "_view_count": null,
      "_view_module": "@jupyter-widgets/base",
      "_view_module_version": "1.2.0",
      "_view_name": "StyleView",
      "description_width": ""
     }
    },
    "6a1b7fa2787a4724880f58b50d36d52d": {
     "model_module": "@jupyter-widgets/controls",
     "model_module_version": "1.5.0",
     "model_name": "HTMLModel",
     "state": {
      "_dom_classes": [],
      "_model_module": "@jupyter-widgets/controls",
      "_model_module_version": "1.5.0",
      "_model_name": "HTMLModel",
      "_view_count": null,
      "_view_module": "@jupyter-widgets/controls",
      "_view_module_version": "1.5.0",
      "_view_name": "HTMLView",
      "description": "",
      "description_tooltip": null,
      "layout": "IPY_MODEL_1341a2f3c72346b08b953476af0d4520",
      "placeholder": "​",
      "style": "IPY_MODEL_adfb28df7c4140119561689365f9164b",
      "value": "Generating validation split: 100%"
     }
    },
    "6b3979ca230647b193df69a18cbdc528": {
     "model_module": "@jupyter-widgets/base",
     "model_module_version": "1.2.0",
     "model_name": "LayoutModel",
     "state": {
      "_model_module": "@jupyter-widgets/base",
      "_model_module_version": "1.2.0",
      "_model_name": "LayoutModel",
      "_view_count": null,
      "_view_module": "@jupyter-widgets/base",
      "_view_module_version": "1.2.0",
      "_view_name": "LayoutView",
      "align_content": null,
      "align_items": null,
      "align_self": null,
      "border": null,
      "bottom": null,
      "display": null,
      "flex": null,
      "flex_flow": null,
      "grid_area": null,
      "grid_auto_columns": null,
      "grid_auto_flow": null,
      "grid_auto_rows": null,
      "grid_column": null,
      "grid_gap": null,
      "grid_row": null,
      "grid_template_areas": null,
      "grid_template_columns": null,
      "grid_template_rows": null,
      "height": null,
      "justify_content": null,
      "justify_items": null,
      "left": null,
      "margin": null,
      "max_height": null,
      "max_width": null,
      "min_height": null,
      "min_width": null,
      "object_fit": null,
      "object_position": null,
      "order": null,
      "overflow": null,
      "overflow_x": null,
      "overflow_y": null,
      "padding": null,
      "right": null,
      "top": null,
      "visibility": null,
      "width": null
     }
    },
    "6c2df2836eae44249c11754e80f39402": {
     "model_module": "@jupyter-widgets/controls",
     "model_module_version": "1.5.0",
     "model_name": "HTMLModel",
     "state": {
      "_dom_classes": [],
      "_model_module": "@jupyter-widgets/controls",
      "_model_module_version": "1.5.0",
      "_model_name": "HTMLModel",
      "_view_count": null,
      "_view_module": "@jupyter-widgets/controls",
      "_view_module_version": "1.5.0",
      "_view_name": "HTMLView",
      "description": "",
      "description_tooltip": null,
      "layout": "IPY_MODEL_659dab5c1a2648dcafa4c9713dc4cee5",
      "placeholder": "​",
      "style": "IPY_MODEL_1463fd84cf014a8ab49e1bc430b50f1b",
      "value": " 92.2k/92.2k [00:00&lt;00:00, 5.86MB/s]"
     }
    },
    "7136d20b41c340e89e48e6454f26a061": {
     "model_module": "@jupyter-widgets/base",
     "model_module_version": "1.2.0",
     "model_name": "LayoutModel",
     "state": {
      "_model_module": "@jupyter-widgets/base",
      "_model_module_version": "1.2.0",
      "_model_name": "LayoutModel",
      "_view_count": null,
      "_view_module": "@jupyter-widgets/base",
      "_view_module_version": "1.2.0",
      "_view_name": "LayoutView",
      "align_content": null,
      "align_items": null,
      "align_self": null,
      "border": null,
      "bottom": null,
      "display": null,
      "flex": null,
      "flex_flow": null,
      "grid_area": null,
      "grid_auto_columns": null,
      "grid_auto_flow": null,
      "grid_auto_rows": null,
      "grid_column": null,
      "grid_gap": null,
      "grid_row": null,
      "grid_template_areas": null,
      "grid_template_columns": null,
      "grid_template_rows": null,
      "height": null,
      "justify_content": null,
      "justify_items": null,
      "left": null,
      "margin": null,
      "max_height": null,
      "max_width": null,
      "min_height": null,
      "min_width": null,
      "object_fit": null,
      "object_position": null,
      "order": null,
      "overflow": null,
      "overflow_x": null,
      "overflow_y": null,
      "padding": null,
      "right": null,
      "top": null,
      "visibility": null,
      "width": null
     }
    },
    "742010c0b7834ad8960edc6530b66fb2": {
     "model_module": "@jupyter-widgets/base",
     "model_module_version": "1.2.0",
     "model_name": "LayoutModel",
     "state": {
      "_model_module": "@jupyter-widgets/base",
      "_model_module_version": "1.2.0",
      "_model_name": "LayoutModel",
      "_view_count": null,
      "_view_module": "@jupyter-widgets/base",
      "_view_module_version": "1.2.0",
      "_view_name": "LayoutView",
      "align_content": null,
      "align_items": null,
      "align_self": null,
      "border": null,
      "bottom": null,
      "display": null,
      "flex": null,
      "flex_flow": null,
      "grid_area": null,
      "grid_auto_columns": null,
      "grid_auto_flow": null,
      "grid_auto_rows": null,
      "grid_column": null,
      "grid_gap": null,
      "grid_row": null,
      "grid_template_areas": null,
      "grid_template_columns": null,
      "grid_template_rows": null,
      "height": null,
      "justify_content": null,
      "justify_items": null,
      "left": null,
      "margin": null,
      "max_height": null,
      "max_width": null,
      "min_height": null,
      "min_width": null,
      "object_fit": null,
      "object_position": null,
      "order": null,
      "overflow": null,
      "overflow_x": null,
      "overflow_y": null,
      "padding": null,
      "right": null,
      "top": null,
      "visibility": null,
      "width": null
     }
    },
    "76fee6f08e2945309317c758c6ec0150": {
     "model_module": "@jupyter-widgets/base",
     "model_module_version": "1.2.0",
     "model_name": "LayoutModel",
     "state": {
      "_model_module": "@jupyter-widgets/base",
      "_model_module_version": "1.2.0",
      "_model_name": "LayoutModel",
      "_view_count": null,
      "_view_module": "@jupyter-widgets/base",
      "_view_module_version": "1.2.0",
      "_view_name": "LayoutView",
      "align_content": null,
      "align_items": null,
      "align_self": null,
      "border": null,
      "bottom": null,
      "display": null,
      "flex": null,
      "flex_flow": null,
      "grid_area": null,
      "grid_auto_columns": null,
      "grid_auto_flow": null,
      "grid_auto_rows": null,
      "grid_column": null,
      "grid_gap": null,
      "grid_row": null,
      "grid_template_areas": null,
      "grid_template_columns": null,
      "grid_template_rows": null,
      "height": null,
      "justify_content": null,
      "justify_items": null,
      "left": null,
      "margin": null,
      "max_height": null,
      "max_width": null,
      "min_height": null,
      "min_width": null,
      "object_fit": null,
      "object_position": null,
      "order": null,
      "overflow": null,
      "overflow_x": null,
      "overflow_y": null,
      "padding": null,
      "right": null,
      "top": null,
      "visibility": null,
      "width": null
     }
    },
    "7b6211548b80479199f9507bef6aa490": {
     "model_module": "@jupyter-widgets/base",
     "model_module_version": "1.2.0",
     "model_name": "LayoutModel",
     "state": {
      "_model_module": "@jupyter-widgets/base",
      "_model_module_version": "1.2.0",
      "_model_name": "LayoutModel",
      "_view_count": null,
      "_view_module": "@jupyter-widgets/base",
      "_view_module_version": "1.2.0",
      "_view_name": "LayoutView",
      "align_content": null,
      "align_items": null,
      "align_self": null,
      "border": null,
      "bottom": null,
      "display": null,
      "flex": null,
      "flex_flow": null,
      "grid_area": null,
      "grid_auto_columns": null,
      "grid_auto_flow": null,
      "grid_auto_rows": null,
      "grid_column": null,
      "grid_gap": null,
      "grid_row": null,
      "grid_template_areas": null,
      "grid_template_columns": null,
      "grid_template_rows": null,
      "height": null,
      "justify_content": null,
      "justify_items": null,
      "left": null,
      "margin": null,
      "max_height": null,
      "max_width": null,
      "min_height": null,
      "min_width": null,
      "object_fit": null,
      "object_position": null,
      "order": null,
      "overflow": null,
      "overflow_x": null,
      "overflow_y": null,
      "padding": null,
      "right": null,
      "top": null,
      "visibility": null,
      "width": null
     }
    },
    "7ed59fadf46e4cc3a3b26f1d8f7335b1": {
     "model_module": "@jupyter-widgets/controls",
     "model_module_version": "1.5.0",
     "model_name": "HTMLModel",
     "state": {
      "_dom_classes": [],
      "_model_module": "@jupyter-widgets/controls",
      "_model_module_version": "1.5.0",
      "_model_name": "HTMLModel",
      "_view_count": null,
      "_view_module": "@jupyter-widgets/controls",
      "_view_module_version": "1.5.0",
      "_view_name": "HTMLView",
      "description": "",
      "description_tooltip": null,
      "layout": "IPY_MODEL_7136d20b41c340e89e48e6454f26a061",
      "placeholder": "​",
      "style": "IPY_MODEL_5e88323c779f4b22a4cd0992ab1ee792",
      "value": " 1066/1066 [00:00&lt;00:00, 49541.59 examples/s]"
     }
    },
    "838c3c197c114ee9b5666fce47aa59c2": {
     "model_module": "@jupyter-widgets/controls",
     "model_module_version": "1.5.0",
     "model_name": "DescriptionStyleModel",
     "state": {
      "_model_module": "@jupyter-widgets/controls",
      "_model_module_version": "1.5.0",
      "_model_name": "DescriptionStyleModel",
      "_view_count": null,
      "_view_module": "@jupyter-widgets/base",
      "_view_module_version": "1.2.0",
      "_view_name": "StyleView",
      "description_width": ""
     }
    },
    "8403d19bd73d4008bc5352403626ce97": {
     "model_module": "@jupyter-widgets/controls",
     "model_module_version": "1.5.0",
     "model_name": "HTMLModel",
     "state": {
      "_dom_classes": [],
      "_model_module": "@jupyter-widgets/controls",
      "_model_module_version": "1.5.0",
      "_model_name": "HTMLModel",
      "_view_count": null,
      "_view_module": "@jupyter-widgets/controls",
      "_view_module_version": "1.5.0",
      "_view_name": "HTMLView",
      "description": "",
      "description_tooltip": null,
      "layout": "IPY_MODEL_db28f96953af479599549dbc44173203",
      "placeholder": "​",
      "style": "IPY_MODEL_de702fa83846479a893d6dd83f11ffe9",
      "value": "validation.parquet: 100%"
     }
    },
    "86f63ce3202c46c7969037b1a1ab7c00": {
     "model_module": "@jupyter-widgets/base",
     "model_module_version": "1.2.0",
     "model_name": "LayoutModel",
     "state": {
      "_model_module": "@jupyter-widgets/base",
      "_model_module_version": "1.2.0",
      "_model_name": "LayoutModel",
      "_view_count": null,
      "_view_module": "@jupyter-widgets/base",
      "_view_module_version": "1.2.0",
      "_view_name": "LayoutView",
      "align_content": null,
      "align_items": null,
      "align_self": null,
      "border": null,
      "bottom": null,
      "display": null,
      "flex": null,
      "flex_flow": null,
      "grid_area": null,
      "grid_auto_columns": null,
      "grid_auto_flow": null,
      "grid_auto_rows": null,
      "grid_column": null,
      "grid_gap": null,
      "grid_row": null,
      "grid_template_areas": null,
      "grid_template_columns": null,
      "grid_template_rows": null,
      "height": null,
      "justify_content": null,
      "justify_items": null,
      "left": null,
      "margin": null,
      "max_height": null,
      "max_width": null,
      "min_height": null,
      "min_width": null,
      "object_fit": null,
      "object_position": null,
      "order": null,
      "overflow": null,
      "overflow_x": null,
      "overflow_y": null,
      "padding": null,
      "right": null,
      "top": null,
      "visibility": null,
      "width": null
     }
    },
    "95c208e24ea94c51817713b01617cb99": {
     "model_module": "@jupyter-widgets/controls",
     "model_module_version": "1.5.0",
     "model_name": "HTMLModel",
     "state": {
      "_dom_classes": [],
      "_model_module": "@jupyter-widgets/controls",
      "_model_module_version": "1.5.0",
      "_model_name": "HTMLModel",
      "_view_count": null,
      "_view_module": "@jupyter-widgets/controls",
      "_view_module_version": "1.5.0",
      "_view_name": "HTMLView",
      "description": "",
      "description_tooltip": null,
      "layout": "IPY_MODEL_54efeb726dc8438fb0bd87f6feeeabd8",
      "placeholder": "​",
      "style": "IPY_MODEL_c665cecaec8f42a3894d7a2736a99f0c",
      "value": "README.md: 100%"
     }
    },
    "97dd867f2f86446b83722f6da916bb9a": {
     "model_module": "@jupyter-widgets/controls",
     "model_module_version": "1.5.0",
     "model_name": "HTMLModel",
     "state": {
      "_dom_classes": [],
      "_model_module": "@jupyter-widgets/controls",
      "_model_module_version": "1.5.0",
      "_model_name": "HTMLModel",
      "_view_count": null,
      "_view_module": "@jupyter-widgets/controls",
      "_view_module_version": "1.5.0",
      "_view_name": "HTMLView",
      "description": "",
      "description_tooltip": null,
      "layout": "IPY_MODEL_6b3979ca230647b193df69a18cbdc528",
      "placeholder": "​",
      "style": "IPY_MODEL_681f0e5e879b462982144f86fcf217f2",
      "value": "train.parquet: 100%"
     }
    },
    "99d738cbb3dd4f02a91b59344fd227d8": {
     "model_module": "@jupyter-widgets/controls",
     "model_module_version": "1.5.0",
     "model_name": "DescriptionStyleModel",
     "state": {
      "_model_module": "@jupyter-widgets/controls",
      "_model_module_version": "1.5.0",
      "_model_name": "DescriptionStyleModel",
      "_view_count": null,
      "_view_module": "@jupyter-widgets/base",
      "_view_module_version": "1.2.0",
      "_view_name": "StyleView",
      "description_width": ""
     }
    },
    "9bbc77d3a8034031a6d2edd3edfedb36": {
     "model_module": "@jupyter-widgets/base",
     "model_module_version": "1.2.0",
     "model_name": "LayoutModel",
     "state": {
      "_model_module": "@jupyter-widgets/base",
      "_model_module_version": "1.2.0",
      "_model_name": "LayoutModel",
      "_view_count": null,
      "_view_module": "@jupyter-widgets/base",
      "_view_module_version": "1.2.0",
      "_view_name": "LayoutView",
      "align_content": null,
      "align_items": null,
      "align_self": null,
      "border": null,
      "bottom": null,
      "display": null,
      "flex": null,
      "flex_flow": null,
      "grid_area": null,
      "grid_auto_columns": null,
      "grid_auto_flow": null,
      "grid_auto_rows": null,
      "grid_column": null,
      "grid_gap": null,
      "grid_row": null,
      "grid_template_areas": null,
      "grid_template_columns": null,
      "grid_template_rows": null,
      "height": null,
      "justify_content": null,
      "justify_items": null,
      "left": null,
      "margin": null,
      "max_height": null,
      "max_width": null,
      "min_height": null,
      "min_width": null,
      "object_fit": null,
      "object_position": null,
      "order": null,
      "overflow": null,
      "overflow_x": null,
      "overflow_y": null,
      "padding": null,
      "right": null,
      "top": null,
      "visibility": null,
      "width": null
     }
    },
    "9bf1033a905b4595b19e256c7ac0e866": {
     "model_module": "@jupyter-widgets/controls",
     "model_module_version": "1.5.0",
     "model_name": "ProgressStyleModel",
     "state": {
      "_model_module": "@jupyter-widgets/controls",
      "_model_module_version": "1.5.0",
      "_model_name": "ProgressStyleModel",
      "_view_count": null,
      "_view_module": "@jupyter-widgets/base",
      "_view_module_version": "1.2.0",
      "_view_name": "StyleView",
      "bar_color": null,
      "description_width": ""
     }
    },
    "a1910318a63d44e09df0e4302a47ad72": {
     "model_module": "@jupyter-widgets/controls",
     "model_module_version": "1.5.0",
     "model_name": "ProgressStyleModel",
     "state": {
      "_model_module": "@jupyter-widgets/controls",
      "_model_module_version": "1.5.0",
      "_model_name": "ProgressStyleModel",
      "_view_count": null,
      "_view_module": "@jupyter-widgets/base",
      "_view_module_version": "1.2.0",
      "_view_name": "StyleView",
      "bar_color": null,
      "description_width": ""
     }
    },
    "a5f1742b512142b2beffac715a92a642": {
     "model_module": "@jupyter-widgets/controls",
     "model_module_version": "1.5.0",
     "model_name": "FloatProgressModel",
     "state": {
      "_dom_classes": [],
      "_model_module": "@jupyter-widgets/controls",
      "_model_module_version": "1.5.0",
      "_model_name": "FloatProgressModel",
      "_view_count": null,
      "_view_module": "@jupyter-widgets/controls",
      "_view_module_version": "1.5.0",
      "_view_name": "ProgressView",
      "bar_style": "success",
      "description": "",
      "description_tooltip": null,
      "layout": "IPY_MODEL_fdbc7f38f5b241c182eefb7616274182",
      "max": 1066,
      "min": 0,
      "orientation": "horizontal",
      "style": "IPY_MODEL_9bf1033a905b4595b19e256c7ac0e866",
      "value": 1066
     }
    },
    "a6c391c4796e44c7ba9fe064d93f94a8": {
     "model_module": "@jupyter-widgets/controls",
     "model_module_version": "1.5.0",
     "model_name": "FloatProgressModel",
     "state": {
      "_dom_classes": [],
      "_model_module": "@jupyter-widgets/controls",
      "_model_module_version": "1.5.0",
      "_model_name": "FloatProgressModel",
      "_view_count": null,
      "_view_module": "@jupyter-widgets/controls",
      "_view_module_version": "1.5.0",
      "_view_name": "ProgressView",
      "bar_style": "success",
      "description": "",
      "description_tooltip": null,
      "layout": "IPY_MODEL_dc7301471c61437b9d7bf31ee7eea866",
      "max": 92206,
      "min": 0,
      "orientation": "horizontal",
      "style": "IPY_MODEL_c7a146af30924fc6913267fd18999d38",
      "value": 92206
     }
    },
    "a71b03f324674c198d483472d4832c01": {
     "model_module": "@jupyter-widgets/controls",
     "model_module_version": "1.5.0",
     "model_name": "HBoxModel",
     "state": {
      "_dom_classes": [],
      "_model_module": "@jupyter-widgets/controls",
      "_model_module_version": "1.5.0",
      "_model_name": "HBoxModel",
      "_view_count": null,
      "_view_module": "@jupyter-widgets/controls",
      "_view_module_version": "1.5.0",
      "_view_name": "HBoxView",
      "box_style": "",
      "children": [
       "IPY_MODEL_95c208e24ea94c51817713b01617cb99",
       "IPY_MODEL_2d6622678505480ba2c9519abd3ee2ca",
       "IPY_MODEL_c39dd99fe66545f197fa6d50340c9cd3"
      ],
      "layout": "IPY_MODEL_50ac8dc4533b4210b8c645b945324a4e"
     }
    },
    "abe4fe3dfc7f41d7977e1f48d77ceea3": {
     "model_module": "@jupyter-widgets/base",
     "model_module_version": "1.2.0",
     "model_name": "LayoutModel",
     "state": {
      "_model_module": "@jupyter-widgets/base",
      "_model_module_version": "1.2.0",
      "_model_name": "LayoutModel",
      "_view_count": null,
      "_view_module": "@jupyter-widgets/base",
      "_view_module_version": "1.2.0",
      "_view_name": "LayoutView",
      "align_content": null,
      "align_items": null,
      "align_self": null,
      "border": null,
      "bottom": null,
      "display": null,
      "flex": null,
      "flex_flow": null,
      "grid_area": null,
      "grid_auto_columns": null,
      "grid_auto_flow": null,
      "grid_auto_rows": null,
      "grid_column": null,
      "grid_gap": null,
      "grid_row": null,
      "grid_template_areas": null,
      "grid_template_columns": null,
      "grid_template_rows": null,
      "height": null,
      "justify_content": null,
      "justify_items": null,
      "left": null,
      "margin": null,
      "max_height": null,
      "max_width": null,
      "min_height": null,
      "min_width": null,
      "object_fit": null,
      "object_position": null,
      "order": null,
      "overflow": null,
      "overflow_x": null,
      "overflow_y": null,
      "padding": null,
      "right": null,
      "top": null,
      "visibility": null,
      "width": null
     }
    },
    "adfb28df7c4140119561689365f9164b": {
     "model_module": "@jupyter-widgets/controls",
     "model_module_version": "1.5.0",
     "model_name": "DescriptionStyleModel",
     "state": {
      "_model_module": "@jupyter-widgets/controls",
      "_model_module_version": "1.5.0",
      "_model_name": "DescriptionStyleModel",
      "_view_count": null,
      "_view_module": "@jupyter-widgets/base",
      "_view_module_version": "1.2.0",
      "_view_name": "StyleView",
      "description_width": ""
     }
    },
    "aec58b377bb540858977d751a395aba6": {
     "model_module": "@jupyter-widgets/controls",
     "model_module_version": "1.5.0",
     "model_name": "HBoxModel",
     "state": {
      "_dom_classes": [],
      "_model_module": "@jupyter-widgets/controls",
      "_model_module_version": "1.5.0",
      "_model_name": "HBoxModel",
      "_view_count": null,
      "_view_module": "@jupyter-widgets/controls",
      "_view_module_version": "1.5.0",
      "_view_name": "HBoxView",
      "box_style": "",
      "children": [
       "IPY_MODEL_6a1b7fa2787a4724880f58b50d36d52d",
       "IPY_MODEL_f6cdf11af2d8400899f510aeb63b2358",
       "IPY_MODEL_38e9e3691dd64c2e8503504cdc4d0cb3"
      ],
      "layout": "IPY_MODEL_742010c0b7834ad8960edc6530b66fb2"
     }
    },
    "b07e2c275359483da041075b1d485579": {
     "model_module": "@jupyter-widgets/controls",
     "model_module_version": "1.5.0",
     "model_name": "HBoxModel",
     "state": {
      "_dom_classes": [],
      "_model_module": "@jupyter-widgets/controls",
      "_model_module_version": "1.5.0",
      "_model_name": "HBoxModel",
      "_view_count": null,
      "_view_module": "@jupyter-widgets/controls",
      "_view_module_version": "1.5.0",
      "_view_name": "HBoxView",
      "box_style": "",
      "children": [
       "IPY_MODEL_97dd867f2f86446b83722f6da916bb9a",
       "IPY_MODEL_e1d113780f734df98d0174914d10b4ae",
       "IPY_MODEL_4d847b0a9aa042fba4a7d8ad6845e9de"
      ],
      "layout": "IPY_MODEL_f4c77ede9ef14385bb03e18ac4d3a1f2"
     }
    },
    "b4e7d3605ec3409891071c1eb4db8722": {
     "model_module": "@jupyter-widgets/controls",
     "model_module_version": "1.5.0",
     "model_name": "ProgressStyleModel",
     "state": {
      "_model_module": "@jupyter-widgets/controls",
      "_model_module_version": "1.5.0",
      "_model_name": "ProgressStyleModel",
      "_view_count": null,
      "_view_module": "@jupyter-widgets/base",
      "_view_module_version": "1.2.0",
      "_view_name": "StyleView",
      "bar_color": null,
      "description_width": ""
     }
    },
    "bba7a4216d9d41e7a291196011fcd731": {
     "model_module": "@jupyter-widgets/controls",
     "model_module_version": "1.5.0",
     "model_name": "HTMLModel",
     "state": {
      "_dom_classes": [],
      "_model_module": "@jupyter-widgets/controls",
      "_model_module_version": "1.5.0",
      "_model_name": "HTMLModel",
      "_view_count": null,
      "_view_module": "@jupyter-widgets/controls",
      "_view_module_version": "1.5.0",
      "_view_name": "HTMLView",
      "description": "",
      "description_tooltip": null,
      "layout": "IPY_MODEL_f1855e9c8630444bb96d44b3561fcd7a",
      "placeholder": "​",
      "style": "IPY_MODEL_838c3c197c114ee9b5666fce47aa59c2",
      "value": "Generating test split: 100%"
     }
    },
    "c39dd99fe66545f197fa6d50340c9cd3": {
     "model_module": "@jupyter-widgets/controls",
     "model_module_version": "1.5.0",
     "model_name": "HTMLModel",
     "state": {
      "_dom_classes": [],
      "_model_module": "@jupyter-widgets/controls",
      "_model_module_version": "1.5.0",
      "_model_name": "HTMLModel",
      "_view_count": null,
      "_view_module": "@jupyter-widgets/controls",
      "_view_module_version": "1.5.0",
      "_view_name": "HTMLView",
      "description": "",
      "description_tooltip": null,
      "layout": "IPY_MODEL_eac1c6e8c1b3451abdd4bd219ac2c3cf",
      "placeholder": "​",
      "style": "IPY_MODEL_084a461e710745fdbe5c918fe4c7a32e",
      "value": " 7.46k/7.46k [00:00&lt;00:00, 591kB/s]"
     }
    },
    "c665cecaec8f42a3894d7a2736a99f0c": {
     "model_module": "@jupyter-widgets/controls",
     "model_module_version": "1.5.0",
     "model_name": "DescriptionStyleModel",
     "state": {
      "_model_module": "@jupyter-widgets/controls",
      "_model_module_version": "1.5.0",
      "_model_name": "DescriptionStyleModel",
      "_view_count": null,
      "_view_module": "@jupyter-widgets/base",
      "_view_module_version": "1.2.0",
      "_view_name": "StyleView",
      "description_width": ""
     }
    },
    "c7a146af30924fc6913267fd18999d38": {
     "model_module": "@jupyter-widgets/controls",
     "model_module_version": "1.5.0",
     "model_name": "ProgressStyleModel",
     "state": {
      "_model_module": "@jupyter-widgets/controls",
      "_model_module_version": "1.5.0",
      "_model_name": "ProgressStyleModel",
      "_view_count": null,
      "_view_module": "@jupyter-widgets/base",
      "_view_module_version": "1.2.0",
      "_view_name": "StyleView",
      "bar_color": null,
      "description_width": ""
     }
    },
    "d1cb811bb68848299c29d50d1c186831": {
     "model_module": "@jupyter-widgets/controls",
     "model_module_version": "1.5.0",
     "model_name": "HTMLModel",
     "state": {
      "_dom_classes": [],
      "_model_module": "@jupyter-widgets/controls",
      "_model_module_version": "1.5.0",
      "_model_name": "HTMLModel",
      "_view_count": null,
      "_view_module": "@jupyter-widgets/controls",
      "_view_module_version": "1.5.0",
      "_view_name": "HTMLView",
      "description": "",
      "description_tooltip": null,
      "layout": "IPY_MODEL_abe4fe3dfc7f41d7977e1f48d77ceea3",
      "placeholder": "​",
      "style": "IPY_MODEL_e427736391a34b7bb5dc17929e3fd4b0",
      "value": "Generating train split: 100%"
     }
    },
    "d274fab54c164cc7aef49fcc4aad293f": {
     "model_module": "@jupyter-widgets/base",
     "model_module_version": "1.2.0",
     "model_name": "LayoutModel",
     "state": {
      "_model_module": "@jupyter-widgets/base",
      "_model_module_version": "1.2.0",
      "_model_name": "LayoutModel",
      "_view_count": null,
      "_view_module": "@jupyter-widgets/base",
      "_view_module_version": "1.2.0",
      "_view_name": "LayoutView",
      "align_content": null,
      "align_items": null,
      "align_self": null,
      "border": null,
      "bottom": null,
      "display": null,
      "flex": null,
      "flex_flow": null,
      "grid_area": null,
      "grid_auto_columns": null,
      "grid_auto_flow": null,
      "grid_auto_rows": null,
      "grid_column": null,
      "grid_gap": null,
      "grid_row": null,
      "grid_template_areas": null,
      "grid_template_columns": null,
      "grid_template_rows": null,
      "height": null,
      "justify_content": null,
      "justify_items": null,
      "left": null,
      "margin": null,
      "max_height": null,
      "max_width": null,
      "min_height": null,
      "min_width": null,
      "object_fit": null,
      "object_position": null,
      "order": null,
      "overflow": null,
      "overflow_x": null,
      "overflow_y": null,
      "padding": null,
      "right": null,
      "top": null,
      "visibility": null,
      "width": null
     }
    },
    "daf4afbfa23d463ba37b3afd29c183dc": {
     "model_module": "@jupyter-widgets/base",
     "model_module_version": "1.2.0",
     "model_name": "LayoutModel",
     "state": {
      "_model_module": "@jupyter-widgets/base",
      "_model_module_version": "1.2.0",
      "_model_name": "LayoutModel",
      "_view_count": null,
      "_view_module": "@jupyter-widgets/base",
      "_view_module_version": "1.2.0",
      "_view_name": "LayoutView",
      "align_content": null,
      "align_items": null,
      "align_self": null,
      "border": null,
      "bottom": null,
      "display": null,
      "flex": null,
      "flex_flow": null,
      "grid_area": null,
      "grid_auto_columns": null,
      "grid_auto_flow": null,
      "grid_auto_rows": null,
      "grid_column": null,
      "grid_gap": null,
      "grid_row": null,
      "grid_template_areas": null,
      "grid_template_columns": null,
      "grid_template_rows": null,
      "height": null,
      "justify_content": null,
      "justify_items": null,
      "left": null,
      "margin": null,
      "max_height": null,
      "max_width": null,
      "min_height": null,
      "min_width": null,
      "object_fit": null,
      "object_position": null,
      "order": null,
      "overflow": null,
      "overflow_x": null,
      "overflow_y": null,
      "padding": null,
      "right": null,
      "top": null,
      "visibility": null,
      "width": null
     }
    },
    "db28f96953af479599549dbc44173203": {
     "model_module": "@jupyter-widgets/base",
     "model_module_version": "1.2.0",
     "model_name": "LayoutModel",
     "state": {
      "_model_module": "@jupyter-widgets/base",
      "_model_module_version": "1.2.0",
      "_model_name": "LayoutModel",
      "_view_count": null,
      "_view_module": "@jupyter-widgets/base",
      "_view_module_version": "1.2.0",
      "_view_name": "LayoutView",
      "align_content": null,
      "align_items": null,
      "align_self": null,
      "border": null,
      "bottom": null,
      "display": null,
      "flex": null,
      "flex_flow": null,
      "grid_area": null,
      "grid_auto_columns": null,
      "grid_auto_flow": null,
      "grid_auto_rows": null,
      "grid_column": null,
      "grid_gap": null,
      "grid_row": null,
      "grid_template_areas": null,
      "grid_template_columns": null,
      "grid_template_rows": null,
      "height": null,
      "justify_content": null,
      "justify_items": null,
      "left": null,
      "margin": null,
      "max_height": null,
      "max_width": null,
      "min_height": null,
      "min_width": null,
      "object_fit": null,
      "object_position": null,
      "order": null,
      "overflow": null,
      "overflow_x": null,
      "overflow_y": null,
      "padding": null,
      "right": null,
      "top": null,
      "visibility": null,
      "width": null
     }
    },
    "dc7301471c61437b9d7bf31ee7eea866": {
     "model_module": "@jupyter-widgets/base",
     "model_module_version": "1.2.0",
     "model_name": "LayoutModel",
     "state": {
      "_model_module": "@jupyter-widgets/base",
      "_model_module_version": "1.2.0",
      "_model_name": "LayoutModel",
      "_view_count": null,
      "_view_module": "@jupyter-widgets/base",
      "_view_module_version": "1.2.0",
      "_view_name": "LayoutView",
      "align_content": null,
      "align_items": null,
      "align_self": null,
      "border": null,
      "bottom": null,
      "display": null,
      "flex": null,
      "flex_flow": null,
      "grid_area": null,
      "grid_auto_columns": null,
      "grid_auto_flow": null,
      "grid_auto_rows": null,
      "grid_column": null,
      "grid_gap": null,
      "grid_row": null,
      "grid_template_areas": null,
      "grid_template_columns": null,
      "grid_template_rows": null,
      "height": null,
      "justify_content": null,
      "justify_items": null,
      "left": null,
      "margin": null,
      "max_height": null,
      "max_width": null,
      "min_height": null,
      "min_width": null,
      "object_fit": null,
      "object_position": null,
      "order": null,
      "overflow": null,
      "overflow_x": null,
      "overflow_y": null,
      "padding": null,
      "right": null,
      "top": null,
      "visibility": null,
      "width": null
     }
    },
    "de702fa83846479a893d6dd83f11ffe9": {
     "model_module": "@jupyter-widgets/controls",
     "model_module_version": "1.5.0",
     "model_name": "DescriptionStyleModel",
     "state": {
      "_model_module": "@jupyter-widgets/controls",
      "_model_module_version": "1.5.0",
      "_model_name": "DescriptionStyleModel",
      "_view_count": null,
      "_view_module": "@jupyter-widgets/base",
      "_view_module_version": "1.2.0",
      "_view_name": "StyleView",
      "description_width": ""
     }
    },
    "df60df1c55f44bb48e1b12e2e3681bbd": {
     "model_module": "@jupyter-widgets/controls",
     "model_module_version": "1.5.0",
     "model_name": "ProgressStyleModel",
     "state": {
      "_model_module": "@jupyter-widgets/controls",
      "_model_module_version": "1.5.0",
      "_model_name": "ProgressStyleModel",
      "_view_count": null,
      "_view_module": "@jupyter-widgets/base",
      "_view_module_version": "1.2.0",
      "_view_name": "StyleView",
      "bar_color": null,
      "description_width": ""
     }
    },
    "e1d113780f734df98d0174914d10b4ae": {
     "model_module": "@jupyter-widgets/controls",
     "model_module_version": "1.5.0",
     "model_name": "FloatProgressModel",
     "state": {
      "_dom_classes": [],
      "_model_module": "@jupyter-widgets/controls",
      "_model_module_version": "1.5.0",
      "_model_name": "FloatProgressModel",
      "_view_count": null,
      "_view_module": "@jupyter-widgets/controls",
      "_view_module_version": "1.5.0",
      "_view_name": "ProgressView",
      "bar_style": "success",
      "description": "",
      "description_tooltip": null,
      "layout": "IPY_MODEL_d274fab54c164cc7aef49fcc4aad293f",
      "max": 698845,
      "min": 0,
      "orientation": "horizontal",
      "style": "IPY_MODEL_40ce75831cf5470f90f9e1d08ab8a3e4",
      "value": 698845
     }
    },
    "e427736391a34b7bb5dc17929e3fd4b0": {
     "model_module": "@jupyter-widgets/controls",
     "model_module_version": "1.5.0",
     "model_name": "DescriptionStyleModel",
     "state": {
      "_model_module": "@jupyter-widgets/controls",
      "_model_module_version": "1.5.0",
      "_model_name": "DescriptionStyleModel",
      "_view_count": null,
      "_view_module": "@jupyter-widgets/base",
      "_view_module_version": "1.2.0",
      "_view_name": "StyleView",
      "description_width": ""
     }
    },
    "e63c461c5f44457fad282874a4df2f4b": {
     "model_module": "@jupyter-widgets/base",
     "model_module_version": "1.2.0",
     "model_name": "LayoutModel",
     "state": {
      "_model_module": "@jupyter-widgets/base",
      "_model_module_version": "1.2.0",
      "_model_name": "LayoutModel",
      "_view_count": null,
      "_view_module": "@jupyter-widgets/base",
      "_view_module_version": "1.2.0",
      "_view_name": "LayoutView",
      "align_content": null,
      "align_items": null,
      "align_self": null,
      "border": null,
      "bottom": null,
      "display": null,
      "flex": null,
      "flex_flow": null,
      "grid_area": null,
      "grid_auto_columns": null,
      "grid_auto_flow": null,
      "grid_auto_rows": null,
      "grid_column": null,
      "grid_gap": null,
      "grid_row": null,
      "grid_template_areas": null,
      "grid_template_columns": null,
      "grid_template_rows": null,
      "height": null,
      "justify_content": null,
      "justify_items": null,
      "left": null,
      "margin": null,
      "max_height": null,
      "max_width": null,
      "min_height": null,
      "min_width": null,
      "object_fit": null,
      "object_position": null,
      "order": null,
      "overflow": null,
      "overflow_x": null,
      "overflow_y": null,
      "padding": null,
      "right": null,
      "top": null,
      "visibility": null,
      "width": null
     }
    },
    "eac1c6e8c1b3451abdd4bd219ac2c3cf": {
     "model_module": "@jupyter-widgets/base",
     "model_module_version": "1.2.0",
     "model_name": "LayoutModel",
     "state": {
      "_model_module": "@jupyter-widgets/base",
      "_model_module_version": "1.2.0",
      "_model_name": "LayoutModel",
      "_view_count": null,
      "_view_module": "@jupyter-widgets/base",
      "_view_module_version": "1.2.0",
      "_view_name": "LayoutView",
      "align_content": null,
      "align_items": null,
      "align_self": null,
      "border": null,
      "bottom": null,
      "display": null,
      "flex": null,
      "flex_flow": null,
      "grid_area": null,
      "grid_auto_columns": null,
      "grid_auto_flow": null,
      "grid_auto_rows": null,
      "grid_column": null,
      "grid_gap": null,
      "grid_row": null,
      "grid_template_areas": null,
      "grid_template_columns": null,
      "grid_template_rows": null,
      "height": null,
      "justify_content": null,
      "justify_items": null,
      "left": null,
      "margin": null,
      "max_height": null,
      "max_width": null,
      "min_height": null,
      "min_width": null,
      "object_fit": null,
      "object_position": null,
      "order": null,
      "overflow": null,
      "overflow_x": null,
      "overflow_y": null,
      "padding": null,
      "right": null,
      "top": null,
      "visibility": null,
      "width": null
     }
    },
    "f1855e9c8630444bb96d44b3561fcd7a": {
     "model_module": "@jupyter-widgets/base",
     "model_module_version": "1.2.0",
     "model_name": "LayoutModel",
     "state": {
      "_model_module": "@jupyter-widgets/base",
      "_model_module_version": "1.2.0",
      "_model_name": "LayoutModel",
      "_view_count": null,
      "_view_module": "@jupyter-widgets/base",
      "_view_module_version": "1.2.0",
      "_view_name": "LayoutView",
      "align_content": null,
      "align_items": null,
      "align_self": null,
      "border": null,
      "bottom": null,
      "display": null,
      "flex": null,
      "flex_flow": null,
      "grid_area": null,
      "grid_auto_columns": null,
      "grid_auto_flow": null,
      "grid_auto_rows": null,
      "grid_column": null,
      "grid_gap": null,
      "grid_row": null,
      "grid_template_areas": null,
      "grid_template_columns": null,
      "grid_template_rows": null,
      "height": null,
      "justify_content": null,
      "justify_items": null,
      "left": null,
      "margin": null,
      "max_height": null,
      "max_width": null,
      "min_height": null,
      "min_width": null,
      "object_fit": null,
      "object_position": null,
      "order": null,
      "overflow": null,
      "overflow_x": null,
      "overflow_y": null,
      "padding": null,
      "right": null,
      "top": null,
      "visibility": null,
      "width": null
     }
    },
    "f32063fd90794d0a8e3ae099379771c4": {
     "model_module": "@jupyter-widgets/controls",
     "model_module_version": "1.5.0",
     "model_name": "HTMLModel",
     "state": {
      "_dom_classes": [],
      "_model_module": "@jupyter-widgets/controls",
      "_model_module_version": "1.5.0",
      "_model_name": "HTMLModel",
      "_view_count": null,
      "_view_module": "@jupyter-widgets/controls",
      "_view_module_version": "1.5.0",
      "_view_name": "HTMLView",
      "description": "",
      "description_tooltip": null,
      "layout": "IPY_MODEL_daf4afbfa23d463ba37b3afd29c183dc",
      "placeholder": "​",
      "style": "IPY_MODEL_15675fd12e114ce7947b1251d0b53eb3",
      "value": "test.parquet: 100%"
     }
    },
    "f4c77ede9ef14385bb03e18ac4d3a1f2": {
     "model_module": "@jupyter-widgets/base",
     "model_module_version": "1.2.0",
     "model_name": "LayoutModel",
     "state": {
      "_model_module": "@jupyter-widgets/base",
      "_model_module_version": "1.2.0",
      "_model_name": "LayoutModel",
      "_view_count": null,
      "_view_module": "@jupyter-widgets/base",
      "_view_module_version": "1.2.0",
      "_view_name": "LayoutView",
      "align_content": null,
      "align_items": null,
      "align_self": null,
      "border": null,
      "bottom": null,
      "display": null,
      "flex": null,
      "flex_flow": null,
      "grid_area": null,
      "grid_auto_columns": null,
      "grid_auto_flow": null,
      "grid_auto_rows": null,
      "grid_column": null,
      "grid_gap": null,
      "grid_row": null,
      "grid_template_areas": null,
      "grid_template_columns": null,
      "grid_template_rows": null,
      "height": null,
      "justify_content": null,
      "justify_items": null,
      "left": null,
      "margin": null,
      "max_height": null,
      "max_width": null,
      "min_height": null,
      "min_width": null,
      "object_fit": null,
      "object_position": null,
      "order": null,
      "overflow": null,
      "overflow_x": null,
      "overflow_y": null,
      "padding": null,
      "right": null,
      "top": null,
      "visibility": null,
      "width": null
     }
    },
    "f6cdf11af2d8400899f510aeb63b2358": {
     "model_module": "@jupyter-widgets/controls",
     "model_module_version": "1.5.0",
     "model_name": "FloatProgressModel",
     "state": {
      "_dom_classes": [],
      "_model_module": "@jupyter-widgets/controls",
      "_model_module_version": "1.5.0",
      "_model_name": "FloatProgressModel",
      "_view_count": null,
      "_view_module": "@jupyter-widgets/controls",
      "_view_module_version": "1.5.0",
      "_view_name": "ProgressView",
      "bar_style": "success",
      "description": "",
      "description_tooltip": null,
      "layout": "IPY_MODEL_4e338f4edb1445febc8035bca7d88be6",
      "max": 1066,
      "min": 0,
      "orientation": "horizontal",
      "style": "IPY_MODEL_b4e7d3605ec3409891071c1eb4db8722",
      "value": 1066
     }
    },
    "fdbc7f38f5b241c182eefb7616274182": {
     "model_module": "@jupyter-widgets/base",
     "model_module_version": "1.2.0",
     "model_name": "LayoutModel",
     "state": {
      "_model_module": "@jupyter-widgets/base",
      "_model_module_version": "1.2.0",
      "_model_name": "LayoutModel",
      "_view_count": null,
      "_view_module": "@jupyter-widgets/base",
      "_view_module_version": "1.2.0",
      "_view_name": "LayoutView",
      "align_content": null,
      "align_items": null,
      "align_self": null,
      "border": null,
      "bottom": null,
      "display": null,
      "flex": null,
      "flex_flow": null,
      "grid_area": null,
      "grid_auto_columns": null,
      "grid_auto_flow": null,
      "grid_auto_rows": null,
      "grid_column": null,
      "grid_gap": null,
      "grid_row": null,
      "grid_template_areas": null,
      "grid_template_columns": null,
      "grid_template_rows": null,
      "height": null,
      "justify_content": null,
      "justify_items": null,
      "left": null,
      "margin": null,
      "max_height": null,
      "max_width": null,
      "min_height": null,
      "min_width": null,
      "object_fit": null,
      "object_position": null,
      "order": null,
      "overflow": null,
      "overflow_x": null,
      "overflow_y": null,
      "padding": null,
      "right": null,
      "top": null,
      "visibility": null,
      "width": null
     }
    }
   }
  }
 },
 "nbformat": 4,
 "nbformat_minor": 4
}
